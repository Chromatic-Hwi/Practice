{
 "cells": [
  {
   "cell_type": "code",
   "execution_count": 18,
   "id": "314fa8ba",
   "metadata": {},
   "outputs": [
    {
     "name": "stderr",
     "output_type": "stream",
     "text": [
      "C:\\Users\\82108\\AppData\\Local\\Temp\\ipykernel_10884\\1221844311.py:2: DeprecationWarning: Importing display from IPython.core.display is deprecated since IPython 7.14, please import from IPython display\n",
      "  from IPython.core.display import display, HTML\n"
     ]
    },
    {
     "data": {
      "text/html": [
       "<style>.container { width:80% !important; }</style>"
      ],
      "text/plain": [
       "<IPython.core.display.HTML object>"
      ]
     },
     "metadata": {},
     "output_type": "display_data"
    }
   ],
   "source": [
    "# 화면 가로 확장 코드 (기본 width 50%)\n",
    "from IPython.core.display import display, HTML\n",
    "display(HTML(\"<style>.container { width:80% !important; }</style>\"))"
   ]
  },
  {
   "cell_type": "code",
   "execution_count": 2,
   "id": "6b937e8a",
   "metadata": {},
   "outputs": [],
   "source": [
    "import numpy as np \n",
    "import pandas as pd \n",
    "import matplotlib.pyplot as plt\n",
    "import seaborn as sns\n",
    "import csv\n",
    "import os\n",
    "import time\n",
    "\n",
    "import scipy.stats as stats"
   ]
  },
  {
   "cell_type": "markdown",
   "id": "c4742d8e",
   "metadata": {},
   "source": [
    "### 히트맵 저장 함수"
   ]
  },
  {
   "cell_type": "code",
   "execution_count": 12,
   "id": "fd0196a5",
   "metadata": {},
   "outputs": [],
   "source": [
    "def HeatMap(data, name, path):\n",
    "    plt.figure(figsize=(60, 40))\n",
    "    ax = plt.gca()\n",
    "    ax.axes.xaxis.set_visible(False)\n",
    "    ax.axes.yaxis.set_visible(False)\n",
    "    sns.heatmap(data, annot=True, fmt='.3f', annot_kws={\"size\": 25}, cmap='summer', cbar=False)\n",
    "    plt.title(name, pad=50, fontsize=50)\n",
    "    #plt.show()\n",
    "    plt.savefig(path+name+'.bmp')"
   ]
  },
  {
   "cell_type": "markdown",
   "id": "44bfd8f8",
   "metadata": {},
   "source": [
    "### 로그 txt 저장 함수"
   ]
  },
  {
   "cell_type": "code",
   "execution_count": 23,
   "id": "839e0305",
   "metadata": {},
   "outputs": [],
   "source": [
    "# 전체 과정을 Try로 묶어서 오류 발생시 except로 빼서 에러를 저장하도록 함.\n",
    "# except Exception as e:\n",
    "def LogSave(Check, ErrorMsg):\n",
    "    now = time\n",
    "    startTime = now.strftime('%Y-%m-%d %H:%M:%S')\n",
    "    #print(startTime)\n",
    "    path='./'\n",
    "    LogCheck = os.listdir(path)\n",
    "    if \"Log.txt\" not in LogCheck:\n",
    "        print(\"Log file no exist!\")\n",
    "        file = open(\"./Log.txt\", \"w\")\n",
    "        file.write(\"<<DotDist Edit - Run Log>>\")\n",
    "        file.close\n",
    "    else:\n",
    "        if Check==\"work\":\n",
    "            with open('./Log.txt', \"a\") as file:\n",
    "                file.write(\"\\n\"+startTime)\n",
    "        else:\n",
    "            with open('./Log.txt', \"a\") as file:\n",
    "                file.write(\"\\n\"+startTime+\"---\"+ErrorMsg)"
   ]
  },
  {
   "cell_type": "markdown",
   "id": "9051880a",
   "metadata": {},
   "source": [
    "### 수치 계산 값 반환 함수"
   ]
  },
  {
   "cell_type": "code",
   "execution_count": null,
   "id": "b0624a07",
   "metadata": {},
   "outputs": [],
   "source": [
    "def ValueHandle(InputData, Path):\n",
    "    data=InputData\n",
    "    DfList=[]\n",
    "    for n in range(len(data.columns)):\n",
    "        columnsList = list(np.array(data[str(n)].tolist()))\n",
    "        DfList.extend(columnsList)\n",
    "\n",
    "    data_max = round(np.max(DfList), 3)\n",
    "    data_min = round(np.min(DfList), 3)\n",
    "    data_gap = round((data_max - data_min), 3)\n",
    "    data_mid = round(np.median(DfList), 3)\n",
    "    data_avg = round(np.mean(DfList), 3)\n",
    "    data_var = round(np.var(DfList), 3)\n",
    "    data_std = round(np.std(DfList), 3)\n",
    "    #X_pdf = stats.norm.pdf(DfList, meanX, stdX)\n",
    "    return(data_max, data_min, data_gap, data_mid, data_avg, data_var, data_std)"
   ]
  },
  {
   "cell_type": "code",
   "execution_count": 34,
   "id": "ad859179",
   "metadata": {},
   "outputs": [
    {
     "data": {
      "text/plain": [
       "(201.79761,\n",
       " 201.04456,\n",
       " 0.7530500000000018,\n",
       " 201.46280000000002,\n",
       " 201.45022540000002,\n",
       " 0.019035354524476262,\n",
       " 0.1379686722574232)"
      ]
     },
     "execution_count": 34,
     "metadata": {},
     "output_type": "execute_result"
    }
   ],
   "source": [
    "ValueHandle(testX, None)"
   ]
  },
  {
   "cell_type": "markdown",
   "id": "839a2ec4",
   "metadata": {},
   "source": [
    "### 공통 리스트"
   ]
  },
  {
   "cell_type": "code",
   "execution_count": 59,
   "id": "93062604",
   "metadata": {},
   "outputs": [],
   "source": [
    "M1Line = [\"AA\", \"SV\", \"CA\"]\n",
    "M2Line = [\"PA1\", \"PA2\", \"AA\", \"SV\", \"CA\"]\n",
    "M3Line = [\"AA\", \"SV\", \"CA\"]"
   ]
  },
  {
   "cell_type": "markdown",
   "id": "f960bcfc",
   "metadata": {},
   "source": [
    "### 입력 데이터 저장 폴더 생성 (완)"
   ]
  },
  {
   "cell_type": "code",
   "execution_count": 21,
   "id": "94ce88b1",
   "metadata": {},
   "outputs": [],
   "source": [
    "try:os.mkdir('./DotDist_Input')\n",
    "except FileExistsError:pass\n",
    "\n",
    "for M in range(1, 4):\n",
    "    try:\n",
    "        os.mkdir('./DotDist_Input/M'+str(M))\n",
    "    except FileExistsError:\n",
    "        pass\n",
    "    \n",
    "    if M==1:\n",
    "        for folder in M1Line:\n",
    "            try:\n",
    "                path='./DotDist_Input/M1/'+folder\n",
    "                os.mkdir(path)\n",
    "                \n",
    "                for c in range(1,4):\n",
    "                    os.mkdir(path+'/Cam'+str(c))\n",
    "                    \n",
    "            except FileExistsError:\n",
    "                pass\n",
    "            \n",
    "    elif M==2:\n",
    "        for folder in M2Line:\n",
    "            try:\n",
    "                path='./DotDist_Input/M2/'+folder\n",
    "                os.mkdir(path)\n",
    "                \n",
    "                if folder==\"PA1\" or folder==\"PA2\":\n",
    "                    for c in range(1,3):\n",
    "                        os.mkdir(path+'/Cam'+str(c))\n",
    "                elif folder==\"AA\" or folder==\"SV\":\n",
    "                    for c in range(1,4):\n",
    "                        os.mkdir(path+'/Cam'+str(c))\n",
    "                elif folder==\"CA\":\n",
    "                    for c in range(1,6):\n",
    "                        os.mkdir(path+'/Cam'+str(c))\n",
    "                    \n",
    "            except FileExistsError:\n",
    "                pass\n",
    "            \n",
    "    elif M==3:\n",
    "        for folder in M3Line:\n",
    "            try:\n",
    "                path='./DotDist_Input/M3/'+folder\n",
    "                os.mkdir(path)\n",
    "\n",
    "                for c in range(1,4):\n",
    "                    os.mkdir(path+'/Cam'+str(c))\n",
    "                    \n",
    "            except FileExistsError:\n",
    "                pass"
   ]
  },
  {
   "cell_type": "markdown",
   "id": "453dddc4",
   "metadata": {},
   "source": [
    "### 핵심 처리 과정 (진행중)"
   ]
  },
  {
   "cell_type": "code",
   "execution_count": 76,
   "id": "3293ba73",
   "metadata": {},
   "outputs": [
    {
     "name": "stdout",
     "output_type": "stream",
     "text": [
      "\n",
      "M-Num: 1 Line: AA Cam-Num: 3\n",
      "Cam1 - Result File >>  0\n",
      "Cam2 - Result File >>  0\n",
      "Cam3 - Result File >>  0\n",
      "\n",
      "M-Num: 1 Line: SV Cam-Num: 3\n",
      "Cam1 - Result File >>  0\n",
      "Cam2 - Result File >>  0\n",
      "Cam3 - Result File >>  0\n",
      "\n",
      "M-Num: 1 Line: CA Cam-Num: 3\n",
      "Cam1 - Result File >>  0\n",
      "Cam2 - Result File >>  0\n",
      "Cam3 - Result File >>  0\n",
      "\n",
      "M-Num: 2 Line: PA1 Cam-Num: 2\n",
      "Cam1 - Result File >>  0\n",
      "Cam2 - Result File >>  0\n",
      "\n",
      "M-Num: 2 Line: PA2 Cam-Num: 2\n",
      "Cam1 - Result File >>  0\n",
      "Cam2 - Result File >>  0\n",
      "\n",
      "M-Num: 2 Line: AA Cam-Num: 3\n",
      "Cam1 - Result File >>  0\n",
      "Cam2 - Result File >>  0\n",
      "Cam3 - Result File >>  0\n",
      "\n",
      "M-Num: 2 Line: SV Cam-Num: 3\n",
      "Cam1 - Result File >>  0\n",
      "Cam2 - Result File >>  0\n",
      "Cam3 - Result File >>  0\n",
      "\n",
      "M-Num: 2 Line: CA Cam-Num: 5\n",
      "Cam1 - Result File >>  0\n",
      "Cam2 - Result File >>  0\n",
      "Cam3 - Result File >>  0\n",
      "Cam4 - Result File >>  0\n",
      "Cam5 - Result File >>  0\n",
      "\n",
      "M-Num: 3 Line: AA Cam-Num: 3\n",
      "Cam1 - Result File >>  0\n",
      "Cam2 - Result File >>  0\n",
      "Cam3 - Result File >>  0\n",
      "\n",
      "M-Num: 3 Line: SV Cam-Num: 3\n",
      "Cam1 - Result File >>  0\n",
      "Cam2 - Result File >>  0\n",
      "Cam3 - Result File >>  0\n",
      "\n",
      "M-Num: 3 Line: CA Cam-Num: 3\n",
      "Cam1 - Result File >>  0\n",
      "Cam2 - Result File >>  0\n",
      "Cam3 - Result File >>  0\n"
     ]
    }
   ],
   "source": [
    "try:os.mkdir('./DotDist_Output')\n",
    "except FileExistsError:pass\n",
    "\n",
    "for M in range(1, 4):\n",
    "    try:\n",
    "        os.mkdir('./DotDist_Output/M'+str(M))\n",
    "    except FileExistsError:\n",
    "        pass\n",
    "    \n",
    "    if M==1:\n",
    "        for folder in M1Line:\n",
    "            try:\n",
    "                path1='./DotDist_Output/M1/'+folder\n",
    "                os.mkdir(path1)\n",
    "\n",
    "                for c in range(1,4):\n",
    "                    os.mkdir(path1+'/Cam'+str(c))\n",
    "                    \n",
    "            except FileExistsError:\n",
    "                fileCnt = len(os.listdir(path1))\n",
    "                print(\"\\n\"+\"M-Num:\", M, \"Line:\", folder, \"Cam-Num:\",fileCnt)\n",
    "                \n",
    "                for camNum in range(1,4):\n",
    "                    path1='./DotDist_Output/M1/'+folder+\"/Cam\"+str(camNum)\n",
    "                    camCnt = len(os.listdir(path1))\n",
    "                    print(\"Cam\"+str(camNum)+\" - Result File >> \", camCnt)\n",
    "                    \n",
    "#####################################################################################################\n",
    "    elif M==2:\n",
    "        for folder in M2Line:\n",
    "            try:\n",
    "                path2='./DotDist_Output/M2/'+folder\n",
    "                os.mkdir(path2)\n",
    "                \n",
    "                if folder==\"PA1\" or folder==\"PA2\":\n",
    "                    for c in range(1,3):\n",
    "                        os.mkdir(path2+'/Cam'+str(c))\n",
    "                elif folder==\"AA\" or folder==\"SV\":\n",
    "                    for c in range(1,4):\n",
    "                        os.mkdir(path2+'/Cam'+str(c))\n",
    "                elif folder==\"CA\":\n",
    "                    for c in range(1,6):\n",
    "                        os.mkdir(path2+'/Cam'+str(c))\n",
    "                        \n",
    "            except FileExistsError:\n",
    "                fileCnt = len(os.listdir(path2))\n",
    "                print(\"\\n\"+\"M-Num:\", M, \"Line:\", folder, \"Cam-Num:\",fileCnt)\n",
    "                \n",
    "                for cam in range(1, fileCnt+1):\n",
    "                    path2='./DotDist_Output/M2/'+folder+\"/Cam\"+str(cam)\n",
    "                    camCnt = len(os.listdir(path2))\n",
    "                    print(\"Cam\"+str(cam)+\" - Result File >> \", camCnt)\n",
    "                \n",
    "###################################################################################################       \n",
    "    elif M==3:\n",
    "        for folder in M3Line:\n",
    "            try:\n",
    "                path3='./DotDist_Output/M3/'+folder\n",
    "                os.mkdir(path3)\n",
    "\n",
    "                for c in range(1,4):\n",
    "                    os.mkdir(path3+'/Cam'+str(c))\n",
    "                    \n",
    "            except FileExistsError:\n",
    "                fileCnt = len(os.listdir(path3))\n",
    "                print(\"\\n\"+\"M-Num:\", M, \"Line:\", folder, \"Cam-Num:\",fileCnt)\n",
    "                \n",
    "                for camNum in range(1,4):\n",
    "                    path3='./DotDist_Output/M1/'+folder+\"/Cam\"+str(camNum)\n",
    "                    camCnt = len(os.listdir(path3))\n",
    "                    print(\"Cam\"+str(camNum)+\" - Result File >> \", camCnt)"
   ]
  },
  {
   "cell_type": "code",
   "execution_count": null,
   "id": "1362e3b7",
   "metadata": {},
   "outputs": [],
   "source": [
    "testX = pd.read_csv('./DotDist_Input/M3/AA/Cam1/-1Cam_DistX.csv')\n",
    "testY = pd.read_csv('./DotDist_Input/M3/AA/Cam1/-1Cam_DistY.csv')\n",
    "print('Data File Import Done.')"
   ]
  },
  {
   "cell_type": "code",
   "execution_count": null,
   "id": "29fff354",
   "metadata": {},
   "outputs": [],
   "source": [
    "\"\"\"\n",
    "https://rfriend.tistory.com/419\n",
    "\n",
    "1. 폴더 생성\n",
    "M1 / \n",
    "M2 / PA1, PA2, AA, S, CA\n",
    "M3 / BiC, S, PA\n",
    "각각의 하위 폴더에 대한 공백 검사 필요.\n",
    "\n",
    "2. 동작 순서\n",
    "  2.1. csv 파일을 읽어서 행열을 조사한다. 이 숫자가 반복 횟수가 될것.\n",
    "  2.1'. 일단 csv 파일이 입력으로 들어오는 것은 전부 동일, 행열을 전부 하나의 리스트로 담아서 수치 정보를 계산하고, 값들을 return해주는 함수 거침\n",
    "  2.2. 내부에서 표준편차, Max, Min, Max-Min 값을 계산한다.\n",
    "  2.2'. 전체 값 요약을 담은 데이터프레임에 담아둔다.\n",
    "  2.3. Heatmap을 통해 조건부서식 이미지를 구현후 저장한다. -> 함수 : 데이터와 경로가 입력되어야 함.\n",
    "  2.4. Log 폴더안 txt파일에 프로그램 실행 시각을 담아 추가한다.\n",
    "\"\"\""
   ]
  }
 ],
 "metadata": {
  "kernelspec": {
   "display_name": "Python 3 (ipykernel)",
   "language": "python",
   "name": "python3"
  },
  "language_info": {
   "codemirror_mode": {
    "name": "ipython",
    "version": 3
   },
   "file_extension": ".py",
   "mimetype": "text/x-python",
   "name": "python",
   "nbconvert_exporter": "python",
   "pygments_lexer": "ipython3",
   "version": "3.9.12"
  }
 },
 "nbformat": 4,
 "nbformat_minor": 5
}
