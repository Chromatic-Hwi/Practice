{
 "cells": [
  {
   "cell_type": "code",
   "execution_count": 9,
   "id": "6b937e8a",
   "metadata": {},
   "outputs": [],
   "source": [
    "import numpy as np \n",
    "import pandas as pd \n",
    "import matplotlib.pyplot as plt\n",
    "import csv\n",
    "import os\n",
    "import datetime\n",
    "import time"
   ]
  },
  {
   "cell_type": "code",
   "execution_count": 13,
   "id": "94ce88b1",
   "metadata": {},
   "outputs": [
    {
     "name": "stdout",
     "output_type": "stream",
     "text": [
      "2022-12-09 23:58:26\n",
      "0\n",
      "0\n",
      "0\n",
      "0\n",
      "0\n",
      "0\n",
      "0\n",
      "0\n",
      "0\n",
      "0\n",
      "0\n"
     ]
    },
    {
     "ename": "FileNotFoundError",
     "evalue": "[Errno 2] No such file or directory: './DotDistEdit/Log.txt'",
     "output_type": "error",
     "traceback": [
      "\u001b[1;31m---------------------------------------------------------------------------\u001b[0m",
      "\u001b[1;31mFileNotFoundError\u001b[0m                         Traceback (most recent call last)",
      "\u001b[1;32m~\\AppData\\Local\\Temp\\ipykernel_17996\\2524075517.py\u001b[0m in \u001b[0;36m<module>\u001b[1;34m\u001b[0m\n\u001b[0;32m     42\u001b[0m                 \u001b[0mprint\u001b[0m\u001b[1;33m(\u001b[0m\u001b[0mfileCnt\u001b[0m\u001b[1;33m)\u001b[0m\u001b[1;33m\u001b[0m\u001b[1;33m\u001b[0m\u001b[0m\n\u001b[0;32m     43\u001b[0m \u001b[1;33m\u001b[0m\u001b[0m\n\u001b[1;32m---> 44\u001b[1;33m \u001b[0mfile\u001b[0m \u001b[1;33m=\u001b[0m \u001b[0mopen\u001b[0m\u001b[1;33m(\u001b[0m\u001b[1;34m\"./DotDistEdit/Log.txt\"\u001b[0m\u001b[1;33m,\u001b[0m \u001b[1;34m\"w\"\u001b[0m\u001b[1;33m)\u001b[0m\u001b[1;33m\u001b[0m\u001b[1;33m\u001b[0m\u001b[0m\n\u001b[0m\u001b[0;32m     45\u001b[0m \u001b[0mfile\u001b[0m\u001b[1;33m.\u001b[0m\u001b[0mclose\u001b[0m\u001b[1;33m\u001b[0m\u001b[1;33m\u001b[0m\u001b[0m\n\u001b[0;32m     46\u001b[0m \u001b[1;33m\u001b[0m\u001b[0m\n",
      "\u001b[1;31mFileNotFoundError\u001b[0m: [Errno 2] No such file or directory: './DotDistEdit/Log.txt'"
     ]
    }
   ],
   "source": [
    "now = time\n",
    "startTime = now.strftime('%Y-%m-%d %H:%M:%S')\n",
    "print(startTime)\n",
    "\n",
    "try:os.mkdir('./DotDist_Edit')\n",
    "except FileExistsError:pass\n",
    "        \n",
    "for M in range(1, 4):\n",
    "    try:\n",
    "        os.mkdir('./DotDist_Edit/M'+str(M))\n",
    "    except FileExistsError:\n",
    "        pass\n",
    "    \n",
    "    if M==1:\n",
    "        line=[\"AA\", \"SV\", \"CA\"]\n",
    "        for folder in line:\n",
    "            try:\n",
    "                path='./DotDist_Edit/M1/'+folder\n",
    "                os.mkdir(path)\n",
    "            except FileExistsError:\n",
    "                fileCnt = len(os.listdir(path))\n",
    "                print(fileCnt)\n",
    "            \n",
    "    elif M==2:\n",
    "        line=[\"PA1\", \"PA2\", \"AA\", \"SV\", \"CA\"]\n",
    "        for folder in line:\n",
    "            try:\n",
    "                path='./DotDist_Edit/M2/'+folder\n",
    "                os.mkdir(path)\n",
    "            except FileExistsError:\n",
    "                fileCnt = len(os.listdir(path))\n",
    "                print(fileCnt)\n",
    "            \n",
    "    elif M==3:\n",
    "        line=[\"AA\", \"SV\", \"CA\"]\n",
    "        for folder in line:\n",
    "            try:\n",
    "                path='./DotDist_Edit/M3/'+folder\n",
    "                os.mkdir(path)\n",
    "            except FileExistsError:\n",
    "                fileCnt = len(os.listdir(path))\n",
    "                print(fileCnt)\n",
    "                \n",
    "file = open(\"./DotDistEdit/Log.txt\", \"w\")\n",
    "file.close\n",
    "    \n",
    "with open('./DotDistEdit/Log.txt', \"a\") as file:\n",
    "    file.write(startTime)\n",
    "    #file.close()"
   ]
  },
  {
   "cell_type": "code",
   "execution_count": null,
   "id": "29fff354",
   "metadata": {},
   "outputs": [],
   "source": [
    "\"\"\"\n",
    "https://rfriend.tistory.com/419\n",
    "\n",
    "1. 폴더 생성\n",
    "M1 / \n",
    "M2 / PA1, PA2, AA, S, CA\n",
    "M3 / BiC, S, PA\n",
    "각각의 하위 폴더에 대한 공백 검사 필요.\n",
    "\n",
    "2. 동작 순서\n",
    "  2.1. csv 파일을 읽어서 행열을 조사한다. 이 숫자가 반복 횟수가 될것.\n",
    "  2.2. 내부에서 표준편차, Max, Min, Max-Min 값을 계산한다.\n",
    "  2.2'. 전체 값 요약을 담은 데이터프레임에 담아둔다.\n",
    "  2.3. Heatmap을 통해 조건부서식 이미지를 구현후 저장한다.\n",
    "  2.4. Log 폴더안 txt파일에 프로그램 실행 시각을 담아 추가한다.\n",
    "  \n",
    "\"\"\""
   ]
  }
 ],
 "metadata": {
  "kernelspec": {
   "display_name": "Python 3 (ipykernel)",
   "language": "python",
   "name": "python3"
  },
  "language_info": {
   "codemirror_mode": {
    "name": "ipython",
    "version": 3
   },
   "file_extension": ".py",
   "mimetype": "text/x-python",
   "name": "python",
   "nbconvert_exporter": "python",
   "pygments_lexer": "ipython3",
   "version": "3.9.13"
  }
 },
 "nbformat": 4,
 "nbformat_minor": 5
}
