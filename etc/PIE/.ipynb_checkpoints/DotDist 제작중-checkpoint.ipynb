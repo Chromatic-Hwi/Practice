{
 "cells": [
  {
   "cell_type": "code",
   "execution_count": 18,
   "id": "314fa8ba",
   "metadata": {},
   "outputs": [
    {
     "name": "stderr",
     "output_type": "stream",
     "text": [
      "C:\\Users\\82108\\AppData\\Local\\Temp\\ipykernel_10884\\1221844311.py:2: DeprecationWarning: Importing display from IPython.core.display is deprecated since IPython 7.14, please import from IPython display\n",
      "  from IPython.core.display import display, HTML\n"
     ]
    },
    {
     "data": {
      "text/html": [
       "<style>.container { width:80% !important; }</style>"
      ],
      "text/plain": [
       "<IPython.core.display.HTML object>"
      ]
     },
     "metadata": {},
     "output_type": "display_data"
    }
   ],
   "source": [
    "# 화면 가로 확장 코드 (기본 width 50%)\n",
    "from IPython.core.display import display, HTML\n",
    "display(HTML(\"<style>.container { width:80% !important; }</style>\"))"
   ]
  },
  {
   "cell_type": "code",
   "execution_count": 2,
   "id": "6b937e8a",
   "metadata": {},
   "outputs": [],
   "source": [
    "import numpy as np \n",
    "import pandas as pd \n",
    "import matplotlib.pyplot as plt\n",
    "import seaborn as sns\n",
    "import csv\n",
    "import os\n",
    "import time\n",
    "\n",
    "import scipy.stats as stats"
   ]
  },
  {
   "cell_type": "markdown",
   "id": "8cb5c5d2",
   "metadata": {},
   "source": [
    "### 히트맵 저장 함수"
   ]
  },
  {
   "cell_type": "code",
   "execution_count": 12,
   "id": "559616af",
   "metadata": {},
   "outputs": [],
   "source": [
    "def HeatMap(Data, Name, Oath):\n",
    "    plt.figure(figsize=(60, 40))\n",
    "    ax = plt.gca()\n",
    "    ax.axes.xaxis.set_visible(False)\n",
    "    ax.axes.yaxis.set_visible(False)\n",
    "    sns.heatmap(Data, annot=True, fmt='.3f', annot_kws={\"size\": 25}, cmap='summer', cbar=False)\n",
    "    plt.title(Name, pad=50, fontsize=50)\n",
    "    #plt.show()\n",
    "    plt.savefig(Path+Name+'.bmp')"
   ]
  },
  {
   "cell_type": "markdown",
   "id": "f8a87f93",
   "metadata": {},
   "source": [
    "### 로그 txt 저장 함수"
   ]
  },
  {
   "cell_type": "code",
   "execution_count": 23,
   "id": "dd1f1638",
   "metadata": {},
   "outputs": [],
   "source": [
    "# 전체 과정을 Try로 묶어서 오류 발생시 except로 빼서 에러를 저장하도록 함.\n",
    "# except Exception as e:\n",
    "def LogSave(Check, ErrorMsg):\n",
    "    now = time\n",
    "    startTime = now.strftime('%Y-%m-%d %H:%M:%S')\n",
    "    #print(startTime)\n",
    "    path='./'\n",
    "    LogCheck = os.listdir(path)\n",
    "    if \"Log.txt\" not in LogCheck:\n",
    "        print(\"Log file no exist!\")\n",
    "        file = open(\"./Log.txt\", \"w\")\n",
    "        file.write(\"<<DotDist Edit - Run Log>>\")\n",
    "        file.close\n",
    "    else:\n",
    "        if Check==\"work\":\n",
    "            with open('./Log.txt', \"a\") as file:\n",
    "                file.write(\"\\n\"+startTime)\n",
    "        else:\n",
    "            with open('./Log.txt', \"a\") as file:\n",
    "                file.write(\"\\n\"+startTime+\"---\"+ErrorMsg)"
   ]
  },
  {
   "cell_type": "markdown",
   "id": "05c3703c",
   "metadata": {},
   "source": [
    "### 수치 계산 값 반환 함수"
   ]
  },
  {
   "cell_type": "code",
   "execution_count": null,
   "id": "4728729b",
   "metadata": {},
   "outputs": [],
   "source": [
    "def ValueHandle(Path, InputData):\n",
    "    data=InputData\n",
    "    DfList=[]\n",
    "    for n in range(len(data.columns)):\n",
    "        columnsList = list(np.array(data[str(n)].tolist()))\n",
    "        DfList.extend(columnsList)\n",
    "\n",
    "    data_max = round(np.max(DfList), 3)\n",
    "    data_min = round(np.min(DfList), 3)\n",
    "    data_gap = round((data_max - data_min), 3)#\n",
    "    data_mid = round(np.median(DfList), 3)\n",
    "    data_avg = round(np.mean(DfList), 3)#\n",
    "    data_var = round(np.var(DfList), 3)#\n",
    "    data_std = round(np.std(DfList), 3)#\n",
    "    #X_pdf = stats.norm.pdf(DfList, meanX, stdX)\n",
    "    return(data_max, data_min, data_gap, data_mid, data_avg, data_var, data_std)"
   ]
  },
  {
   "cell_type": "code",
   "execution_count": 34,
   "id": "0c6b699a",
   "metadata": {},
   "outputs": [
    {
     "data": {
      "text/plain": [
       "(201.79761,\n",
       " 201.04456,\n",
       " 0.7530500000000018,\n",
       " 201.46280000000002,\n",
       " 201.45022540000002,\n",
       " 0.019035354524476262,\n",
       " 0.1379686722574232)"
      ]
     },
     "execution_count": 34,
     "metadata": {},
     "output_type": "execute_result"
    }
   ],
   "source": [
    "ValueHandle(testX, None)"
   ]
  },
  {
   "cell_type": "markdown",
   "id": "b95a439c",
   "metadata": {},
   "source": [
    "### 공통 리스트"
   ]
  },
  {
   "cell_type": "code",
   "execution_count": 59,
   "id": "f5b9d4e9",
   "metadata": {},
   "outputs": [],
   "source": [
    "M1Line = [\"AA\", \"SV\", \"CA\"]\n",
    "M2Line = [\"PA1\", \"PA2\", \"AA\", \"SV\", \"CA\"]\n",
    "M3Line = [\"AA\", \"SV\", \"CA\"]"
   ]
  },
  {
   "cell_type": "markdown",
   "id": "57b336d6",
   "metadata": {},
   "source": [
    "### 입력 데이터 저장 폴더 생성 (완)"
   ]
  },
  {
   "cell_type": "code",
   "execution_count": 103,
   "id": "94ce88b1",
   "metadata": {},
   "outputs": [],
   "source": [
    "\"\"\"\n",
    "try:os.mkdir('./DotDist_Input')\n",
    "except FileExistsError:pass\n",
    "\n",
    "for M in range(1, 4):\n",
    "    try:\n",
    "        os.mkdir('./DotDist_Input/M'+str(M))\n",
    "    except FileExistsError:\n",
    "        pass\n",
    "    \n",
    "    if M==1:\n",
    "        for folder in M1Line:\n",
    "            try:\n",
    "                path='./DotDist_Input/M1/'+folder\n",
    "                os.mkdir(path)\n",
    "                \n",
    "                for c in range(1,4):\n",
    "                    os.mkdir(path+'/Cam'+str(c))\n",
    "                    \n",
    "            except FileExistsError:\n",
    "                pass\n",
    "            \n",
    "    elif M==2:\n",
    "        for folder in M2Line:\n",
    "            try:\n",
    "                path='./DotDist_Input/M2/'+folder\n",
    "                os.mkdir(path)\n",
    "                \n",
    "                if folder==\"PA1\" or folder==\"PA2\":\n",
    "                    for c in range(1,3):\n",
    "                        os.mkdir(path+'/Cam'+str(c))\n",
    "                elif folder==\"AA\" or folder==\"SV\":\n",
    "                    for c in range(1,4):\n",
    "                        os.mkdir(path+'/Cam'+str(c))\n",
    "                elif folder==\"CA\":\n",
    "                    for c in range(1,6):\n",
    "                        os.mkdir(path+'/Cam'+str(c))\n",
    "                    \n",
    "            except FileExistsError:\n",
    "                pass\n",
    "            \n",
    "    elif M==3:\n",
    "        for folder in M3Line:\n",
    "            try:\n",
    "                path='./DotDist_Input/M3/'+folder\n",
    "                os.mkdir(path)\n",
    "\n",
    "                for c in range(1,4):\n",
    "                    os.mkdir(path+'/Cam'+str(c))\n",
    "                    \n",
    "            except FileExistsError:\n",
    "                pass\n",
    "\"\"\""
   ]
  },
  {
   "cell_type": "markdown",
   "id": "b51d2418",
   "metadata": {},
   "source": [
    "### 전체 수치 데이터 DF (test)"
   ]
  },
  {
   "cell_type": "code",
   "execution_count": 104,
   "id": "29090b89",
   "metadata": {},
   "outputs": [],
   "source": [
    "TotalValue = pd.DataFrame(columns = ['M_Number', 'Line', 'Cam_Number', 'Axis', 'Max-Min', 'Average', 'Variance', 'Standard_Deviation']) "
   ]
  },
  {
   "cell_type": "code",
   "execution_count": 105,
   "id": "d63c14f2",
   "metadata": {},
   "outputs": [
    {
     "data": {
      "text/plain": [
       "'\\n[0,1,2,3,4,5]          M1 - AA - Cam 1~3 - X,Y\\n[6]\\n[7,8,9,10,11,12]      M1 - SV - Cam 1~3 - X,Y\\n[13]\\n[14,15,16,17,18,19]   M1 - CA - Cam 1~3 - X,Y\\n[20,21]\\n[22,23,24,25]         M2 - PA1 - Cam 1~2 - X,Y\\n[26]\\n[27,28,29,30]         M2 - PA2 - Cam 1~2 - X,Y\\n[31]\\n[32,33,34,35,36,37]   M2 - AA - Cam 1~3 - X,Y\\n[38]\\n[39,40,41,42,43,44]   M2 - SV - Cam 1~3 - X,Y\\n[45]\\n[46,47,48,49,50,51]   M2 - CA - Cam 1~3 - X,Y\\n[52,53]\\n[54,55,56,57,58,59]   M3 - AA - Cam 1~3 - X,Y\\n[60]\\n[61,62,63,64,65,66]   M3 - SV - Cam 1~3 - X,Y\\n[67]\\n[68,69,70,71,72,73]   M3 - CA - Cam 1~3 - X,Y\\n'"
      ]
     },
     "execution_count": 105,
     "metadata": {},
     "output_type": "execute_result"
    }
   ],
   "source": [
    "\"\"\"\n",
    "[0,1,2,3,4,5]          M1 - AA - Cam 1~3 - X,Y\n",
    "[6]\n",
    "[7,8,9,10,11,12]      M1 - SV - Cam 1~3 - X,Y\n",
    "[13]\n",
    "[14,15,16,17,18,19]   M1 - CA - Cam 1~3 - X,Y\n",
    "[20,21]\n",
    "[22,23,24,25]         M2 - PA1 - Cam 1~2 - X,Y\n",
    "[26]\n",
    "[27,28,29,30]         M2 - PA2 - Cam 1~2 - X,Y\n",
    "[31]\n",
    "[32,33,34,35,36,37]   M2 - AA - Cam 1~3 - X,Y\n",
    "[38]\n",
    "[39,40,41,42,43,44]   M2 - SV - Cam 1~3 - X,Y\n",
    "[45]\n",
    "[46,47,48,49,50,51]   M2 - CA - Cam 1~3 - X,Y\n",
    "[52,53]\n",
    "[54,55,56,57,58,59]   M3 - AA - Cam 1~3 - X,Y\n",
    "[60]\n",
    "[61,62,63,64,65,66]   M3 - SV - Cam 1~3 - X,Y\n",
    "[67]\n",
    "[68,69,70,71,72,73]   M3 - CA - Cam 1~3 - X,Y\n",
    "\"\"\""
   ]
  },
  {
   "cell_type": "code",
   "execution_count": 106,
   "id": "a1923942",
   "metadata": {},
   "outputs": [
    {
     "data": {
      "text/html": [
       "<div>\n",
       "<style scoped>\n",
       "    .dataframe tbody tr th:only-of-type {\n",
       "        vertical-align: middle;\n",
       "    }\n",
       "\n",
       "    .dataframe tbody tr th {\n",
       "        vertical-align: top;\n",
       "    }\n",
       "\n",
       "    .dataframe thead th {\n",
       "        text-align: right;\n",
       "    }\n",
       "</style>\n",
       "<table border=\"1\" class=\"dataframe\">\n",
       "  <thead>\n",
       "    <tr style=\"text-align: right;\">\n",
       "      <th></th>\n",
       "      <th>M_Number</th>\n",
       "      <th>Line</th>\n",
       "      <th>Cam_Number</th>\n",
       "      <th>Axis</th>\n",
       "      <th>Max-Min</th>\n",
       "      <th>Average</th>\n",
       "      <th>Variance</th>\n",
       "      <th>Standard_Deviation</th>\n",
       "    </tr>\n",
       "  </thead>\n",
       "  <tbody>\n",
       "  </tbody>\n",
       "</table>\n",
       "</div>"
      ],
      "text/plain": [
       "Empty DataFrame\n",
       "Columns: [M_Number, Line, Cam_Number, Axis, Max-Min, Average, Variance, Standard_Deviation]\n",
       "Index: []"
      ]
     },
     "execution_count": 106,
     "metadata": {},
     "output_type": "execute_result"
    }
   ],
   "source": [
    "TotalValue"
   ]
  },
  {
   "cell_type": "code",
   "execution_count": 93,
   "id": "354a9dac",
   "metadata": {},
   "outputs": [],
   "source": [
    "#TotalValue.loc[11] = [None, None, None, None, None, None, None, None]"
   ]
  },
  {
   "cell_type": "markdown",
   "id": "b6742a5b",
   "metadata": {},
   "source": [
    "### 핵심 처리 과정 (진행중)"
   ]
  },
  {
   "cell_type": "code",
   "execution_count": 120,
   "id": "3293ba73",
   "metadata": {},
   "outputs": [
    {
     "name": "stdout",
     "output_type": "stream",
     "text": [
      "\n",
      "M-Num: 1 Line: AA Cam-Num: 3\n",
      "Cam1 - Result File >>  0 ./DotDist_Output/M1/AA/Cam1\n",
      "./DotDist_Input/M1/AA/Cam1/-1Cam_DistX.csv\n",
      "./DotDist_Input/M1/AA/Cam1/-1Cam_DistY.csv\n",
      "Cam2 - Result File >>  0 ./DotDist_Output/M1/AA/Cam2\n",
      "./DotDist_Input/M1/AA/Cam2/-1Cam_DistX.csv\n",
      "./DotDist_Input/M1/AA/Cam2/-1Cam_DistY.csv\n",
      "Cam3 - Result File >>  0 ./DotDist_Output/M1/AA/Cam3\n",
      "./DotDist_Input/M1/AA/Cam3/-1Cam_DistX.csv\n",
      "./DotDist_Input/M1/AA/Cam3/-1Cam_DistY.csv\n",
      "\n",
      "M-Num: 1 Line: SV Cam-Num: 3\n",
      "Cam1 - Result File >>  0 ./DotDist_Output/M1/SV/Cam1\n",
      "./DotDist_Input/M1/SV/Cam1/-1Cam_DistX.csv\n",
      "./DotDist_Input/M1/SV/Cam1/-1Cam_DistY.csv\n",
      "Cam2 - Result File >>  0 ./DotDist_Output/M1/SV/Cam2\n",
      "./DotDist_Input/M1/SV/Cam2/-1Cam_DistX.csv\n",
      "./DotDist_Input/M1/SV/Cam2/-1Cam_DistY.csv\n",
      "Cam3 - Result File >>  0 ./DotDist_Output/M1/SV/Cam3\n",
      "./DotDist_Input/M1/SV/Cam3/-1Cam_DistX.csv\n",
      "./DotDist_Input/M1/SV/Cam3/-1Cam_DistY.csv\n",
      "\n",
      "M-Num: 1 Line: CA Cam-Num: 3\n",
      "Cam1 - Result File >>  0 ./DotDist_Output/M1/CA/Cam1\n",
      "./DotDist_Input/M1/CA/Cam1/-1Cam_DistX.csv\n",
      "./DotDist_Input/M1/CA/Cam1/-1Cam_DistY.csv\n",
      "Cam2 - Result File >>  0 ./DotDist_Output/M1/CA/Cam2\n",
      "./DotDist_Input/M1/CA/Cam2/-1Cam_DistX.csv\n",
      "./DotDist_Input/M1/CA/Cam2/-1Cam_DistY.csv\n",
      "Cam3 - Result File >>  0 ./DotDist_Output/M1/CA/Cam3\n",
      "./DotDist_Input/M1/CA/Cam3/-1Cam_DistX.csv\n",
      "./DotDist_Input/M1/CA/Cam3/-1Cam_DistY.csv\n",
      "\n",
      "M-Num: 2 Line: PA1 Cam-Num: 2\n",
      "Cam1 - Result File >>  0 ./DotDist_Output/M2/PA1/Cam1\n",
      "./DotDist_Input/M2/PA1/Cam1/-1Cam_DistX.csv\n",
      "./DotDist_Input/M2/PA1/Cam1/-1Cam_DistY.csv\n",
      "Cam2 - Result File >>  0 ./DotDist_Output/M2/PA1/Cam2\n",
      "./DotDist_Input/M2/PA1/Cam2/-1Cam_DistX.csv\n",
      "./DotDist_Input/M2/PA1/Cam2/-1Cam_DistY.csv\n",
      "\n",
      "M-Num: 2 Line: PA2 Cam-Num: 2\n",
      "Cam1 - Result File >>  0 ./DotDist_Output/M2/PA2/Cam1\n",
      "./DotDist_Input/M2/PA2/Cam1/-1Cam_DistX.csv\n",
      "./DotDist_Input/M2/PA2/Cam1/-1Cam_DistY.csv\n",
      "Cam2 - Result File >>  0 ./DotDist_Output/M2/PA2/Cam2\n",
      "./DotDist_Input/M2/PA2/Cam2/-1Cam_DistX.csv\n",
      "./DotDist_Input/M2/PA2/Cam2/-1Cam_DistY.csv\n",
      "\n",
      "M-Num: 2 Line: AA Cam-Num: 3\n",
      "Cam1 - Result File >>  0 ./DotDist_Output/M2/AA/Cam1\n",
      "./DotDist_Input/M2/AA/Cam1/-1Cam_DistX.csv\n",
      "./DotDist_Input/M2/AA/Cam1/-1Cam_DistY.csv\n",
      "Cam2 - Result File >>  0 ./DotDist_Output/M2/AA/Cam2\n",
      "./DotDist_Input/M2/AA/Cam2/-1Cam_DistX.csv\n",
      "./DotDist_Input/M2/AA/Cam2/-1Cam_DistY.csv\n",
      "Cam3 - Result File >>  0 ./DotDist_Output/M2/AA/Cam3\n",
      "./DotDist_Input/M2/AA/Cam3/-1Cam_DistX.csv\n",
      "./DotDist_Input/M2/AA/Cam3/-1Cam_DistY.csv\n",
      "\n",
      "M-Num: 2 Line: SV Cam-Num: 3\n",
      "Cam1 - Result File >>  0 ./DotDist_Output/M2/SV/Cam1\n",
      "./DotDist_Input/M2/SV/Cam1/-1Cam_DistX.csv\n",
      "./DotDist_Input/M2/SV/Cam1/-1Cam_DistY.csv\n",
      "Cam2 - Result File >>  0 ./DotDist_Output/M2/SV/Cam2\n",
      "./DotDist_Input/M2/SV/Cam2/-1Cam_DistX.csv\n",
      "./DotDist_Input/M2/SV/Cam2/-1Cam_DistY.csv\n",
      "Cam3 - Result File >>  0 ./DotDist_Output/M2/SV/Cam3\n",
      "./DotDist_Input/M2/SV/Cam3/-1Cam_DistX.csv\n",
      "./DotDist_Input/M2/SV/Cam3/-1Cam_DistY.csv\n",
      "\n",
      "M-Num: 2 Line: CA Cam-Num: 5\n",
      "Cam1 - Result File >>  0 ./DotDist_Output/M2/CA/Cam1\n",
      "./DotDist_Input/M2/CA/Cam1/-1Cam_DistX.csv\n",
      "./DotDist_Input/M2/CA/Cam1/-1Cam_DistY.csv\n",
      "Cam2 - Result File >>  0 ./DotDist_Output/M2/CA/Cam2\n",
      "./DotDist_Input/M2/CA/Cam2/-1Cam_DistX.csv\n",
      "./DotDist_Input/M2/CA/Cam2/-1Cam_DistY.csv\n",
      "Cam3 - Result File >>  0 ./DotDist_Output/M2/CA/Cam3\n",
      "./DotDist_Input/M2/CA/Cam3/-1Cam_DistX.csv\n",
      "./DotDist_Input/M2/CA/Cam3/-1Cam_DistY.csv\n",
      "Cam4 - Result File >>  0 ./DotDist_Output/M2/CA/Cam4\n",
      "./DotDist_Input/M2/CA/Cam4/-1Cam_DistX.csv\n",
      "./DotDist_Input/M2/CA/Cam4/-1Cam_DistY.csv\n",
      "Cam5 - Result File >>  0 ./DotDist_Output/M2/CA/Cam5\n",
      "./DotDist_Input/M2/CA/Cam5/-1Cam_DistX.csv\n",
      "./DotDist_Input/M2/CA/Cam5/-1Cam_DistY.csv\n",
      "\n",
      "M-Num: 3 Line: AA Cam-Num: 3\n",
      "Cam1 - Result File >>  0 ./DotDist_Output/M1/AA/Cam1\n",
      "./DotDist_Input/M1/AA/Cam1/-1Cam_DistX.csv\n",
      "./DotDist_Input/M1/AA/Cam1/-1Cam_DistY.csv\n",
      "Cam2 - Result File >>  0 ./DotDist_Output/M1/AA/Cam2\n",
      "./DotDist_Input/M1/AA/Cam2/-1Cam_DistX.csv\n",
      "./DotDist_Input/M1/AA/Cam2/-1Cam_DistY.csv\n",
      "Cam3 - Result File >>  0 ./DotDist_Output/M1/AA/Cam3\n",
      "./DotDist_Input/M1/AA/Cam3/-1Cam_DistX.csv\n",
      "./DotDist_Input/M1/AA/Cam3/-1Cam_DistY.csv\n",
      "\n",
      "M-Num: 3 Line: SV Cam-Num: 3\n",
      "Cam1 - Result File >>  0 ./DotDist_Output/M1/SV/Cam1\n",
      "./DotDist_Input/M1/SV/Cam1/-1Cam_DistX.csv\n",
      "./DotDist_Input/M1/SV/Cam1/-1Cam_DistY.csv\n",
      "Cam2 - Result File >>  0 ./DotDist_Output/M1/SV/Cam2\n",
      "./DotDist_Input/M1/SV/Cam2/-1Cam_DistX.csv\n",
      "./DotDist_Input/M1/SV/Cam2/-1Cam_DistY.csv\n",
      "Cam3 - Result File >>  0 ./DotDist_Output/M1/SV/Cam3\n",
      "./DotDist_Input/M1/SV/Cam3/-1Cam_DistX.csv\n",
      "./DotDist_Input/M1/SV/Cam3/-1Cam_DistY.csv\n",
      "\n",
      "M-Num: 3 Line: CA Cam-Num: 3\n",
      "Cam1 - Result File >>  0 ./DotDist_Output/M1/CA/Cam1\n",
      "./DotDist_Input/M1/CA/Cam1/-1Cam_DistX.csv\n",
      "./DotDist_Input/M1/CA/Cam1/-1Cam_DistY.csv\n",
      "Cam2 - Result File >>  0 ./DotDist_Output/M1/CA/Cam2\n",
      "./DotDist_Input/M1/CA/Cam2/-1Cam_DistX.csv\n",
      "./DotDist_Input/M1/CA/Cam2/-1Cam_DistY.csv\n",
      "Cam3 - Result File >>  0 ./DotDist_Output/M1/CA/Cam3\n",
      "./DotDist_Input/M1/CA/Cam3/-1Cam_DistX.csv\n",
      "./DotDist_Input/M1/CA/Cam3/-1Cam_DistY.csv\n"
     ]
    }
   ],
   "source": [
    "try:os.mkdir('./DotDist_Output')\n",
    "except FileExistsError:pass\n",
    "\n",
    "for M in range(1, 4):\n",
    "    try:\n",
    "        os.mkdir('./DotDist_Output/M'+str(M))\n",
    "    except FileExistsError:\n",
    "        pass\n",
    "    \n",
    "    if M==1:\n",
    "        for folder in M1Line:\n",
    "            try:\n",
    "                path='./DotDist_Output/M1/'+folder\n",
    "                os.mkdir(path)\n",
    "\n",
    "                for c in range(1,4):\n",
    "                    os.mkdir(path1+'/Cam'+str(c))\n",
    "                    \n",
    "            except FileExistsError:\n",
    "                fileCnt = len(os.listdir(path))\n",
    "                print(\"\\n\"+\"M-Num:\", M, \"Line:\", folder, \"Cam-Num:\",fileCnt)\n",
    "                \n",
    "                for camNum in range(1,4):\n",
    "                    path='./DotDist_Output/M1/'+folder+\"/Cam\"+str(camNum)\n",
    "                    camCnt = len(os.listdir(path))\n",
    "                    print(\"Cam\"+str(camNum)+\" - Result File >> \", camCnt, path)\n",
    "                    \n",
    "                    pathFront=path[:10]\n",
    "                    pathBack=path[16:]\n",
    "                    path_IN=pathFront+\"Input\"+pathBack\n",
    "                    #  \"-1Cam_Dist\"+axis+\".csv\"\n",
    "                    for axis in [\"X\", \"Y\"]:\n",
    "                        print(path_IN+\"/-1Cam_Dist\"+axis+\".csv\")\n",
    "                    \n",
    "#####################################################################################################\n",
    "    elif M==2:\n",
    "        for folder in M2Line:\n",
    "            try:\n",
    "                path='./DotDist_Output/M2/'+folder\n",
    "                os.mkdir(path)\n",
    "                \n",
    "                if folder==\"PA1\" or folder==\"PA2\":\n",
    "                    for c in range(1,3):\n",
    "                        os.mkdir(path+'/Cam'+str(c))\n",
    "                elif folder==\"AA\" or folder==\"SV\":\n",
    "                    for c in range(1,4):\n",
    "                        os.mkdir(path+'/Cam'+str(c))\n",
    "                elif folder==\"CA\":\n",
    "                    for c in range(1,6):\n",
    "                        os.mkdir(path+'/Cam'+str(c))\n",
    "                        \n",
    "            except FileExistsError:\n",
    "                fileCnt = len(os.listdir(path))\n",
    "                print(\"\\n\"+\"M-Num:\", M, \"Line:\", folder, \"Cam-Num:\",fileCnt)\n",
    "                \n",
    "                for cam in range(1, fileCnt+1):\n",
    "                    path='./DotDist_Output/M2/'+folder+\"/Cam\"+str(cam)\n",
    "                    camCnt = len(os.listdir(path))\n",
    "                    print(\"Cam\"+str(cam)+\" - Result File >> \", camCnt, path)\n",
    "                    \n",
    "                    pathFront=path[:10]\n",
    "                    pathBack=path[16:]\n",
    "                    path_IN=pathFront+\"Input\"+pathBack\n",
    "                    #  \"-1Cam_Dist\"+axis+\".csv\"\n",
    "                    for axis in [\"X\", \"Y\"]:\n",
    "                        print(path_IN+\"/-1Cam_Dist\"+axis+\".csv\")\n",
    "                \n",
    "###################################################################################################       \n",
    "    elif M==3:\n",
    "        for folder in M3Line:\n",
    "            try:\n",
    "                path='./DotDist_Output/M3/'+folder\n",
    "                os.mkdir(path)\n",
    "\n",
    "                for c in range(1,4):\n",
    "                    os.mkdir(path+'/Cam'+str(c))\n",
    "                    \n",
    "            except FileExistsError:\n",
    "                fileCnt = len(os.listdir(path))\n",
    "                print(\"\\n\"+\"M-Num:\", M, \"Line:\", folder, \"Cam-Num:\",fileCnt)\n",
    "                \n",
    "                for camNum in range(1,4):\n",
    "                    path='./DotDist_Output/M1/'+folder+\"/Cam\"+str(camNum)\n",
    "                    camCnt = len(os.listdir(path))\n",
    "                    print(\"Cam\"+str(camNum)+\" - Result File >> \", camCnt, path)\n",
    "                    \n",
    "                    pathFront=path[:10]\n",
    "                    pathBack=path[16:]\n",
    "                    path_IN=pathFront+\"Input\"+pathBack\n",
    "                    #  \"-1Cam_Dist\"+axis+\".csv\"\n",
    "                    for axis in [\"X\", \"Y\"]:\n",
    "                        print(path_IN+\"/-1Cam_Dist\"+axis+\".csv\")\n",
    "                    "
   ]
  },
  {
   "cell_type": "code",
   "execution_count": null,
   "id": "6696f59f",
   "metadata": {},
   "outputs": [],
   "source": [
    "testX = pd.read_csv('./DotDist_Input/M3/AA/Cam1/-1Cam_DistX.csv')\n",
    "testY = pd.read_csv('./DotDist_Input/M3/AA/Cam1/-1Cam_DistY.csv')\n",
    "print('Data File Import Done.')"
   ]
  },
  {
   "cell_type": "code",
   "execution_count": null,
   "id": "29fff354",
   "metadata": {},
   "outputs": [],
   "source": [
    "\"\"\"\n",
    "https://rfriend.tistory.com/419\n",
    "\n",
    "1. 폴더 생성\n",
    "M1 / \n",
    "M2 / PA1, PA2, AA, S, CA\n",
    "M3 / BiC, S, PA\n",
    "각각의 하위 폴더에 대한 공백 검사 필요.\n",
    "\n",
    "2. 동작 순서\n",
    "  2.1. csv 파일을 읽어서 행열을 조사한다. 이 숫자가 반복 횟수가 될것.\n",
    "  2.1'. 일단 csv 파일이 입력으로 들어오는 것은 전부 동일, 행열을 전부 하나의 리스트로 담아서 수치 정보를 계산하고, 값들을 return해주는 함수 거침\n",
    "  2.2. 내부에서 표준편차, Max, Min, Max-Min 값을 계산한다.\n",
    "  2.2'. 전체 값 요약을 담은 데이터프레임에 담아둔다.\n",
    "  2.3. Heatmap을 통해 조건부서식 이미지를 구현후 저장한다. -> 함수 : 데이터와 경로가 입력되어야 함.\n",
    "  2.4. Log 폴더안 txt파일에 프로그램 실행 시각을 담아 추가한다.\n",
    "\"\"\""
   ]
  }
 ],
 "metadata": {
  "kernelspec": {
   "display_name": "Python 3 (ipykernel)",
   "language": "python",
   "name": "python3"
  },
  "language_info": {
   "codemirror_mode": {
    "name": "ipython",
    "version": 3
   },
   "file_extension": ".py",
   "mimetype": "text/x-python",
   "name": "python",
   "nbconvert_exporter": "python",
   "pygments_lexer": "ipython3",
   "version": "3.9.12"
  }
 },
 "nbformat": 4,
 "nbformat_minor": 5
}
