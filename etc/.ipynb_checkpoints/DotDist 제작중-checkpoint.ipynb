{
 "cells": [
  {
   "cell_type": "code",
   "execution_count": 1,
   "id": "6b937e8a",
   "metadata": {},
   "outputs": [],
   "source": [
    "import numpy as np \n",
    "import pandas as pd \n",
    "import matplotlib.pyplot as plt\n",
    "import csv\n",
    "import os\n",
    "import datetime"
   ]
  },
  {
   "cell_type": "code",
   "execution_count": 4,
   "id": "94ce88b1",
   "metadata": {},
   "outputs": [
    {
     "name": "stdout",
     "output_type": "stream",
     "text": [
      "폴더 생성 완료.\n"
     ]
    }
   ],
   "source": [
    "#path = 'C:/DotDist_Edit' \n",
    "#file_list = os.listdir(path) \n",
    "try:\n",
    "    os.mkdir('C:/DotDist_Edit')\n",
    "    #print('폴더 생성 완료.')\n",
    "    \n",
    "except FileExistsError:\n",
    "    print('해당 폴더가 이미 존재합니다.')"
   ]
  },
  {
   "cell_type": "code",
   "execution_count": null,
   "id": "29fff354",
   "metadata": {},
   "outputs": [],
   "source": [
    "\"\"\"\n",
    "https://rfriend.tistory.com/419\n",
    "\n",
    "1. 폴더 생성\n",
    "M1 / \n",
    "M2 / PA1, PA2, AA, S, CA\n",
    "M3 / BiC, S, PA\n",
    "각각의 하위 폴더에 대한 공백 검사 필요.\n",
    "\n",
    "2. 동작 순서\n",
    "  2.1. csv 파일을 읽어서 행열을 조사한다. 이 숫자가 반복 횟수가 될것.\n",
    "  2.2. 내부에서 표준편차, Max, Min, Max-Min 값을 계산한다.\n",
    "  2.2'. 전체 값 요약을 담은 데이터프레임에 담아둔다.\n",
    "  2.3. Heatmap을 통해 조건부서식 이미지를 구현후 저장한다.\n",
    "  2.4. Log 폴더안 txt파일에 프로그램 실행 시각을 담아 추가한다.\n",
    "  \n",
    "\"\"\""
   ]
  }
 ],
 "metadata": {
  "kernelspec": {
   "display_name": "Python 3 (ipykernel)",
   "language": "python",
   "name": "python3"
  },
  "language_info": {
   "codemirror_mode": {
    "name": "ipython",
    "version": 3
   },
   "file_extension": ".py",
   "mimetype": "text/x-python",
   "name": "python",
   "nbconvert_exporter": "python",
   "pygments_lexer": "ipython3",
   "version": "3.9.12"
  }
 },
 "nbformat": 4,
 "nbformat_minor": 5
}
