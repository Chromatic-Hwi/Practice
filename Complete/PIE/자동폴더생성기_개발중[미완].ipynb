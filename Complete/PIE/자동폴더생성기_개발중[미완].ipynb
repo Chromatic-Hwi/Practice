{
 "cells": [
  {
   "cell_type": "markdown",
   "id": "d6c3918b-46c5-4a3e-9ce9-d00262acc76f",
   "metadata": {},
   "source": [
    "## Module Import"
   ]
  },
  {
   "cell_type": "code",
   "execution_count": 15,
   "id": "b78df63e-3180-4dac-876b-476af7cdd9e0",
   "metadata": {},
   "outputs": [],
   "source": [
    "import os\n",
    "import time\n",
    "#import scipy.stats as stats\n",
    "import sys\n",
    "import pickle"
   ]
  },
  {
   "cell_type": "markdown",
   "id": "ea651ead-8a25-41f3-a5ea-bf6858ef1db1",
   "metadata": {},
   "source": [
    "## Project Summary"
   ]
  },
  {
   "cell_type": "code",
   "execution_count": null,
   "id": "96c1a292-9115-4e11-b3d4-6eef4304ec8d",
   "metadata": {},
   "outputs": [],
   "source": [
    "'''\n",
    "1. 1차 프로젝트 폴더 1개\n",
    "  2. 2차 폴더 n개 (ex. zone) + 2차 폴더 이름\n",
    "    3. 3차 폴더 n개 (ex. row) + 3차 폴더 이름\n",
    "      4. 4차 폴더 n개 (ex. 호기) + 4차 폴더 이름\n",
    "'''"
   ]
  },
  {
   "cell_type": "markdown",
   "id": "90257fb3-00ec-40d2-a7fb-44a1d6bbae6d",
   "metadata": {},
   "source": [
    "## Func Define"
   ]
  },
  {
   "cell_type": "code",
   "execution_count": 22,
   "id": "b23b8364-d230-4162-a25c-421b8aaa4437",
   "metadata": {},
   "outputs": [],
   "source": [
    "def RecipeUseOrNot(PROJECT_NAME, PRE_PATH, END_COUNT):\n",
    "    if END_COUNT == 0:\n",
    "        print(\"※계속된 입력 오류로 인해 프로그램을 종료합니다!\")\n",
    "        time.sleep(2)\n",
    "        sys.exit()\n",
    "        \n",
    "    END_COUNT -= 1\n",
    "    \n",
    "    FolderRecipeYN = input(\"기존 설정 파일을 사용해서 폴더를 생성하시겠습니까? (Y/N)\\n>> \")\n",
    "    print()\n",
    "    \n",
    "    if FolderRecipeYN.upper() == \"Y\":\n",
    "        try:\n",
    "            with open(PRE_PATH+\"FOlDER_CREATE_INFO\",\"rb\") as fr:\n",
    "                FOLDER_INFO = pickle.load(fr)\n",
    "        except FileNotFoundError:\n",
    "            print(\"Error!  불러올 폴더 설정 파일이 없습니다!\")\n",
    "            time.sleep(1)\n",
    "            print(\"프로그램을 종료합니다.\")\n",
    "            time.sleep(2)\n",
    "            sys.exit()\n",
    "        # 여기에 전체 폴더 생성 반복 코드\n",
    "        # 경로는 PRE_PATH+\"/\"+PROJECT_NAME\n",
    "    \n",
    "    elif FolderRecipeYN.upper() == \"N\":\n",
    "        print(\"현재 구현되지 않은 기능입니다;;\")\n",
    "        time.sleep(1)\n",
    "        print(\"프로그램을 종료합니다.\")\n",
    "        time.sleep(2)\n",
    "        sys.exit()\n",
    "        \n",
    "    else:\n",
    "        print(\"잘못된 문자를 입력했습니다!\")\n",
    "        RecipeUseOrNot(PROJECT_NAME, PRE_PATH, END_COUNT)"
   ]
  },
  {
   "cell_type": "code",
   "execution_count": 26,
   "id": "881264c4-065f-4869-8e35-9cf4cb5a1475",
   "metadata": {},
   "outputs": [
    {
     "data": {
      "text/plain": [
       "[[[2], [2, 3], '_Zone'],\n",
       " [[7, 6], [1, 2, 3, 4, 5, 6, 8], [1, 2, 3, 4, 5, 6], ' row'],\n",
       " [[[4, 3, 4, 4, 3, 4, 3], [8, 13, 13, 13, 13, 13]], '호기']]"
      ]
     },
     "execution_count": 26,
     "metadata": {},
     "output_type": "execute_result"
    }
   ],
   "source": [
    "FOLDER_INFO"
   ]
  },
  {
   "cell_type": "code",
   "execution_count": 45,
   "id": "bea685e8-9cd2-4163-a2c6-4ec2f4f63d42",
   "metadata": {},
   "outputs": [
    {
     "name": "stdout",
     "output_type": "stream",
     "text": [
      "./2_Zone\n",
      "./3_Zone\n"
     ]
    }
   ],
   "source": [
    "FirstFolderCnt = 1\n",
    "for FirstFolderIndex in range(FirstFolderCnt):\n",
    "    for SecondFolderIndex in range(FOLDER_INFO[0][0][FirstFolderIndex]):\n",
    "        SecondFolderPath = PRE_PATH+str(FOLDER_INFO[0][1][SecondFolderIndex])+FOLDER_INFO[0][2]\n",
    "        print(SecondFolderPath)\n",
    "        #os.mkdir(SecondFolderPath)\n",
    "        SecondFolderCnt = "
   ]
  },
  {
   "cell_type": "code",
   "execution_count": null,
   "id": "2566e218-bd87-4b84-ae49-ce22bdae35d9",
   "metadata": {},
   "outputs": [],
   "source": [
    "def TotalFolderCreate(FOLDER_INFO, PRE_PATH):\n",
    "    for SecondFolderIndex in FOLDER_INFO[0][1]:\n",
    "        SecondFolderPath = PRE_PATH+str(FOLDER_INFO[0][SecondFolderIndex])\n",
    "        os.mkdir(PRE_PATH)"
   ]
  },
  {
   "cell_type": "markdown",
   "id": "cddf4d74-1515-47be-b2f3-61605149af2b",
   "metadata": {},
   "source": [
    "## Code Start (추후 파이썬 파일로 이동)"
   ]
  },
  {
   "cell_type": "code",
   "execution_count": null,
   "id": "4f75a459-5aec-4b8d-864c-29810880059d",
   "metadata": {},
   "outputs": [],
   "source": [
    "ProjectName = input(\"프로젝트 폴더의 이름을 입력해주세요.\\n>> \")\n",
    "print()\n",
    "\n",
    "RecipeUseOrNot(ProjectName, \"./\", 3)\n"
   ]
  },
  {
   "cell_type": "markdown",
   "id": "5e7a1c24-e821-48b4-b852-fe46668f9ff8",
   "metadata": {},
   "source": [
    "## Test & Setting"
   ]
  },
  {
   "cell_type": "code",
   "execution_count": null,
   "id": "f3f06425-0af0-4c6e-9db3-baf0f730d735",
   "metadata": {},
   "outputs": [],
   "source": [
    "try:os.mkdir('./DotDist_Input')\n",
    "except FileExistsError:pass"
   ]
  },
  {
   "cell_type": "code",
   "execution_count": 19,
   "id": "6ad3a8c4-91bf-4d48-add8-9a639470cbbe",
   "metadata": {},
   "outputs": [],
   "source": [
    "FOLDER_INFO = [\n",
    "    [[2], [2, 3], \"_Zone\"],\n",
    "    [[7, 6], [1, 2, 3, 4, 5, 6, 8], [1, 2, 3, 4, 5, 6], \" row\"],\n",
    "    [[[4, 3, 4, 4, 3, 4, 3], [8, 13, 13, 13, 13, 13]], \"호기\"] \n",
    "]"
   ]
  },
  {
   "cell_type": "code",
   "execution_count": 20,
   "id": "96065890-83fe-4603-bb19-f82051418ffb",
   "metadata": {},
   "outputs": [],
   "source": [
    "with open(\"./FOlDER_CREATE_INFO\",\"wb\") as fw:\n",
    "    pickle.dump(FOLDER_INFO, fw)"
   ]
  },
  {
   "cell_type": "code",
   "execution_count": null,
   "id": "43349777-df05-4d97-b33c-4db056556ad4",
   "metadata": {},
   "outputs": [],
   "source": []
  },
  {
   "cell_type": "code",
   "execution_count": 24,
   "id": "71b1b817-67d1-4622-a940-b54007fef908",
   "metadata": {},
   "outputs": [],
   "source": [
    "PRE_PATH = \"./\"\n",
    "with open(PRE_PATH+\"FOlDER_CREATE_INFO\",\"rb\") as fr:\n",
    "                FOLDER_INFO = pickle.load(fr)"
   ]
  },
  {
   "cell_type": "code",
   "execution_count": null,
   "id": "e2d66d9a-4241-4bdc-95dc-2d532674304c",
   "metadata": {},
   "outputs": [],
   "source": []
  },
  {
   "cell_type": "code",
   "execution_count": null,
   "id": "63ebf706-ddf3-4b2e-b99b-86c03db8be4f",
   "metadata": {},
   "outputs": [],
   "source": []
  },
  {
   "cell_type": "code",
   "execution_count": null,
   "id": "c32edce4-ba2d-4e08-b22c-84ed5f260f97",
   "metadata": {},
   "outputs": [],
   "source": [
    "##############################################################################\n",
    "YN = input(\"셋업 정보 저장 과정 실행 여부를 입력해주세요. (Y/N)\\n>> \")\n",
    "print()\n",
    "\n",
    "if YN.upper() == \"Y\":\n",
    "    if os.path.isfile('./SetInfo.pkl'):\n",
    "        print(\"\\n셋업 정보가 새로 생성됩니다. 허용하시면 Y 를 입력해주세요.\")\n",
    "        YN = input(\"진행 여부 (Y/N)\\n>> \")\n",
    "        INFO(YN)\n",
    "    else:\n",
    "        INFO(YN)\n",
    "        \n",
    "elif YN.upper() == \"N\":\n",
    "    try:\n",
    "        with open(\"SetInfo.pkl\", 'rb') as f:\n",
    "            Info = pickle.load(f)\n",
    "        print(\"저장된 셋업 정보\\n>> \", Info)\n",
    "    except FileNotFoundError:\n",
    "        print(\"Error!  불러올 셋업 파일이 없습니다!\")\n",
    "        print(\"Exit.\")\n",
    "        sys.exit()\n"
   ]
  },
  {
   "cell_type": "code",
   "execution_count": null,
   "id": "73c651b0-b303-4b46-8cde-b8ce0fba6fbf",
   "metadata": {},
   "outputs": [],
   "source": []
  },
  {
   "cell_type": "code",
   "execution_count": null,
   "id": "85de88ab-4790-4e64-9ea2-a71967630dac",
   "metadata": {},
   "outputs": [],
   "source": []
  },
  {
   "cell_type": "code",
   "execution_count": 9,
   "id": "7b6d6929-eaa3-4528-9932-2a6dd77f71d7",
   "metadata": {},
   "outputs": [],
   "source": []
  },
  {
   "cell_type": "code",
   "execution_count": null,
   "id": "b9df70ce-f79d-4e90-ae3b-3197259a869f",
   "metadata": {},
   "outputs": [],
   "source": []
  },
  {
   "cell_type": "code",
   "execution_count": null,
   "id": "68c4be3f-238b-4156-8cf9-56463ac3e766",
   "metadata": {},
   "outputs": [],
   "source": [
    "def AllFolderCreateUseRecipe(PRE_PATH):\n",
    "    "
   ]
  },
  {
   "cell_type": "code",
   "execution_count": null,
   "id": "b63999b5-4032-4334-ac6a-bf26929e9302",
   "metadata": {},
   "outputs": [],
   "source": []
  },
  {
   "cell_type": "code",
   "execution_count": null,
   "id": "fac951f6-76aa-46db-a08c-e30d7a6cf663",
   "metadata": {},
   "outputs": [],
   "source": []
  },
  {
   "cell_type": "code",
   "execution_count": null,
   "id": "5e9580ee-4c2a-4b94-96d8-37f16461dd30",
   "metadata": {},
   "outputs": [],
   "source": []
  },
  {
   "cell_type": "code",
   "execution_count": null,
   "id": "f7570b24-55cf-4cc4-ba72-a3edc770e31c",
   "metadata": {},
   "outputs": [],
   "source": [
    "def SecondFolderCreate(PRE_PATH, END_COUNT):\n",
    "    if END_COUNT == 0:\n",
    "        print(\"※계속된 입력 오류로 인해 프로그램을 종료합니다!\")\n",
    "        return #혹은 sys.exit()\n",
    "\n",
    "    END_COUNT -= 1\n",
    "\n",
    "    SecondFolderCnt = input(\"생성될 두번째 하위 폴더의 개수를 입력해주세요.\\n>> \")\n",
    "    print()\n",
    "    \n",
    "    for SecondFolderIndex in range(SecondFolderCnt):\n",
    "        "
   ]
  }
 ],
 "metadata": {
  "kernelspec": {
   "display_name": "Python 3 (ipykernel)",
   "language": "python",
   "name": "python3"
  },
  "language_info": {
   "codemirror_mode": {
    "name": "ipython",
    "version": 3
   },
   "file_extension": ".py",
   "mimetype": "text/x-python",
   "name": "python",
   "nbconvert_exporter": "python",
   "pygments_lexer": "ipython3",
   "version": "3.9.0"
  }
 },
 "nbformat": 4,
 "nbformat_minor": 5
}
