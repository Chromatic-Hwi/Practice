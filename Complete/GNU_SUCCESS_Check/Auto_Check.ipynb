{
 "cells": [
  {
   "cell_type": "markdown",
   "id": "b577f122",
   "metadata": {},
   "source": [
    "### Chromedriver"
   ]
  },
  {
   "cell_type": "code",
   "execution_count": null,
   "id": "177c026a",
   "metadata": {},
   "outputs": [],
   "source": [
    "\"\"\"\n",
    "크롬 드라이버는 사용자의 크롬 버전에 맞게 드라이버를 다운로드 받아 스크래핑 코드와 같은 폴더에 넣어주시면 됩니다. \n",
    "\n",
    "크롬 브라우저의 버전은 우측 상단 더보기란 -> 도움말 -> Chrome 정보 를 선택하면 확인할 수 있습니다.\n",
    "\n",
    "https://chromedriver.chromium.org/downloads 에 가시면 버전에 맞는 크롬 드라이버를 찾아서 다운로드할 수 있습니다.\n",
    "\"\"\""
   ]
  },
  {
   "cell_type": "markdown",
   "id": "88d94b4a",
   "metadata": {},
   "source": [
    "### Install Selenium"
   ]
  },
  {
   "cell_type": "code",
   "execution_count": 13,
   "id": "ce25fe17",
   "metadata": {},
   "outputs": [
    {
     "name": "stdout",
     "output_type": "stream",
     "text": [
      "Collecting selenium\n",
      "  Downloading selenium-4.1.3-py3-none-any.whl (968 kB)\n",
      "Collecting trio~=0.17\n",
      "  Downloading trio-0.20.0-py3-none-any.whl (359 kB)\n",
      "Collecting trio-websocket~=0.9\n",
      "  Using cached trio_websocket-0.9.2-py3-none-any.whl (16 kB)\n",
      "Requirement already satisfied: urllib3[secure,socks]~=1.26 in c:\\users\\82108\\anaconda3\\lib\\site-packages (from selenium) (1.26.7)\n",
      "Requirement already satisfied: sniffio in c:\\users\\82108\\anaconda3\\lib\\site-packages (from trio~=0.17->selenium) (1.2.0)\n",
      "Requirement already satisfied: attrs>=19.2.0 in c:\\users\\82108\\anaconda3\\lib\\site-packages (from trio~=0.17->selenium) (21.2.0)\n",
      "Collecting outcome\n",
      "  Using cached outcome-1.1.0-py2.py3-none-any.whl (9.7 kB)\n",
      "Requirement already satisfied: sortedcontainers in c:\\users\\82108\\anaconda3\\lib\\site-packages (from trio~=0.17->selenium) (2.4.0)\n",
      "Requirement already satisfied: async-generator>=1.9 in c:\\users\\82108\\anaconda3\\lib\\site-packages (from trio~=0.17->selenium) (1.10)\n",
      "Requirement already satisfied: idna in c:\\users\\82108\\anaconda3\\lib\\site-packages (from trio~=0.17->selenium) (3.2)\n",
      "Requirement already satisfied: cffi>=1.14 in c:\\users\\82108\\anaconda3\\lib\\site-packages (from trio~=0.17->selenium) (1.14.6)\n",
      "Requirement already satisfied: pycparser in c:\\users\\82108\\anaconda3\\lib\\site-packages (from cffi>=1.14->trio~=0.17->selenium) (2.20)\n",
      "Collecting wsproto>=0.14\n",
      "  Downloading wsproto-1.1.0-py3-none-any.whl (24 kB)\n",
      "Requirement already satisfied: pyOpenSSL>=0.14 in c:\\users\\82108\\anaconda3\\lib\\site-packages (from urllib3[secure,socks]~=1.26->selenium) (21.0.0)\n",
      "Requirement already satisfied: cryptography>=1.3.4 in c:\\users\\82108\\anaconda3\\lib\\site-packages (from urllib3[secure,socks]~=1.26->selenium) (3.4.8)\n",
      "Requirement already satisfied: certifi in c:\\users\\82108\\anaconda3\\lib\\site-packages (from urllib3[secure,socks]~=1.26->selenium) (2021.10.8)\n",
      "Requirement already satisfied: PySocks!=1.5.7,<2.0,>=1.5.6 in c:\\users\\82108\\anaconda3\\lib\\site-packages (from urllib3[secure,socks]~=1.26->selenium) (1.7.1)\n",
      "Requirement already satisfied: six>=1.5.2 in c:\\users\\82108\\anaconda3\\lib\\site-packages (from pyOpenSSL>=0.14->urllib3[secure,socks]~=1.26->selenium) (1.16.0)\n",
      "Collecting h11<1,>=0.9.0\n",
      "  Downloading h11-0.13.0-py3-none-any.whl (58 kB)\n",
      "Installing collected packages: outcome, h11, wsproto, trio, trio-websocket, selenium\n",
      "Successfully installed h11-0.13.0 outcome-1.1.0 selenium-4.1.3 trio-0.20.0 trio-websocket-0.9.2 wsproto-1.1.0\n"
     ]
    }
   ],
   "source": [
    "!pip3 install selenium"
   ]
  },
  {
   "cell_type": "markdown",
   "id": "4309c7bb",
   "metadata": {},
   "source": [
    "### 화면 가로 확장"
   ]
  },
  {
   "cell_type": "code",
   "execution_count": 2,
   "id": "5806396d",
   "metadata": {},
   "outputs": [
    {
     "data": {
      "text/html": [
       "<style>.container { width:80% !important; }</style>"
      ],
      "text/plain": [
       "<IPython.core.display.HTML object>"
      ]
     },
     "metadata": {},
     "output_type": "display_data"
    }
   ],
   "source": [
    "# 화면 가로 확장 코드 (기본 width 50%)\n",
    "from IPython.core.display import display, HTML\n",
    "display(HTML(\"<style>.container { width:80% !important; }</style>\"))"
   ]
  },
  {
   "cell_type": "code",
   "execution_count": 30,
   "id": "c285983f",
   "metadata": {},
   "outputs": [],
   "source": [
    "from selenium import webdriver\n",
    "from selenium.webdriver.common.by import By\n",
    "from selenium.webdriver.common.keys import Keys\n",
    "from selenium.common.exceptions import NoSuchElementException"
   ]
  },
  {
   "cell_type": "code",
   "execution_count": 15,
   "id": "2d3ccb24",
   "metadata": {},
   "outputs": [],
   "source": [
    "f = open('./info.txt', 'r')\n",
    "lines = f.readlines()\n",
    "info=[]\n",
    "for line in lines:\n",
    "    line = line.strip()\n",
    "    info.append(line)\n",
    "f.close()\n",
    "\n",
    "ID=info[1]\n",
    "PW=info[3]"
   ]
  },
  {
   "cell_type": "code",
   "execution_count": 52,
   "id": "23b9823b",
   "metadata": {},
   "outputs": [
    {
     "name": "stderr",
     "output_type": "stream",
     "text": [
      "C:\\Users\\82108\\AppData\\Local\\Temp/ipykernel_17092/3010515771.py:4: DeprecationWarning: executable_path has been deprecated, please pass in a Service object\n",
      "  driver = webdriver.Chrome(path)\n"
     ]
    }
   ],
   "source": [
    "# SUCCESS 포인트 조사\n",
    "\n",
    "import pandas as pd\n",
    "\n",
    "path = \"./chromedriver.exe\"\n",
    "driver = webdriver.Chrome(path)\n",
    "driver.implicitly_wait(1)\n",
    "\n",
    "driver.get('https://success.gntech.ac.kr/login/a/n/login.do?requestKind=2')\n",
    "\n",
    "ID = \"219125123\"\n",
    "PW = \"1q2w3e!@#\"\n",
    "\n",
    "driver.find_element(By.XPATH,'//*[@id=\"userId\"]').send_keys(ID)\n",
    "driver.find_element(By.XPATH,'//*[@id=\"userPw\"]').send_keys(PW)\n",
    "driver.find_element(By.XPATH,'//*[@id=\"loginBtn\"]').click()\n",
    "\n",
    "driver.find_element(By.XPATH,'//*[@id=\"pp_container\"]/section/section[2]/a[2]/h3').click()\n",
    "driver.maximize_window()\n",
    "driver.find_element(By.XPATH,'//*[@id=\"MNU0000390\"]/a').click()\n",
    "\n",
    "pt1 = int(driver.find_element(By.XPATH,'//*[@id=\"certi1\"]/dl/dd/p[2]/span').text)\n",
    "pt2 = int(driver.find_element(By.XPATH,'//*[@id=\"certi2\"]/dl/dd/p[2]/span').text)\n",
    "pt3 = int(driver.find_element(By.XPATH,'//*[@id=\"certi3\"]/dl/dd/p[2]/span').text)\n",
    "pt4 = int(driver.find_element(By.XPATH,'//*[@id=\"certi4\"]/dl/dd/p[2]/span').text)\n",
    "pt5 = int(driver.find_element(By.XPATH,'//*[@id=\"certi5\"]/dl/dd/p[2]/span').text)\n",
    "\n",
    "pt_list=[[pt1], [pt2], [pt3], [pt4], [pt5], [None, None]]\n",
    "pass_num = 0\n",
    "for i in range(5):\n",
    "    if pt_list[i][0]<5:\n",
    "        pt_list[i].append(5-pt_list[i][0]) \n",
    "        pt_list[i].append(\"부족\") \n",
    "    else:\n",
    "        pt_list[i].append(0)\n",
    "        pt_list[i].append(\"이수\")\n",
    "        pass_num+=1\n",
    "        \n",
    "pt_list[5].append(\"가능\") if pass_num>=3 else pt_list[5].append(\"불가능\")\n",
    "\n",
    "pt_pd = pd.DataFrame(pt_list,index=['진로상담','글로벌','창의학습','봉사/인성', '취창업', '졸업여부'], columns=[\"보유 P\", \"부족 P\", \"현황\"])\n",
    "pt_pd.to_excel('./(구)과기대 SUCCESS 포인트 정리.xlsx')"
   ]
  },
  {
   "cell_type": "code",
   "execution_count": 44,
   "id": "cd420643",
   "metadata": {},
   "outputs": [
    {
     "data": {
      "text/html": [
       "<div>\n",
       "<style scoped>\n",
       "    .dataframe tbody tr th:only-of-type {\n",
       "        vertical-align: middle;\n",
       "    }\n",
       "\n",
       "    .dataframe tbody tr th {\n",
       "        vertical-align: top;\n",
       "    }\n",
       "\n",
       "    .dataframe thead th {\n",
       "        text-align: right;\n",
       "    }\n",
       "</style>\n",
       "<table border=\"1\" class=\"dataframe\">\n",
       "  <thead>\n",
       "    <tr style=\"text-align: right;\">\n",
       "      <th></th>\n",
       "      <th>포인트</th>\n",
       "      <th>현황</th>\n",
       "    </tr>\n",
       "  </thead>\n",
       "  <tbody>\n",
       "    <tr>\n",
       "      <th>진로상담</th>\n",
       "      <td>5.0</td>\n",
       "      <td>이수</td>\n",
       "    </tr>\n",
       "    <tr>\n",
       "      <th>글로벌</th>\n",
       "      <td>2.0</td>\n",
       "      <td>부족</td>\n",
       "    </tr>\n",
       "    <tr>\n",
       "      <th>창의학습</th>\n",
       "      <td>20.0</td>\n",
       "      <td>이수</td>\n",
       "    </tr>\n",
       "    <tr>\n",
       "      <th>봉사/인성</th>\n",
       "      <td>3.0</td>\n",
       "      <td>부족</td>\n",
       "    </tr>\n",
       "    <tr>\n",
       "      <th>취창업</th>\n",
       "      <td>4.0</td>\n",
       "      <td>부족</td>\n",
       "    </tr>\n",
       "    <tr>\n",
       "      <th>졸업여부</th>\n",
       "      <td>NaN</td>\n",
       "      <td>불가능</td>\n",
       "    </tr>\n",
       "  </tbody>\n",
       "</table>\n",
       "</div>"
      ],
      "text/plain": [
       "        포인트   현황\n",
       "진로상담    5.0   이수\n",
       "글로벌     2.0   부족\n",
       "창의학습   20.0   이수\n",
       "봉사/인성   3.0   부족\n",
       "취창업     4.0   부족\n",
       "졸업여부    NaN  불가능"
      ]
     },
     "execution_count": 44,
     "metadata": {},
     "output_type": "execute_result"
    }
   ],
   "source": [
    "pt_pd"
   ]
  },
  {
   "cell_type": "code",
   "execution_count": 30,
   "id": "2c5464b2",
   "metadata": {},
   "outputs": [
    {
     "name": "stderr",
     "output_type": "stream",
     "text": [
      "C:\\Users\\82108\\AppData\\Local\\Temp/ipykernel_1148/654986201.py:2: DeprecationWarning: executable_path has been deprecated, please pass in a Service object\n",
      "  driver = webdriver.Chrome(path)\n"
     ]
    }
   ],
   "source": [
    "# 이룸 프로그램 확인\n",
    "\n",
    "path = \"./chromedriver.exe\"\n",
    "driver = webdriver.Chrome(path)\n",
    "driver.implicitly_wait(1)\n",
    "\n",
    "driver.get('https://accounts.gnu.ac.kr/common/login/login.do?service=https://nerum.gnu.ac.kr/sso/apiTest.jsp')\n",
    "driver.maximize_window()\n",
    "\n",
    "driver.find_element(By.XPATH,'//*[@id=\"userId\"]').send_keys(ID)\n",
    "driver.find_element(By.XPATH,'//*[@id=\"password\"]').send_keys(PW)\n",
    "driver.find_element(By.XPATH,'//*[@id=\"content\"]/div[1]/div/a').click()\n",
    "\n",
    "driver.find_element(By.XPATH,'//*[@id=\"gnb\"]/ul/li[1]/a').click()\n",
    "\n",
    "driver.find_element(By.XPATH,'/html/body/div[2]/div[2]/aside/nav/ul/li[2]/p/a').click()\n",
    "driver.find_element(By.XPATH,'/html/body/div[2]/div[2]/aside/nav/ul/li[2]/div/ul/li[1]/a').click()"
   ]
  }
 ],
 "metadata": {
  "kernelspec": {
   "display_name": "Python 3 (ipykernel)",
   "language": "python",
   "name": "python3"
  },
  "language_info": {
   "codemirror_mode": {
    "name": "ipython",
    "version": 3
   },
   "file_extension": ".py",
   "mimetype": "text/x-python",
   "name": "python",
   "nbconvert_exporter": "python",
   "pygments_lexer": "ipython3",
   "version": "3.9.7"
  }
 },
 "nbformat": 4,
 "nbformat_minor": 5
}
