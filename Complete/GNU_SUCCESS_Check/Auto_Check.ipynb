{
 "cells": [
  {
   "cell_type": "markdown",
   "id": "b577f122",
   "metadata": {},
   "source": [
    "### Chromedriver"
   ]
  },
  {
   "cell_type": "code",
   "execution_count": null,
   "id": "177c026a",
   "metadata": {},
   "outputs": [],
   "source": [
    "\"\"\"\n",
    "크롬 드라이버는 사용자의 크롬 버전에 맞게 드라이버를 다운로드 받아 스크래핑 코드와 같은 폴더에 넣어주시면 됩니다. \n",
    "\n",
    "크롬 브라우저의 버전은 우측 상단 더보기란 -> 도움말 -> Chrome 정보 를 선택하면 확인할 수 있습니다.\n",
    "\n",
    "https://chromedriver.chromium.org/downloads 에 가시면 버전에 맞는 크롬 드라이버를 찾아서 다운로드할 수 있습니다.\n",
    "\"\"\""
   ]
  },
  {
   "cell_type": "markdown",
   "id": "88d94b4a",
   "metadata": {},
   "source": [
    "### Install Selenium"
   ]
  },
  {
   "cell_type": "code",
   "execution_count": 54,
   "id": "ce25fe17",
   "metadata": {},
   "outputs": [
    {
     "name": "stdout",
     "output_type": "stream",
     "text": [
      "^C\n"
     ]
    }
   ],
   "source": [
    "!pip3 install selenium"
   ]
  },
  {
   "cell_type": "markdown",
   "id": "4309c7bb",
   "metadata": {},
   "source": [
    "### 화면 가로 확장"
   ]
  },
  {
   "cell_type": "code",
   "execution_count": 55,
   "id": "5806396d",
   "metadata": {},
   "outputs": [
    {
     "data": {
      "text/html": [
       "<style>.container { width:80% !important; }</style>"
      ],
      "text/plain": [
       "<IPython.core.display.HTML object>"
      ]
     },
     "metadata": {},
     "output_type": "display_data"
    }
   ],
   "source": [
    "# 화면 가로 확장 코드 (기본 width 50%)\n",
    "from IPython.core.display import display, HTML\n",
    "display(HTML(\"<style>.container { width:80% !important; }</style>\"))"
   ]
  },
  {
   "cell_type": "code",
   "execution_count": 56,
   "id": "c285983f",
   "metadata": {},
   "outputs": [
    {
     "name": "stderr",
     "output_type": "stream",
     "text": [
      "C:\\Users\\82108\\AppData\\Local\\Temp/ipykernel_17092/2234060282.py:18: DeprecationWarning: executable_path has been deprecated, please pass in a Service object\n",
      "  driver = webdriver.Chrome(path)\n"
     ]
    }
   ],
   "source": [
    "from selenium import webdriver\n",
    "from selenium.webdriver.common.by import By\n",
    "from selenium.webdriver.common.keys import Keys\n",
    "from selenium.common.exceptions import NoSuchElementException\n",
    "\n",
    "f = open('./Login_info.txt', 'r')\n",
    "lines = f.readlines()\n",
    "info=[]\n",
    "for line in lines:\n",
    "    line = line.strip()\n",
    "    info.append(line)\n",
    "f.close()\n",
    "\n",
    "ID=info[1]\n",
    "PW=info[5]\n",
    "\n",
    "path = \"./chromedriver.exe\"\n",
    "driver = webdriver.Chrome(path)\n",
    "driver.implicitly_wait(1)\n",
    "\n",
    "driver.get('https://accounts.gnu.ac.kr/common/login/login.do?service=https://nerum.gnu.ac.kr/sso/apiTest.jsp')\n",
    "driver.maximize_window()\n",
    "\n",
    "driver.find_element(By.XPATH,'//*[@id=\"userId\"]').send_keys(ID)\n",
    "driver.find_element(By.XPATH,'//*[@id=\"password\"]').send_keys(PW)\n",
    "driver.find_element(By.XPATH,'//*[@id=\"content\"]/div[1]/div/a').click()\n",
    "\n",
    "driver.find_element(By.XPATH,'//*[@id=\"gnb\"]/ul/li[1]/a').click()\n",
    "\n",
    "driver.find_element(By.XPATH,'/html/body/div[2]/div[2]/aside/nav/ul/li[2]/p/a').click()\n",
    "driver.find_element(By.XPATH,'/html/body/div[2]/div[2]/aside/nav/ul/li[2]/div/ul/li[1]/a').click()"
   ]
  },
  {
   "cell_type": "code",
   "execution_count": null,
   "id": "e9f03c91",
   "metadata": {},
   "outputs": [],
   "source": [
    "from selenium import webdriver\n",
    "from selenium.webdriver.common.by import By\n",
    "from selenium.webdriver.common.keys import Keys\n",
    "from selenium.common.exceptions import NoSuchElementException\n",
    "import pandas as pd\n",
    "\n",
    "f = open('./Login_info.txt', 'r')\n",
    "lines = f.readlines()\n",
    "info=[]\n",
    "for line in lines:\n",
    "    line = line.strip()\n",
    "    info.append(line)\n",
    "f.close()\n",
    "\n",
    "ID=info[1]\n",
    "PW=info[3]\n",
    "\n",
    "path = \"./chromedriver.exe\"\n",
    "driver = webdriver.Chrome(path)\n",
    "driver.implicitly_wait(1)\n",
    "\n",
    "driver.get('https://success.gntech.ac.kr/login/a/n/login.do?requestKind=2')\n",
    "\n",
    "driver.find_element(By.XPATH,'//*[@id=\"userId\"]').send_keys(ID)\n",
    "driver.find_element(By.XPATH,'//*[@id=\"userPw\"]').send_keys(PW)\n",
    "driver.find_element(By.XPATH,'//*[@id=\"loginBtn\"]').click()\n",
    "\n",
    "driver.find_element(By.XPATH,'//*[@id=\"pp_container\"]/section/section[2]/a[2]/h3').click()\n",
    "driver.maximize_window()\n",
    "driver.find_element(By.XPATH,'//*[@id=\"MNU0000390\"]/a').click()\n",
    "\n",
    "pt1 = int(driver.find_element(By.XPATH,'//*[@id=\"certi1\"]/dl/dd/p[2]/span').text)\n",
    "pt2 = int(driver.find_element(By.XPATH,'//*[@id=\"certi2\"]/dl/dd/p[2]/span').text)\n",
    "pt3 = int(driver.find_element(By.XPATH,'//*[@id=\"certi3\"]/dl/dd/p[2]/span').text)\n",
    "pt4 = int(driver.find_element(By.XPATH,'//*[@id=\"certi4\"]/dl/dd/p[2]/span').text)\n",
    "pt5 = int(driver.find_element(By.XPATH,'//*[@id=\"certi5\"]/dl/dd/p[2]/span').text)\n",
    "\n",
    "pt_list=[[pt1], [pt2], [pt3], [pt4], [pt5], [None, None]]\n",
    "pass_num = 0\n",
    "for i in range(5):\n",
    "    if pt_list[i][0]<5:\n",
    "        pt_list[i].append(5-pt_list[i][0]) \n",
    "        pt_list[i].append(\"부족\") \n",
    "    else:\n",
    "        pt_list[i].append(0)\n",
    "        pt_list[i].append(\"이수\")\n",
    "        pass_num+=1\n",
    "        \n",
    "pt_list[5].append(\"가능\") if pass_num>=3 else pt_list[5].append(\"불가능\")\n",
    "\n",
    "pt_pd = pd.DataFrame(pt_list,index=['진로상담','글로벌','창의학습','봉사/인성', '취창업', '졸업여부'], columns=[\"보유 P\", \"부족 P\", \"현황\"])\n",
    "pt_pd.to_excel('./(구)과기대 SUCCESS 포인트 정리.xlsx')\n",
    "\n",
    "driver.quit()"
   ]
  }
 ],
 "metadata": {
  "kernelspec": {
   "display_name": "Python 3 (ipykernel)",
   "language": "python",
   "name": "python3"
  },
  "language_info": {
   "codemirror_mode": {
    "name": "ipython",
    "version": 3
   },
   "file_extension": ".py",
   "mimetype": "text/x-python",
   "name": "python",
   "nbconvert_exporter": "python",
   "pygments_lexer": "ipython3",
   "version": "3.9.7"
  }
 },
 "nbformat": 4,
 "nbformat_minor": 5
}
