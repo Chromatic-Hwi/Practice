{
 "cells": [
  {
   "cell_type": "markdown",
   "id": "3be78130",
   "metadata": {
    "id": "3be78130"
   },
   "source": [
    "# 코테 재시작"
   ]
  },
  {
   "cell_type": "markdown",
   "id": "45ab1f6f",
   "metadata": {
    "id": "45ab1f6f"
   },
   "source": [
    "## 풀이 후 정보 모음"
   ]
  },
  {
   "cell_type": "code",
   "execution_count": null,
   "id": "8e8766fb",
   "metadata": {
    "id": "8e8766fb",
    "outputId": "abb9da64-721c-473d-c52b-fa1f2af61533"
   },
   "outputs": [
    {
     "data": {
      "text/plain": [
       "'\\n● 비트 연산자 bin()\\n    - AND 연산자 (&) : 두 자릿수 모두 1일 때 1 출력.\\n    - OR 연산자 (|) : 두 자릿수 중 하나라도 1이면 1 출력.\\n    - XOR 연산자(^) : 두 자릿수를 비교하여 서로 다르면 1 출력.\\n    - NOT 연산자(~) : 반대로 출력.\\n    \\n● list.pop() : 가장 큰 인덱스 원소를 삭제\\n\\n●\\n●\\n●\\n●\\n●\\n'"
      ]
     },
     "execution_count": 3,
     "metadata": {},
     "output_type": "execute_result"
    }
   ],
   "source": [
    "\"\"\"\n",
    "● 비트 연산자 bin()\n",
    "    - AND 연산자 (&) : 두 자릿수 모두 1일 때 1 출력.\n",
    "    - OR 연산자 (|) : 두 자릿수 중 하나라도 1이면 1 출력.\n",
    "    - XOR 연산자(^) : 두 자릿수를 비교하여 서로 다르면 1 출력.\n",
    "    - NOT 연산자(~) : 반대로 출력.\n",
    "\n",
    "● list.pop() : 가장 큰 인덱스 원소를 삭제.\n",
    "\n",
    "● xxxx.zfills(n) : 스트링 앞을 n만큼 0으로 채움.\n",
    "\n",
    "● xxxx.rjust(n ,\" \") : 스트링 앞을 n만큼 지정한 문자로 채움.\n",
    "\n",
    "● xxxx.replace(\"A\", \"B\") : A를 B로 교체.\n",
    "\n",
    "● xx.isdigit(), xx.isalpha() : 각각 숫자인지 문자인지를 반환하는 함수.\n",
    "\n",
    "● for idx1, element in enumerate([0,1,2,3,4], start=1) : for문 반복하면서 index도 같이 사용 가능하게 해줌. start는 시작 인덱스\n",
    "●\n",
    "●\n",
    "●\n",
    "\"\"\""
   ]
  },
  {
   "cell_type": "markdown",
   "id": "c0b41d13",
   "metadata": {
    "id": "c0b41d13"
   },
   "source": [
    "# -------------------- <1단계> --------------------"
   ]
  },
  {
   "cell_type": "markdown",
   "id": "26412841",
   "metadata": {
    "id": "26412841"
   },
   "source": [
    "#### 240213 달리기 경주 (다시 코테 시작, 20분 타임아웃)"
   ]
  },
  {
   "cell_type": "code",
   "execution_count": null,
   "id": "d5e7fda6",
   "metadata": {
    "id": "d5e7fda6"
   },
   "outputs": [],
   "source": [
    "\"\"\"\n",
    "리스트 쓰는 법부터 다 까먹었음. 머리로 구상은 다 됐는데 구현이 안 되는 상황.\n",
    "※ list.pop() 함수를 사용하면 맨 끝 인덱스 원소를 삭제한다.\n",
    "\"\"\"\n",
    "def solution(players, callings):\n",
    "    for called_name in callings:\n",
    "        now_index = players.index(called_name)\n",
    "\n",
    "        # 추월을 하게 되면 항상 인덱스가 큰 숫자에서 작은 숫자 방향으로 가기 때문에 빼기 연산이 문제가 없음.\n",
    "        del players[now_index] # 추월 예정인 원소 삭제\n",
    "\n",
    "        overtake_index = now_index-1\n",
    "        players.insert(overtake_index, called_name) # 추월 대상 원소의 위치에 삽입하면 자동으로 해당 원소는 뒤로 밀림.\n",
    "\n",
    "    answer = players\n",
    "    return answer"
   ]
  },
  {
   "cell_type": "markdown",
   "id": "f0a415ed",
   "metadata": {
    "id": "f0a415ed"
   },
   "source": [
    "#### 240213 달리기 경주 (힌트 보고 2트)"
   ]
  },
  {
   "cell_type": "code",
   "execution_count": null,
   "id": "562acdbe",
   "metadata": {
    "id": "562acdbe",
    "outputId": "7d804e9c-74a3-4b4c-d85c-60b832d104c7"
   },
   "outputs": [
    {
     "data": {
      "text/plain": [
       "['mumu', 'kai', 'mine', 'soe', 'poe']"
      ]
     },
     "execution_count": 15,
     "metadata": {},
     "output_type": "execute_result"
    }
   ],
   "source": [
    "\"\"\"\n",
    "list index는 그 탐색 자체만으로 이미 루프임. 따라서 dictionary 주소로 찾는게 빠르다고 함.\n",
    "그러면 dict 사용법을 다시 살펴볼까..\n",
    "\n",
    "※ range 함수는 자체로 list를 생성한다.\n",
    "\n",
    "※ 파이썬의 swap 함수를 사용하면 간단히 두 변수의 값을 스왑할 수 있다.\n",
    "\"\"\"\n",
    "\n",
    "def solution(players, callings):\n",
    "    dict_players = dict(zip(players, range(len(players))))\n",
    "    # 값 : 키 순으로 배치, 이름의 순번을 바꿔야하기 때문에 편의성 고려\n",
    "\n",
    "    \"\"\"\n",
    "    callings의 값(=이름)으로 딕셔너리에서 검색\n",
    "    -> 해당 이름의 인덱스(=키) 추출, 저장\n",
    "    -> 해당 이름의 인덱스 -1을 키로 가지는 원소의 인덱스 +1 연산\n",
    "    -> 이름값은 변하지 않으니 해당 이름의 원소 인덱스 -1 연산 실행\n",
    "    -> 딕셔너리 내부에서 키와 밸류 정리 완료.\n",
    "    -> 원본 리스트에서 딕셔너리의 키를 사용해 자리 swap\n",
    "    \"\"\"\n",
    "\n",
    "    for call in callings:\n",
    "        called_idx = dict_players[call]\n",
    "        dict_players[players[called_idx-1]] += 1\n",
    "        dict_players[call] -= 1\n",
    "\n",
    "        players[called_idx-1], players[called_idx] = players[called_idx], players[called_idx-1]\n",
    "\n",
    "    answer = players\n",
    "    return answer\n",
    "\n",
    "solution([\"mumu\", \"soe\", \"poe\", \"kai\", \"mine\"], [\"kai\", \"kai\", \"mine\", \"mine\"])"
   ]
  },
  {
   "cell_type": "markdown",
   "id": "f667d8b9",
   "metadata": {
    "id": "f667d8b9"
   },
   "source": [
    "#### 240214 가장 가까운 같은 글자 (1트, 30분 타임아웃)"
   ]
  },
  {
   "cell_type": "code",
   "execution_count": null,
   "id": "f8b78d28",
   "metadata": {
    "id": "f8b78d28"
   },
   "outputs": [],
   "source": [
    "def solution(s):\n",
    "    #letter_list = list(s)\n",
    "\n",
    "    answer = []\n",
    "\n",
    "    for idx in range(len(s)):\n",
    "        if idx == 0:\n",
    "            print(\"첫 글자\\n\")\n",
    "            first_letter = s[0]\n",
    "            answer.append(-1)\n",
    "        else:\n",
    "            print(f\"this is {idx} letter\")\n",
    "            for idx2 in range(idx, 0, -1):\n",
    "                if s[idx2] not in s[0:idx-1]:\n",
    "                    print(\"앞에 중복 없음\\n\")\n",
    "                    answer.append(-1)\n",
    "                    break\n",
    "                else:\n",
    "                    if s[idx] == s[idx2] and idx != idx2:\n",
    "                        print(f\"찾음. {idx}, {idx2}\")\n",
    "                        answer.append(idx-idx2)\n",
    "                        break\n",
    "                    else:\n",
    "                        print(\"얘 아님\")\n",
    "                        pass\n",
    "    return answer"
   ]
  },
  {
   "cell_type": "markdown",
   "id": "c40a64f3",
   "metadata": {
    "id": "c40a64f3"
   },
   "source": [
    "#### 가장 가까운 같은 글자(힌트본, dict 이용)"
   ]
  },
  {
   "cell_type": "code",
   "execution_count": null,
   "id": "0f3763f9",
   "metadata": {
    "id": "0f3763f9"
   },
   "outputs": [],
   "source": [
    "def solution(s):\n",
    "    answer = []\n",
    "    s_dict = dict()\n",
    "\n",
    "    for i in range(len(s)):\n",
    "        if s[i] not in s_dict:\n",
    "            answer.append(-1)\n",
    "        else:\n",
    "            print(\"중복 찾기\")\n",
    "            answer.append(i-s_dict[s[i]]) # 현재 idx에서 딕셔너리 내부 동일글자(s[i]) 인덱스에 해당하는 숫자 차연산\n",
    "        print(i, s_dict)\n",
    "        s_dict[s[i]] = i\n",
    "        print(i, s_dict, \"\\n\")\n",
    "\n",
    "    return answer"
   ]
  },
  {
   "cell_type": "markdown",
   "id": "3a3f2dbf",
   "metadata": {
    "id": "3a3f2dbf"
   },
   "source": [
    "#### 240215 햄버거 만들기 (1차, 20분 타임아웃, 다른 방향으로 만들어야 한다고 깨달음)"
   ]
  },
  {
   "cell_type": "code",
   "execution_count": null,
   "id": "ad7ce579",
   "metadata": {
    "id": "ad7ce579"
   },
   "outputs": [],
   "source": [
    "def solution(ingredient):\n",
    "    answer = 0\n",
    "    burger_step = 1\n",
    "    burger_maked = []\n",
    "\n",
    "    for pick in ingredient:\n",
    "        print(pick)\n",
    "        if pick == 1:\n",
    "            if len(burger_maked) == 0:\n",
    "                burger_maked.append(pick)\n",
    "            elif burger_maked[-1] == 3:\n",
    "                burger_maked.append(pick)\n",
    "                print(burger_maked)\n",
    "                answer += 1\n",
    "                burger_maked.clear()\n",
    "            else:\n",
    "                pass\n",
    "        elif pick == 2:\n",
    "            if len(burger_maked) == 0:\n",
    "                pass\n",
    "            else:\n",
    "                burger_maked.append(pick)\n",
    "        elif pick == 3:\n",
    "            if len(burger_maked) == 0:\n",
    "                pass\n",
    "            else:\n",
    "                burger_maked.append(pick)\n",
    "        else:\n",
    "            pass\n",
    "\n",
    "    return answer"
   ]
  },
  {
   "cell_type": "markdown",
   "id": "6ba1cb0b",
   "metadata": {
    "id": "6ba1cb0b"
   },
   "source": [
    "#### 240215 햄버거 만들기 (2차, 5분 실패, 문제 이해를 잘 못함)"
   ]
  },
  {
   "cell_type": "code",
   "execution_count": null,
   "id": "b8bee741",
   "metadata": {
    "id": "b8bee741"
   },
   "outputs": [],
   "source": [
    "\"\"\"\n",
    "문제에서 제시한건 연속된 1-2-3-1 순서로만 버거를 만들 수 있단 뜻.\n",
    "처음 만들었던 코드와 이 버전을 합치면 될듯 함.\n",
    "\"\"\"\n",
    "def solution(ingredient):\n",
    "    answer = 0\n",
    "    next_ingredient = 1\n",
    "\n",
    "    for pick in ingredient:\n",
    "        if pick == 1 and next_ingredient == 1:\n",
    "            next_ingredient = 2\n",
    "        elif pick == 2 and next_ingredient == 2:\n",
    "            next_ingredient = 3\n",
    "        elif pick == 3 and next_ingredient == 3:\n",
    "            next_ingredient = 4\n",
    "        elif pick == 1 and next_ingredient == 4:\n",
    "            next_ingredient = 1\n",
    "            answer += 1\n",
    "        else:\n",
    "            pass\n",
    "\n",
    "    return answer"
   ]
  },
  {
   "cell_type": "markdown",
   "id": "11036d39",
   "metadata": {
    "id": "11036d39"
   },
   "source": [
    "#### 240215 햄버거 만들기 (3차, 실패)"
   ]
  },
  {
   "cell_type": "code",
   "execution_count": null,
   "id": "d38f2991",
   "metadata": {
    "id": "d38f2991"
   },
   "outputs": [],
   "source": [
    "\"\"\"\n",
    "루프 돌면서 1-2-3-1 만 찾도록 해봤는데 처음 만들때부터 시간 초과될게 걱정이기도 했지만,\n",
    "결과적으로 코드 정상 동작 실패\n",
    "\"\"\"\n",
    "def solution(ingredient):\n",
    "    answer = 0\n",
    "    next_ingredient = 1\n",
    "    burger = []\n",
    "\n",
    "    for idx in range(len(ingredient)):\n",
    "        print(ingredient[idx])\n",
    "        if ingredient[idx] == 1 and next_ingredient == 1:\n",
    "            next_ingredient == 2\n",
    "            if ingredient[idx+1] == 2 and next_ingredient == 2:\n",
    "                next_ingredient == 3\n",
    "                if ingredient[idx+2] == 3 and next_ingredient == 3:\n",
    "                    next_ingredient == 4\n",
    "                    if ingredient[idx+3] == 1 and next_ingredient == 4:\n",
    "                        next_ingredient ==1\n",
    "                        del ingredient[idx:idx+4]\n",
    "        else:\n",
    "            pass\n",
    "    return answer"
   ]
  },
  {
   "cell_type": "markdown",
   "id": "781a118f",
   "metadata": {
    "id": "781a118f"
   },
   "source": [
    "#### 240215 햄버거 만들기 (힌트본)"
   ]
  },
  {
   "cell_type": "code",
   "execution_count": null,
   "id": "e9c72626",
   "metadata": {
    "id": "e9c72626"
   },
   "outputs": [],
   "source": [
    "\"\"\"\n",
    "리스트내 원소를 하나씩만 비교할게 아니라 버거가 조합되는\n",
    "1-2-3-1 을 하나의 별도 리스트로 생각하고, 우측(리스트끝)부터 카운트한 4개가 버거 조합으로 완성되면\n",
    "별도 리스트 내부에서 4개를 삭제하는 식.\n",
    "s[-4:] == [1, 2, 3, 1] 이걸 생각을 못했네\n",
    "\"\"\"\n",
    "def solution(ingredient):\n",
    "    s = []\n",
    "    answer = 0\n",
    "\n",
    "    for i in ingredient:\n",
    "        s.append(i)\n",
    "        if s[-4:] == [1, 2, 3, 1]:\n",
    "            answer += 1\n",
    "            del s[-4:]\n",
    "\n",
    "    return answer"
   ]
  },
  {
   "cell_type": "markdown",
   "id": "2045325f",
   "metadata": {
    "id": "2045325f"
   },
   "source": [
    "#### 240216 콜라문제 (1트, 30분 검증에서 실패)"
   ]
  },
  {
   "cell_type": "code",
   "execution_count": null,
   "id": "04e737b6",
   "metadata": {
    "id": "04e737b6"
   },
   "outputs": [],
   "source": [
    "\"\"\"\n",
    "a는 고려를 했는데 b를 고려를 안 하고 1일거라고만 생각함.\n",
    "문제를 제대로 이해하지 못한게 패착\n",
    "\"\"\"\n",
    "def solution(a, b, empty_bottle):\n",
    "    new_cola = 0\n",
    "\n",
    "    while (empty_bottle>0):\n",
    "        print(empty_bottle)\n",
    "        new_cola_get = 0\n",
    "        if empty_bottle<2:# 빈병이 2병 미만이면 1병이던가 0병인데 어차피 새콜라 수령수에는 미포함이니 바로 브레이크\n",
    "            break\n",
    "        elif empty_bottle == 2:\n",
    "            new_cola += 1\n",
    "            break\n",
    "        else:\n",
    "            if empty_bottle % a == 0:\n",
    "                new_cola += empty_bottle//a\n",
    "                new_cola_get += empty_bottle//a\n",
    "                empty_bottle -= empty_bottle\n",
    "            else:\n",
    "                new_cola += (empty_bottle-(empty_bottle%a))//a\n",
    "                new_cola_get += (empty_bottle-1)//a\n",
    "                empty_bottle -= empty_bottle-1\n",
    "\n",
    "            empty_bottle += new_cola_get\n",
    "        print(empty_bottle, \"\\n\")\n",
    "    return new_cola"
   ]
  },
  {
   "cell_type": "markdown",
   "id": "554cfc32",
   "metadata": {
    "id": "554cfc32"
   },
   "source": [
    "#### 240216 콜라문제 (2트, 1트 재활용 10분컷, 통과)"
   ]
  },
  {
   "cell_type": "code",
   "execution_count": null,
   "id": "deb4e057",
   "metadata": {
    "id": "deb4e057"
   },
   "outputs": [],
   "source": [
    "def solution(a, b, empty_bottle):\n",
    "    new_cola = 0\n",
    "\n",
    "    while (empty_bottle>0):\n",
    "        print(empty_bottle)\n",
    "        new_cola_get = 0\n",
    "        if empty_bottle<a:# 빈병이 2병 미만이면 1병이던가 0병인데 어차피 새콜라 수령수에는 미포함이니 바로 브레이크\n",
    "            break\n",
    "        elif empty_bottle == a:\n",
    "            new_cola += b\n",
    "            break\n",
    "        else:\n",
    "            if empty_bottle % a == 0:\n",
    "                cal = empty_bottle//a*b\n",
    "                new_cola += cal\n",
    "                new_cola_get += cal\n",
    "                empty_bottle -= empty_bottle\n",
    "            else:\n",
    "                cal = (empty_bottle-(empty_bottle%a))//a*b\n",
    "                new_cola += cal\n",
    "                new_cola_get += cal\n",
    "                empty_bottle -= (empty_bottle-(empty_bottle%a))\n",
    "            empty_bottle += new_cola_get\n",
    "        print(empty_bottle, \"\\n\")\n",
    "    return new_cola"
   ]
  },
  {
   "cell_type": "markdown",
   "id": "6f333df6",
   "metadata": {
    "id": "6f333df6"
   },
   "source": [
    "#### 240217 추억 점수 (1트, 10분컷 통과)"
   ]
  },
  {
   "cell_type": "code",
   "execution_count": null,
   "id": "c2b3bc07",
   "metadata": {
    "id": "c2b3bc07"
   },
   "outputs": [],
   "source": [
    "\"\"\"\n",
    "이름에 해당하는 점수를 각 리스트별로 합산하는걸 보자마자 딕셔너리를 써야겠다고 직감함.\n",
    "테스트 케이스에서 이름에 대한 점수가 없는 경우가 있어서 error가 한번 났었지만 딕셔너리 안에서 이름 유무를 검사하는 코드를 추가해서 해결\n",
    "\"\"\"\n",
    "def solution(name, yearning, photo):\n",
    "    answer = []\n",
    "    memory_dict = dict(zip(name, yearning))\n",
    "    for idx in range(len(photo)):\n",
    "        memory_value = 0\n",
    "        for n in photo[idx]:\n",
    "            if n in memory_dict:\n",
    "                memory_value += memory_dict[n]\n",
    "            else:\n",
    "                pass\n",
    "        answer.append(memory_value)\n",
    "    return answer"
   ]
  },
  {
   "cell_type": "markdown",
   "id": "cf52cbd7",
   "metadata": {
    "id": "cf52cbd7"
   },
   "source": [
    "#### 240217 삼총사 (1트, 15분컷 통과)"
   ]
  },
  {
   "cell_type": "code",
   "execution_count": null,
   "id": "d54a31d2",
   "metadata": {
    "id": "d54a31d2"
   },
   "outputs": [],
   "source": [
    "\"\"\"\n",
    "순열로 뽑아서 정렬을 해버리면 같은 값 원소는 없어져버림.\n",
    "조합을 써야 정상 작동함. (순서를 고려한다는 것은 같은 값이라도 인덱스가 다르면 다르게 취급하는거니까)\n",
    "\"\"\"\n",
    "from itertools import combinations\n",
    "\n",
    "def solution(number):\n",
    "    answer = 0\n",
    "    total_comb = []\n",
    "\n",
    "    for comb in combinations(number, 3):\n",
    "        comb_list=list(comb)\n",
    "        #perm_list.sort()\n",
    "        #if perm_list not in total_comb:\n",
    "        if sum(comb_list) == 0:\n",
    "            answer += 1\n",
    "        else:\n",
    "            pass\n",
    "        #total_comb.append(comb_list)\n",
    "    return answer"
   ]
  },
  {
   "cell_type": "markdown",
   "id": "9914d95e",
   "metadata": {
    "id": "9914d95e"
   },
   "source": [
    "#### 240218 햄버거 만들기 재도전 (8분, 통과)"
   ]
  },
  {
   "cell_type": "code",
   "execution_count": null,
   "id": "bd40639d",
   "metadata": {
    "id": "bd40639d"
   },
   "outputs": [],
   "source": [
    "def solution(ingredient):\n",
    "    answer = 0\n",
    "    total = []\n",
    "    burger = [1,2,3,1]\n",
    "\n",
    "    for sub in ingredient:\n",
    "        if total[-4:] == burger:\n",
    "            answer += 1\n",
    "            del total[-4:]\n",
    "        else:\n",
    "            total.append(sub)\n",
    "        print(sub, total)\n",
    "    return answer"
   ]
  },
  {
   "cell_type": "markdown",
   "id": "fa8a1ee7",
   "metadata": {
    "id": "fa8a1ee7"
   },
   "source": [
    "#### 240218 가장 가까운 글자 재도전 (10분, 통과)"
   ]
  },
  {
   "cell_type": "code",
   "execution_count": null,
   "id": "4c72c2a0",
   "metadata": {
    "id": "4c72c2a0"
   },
   "outputs": [],
   "source": [
    "def solution(s):\n",
    "    answer = []\n",
    "    s_dict = dict()\n",
    "\n",
    "    for i in range(len(s)):\n",
    "        if s[i] not in s_dict: # 첫인덱스도 어차피 해당 안되니 바로 -1 추가하면 됨.\n",
    "            answer.append(-1)\n",
    "        else:\n",
    "            answer.append(i-s_dict[s[i]])\n",
    "        s_dict[s[i]] = i\n",
    "        #print(i, s[i], s_dict)\n",
    "\n",
    "    return answer"
   ]
  },
  {
   "cell_type": "markdown",
   "id": "98d398bc",
   "metadata": {
    "id": "98d398bc"
   },
   "source": [
    "#### 240220 과일 장수 (1트, 22분 타임아웃)"
   ]
  },
  {
   "cell_type": "code",
   "execution_count": null,
   "id": "5ec9bd0e",
   "metadata": {
    "id": "5ec9bd0e"
   },
   "outputs": [],
   "source": [
    "\"\"\"\n",
    "조합을 이용하는 것까진 캐치, 조합으로 만드는 전체 가지수를 모아야 하는데 그걸 못했음.\n",
    "힌트 봤더니... 조합 쓰는게 아니라 전체 리스트 정렬한 다음에 주어진 길이로 그냥 슬라이싱해서 잘린 리스트가\n",
    "조건 리스트 원소수랑 일치하면 리턴값에 더해주는 식이더라.. 너무 어렵게 접근했나\n",
    "그런데 리스트 슬라이싱할때 길이 초과되면 자동으로 마지막 원소까지만 잘리는건가 보네\n",
    "\"\"\"\n",
    "from itertools import combinations\n",
    "\n",
    "def solution(max_point, max_apple, apple_list):\n",
    "    answer = [0]\n",
    "    if max_apple > len(apple_list):\n",
    "        return\n",
    "\n",
    "    apple_box_price = 0\n",
    "    for comb in combinations(apple_list, max_apple):\n",
    "        comb_list=list(comb)\n",
    "        comb_list.sort()\n",
    "        apple_box_price = comb_list[0]*max_apple\n",
    "\n",
    "        if apple_box_price > answer[-1]:\n",
    "            answer.append(apple_box_price)\n",
    "            #print(answer)\n",
    "\n",
    "    final_sum_range = -(len(apple_list)//max_apple)\n",
    "    #print(answer[final_sum_range:])\n",
    "\n",
    "    return sum(answer[final_sum_range:])"
   ]
  },
  {
   "cell_type": "code",
   "execution_count": null,
   "id": "54daeb38",
   "metadata": {
    "id": "54daeb38",
    "outputId": "07a27222-028d-4020-e33b-b989907a00af"
   },
   "outputs": [
    {
     "name": "stdout",
     "output_type": "stream",
     "text": [
      "[0, 1, 2]\n",
      "[3, 4, 5]\n",
      "[6, 7, 8]\n",
      "[9]\n"
     ]
    }
   ],
   "source": [
    "# 테스트용\n",
    "test = list(range(10))\n",
    "for idx in range(0, len(test), 3):\n",
    "    print(test[idx:idx+3])"
   ]
  },
  {
   "cell_type": "markdown",
   "id": "d5001ae9",
   "metadata": {
    "id": "d5001ae9"
   },
   "source": [
    "#### 과일 장수 (2트, 5분컷 통과)"
   ]
  },
  {
   "cell_type": "code",
   "execution_count": null,
   "id": "1b4fdb20",
   "metadata": {
    "id": "1b4fdb20"
   },
   "outputs": [],
   "source": [
    "def solution(max_point, max_apple, apple_list):\n",
    "    answer = 0\n",
    "    apple_list.sort(reverse=True)\n",
    "    #print(apple_list)\n",
    "\n",
    "    for idx in range(0, len(apple_list), max_apple):\n",
    "        pick_list = apple_list[idx:idx+max_apple]\n",
    "        if len(pick_list) == max_apple:\n",
    "            #print(pick_list)\n",
    "            answer += pick_list[-1]*max_apple\n",
    "\n",
    "    return answer"
   ]
  },
  {
   "cell_type": "markdown",
   "id": "a45a93ea",
   "metadata": {
    "id": "a45a93ea"
   },
   "source": [
    "#### 240221 문자열 내 마음대로 정렬하기 (1트, 25분 실패)"
   ]
  },
  {
   "cell_type": "code",
   "execution_count": null,
   "id": "6c826501",
   "metadata": {
    "id": "6c826501"
   },
   "outputs": [],
   "source": [
    "def solution(strings, n):\n",
    "    answer = []\n",
    "    \"\"\"\n",
    "    strings 안의 단어들의 n번째 글자를 모아 dictionary로 만듬.\n",
    "    딕셔너리에 해당하는 인덱스 순번은 글자의 순번과도 일치하므로 딕셔너리를 정렬한 뒤\n",
    "    그 순서대로 strings 내부 단어들 순서 재정렬\n",
    "\n",
    "    키로 정렬하고 프린트된걸 보니 굳이 인덱스로 한걸 다시 찾을 필요없이\n",
    "    인덱스가 아닌 그냥 단어로 하면 되는거 아님?\n",
    "\n",
    "    아니다 일단 키:벨류 구조에서 키는 중복이 될 수 없으니까 키를 단어로 하고, 벨류를 정렬 글자로 해야됨.\n",
    "\n",
    "    실패 원인 :\n",
    "    벨류가 중복일 경우 키의 단어를 비교해서 정렬해야 하는데 그걸 못함.\n",
    "    \"\"\"\n",
    "    letter_dict = dict()\n",
    "\n",
    "    for idx in range(len(strings)):\n",
    "        letter_dict[strings[idx]] = strings[idx][n]\n",
    "\n",
    "    dict(sorted(letter_dict.items()))\n",
    "    sorted_dict = dict(sorted(letter_dict.items(), key=lambda x: x[1]))\n",
    "    print(sorted_dict)\n",
    "\n",
    "    return list(sorted_dict.keys())"
   ]
  },
  {
   "cell_type": "markdown",
   "id": "5fa1bc4d",
   "metadata": {
    "id": "5fa1bc4d"
   },
   "source": [
    "#### 240221 문자열 내 마음대로 정렬하기 (힌트본, 공부 필요)"
   ]
  },
  {
   "cell_type": "code",
   "execution_count": null,
   "id": "6af744b3",
   "metadata": {
    "id": "6af744b3"
   },
   "outputs": [],
   "source": [
    "\"\"\"\n",
    "람다!\n",
    "튜플!\n",
    "더 간단하게 sorted의 기준을 튜플로 넣는 코드도 있는데 아래 코드가 좀 더 직관적이라 생각되어 채택\n",
    "\"\"\"\n",
    "def solution(strings, n):\n",
    "    strings.sort()\n",
    "    return sorted(strings, key=lambda x:x[n])"
   ]
  },
  {
   "cell_type": "code",
   "execution_count": null,
   "id": "9b13e000",
   "metadata": {
    "id": "9b13e000"
   },
   "outputs": [],
   "source": [
    "\"\"\"\n",
    "람다에 튜플 형식을 표현식으로 넣으면 우선순위가 인덱스별로 입력됨.\n",
    "\"\"\"\n",
    "def solution(strings, n):\n",
    "    return sorted(strings, key=lambda x:(x[n],x))"
   ]
  },
  {
   "cell_type": "markdown",
   "id": "25fb5ae1",
   "metadata": {
    "id": "25fb5ae1"
   },
   "source": [
    "#### 240222 람다식 연습"
   ]
  },
  {
   "cell_type": "code",
   "execution_count": null,
   "id": "01f2e5af",
   "metadata": {
    "id": "01f2e5af",
    "outputId": "11148e6f-e2b2-4c1e-e2df-00a25831118e"
   },
   "outputs": [
    {
     "name": "stdout",
     "output_type": "stream",
     "text": [
      "[1, 16, 49, 100]\n",
      "[[3, 4, 5], [9, 10, 11]]\n"
     ]
    }
   ],
   "source": [
    "# lambda 매개변수 : 표현식\n",
    "(lambda x,y : x + y)(10, 20)\n",
    "\n",
    "#map(함수, 리스트)\n",
    "test_list = [[0,1,2], [3,4,5], [6,7,8], [9,10,11]]\n",
    "new_list = list(map(lambda x:x[1]**2, test_list))\n",
    "print(new_list)\n",
    "\n",
    "filtered_list = list(filter(lambda x:x[2]%2, test_list))\n",
    "print(filtered_list)"
   ]
  },
  {
   "cell_type": "markdown",
   "id": "7a355a02",
   "metadata": {
    "id": "7a355a02"
   },
   "source": [
    "#### 240222 문자열 내 마음대로 정렬하기 (2트, 5분 통과)"
   ]
  },
  {
   "cell_type": "code",
   "execution_count": null,
   "id": "b9bbfdb0",
   "metadata": {
    "id": "b9bbfdb0"
   },
   "outputs": [],
   "source": [
    "def solution(strings, n):\n",
    "    return sorted(strings, key=lambda x:(x[n],x))"
   ]
  },
  {
   "cell_type": "markdown",
   "id": "415b73c9",
   "metadata": {
    "id": "415b73c9"
   },
   "source": [
    "#### 240222 제일 작은 수 제거하기 (1트, 20분 잘못 풀어서 바로 재시도)"
   ]
  },
  {
   "cell_type": "code",
   "execution_count": null,
   "id": "377512ed",
   "metadata": {
    "id": "377512ed"
   },
   "outputs": [],
   "source": [
    "def solution(arr):\n",
    "    if len(arr) == 0 or len(arr) == 1:\n",
    "        return [-1]\n",
    "    else:\n",
    "        # 아 sort 정렬하고 pop 해버리니까 중복 숫자를 삭제해버리네;;\n",
    "        arr_dict=dict()\n",
    "        for idx in range(len(arr)):\n",
    "            arr_dict[idx] = arr[idx]\n",
    "        sort_dict = dict(sorted(arr_dict.items(), key=lambda x:x[1], reverse=True))\n",
    "        sort_list = list(list(sort_dict.values()))\n",
    "        sort_list.pop()\n",
    "    return sort_list"
   ]
  },
  {
   "cell_type": "markdown",
   "id": "9a999c66",
   "metadata": {
    "id": "9a999c66"
   },
   "source": [
    "#### 240222 제일 작은 수 제거하기 (2트, 3분 실패, 뭔가 이상해서 참고본 봄)"
   ]
  },
  {
   "cell_type": "code",
   "execution_count": null,
   "id": "1d7ef8c5",
   "metadata": {
    "id": "1d7ef8c5"
   },
   "outputs": [],
   "source": [
    "def solution(arr):\n",
    "    if len(arr) == 0 or len(arr) == 1:\n",
    "        return [-1]\n",
    "    else:\n",
    "        new_arr = list(set(arr))\n",
    "        new_arr.sort(reverse=True)\n",
    "        new_arr.pop()\n",
    "    return new_arr"
   ]
  },
  {
   "cell_type": "markdown",
   "id": "b9ddcc6f",
   "metadata": {
    "id": "b9ddcc6f"
   },
   "source": [
    "#### 240222 제일 작은 수 제거하기 (3트,  람다 적극 활용, 10분컷 실패)"
   ]
  },
  {
   "cell_type": "code",
   "execution_count": null,
   "id": "06e4ff98",
   "metadata": {
    "id": "06e4ff98"
   },
   "outputs": [],
   "source": [
    "\"\"\"\n",
    "아니;;; 프로그래머스 실행시간 초과면 기준을 설명을 해놔주던가 어이가 없네.\n",
    "완전 열받네 모범 답안도 틀리게 해놓고, 조건도 엉망이고 어쩌라는거;;\n",
    "진짜 내가 heapq까지도 써봤다 휴..\n",
    "\"\"\"\n",
    "def solution(arr):\n",
    "    if len(arr)<2:\n",
    "        return [-1]\n",
    "    else:\n",
    "        arr_copy = arr\n",
    "        arr_copy.sort(reverse=True)\n",
    "        min_num = arr_copy.pop()\n",
    "        answer = list(filter(lambda x:x!=min_num, arr))\n",
    "    return answer"
   ]
  },
  {
   "cell_type": "markdown",
   "id": "1b5af3da",
   "metadata": {
    "id": "1b5af3da"
   },
   "source": [
    "#### 240223 숫자 짝꿍 (1트,  30분 통과)"
   ]
  },
  {
   "cell_type": "code",
   "execution_count": null,
   "id": "0306ec3a",
   "metadata": {
    "id": "0306ec3a"
   },
   "outputs": [],
   "source": [
    "def solution(X, Y):\n",
    "    answer = '-1'\n",
    "    answer_list = []\n",
    "\n",
    "    list_x = list(X)\n",
    "    list_y = list(Y)\n",
    "\n",
    "    dict_x = dict()\n",
    "    dict_y = dict()\n",
    "\n",
    "    for x in list_x:\n",
    "        if x in dict_x:\n",
    "            dict_x[x] += 1\n",
    "        else:\n",
    "            dict_x[x] = 1\n",
    "\n",
    "    for y in list_y:\n",
    "        if y in dict_y:\n",
    "            dict_y[y] += 1\n",
    "        else:\n",
    "            dict_y[y] = 1\n",
    "\n",
    "    #print(dict_x, '\\n', dict_y)\n",
    "\n",
    "    for key in dict_x.keys():\n",
    "        if key in dict_y:\n",
    "            #print(key, dict_x[key], dict_y[key])\n",
    "            if dict_x[key] >= dict_y[key]:\n",
    "                for _ in range(dict_y[key]):\n",
    "                    answer_list.append(key)\n",
    "            elif dict_x[key] < dict_y[key]:\n",
    "                for _ in range(dict_x[key]):\n",
    "                    answer_list.append(key)\n",
    "        else:\n",
    "            pass\n",
    "\n",
    "    answer_list.sort(reverse=True)\n",
    "    #print(answer_list)\n",
    "    if len(answer_list) != 0:\n",
    "        if len(set(answer_list)) == 1 and answer_list[-1] == '0':\n",
    "                return '0'\n",
    "        else:\n",
    "            answer = ''.join(map(str, answer_list))\n",
    "    return answer"
   ]
  },
  {
   "cell_type": "markdown",
   "id": "rBUcd6wodjh8",
   "metadata": {
    "id": "rBUcd6wodjh8"
   },
   "source": [
    "#### 240225 둘만의 암호 (1트 실패, 30분 초과 타임아웃)"
   ]
  },
  {
   "cell_type": "code",
   "execution_count": null,
   "id": "vWFJS8Q_dU6T",
   "metadata": {
    "id": "vWFJS8Q_dU6T"
   },
   "outputs": [],
   "source": [
    "def solution(s, skip, index):\n",
    "    \"\"\"\n",
    "    생각을 너무 많이 하다가 실패했음.\n",
    "    굳이 for문에 대한 걱정을 하지 말고 그냥 쓸걸 그랬음.\n",
    "    for문 동작 시간이나 순환형 리스트 구현을 위한 while 문과 불필요한 변수 증가, 딕셔너리 구현 등에 시간을 너무 많이 썼음.\n",
    "    문제가 요구하는 바는 바로 이해했으나, 구현을 너무 복잡하게 하려한 것이 패착.\n",
    "    \"\"\"\n",
    "    answer = ''\n",
    "\n",
    "    # 초기 전체 알파벳\n",
    "    alphabet = 'abcdefghijklmnopqrstruvwxyz'\n",
    "    alphabet = list(alphabet)\n",
    "\n",
    "    # skip의 길이는 10을 안 넘으므로 for문으로 리스트에서 삭제\n",
    "    for letter in skip:\n",
    "        alphabet.remove(letter)\n",
    "    #print(alphabet)\n",
    "\n",
    "    dict_alphabet = dict()\n",
    "\n",
    "    # skip 글자를 제외한 딕셔너리 완성, 알파벳:인덱스\n",
    "    for idx in range(len(alphabet)):\n",
    "        dict_alphabet[alphabet[idx]] = idx\n",
    "    #print(dict_alphabet)\n",
    "\n",
    "    num = len(s)\n",
    "    idx_while = 0\n",
    "\n",
    "    while (num):\n",
    "        letter_idx = dict_alphabet[s[idx_while]]\n",
    "        letter_idx += index\n",
    "\n",
    "        if letter_idx > len(alphabet):\n",
    "            letter_idx -= len(alphabet)\n",
    "\n",
    "        print(dict_alphabet[dict_alphabet[letter_idx]])\n",
    "        idx_while += 1\n",
    "        num -= 1\n",
    "\n",
    "    return answer"
   ]
  },
  {
   "cell_type": "markdown",
   "id": "y5kY7V4pmBIG",
   "metadata": {
    "id": "y5kY7V4pmBIG"
   },
   "source": [
    "#### 240225 둘만의 암호 (2트 통과, 7분컷 )"
   ]
  },
  {
   "cell_type": "code",
   "execution_count": null,
   "id": "NQ0tWF4il_sW",
   "metadata": {
    "id": "NQ0tWF4il_sW"
   },
   "outputs": [],
   "source": [
    "\"\"\"\n",
    "알파벳 리스트에 오타 들어간줄도 모르고 구조 의심하다가 한 3분 까먹음;;;\n",
    "\"\"\"\n",
    "def solution(s, skip, index):\n",
    "    answer = ''\n",
    "\n",
    "    # 초기 전체 알파벳\n",
    "    alphabet = 'abcdefghijklmnopqrstuvwxyz'\n",
    "    alphabet = list(alphabet)\n",
    "\n",
    "    # skip의 길이는 10을 안 넘으므로 for문으로 리스트에서 삭제\n",
    "    for letter in skip:\n",
    "        alphabet.remove(letter)\n",
    "    #print(alphabet)\n",
    "\n",
    "    # 순환 인덱스는 전체 길이로 나눈 나머지를 더하는 것으로 구현\n",
    "    for letter in s:\n",
    "        result_idx = (alphabet.index(letter)+index)%len(alphabet)\n",
    "        answer += alphabet[result_idx]\n",
    "\n",
    "    return answer"
   ]
  },
  {
   "cell_type": "markdown",
   "id": "d4c49cf7",
   "metadata": {
    "id": "d4c49cf7"
   },
   "source": [
    "#### 240301 덧칠하기 (1트, 25분컷)"
   ]
  },
  {
   "cell_type": "code",
   "execution_count": null,
   "id": "4a06e910",
   "metadata": {
    "id": "4a06e910"
   },
   "outputs": [],
   "source": [
    "\"\"\"\n",
    "한방에 바로 풀었음.\n",
    "처음에 dict 쓰려다가 불필요한걸 알아채고 list로 풀었음.\n",
    "풀이 답안 보니까 나랑 한건 비슷한데 인덱스를 몇개 쓰냐 정도의 차이인듯.\n",
    "\"\"\"\n",
    "def solution(n, m, section):\n",
    "    answer = 0\n",
    "    wall = []\n",
    "    idx_s = 0\n",
    "\n",
    "    for idx in range(1, n+1):\n",
    "        if idx == section[idx_s]:   #페인트칠 필요하면 1로 표시\n",
    "            wall.append(1)\n",
    "            if idx_s != len(section)-1:\n",
    "                idx_s += 1\n",
    "        else:\n",
    "            wall.append(0)\n",
    "\n",
    "    #print(wall)\n",
    "\n",
    "    idx_loop = 0\n",
    "    while(idx_loop<len(wall)):\n",
    "        try:\n",
    "            if wall[idx_loop] == 1:\n",
    "                for i in range(idx_loop, idx_loop+m):\n",
    "                    wall[i] = 0\n",
    "                idx_loop += m\n",
    "                answer += 1\n",
    "            else:\n",
    "                idx_loop += 1\n",
    "        except IndexError:\n",
    "            #print(\"Index Out!\")\n",
    "            answer += 1\n",
    "            break\n",
    "\n",
    "    return answer"
   ]
  },
  {
   "cell_type": "markdown",
   "id": "5c91a904",
   "metadata": {
    "id": "5c91a904"
   },
   "source": [
    "#### 240302 푸드파이트 대회 (1트 통과, 9분컷)"
   ]
  },
  {
   "cell_type": "code",
   "execution_count": null,
   "id": "941afb91",
   "metadata": {
    "id": "941afb91"
   },
   "outputs": [],
   "source": [
    "\"\"\"\n",
    "전부터 느끼는건데 시간에 집착해서 그런가 코드 자체는 직관적인데 길이가 파이써닉하지 못하고 좀 긴 느낌..\n",
    "\"\"\"\n",
    "def solution(food):\n",
    "    answer = ''\n",
    "    f_list = []\n",
    "    f_list_reverse = []\n",
    "\n",
    "    for idx in range(1, len(food)):\n",
    "        #print(idx, food[idx])\n",
    "        for _ in range(food[idx]//2):\n",
    "            f_list.append(str(idx))\n",
    "            f_list_reverse.append(str(idx))\n",
    "    f_list.append('0')\n",
    "\n",
    "    f_list_reverse.sort(reverse=True)\n",
    "    #print(f_list, f_list_reverse)\n",
    "\n",
    "    f_str = ''.join(f_list)\n",
    "    f_str_reverse = ''.join(f_list_reverse)\n",
    "\n",
    "    return f_str+f_str_reverse"
   ]
  },
  {
   "cell_type": "markdown",
   "id": "09de4d05",
   "metadata": {
    "id": "09de4d05"
   },
   "source": [
    "#### 240304 모의고사 (1트 타임아웃, 23분 실패)"
   ]
  },
  {
   "cell_type": "code",
   "execution_count": null,
   "id": "bf4201eb",
   "metadata": {
    "id": "bf4201eb"
   },
   "outputs": [],
   "source": [
    "def solution(answers):\n",
    "    answer = []\n",
    "    math1 = [1,2,3,4,5]\n",
    "    math2 = [2,1,2,3,2,4,2,5]\n",
    "    math3 = [3,3,1,1,2,2,4,4,5,5]\n",
    "\n",
    "    score = {1:0, 2:0, 3:0}\n",
    "\n",
    "    for idx in range(len(answers)):\n",
    "        if answers[idx] == math1[idx%len(answers)]:\n",
    "            score[1] += 1\n",
    "        if answers[idx] == math2[idx%len(answers)]:\n",
    "            score[2] += 1\n",
    "        if answers[idx] == math3[idx%len(answers)]:\n",
    "            score[3] += 1\n",
    "\n",
    "    #print(score)\n",
    "    sorted_score = dict(sorted(score.items(), key=lambda x: x[1], reverse=True))\n",
    "    #print(sorted_score.keys())\n",
    "    best_score = sorted_score[list(sorted_score.keys())[0]]\n",
    "    answer.append(list(sorted_score.keys())[0])\n",
    "    #print(best_score)\n",
    "\n",
    "    if best_score == sorted_score[list(sorted_score.keys())[1]]:\n",
    "        answer.append(list(sorted_score.keys())[1])\n",
    "    if best_score == sorted_score[list(sorted_score.keys())[2]]:\n",
    "        answer.append(list(sorted_score.keys())[2])\n",
    "\n",
    "    return answer"
   ]
  },
  {
   "cell_type": "markdown",
   "id": "9d1076a6",
   "metadata": {
    "id": "9d1076a6"
   },
   "source": [
    "#### 240304 모의고사 (2트, 일부만 수정하고 바로 통과 )"
   ]
  },
  {
   "cell_type": "code",
   "execution_count": null,
   "id": "dc1d36a0",
   "metadata": {
    "id": "dc1d36a0"
   },
   "outputs": [],
   "source": [
    "\"\"\"\n",
    "math? 리스트를 순환 리스트로 만들기 위해 1트에선 리스트 길이로 했었는데\n",
    "len 자체가 원소를 카운트하고, 시간을 잡아먹어서 그냥 len(answers)가 아니라 정해진 math리스트 길이(5,8,10)으로\n",
    "해서 해결\n",
    "\"\"\""
   ]
  },
  {
   "cell_type": "markdown",
   "id": "7be22cef",
   "metadata": {
    "id": "7be22cef"
   },
   "source": [
    "#### 240305 시저암호 (1트 통과, 12분컷)"
   ]
  },
  {
   "cell_type": "code",
   "execution_count": null,
   "id": "517553d8",
   "metadata": {
    "id": "517553d8"
   },
   "outputs": [],
   "source": [
    "\"\"\"\n",
    "알파벳 리스트를 문자열로 넣는게 귀찮았을 뿐, 난이도는 높지 않았던 문제.\n",
    "answer에 추가할때 순환 리스트를 구현해야 했는데 처음엔 단순 합산만 했다가 금방 찾아서 해결함.\n",
    "한가지 기억할 건 반복동작의 경우 len()함수를 쓰면 시간이 많이 소요된다는 것! (바로 26으로 나눈 부분)\n",
    "\"\"\"\n",
    "def solution(s, n):\n",
    "    answer = ''\n",
    "\n",
    "    alphabet_L_list = ['a','b','c','d','e','f','g','h','i','j','k','l','m','n','o','p','q','r','s','t','u','v','w','x','y','z']\n",
    "    alphabet_U_list = ['A','B','C','D','E','F','G','H','I','J','K','L','M','N','O','P','Q','R','S','T','U','V','W','X','Y','Z']\n",
    "\n",
    "    alphabet_L_dict = dict(zip(alphabet_L_list, range(26)))\n",
    "    alphabet_U_dict = dict(zip(alphabet_U_list, range(26)))\n",
    "\n",
    "    for letter in s:\n",
    "        if letter.islower():\n",
    "            idx = (alphabet_L_dict[letter] + n)%26\n",
    "            answer += alphabet_L_list[idx]\n",
    "        elif letter.isupper():\n",
    "            idx = (alphabet_U_dict[letter] + n)%26\n",
    "            answer += alphabet_U_list[idx]\n",
    "        else:\n",
    "            answer += ' '\n",
    "\n",
    "    return answer"
   ]
  },
  {
   "cell_type": "markdown",
   "id": "8aa3ef72",
   "metadata": {
    "id": "8aa3ef72"
   },
   "source": [
    "#### 240305 성격 유형 검사하기 (1트 실패, 30분 제출 불합격)"
   ]
  },
  {
   "cell_type": "code",
   "execution_count": null,
   "id": "8149b329",
   "metadata": {
    "id": "8149b329"
   },
   "outputs": [],
   "source": [
    "\"\"\"\n",
    "예외도 충분히 준 것 같고, 다른 사람들이랑 풀이 맥락도 비슷한데 왜 실패로 뜨는지 몰라서 일단 질문 올림.\n",
    "\"\"\"\n",
    "def solution(survey, choices):\n",
    "    \"\"\"\n",
    "    몇점이냐 그 자체보단\n",
    "    3점 이하냐, 4점 이하냐, 5점 이상이냐 3가지 경우로 구분하면 될듯함.\n",
    "    R/T, C/F, J/M, A/N\n",
    "    \"\"\"\n",
    "    answer = ''\n",
    "\n",
    "    style = [{'R':0, 'T':0}, {'C':0, 'F':0}, {'J':0, 'M':0}, {'A':0, 'N':0}]\n",
    "\n",
    "    for idx in range(len(choices)):\n",
    "        if choices[idx] <= 3:\n",
    "            idx_word = 0 # 앞글자 선택\n",
    "        elif choices[idx] == 4:\n",
    "            idx_word = 2 # 예외 처리용 숫자\n",
    "        elif choices[idx] >= 5:\n",
    "            idx_word = 1 # 뒷글자 선택\n",
    "\n",
    "        if idx_word != 2:\n",
    "            word = survey[idx][idx_word]\n",
    "\n",
    "        if word == 'R' or word == 'T':\n",
    "            style[0][word] += 1\n",
    "        elif word == 'C' or word == 'F':\n",
    "            style[1][word] += 1\n",
    "        elif word == 'J' or word == 'M':\n",
    "            style[2][word] += 1\n",
    "        elif word == 'A' or word == 'N':\n",
    "            style[3][word] += 1\n",
    "    #print(style)\n",
    "\n",
    "    for l in style:\n",
    "        list_choose = list(l.keys())\n",
    "        if l[list_choose[0]] > l[list_choose[1]]:\n",
    "            answer += list_choose[0]\n",
    "        elif l[list_choose[0]] == l[list_choose[1]]:\n",
    "            # 정렬 안 해줘도 기본 선택지 2개씩은 알파벳순으로 되어 있음.\n",
    "            answer += list_choose[0]\n",
    "        elif l[list_choose[0]] < l[list_choose[1]]:\n",
    "            answer += list_choose[1]\n",
    "    return answer"
   ]
  },
  {
   "cell_type": "markdown",
   "id": "cffd616d",
   "metadata": {
    "id": "cffd616d"
   },
   "source": [
    "#### 240306 성격 유형 검사하기 (2트 실패, 테스트케이스 3개 실패)"
   ]
  },
  {
   "cell_type": "code",
   "execution_count": null,
   "id": "4eb43681",
   "metadata": {
    "id": "4eb43681"
   },
   "outputs": [],
   "source": [
    "\"\"\"\n",
    "테스트 케이스 3개만 타임아웃 뜨는데 흐음...\n",
    "줄일만큼 줄이기도 했고, 다른 사람도 for문 2개 쓴사람 있던데..\n",
    "\"\"\"\n",
    "def solution(survey, choices):\n",
    "    answer = ''\n",
    "\n",
    "    style = [{'R':0, 'T':0}, {'C':0, 'F':0}, {'J':0, 'M':0}, {'A':0, 'N':0}]\n",
    "    score = {1:3, 2:2, 3:1, 4:0, 5:1, 6:2, 7:3}\n",
    "\n",
    "    for idx in range(len(choices)):\n",
    "        point1 = choices[idx]\n",
    "        point2 = score[point1]\n",
    "        if point1 <= 3: idx_word = 0 # 앞글자 선택\n",
    "        elif point1 == 4: idx_word = 2 # 예외 처리용 숫자\n",
    "        elif point1 >= 5: idx_word = 1 # 뒷글자 선택\n",
    "\n",
    "        if idx_word != 2: word = survey[idx][idx_word]\n",
    "        else: pass\n",
    "\n",
    "        if word == 'R' or word == 'T': style[0][word] += point2\n",
    "        elif word == 'C' or word == 'F': style[1][word] += point2\n",
    "        elif word == 'J' or word == 'M': style[2][word] += point2\n",
    "        else: #word == 'A' or word == 'N':\n",
    "            style[3][word] += point2\n",
    "\n",
    "    #print(style)\n",
    "\n",
    "    for l in style:\n",
    "        list_choose = list(l.keys())\n",
    "        if l[list_choose[0]] >= l[list_choose[1]]:\n",
    "            # 정렬 안 해줘도 style 리스트 내 기본 선택지 2개씩은 알파벳순으로 되어 있음.\n",
    "            answer += list_choose[0]\n",
    "        else: #l[list_choose[0]] < l[list_choose[1]]:\n",
    "            answer += list_choose[1]\n",
    "\n",
    "    return answer"
   ]
  },
  {
   "cell_type": "markdown",
   "id": "f472f0a8",
   "metadata": {
    "id": "f472f0a8"
   },
   "source": [
    "#### 성격 유형 검사하기 (3트 통과, 정답 참고본)"
   ]
  },
  {
   "cell_type": "code",
   "execution_count": null,
   "id": "7e3286fc",
   "metadata": {
    "id": "7e3286fc"
   },
   "outputs": [],
   "source": [
    "\"\"\"\n",
    "첫 for문에서 survey랑 choices를 zip으로 묶어서 s,c로 인덱스 돌리던데\n",
    "난 좀 더러워 보여도 직관적인 코드로 수정함.\n",
    "\n",
    "dic에서 내가 했던것처럼 소리스트로 나눈게 아니라 순서대로 해놓고, 나중에 인덱스를 2씩 건너뛰는게 하나\n",
    "4에서 choices를 빼든가 choices에서 4를 빼는거 둘.\n",
    "\n",
    "이 두개가 진짜 키포인트로 적용된 듯.\n",
    "\n",
    "직접 풀었을 때 적용해보니 zip 쓰는것도 괜찮네.. 그리고 딕셔너리 items 추출한뒤에 쓰는건 잘 기억해야 함.\n",
    "\"\"\"\n",
    "def solution(survey, choices):\n",
    "    # R/T, C/F, J/M, A/N\n",
    "    answer = ''\n",
    "    dic= {\"R\":0, \"T\":0, \"C\":0, \"F\":0, \"J\":0, \"M\":0, \"A\":0, \"N\":0 }\n",
    "    #print(list(zip(survey,choices)))\n",
    "\n",
    "    for idx in range(len(choices)):\n",
    "        if choices[idx]<4: dic[survey[idx][0]] += 4-choices[idx]\n",
    "        elif choices[idx]>4: dic[survey[idx][1]] += choices[idx]-4\n",
    "    \"\"\"\n",
    "    for s,c in zip(survey, choices):\n",
    "        if c<4: dic[s[0]] += 4-c\n",
    "        elif c>4: dic[s[1]] += c-4\n",
    "    \"\"\"\n",
    "    #print(dic)\n",
    "\n",
    "    list_item = list(dic.items())\n",
    "\n",
    "    for i in range(0, 8, 2):\n",
    "        if list_item[i][1] >= list_item[i+1][1]:\n",
    "            answer += list_item[i][0]\n",
    "        else:\n",
    "            answer += list_item[i+1][0]\n",
    "\n",
    "    return answer"
   ]
  },
  {
   "cell_type": "markdown",
   "id": "667b8323",
   "metadata": {
    "id": "667b8323"
   },
   "source": [
    "#### 숫자 문자열과 영단어 (1트 통과, 20분컷)"
   ]
  },
  {
   "cell_type": "code",
   "execution_count": null,
   "id": "1fe463f7",
   "metadata": {
    "id": "1fe463f7"
   },
   "outputs": [],
   "source": [
    "\"\"\"\n",
    "처음엔 s 인덱스를 돌리면서 타입이 문자열인 숫자가 나오면 바로 숫자로 바꾸려고 try, except를 썼는데\n",
    "(try를 쓴 이유는 숫자가 아닌 문자열을 변환하면 에러가 나기 때문)\n",
    "계획한 대로 실행되지 않아서 dict_int를 추가로 정의해서 풀었음.\n",
    "맨 마지막 if문은 마지막 단어가 숫자로 변환되지 않아서 넣어줬음.\n",
    "\"\"\"\n",
    "def solution(s):\n",
    "    answer = ''\n",
    "\n",
    "    dict_str = {'zero':'0', 'one':'1', 'two':'2', 'three':'3', 'four':'4',\n",
    "                'five':'5', 'six':'6', 'seven':'7', 'eight':'8', 'nine':'9'}\n",
    "    dict_int = {'0':'0', '1':'1', '2':'2', '3':'3', '4':'4',\n",
    "               '5':'5', '6':'6', '7':'7', '8':'8', '9':'9'}\n",
    "\n",
    "    word = ''\n",
    "    for letter in s:\n",
    "        if word in dict_str:\n",
    "            answer += dict_str[word]\n",
    "            word = ''\n",
    "        if letter in dict_int:\n",
    "            answer += dict_int[letter]\n",
    "        else:\n",
    "            word += letter\n",
    "\n",
    "    if word != '':\n",
    "        answer += dict_str[word]\n",
    "\n",
    "    return int(answer)"
   ]
  },
  {
   "cell_type": "markdown",
   "id": "9e8358d4",
   "metadata": {
    "id": "9e8358d4"
   },
   "source": [
    "#### 240310 옹알이(2) (1트 실패, 30분 테스트케이스 1개만 실패)"
   ]
  },
  {
   "cell_type": "code",
   "execution_count": null,
   "id": "390a4f34",
   "metadata": {
    "id": "390a4f34"
   },
   "outputs": [],
   "source": [
    "\"\"\"\n",
    "일단 코드가 너무 길고..\n",
    "구조상 틀린건 없어보이는데 무슨 이유인지 테스트케이스 3번만 통과를 못함. 시간초과가 나는 것도 아니라서 의문..\n",
    "\"\"\"\n",
    "def solution(babbling):\n",
    "    answer = 0\n",
    "    baby_word = ['aya', 'ye', 'woo', 'ma']\n",
    "\n",
    "    for word in babbling:\n",
    "        if len(word) < 2:\n",
    "            pass\n",
    "        elif len(word) == 2 or len(word) == 3:\n",
    "            if word in baby_word: answer += 1\n",
    "            else: pass\n",
    "        else:\n",
    "            PlusOrNot = True\n",
    "            before_word = ''\n",
    "            while (len(word) > 1):\n",
    "                if word[0] == 'a' or word[0] == 'w':\n",
    "                    letter_3 = word[0:3]\n",
    "                    #print(3, letter_3)\n",
    "                    if letter_3 == before_word:\n",
    "                        PlusOrNot = False\n",
    "                        break\n",
    "                    if letter_3 not in baby_word:\n",
    "                        PlusOrNot = False\n",
    "                        break\n",
    "                    else:\n",
    "                        before_word = letter_3\n",
    "                        word = word[3:]\n",
    "                elif word[0] == 'y' or word[0] == 'm':\n",
    "                    letter_2 = word[0:2]\n",
    "                    #print(2, letter_2)\n",
    "                    if letter_2 == before_word:\n",
    "                        PlusOrNot = False\n",
    "                        break\n",
    "                    if letter_2 not in baby_word:\n",
    "                        PlusOrNot = False\n",
    "                        break\n",
    "                    else:\n",
    "                        before_word = letter_2\n",
    "                        word = word[2:]\n",
    "            if PlusOrNot == True:\n",
    "                answer += 1\n",
    "            #print(\"+[While Done]+\", answer)\n",
    "    return answer"
   ]
  },
  {
   "cell_type": "markdown",
   "id": "dfa172de",
   "metadata": {
    "id": "dfa172de"
   },
   "source": [
    "#### 240310 옹알이(2) (2.5트 통과,  9분 컷)"
   ]
  },
  {
   "cell_type": "code",
   "execution_count": null,
   "id": "5d256d39",
   "metadata": {
    "id": "5d256d39"
   },
   "outputs": [],
   "source": [
    "\"\"\"\n",
    "힌트를 보고 참고해서 다시 풀어서 통과는 했는데 실행시간을 보니 내 예상처럼 효율적이지 못했음.(그래서 2.5트)\n",
    "아무래도 단어의 길이를 측정하는게 시간을 잡아먹었나봄.\n",
    "아예 어떤 길이든 상관없이 똑같은 시퀀스로 한글자씩 더해서 리스트 안에 있는지 검사 + 중복 단어 검사 하는게 훨씬 빨랐음.\n",
    "\"\"\"\n",
    "def solution(babbling):\n",
    "    answer = 0\n",
    "    baby_word = ['aya', 'ye', 'woo', 'ma']\n",
    "\n",
    "    for word in babbling:\n",
    "        comb = '' # 조합될 단어\n",
    "        comp = '' # 비교용 단어\n",
    "\n",
    "        for letter in word:\n",
    "            comb += letter\n",
    "            if comb == comp:\n",
    "                break\n",
    "            if comb in baby_word:\n",
    "                comp = comb\n",
    "                comb = ''\n",
    "        if comb == '':\n",
    "            answer += 1\n",
    "\n",
    "    return answer"
   ]
  },
  {
   "cell_type": "markdown",
   "id": "60a02b90",
   "metadata": {
    "id": "60a02b90"
   },
   "source": [
    "#### 240311 명예의 전당 (1트 통과, 5분컷)"
   ]
  },
  {
   "cell_type": "code",
   "execution_count": null,
   "id": "334ea22b",
   "metadata": {
    "id": "334ea22b"
   },
   "outputs": [],
   "source": [
    "\"\"\"\n",
    "'처음엔 heapq를 써야하나' 고민했는데 우선 리스트로 바로 풀었고 짧은 코드로 수월하게 풀었음.\n",
    "\"\"\"\n",
    "def solution(k, score):\n",
    "    answer = []\n",
    "    daily = []\n",
    "\n",
    "    for num in score:\n",
    "        daily.append(num)\n",
    "        daily.sort()\n",
    "        if len(daily) <= k:\n",
    "            answer.append(daily[0])\n",
    "        else:\n",
    "            del daily[0]\n",
    "            answer.append(daily[0])\n",
    "\n",
    "    return answer"
   ]
  },
  {
   "cell_type": "markdown",
   "id": "0167e6b4",
   "metadata": {
    "id": "0167e6b4"
   },
   "source": [
    "#### 240312 개인정보 수집 유효기간 (1트 최종 실패, 30분 소요)"
   ]
  },
  {
   "cell_type": "code",
   "execution_count": null,
   "id": "d693d8bb",
   "metadata": {
    "id": "d693d8bb"
   },
   "outputs": [],
   "source": [
    "\"\"\"\n",
    "시간이 조금 걸리긴 했으나 원리가 어려운것 같진 않아서 제출했는데 테스트 케이스에서 주루룩 미끄러짐;;\n",
    "\"\"\"\n",
    "def solution(today, terms, privacies):\n",
    "    answer = []\n",
    "\n",
    "    days = list(range(1,29))\n",
    "    month = list(range(1,13))\n",
    "    dict_terms = {}\n",
    "\n",
    "    for t in terms:\n",
    "        list_term = list(t.split(\" \"))\n",
    "        dict_terms[list_term[0]] = int(list_term[-1])\n",
    "\n",
    "    dummy = list(today.split(\".\"))\n",
    "    Y_today = int(dummy[0])\n",
    "    M_today = int(dummy[1])\n",
    "    D_today = int(dummy[2][:2])\n",
    "\n",
    "    for idx in range(len(privacies)):\n",
    "        dummy = list(privacies[idx].split(\".\"))\n",
    "        Y = int(dummy[0])\n",
    "        M = int(dummy[1])\n",
    "        D = int(dummy[2][:2])\n",
    "        deal_type = dummy[2][-1]\n",
    "\n",
    "        if D == 1:\n",
    "            D == 28\n",
    "            M -= 1\n",
    "        else:\n",
    "            D -= 1\n",
    "\n",
    "        year_plus = 0\n",
    "        M += dict_terms[deal_type]\n",
    "        if M > 12:\n",
    "            M = M % 12\n",
    "            year_plus = (M//12)+1\n",
    "            print('연도 넘어감', year_plus)\n",
    "        if year_plus > 0:\n",
    "            Y += year_plus\n",
    "\n",
    "        #print(idx, \"계약일:\", Y, M, D, \"오늘:\", Y_today, M_today, D_today)\n",
    "\n",
    "        if Y<Y_today:\n",
    "            answer.append(idx+1)\n",
    "        if Y==Y_today and M<M_today:\n",
    "            answer.append(idx+1)\n",
    "        if Y==Y_today and M==M_today and D<D_today:\n",
    "            answer.append(idx+1)\n",
    "\n",
    "    return answer"
   ]
  },
  {
   "cell_type": "markdown",
   "id": "875e8cfd",
   "metadata": {
    "id": "875e8cfd"
   },
   "source": [
    "#### 240312 개인정보 수집 유효기간 (2트 성공, 20분 소요)¶"
   ]
  },
  {
   "cell_type": "code",
   "execution_count": null,
   "id": "40fe1b24",
   "metadata": {
    "id": "40fe1b24"
   },
   "outputs": [],
   "source": [
    "\"\"\"\n",
    "풀이 보고 내식대로 다시 풀어봤는데 그래도 시간이 좀 걸렸음.\n",
    "나는 계약의 유효기간을 더해서 계약 종료될 날짜와 오늘 날짜 자체를 비교했는데\n",
    "이사람은 '오늘 날짜와 계약 당일 날짜의 차이가 유효기간을 일로 바꾼 수치보다 크면 어차피 계약은 종료 아닌가'\n",
    "라는 관점에서 접근해서 쉽게 풀었다. 진짜 발상의 전환이 중요하네...\n",
    "\"\"\"\n",
    "def solution(today, terms, privacies):\n",
    "    answer = []\n",
    "\n",
    "    month_to_day = 28\n",
    "    year_to_day = 28*12\n",
    "\n",
    "    dict_terms = {}\n",
    "    for t in terms:\n",
    "        t = list(t.split(\" \"))\n",
    "        dict_terms[t[0]] = int(t[1])*month_to_day\n",
    "\n",
    "    for idx in range(len(privacies)):\n",
    "        year = (int(today[0:4])-int(privacies[idx][0:4]))*year_to_day\n",
    "        month = (int(today[5:7])-int(privacies[idx][5:7]))*month_to_day\n",
    "        day = int(today[8:10])-int(privacies[idx][8:10])\n",
    "        sum_deal = year + month + day\n",
    "\n",
    "        if sum_deal>=dict_terms[privacies[idx][-1]]:\n",
    "            answer.append(idx+1)\n",
    "\n",
    "    return answer"
   ]
  },
  {
   "cell_type": "markdown",
   "id": "2126535c",
   "metadata": {
    "id": "2126535c"
   },
   "source": [
    "#### 240319 [1차] 비밀지도 (1차 실패, 30분 타임아웃)"
   ]
  },
  {
   "cell_type": "code",
   "execution_count": null,
   "id": "8b5daba9",
   "metadata": {
    "id": "8b5daba9"
   },
   "outputs": [],
   "source": [
    "'''\n",
    "일단 짚고 넘어갈 멍청 포인트.\n",
    "for문 인덱스를 거꾸로 돌리는데 시작지점을 리스트의 길이로 설정함. 원소가 4개 있으면 길이는 당연히 4고,\n",
    "인덱스는 0, 1, 2, 3까지 가는데 4부터 0까지 설정했으니 당연히 인덱스 초과 경고가 뜨는데 그걸 못 알아채고,\n",
    "머리 싸매고 끙끙 앓았음.... 정상적으로 하자면 범위는 (리스트 길이-1, -1, -1) 이렇게 해야 함.\n",
    "'''\n",
    "def solution(n, arr1, arr2):\n",
    "    answer = []\n",
    "\n",
    "    tMap = []\n",
    "    small_list = []\n",
    "    for m in range(n):\n",
    "        small_list.append(0)\n",
    "    for m in range(n):\n",
    "        tMap.append(small_list)\n",
    "\n",
    "    idx = 0\n",
    "    for e1, e2 in zip(arr1, arr2):\n",
    "        e1 = list(str(bin(e1))[2:])\n",
    "        e2 = list(str(bin(e2))[2:])\n",
    "        print(e1, e2)\n",
    "\n",
    "        for idx1 in range(len(e1)-1, -1, -1):\n",
    "            if e1[idx1] == '1':\n",
    "                tMap[idx][idx1] = '#'\n",
    "            else:\n",
    "                tMap[idx][idx1] = ' '\n",
    "\n",
    "        for idx2 in range(len(e2)-1, -1, -1):\n",
    "            if e2[idx2] == '1':\n",
    "                tMap[idx][idx2] = '#'\n",
    "            else:\n",
    "                tMap[idx][idx2] = ' '\n",
    "\n",
    "        idx += 1\n",
    "\n",
    "    print(tMap)\n",
    "    return answer"
   ]
  },
  {
   "cell_type": "markdown",
   "id": "8003efb7",
   "metadata": {
    "id": "8003efb7"
   },
   "source": [
    "#### 240319 [1차] 비밀지도 (2차 힌트 참고본, 성공)"
   ]
  },
  {
   "cell_type": "code",
   "execution_count": null,
   "id": "0840eb6d",
   "metadata": {
    "id": "0840eb6d"
   },
   "outputs": [],
   "source": [
    "\"\"\"\n",
    "1. zfill(n) 함수를 몰라서 구현하려고 첫풀이때 이래저래 해봤었는게 그게 너무 비효율적이었음.\n",
    "(len 시간 소요나 슬라이싱 등 때문)\n",
    "\n",
    "2. replace 연속 적용도 줄을 줄이고 빨리 푸는데 도움이 됐고,\n",
    "\n",
    "3. 무엇보다 bin 함수 내부에서 OR 연산을 이해하는데 조금 검색이 필요했음. 여태까지 and or 연산자로만 썼었는데\n",
    "비트 연산 단위로 쓰는걸 이번에 처음 해봤음..\n",
    "\"\"\"\n",
    "def solution(n, arr1, arr2):\n",
    "    answer = []\n",
    "\n",
    "    for n1, n2 in zip(arr1, arr2):\n",
    "        line = bin(n1 | n2)[2:].zfill(n).replace(\"1\", \"#\").replace(\"0\", \" \")\n",
    "        answer.append(line)\n",
    "\n",
    "    return answer"
   ]
  },
  {
   "cell_type": "markdown",
   "id": "fc84a516",
   "metadata": {
    "id": "fc84a516"
   },
   "source": [
    "#### 240321 [1차] 다트 게임 (1차 실패, 15분 알고리즘 못 짬)"
   ]
  },
  {
   "cell_type": "code",
   "execution_count": null,
   "id": "de673fc2",
   "metadata": {
    "id": "de673fc2"
   },
   "outputs": [],
   "source": [
    "\"\"\"\n",
    "점수를 2배 해주는 조건 발생시, 첫번째랑 두번째 부분에 둘다 적용하게 되는 조건이 있었는데,\n",
    "구현을 실패함. 그리고 인덱스를 과하게 넘겨볼려다 try, except까지 손대게 됐는데 결과적으론 구현 실패.\n",
    "\"\"\"\n",
    "def solution(dartResult):\n",
    "    answer = 0\n",
    "\n",
    "    idx = 0\n",
    "    while(idx < len(dartResult)-1):\n",
    "        try:\n",
    "            if dartResult[idx] != '*' and dartResult[idx] != '#':\n",
    "                point = int(dartResult[idx])\n",
    "                if dartResult[idx+1] == 'D':\n",
    "                    cal_point = point ** 2\n",
    "                elif dartResult[idx+1] == 'T':\n",
    "                    cal_point = point ** 3\n",
    "                else:\n",
    "                    cal_point = point\n",
    "                if dartResult[idx+2] == '*':\n",
    "                    cal_point *= 2\n",
    "                elif dartResult[idx+2] == '#':\n",
    "                    cal_point *= -1\n",
    "\n",
    "                answer += cal_point\n",
    "                idx += 2\n",
    "            else:\n",
    "                idx += 1\n",
    "        except:\n",
    "            pass\n",
    "\n",
    "    return answer"
   ]
  },
  {
   "cell_type": "markdown",
   "id": "90d06161",
   "metadata": {
    "id": "90d06161"
   },
   "source": [
    "#### 240321 [1차] 다트 게임 (2차 성공, 16분컷)"
   ]
  },
  {
   "cell_type": "code",
   "execution_count": null,
   "id": "5f2a9eb6",
   "metadata": {
    "id": "5f2a9eb6"
   },
   "outputs": [],
   "source": [
    "\"\"\"\n",
    "당연히 숫자(점수) - > 문자(다트 표적칸) -> ... 순으로 인덱스 하나씩 증가하면서 바뀔줄 알았는데\n",
    "10 이 나오는 바람에 중간에 수정 좀 했음. 1이 나오면 문자열로 합쳐놓은 후 0이 나오면 다시 더하고,\n",
    "나중에 알파벳이 나오면 그때 이 변수를 int로 바꿔서 수 계산을 하는게 핵심이었음.\n",
    "\"\"\"\n",
    "def solution(dartResult):\n",
    "    answer = 0\n",
    "    square = {'S':1,\n",
    "            'D':2,\n",
    "            'T':3}\n",
    "\n",
    "    num = ''\n",
    "    score = []\n",
    "    for char in dartResult:\n",
    "        if char.isdigit():\n",
    "            num = num + str(char)\n",
    "        elif char.isalpha():\n",
    "            num = int(num)\n",
    "            num = num ** square[char]\n",
    "            score.append(num)\n",
    "            num = ''\n",
    "        else:\n",
    "            if char == '*':\n",
    "                if len(score) > 1:\n",
    "                    score[-2] *= 2\n",
    "                score[-1] *= 2\n",
    "            else:\n",
    "                score[-1] *= -1\n",
    "        print(char, score)\n",
    "    return sum(score)"
   ]
  },
  {
   "cell_type": "markdown",
   "id": "ac325757",
   "metadata": {
    "id": "ac325757"
   },
   "source": [
    "#### 240323 공원 산책 (1트 실패, 35분)"
   ]
  },
  {
   "cell_type": "code",
   "execution_count": null,
   "id": "17b11209",
   "metadata": {
    "id": "17b11209",
    "outputId": "0a34893a-7a3f-439e-89b2-9dd39a004152"
   },
   "outputs": [
    {
     "name": "stdout",
     "output_type": "stream",
     "text": [
      "나감!\n",
      "정상이동\n",
      "정상이동\n"
     ]
    },
    {
     "data": {
      "text/plain": [
       "[3, 0]"
      ]
     },
     "execution_count": 25,
     "metadata": {},
     "output_type": "execute_result"
    }
   ],
   "source": [
    "\"\"\"\n",
    "어디에서 실패했느냐?\n",
    "공원 영역을 벗어나는 경우, 움직인 결과가 X로 못가는 지점인 경우 2개는 구현했는데\n",
    "움직이는 도중에 X 지점을 지나는걸 구현을 못했음.\n",
    "\"\"\"\n",
    "def solution(park, routes):\n",
    "    answer = []\n",
    "\n",
    "    point_current = [0,0]\n",
    "    point_temp = [0,0]\n",
    "    for idx_row in range(len(park)):\n",
    "        char = park[idx_row]\n",
    "        for idx_col in range(len(park[idx_row])):\n",
    "            if char[idx_col] == \"S\":\n",
    "                point_current = [idx_col, idx_row]\n",
    "                #print(point_current)\n",
    "\n",
    "    for move in routes:\n",
    "        if move[0] == \"E\":\n",
    "            point_temp[0] += int(move[-1])\n",
    "        elif move[0] == \"W\":\n",
    "            point_temp[0] -= int(move[-1])\n",
    "        elif move[0] == \"S\":\n",
    "            point_temp[1] += int(move[-1])\n",
    "        elif move[0] == \"N\":\n",
    "            point_temp[1] -= int(move[-1])\n",
    "        #print('temp', point_temp)\n",
    "\n",
    "        point_current[0] += point_temp[0]\n",
    "        point_current[1] += point_temp[1]\n",
    "\n",
    "        if park[point_current[1]-1][point_current[0]-1] == \"X\":\n",
    "            print(\"장애물!\")\n",
    "            point_current[0] -= point_temp[0]\n",
    "            point_current[1] -= point_temp[1]\n",
    "        elif point_current[0]>idx_col or point_current[1]>idx_row:\n",
    "            print(\"나감!\")\n",
    "            point_current[0] -= point_temp[0]\n",
    "            point_current[1] -= point_temp[1]\n",
    "        else:\n",
    "            print(\"정상이동\")\n",
    "        point_temp = [0,0]\n",
    "\n",
    "    answer.append(point_current[1])\n",
    "    answer.append(point_current[0])\n",
    "    return answer\n",
    "\n",
    "solution([\"OSO\",\"OOO\",\"OXO\",\"OOO\"], [\"E 2\",\"S 3\",\"W 1\"])\n",
    "# 정답 : [0, 0]"
   ]
  },
  {
   "cell_type": "markdown",
   "id": "d98b9fdd",
   "metadata": {
    "id": "d98b9fdd"
   },
   "source": [
    "#### 공원 산책 답안 참고용"
   ]
  },
  {
   "cell_type": "code",
   "execution_count": null,
   "id": "5127fe74",
   "metadata": {
    "id": "5127fe74"
   },
   "outputs": [],
   "source": [
    "def solution(park, routes):\n",
    "    answer = []\n",
    "    n=len(routes)\n",
    "\n",
    "    dic={'W':0,'S':1,'E':2,'N':3}\n",
    "    dx=[-1,0,1,0]\n",
    "    dy=[0,1,0,-1]\n",
    "\n",
    "    for i in range(len(park)):\n",
    "        for j in range(len(park[0])):\n",
    "            if park[i][j]=='S':\n",
    "                a,b=i,j #a=y , b=x\n",
    "\n",
    "    for i in routes:\n",
    "        di = i[0]\n",
    "        le = int(i[2])\n",
    "        ty,tx = a,b\n",
    "        for j in range(le):\n",
    "            t1=a+dy[dic[di]]\n",
    "            t2=b+dx[dic[di]]\n",
    "            if t1>=0 and t2>=0 and t1<len(park) and t2<len(park[0]) and park[t1][t2]!='X':\n",
    "                a,b=t1,t2\n",
    "            else:\n",
    "                a,b = ty,tx\n",
    "                break\n",
    "    answer=[a,b]\n",
    "\n",
    "\n",
    "    return answer"
   ]
  },
  {
   "cell_type": "markdown",
   "id": "05285e1b",
   "metadata": {
    "id": "05285e1b"
   },
   "source": [
    "#### 240324 공원 산책 (2트 성공, 28분컷)"
   ]
  },
  {
   "cell_type": "code",
   "execution_count": null,
   "id": "d0372da1",
   "metadata": {
    "id": "d0372da1",
    "outputId": "13c7a172-f655-4a2d-ea0d-d1fa0472c7cb"
   },
   "outputs": [
    {
     "data": {
      "text/plain": [
       "[0, 0]"
      ]
     },
     "execution_count": 12,
     "metadata": {},
     "output_type": "execute_result"
    }
   ],
   "source": [
    "def solution(park, routes):\n",
    "    direcToIdx = {\"E\":0, \"W\":1, \"S\":2, \"N\":3}    # 동-서-남-북 순\n",
    "    coord_y = [0, 0, 1, -1]\n",
    "    coord_x = [1, -1, 0, 0]\n",
    "\n",
    "    y_s, x_s = 0,0\n",
    "    y_park = len(park)\n",
    "    x_park = len(park[0]) # 직사각형 모양이므로 이렇게 길이 지정 가능\n",
    "    #print(y_park, x_park)\n",
    "\n",
    "    for idx_y in range(y_park):\n",
    "        for idx_x in range(x_park):\n",
    "            if park[idx_y][idx_x] == \"S\":\n",
    "                y_s, x_s  = idx_y, idx_x\n",
    "    #print(\"시작 좌표 : \", y_s, x_s, \"\\n\")\n",
    "\n",
    "    y_temp, x_temp = y_s, x_s\n",
    "    for move in routes:\n",
    "        y_moved, x_moved = y_temp, x_temp\n",
    "        direc = move[0]\n",
    "        dist = int(move[-1])\n",
    "        #print(direc, dist)\n",
    "\n",
    "        for idx in range(1, dist+1):\n",
    "            y_temp2 = y_temp + coord_y[direcToIdx[direc]]\n",
    "            x_temp2 = x_temp + coord_x[direcToIdx[direc]]\n",
    "            if y_temp2>=0 and y_temp2<y_park and x_temp2>=0 and x_temp2<x_park and park[y_temp2][x_temp2]!=\"X\":\n",
    "                y_temp, x_temp = y_temp2, x_temp2\n",
    "                #print(direc, idx, \"이상없음.\")\n",
    "            else:\n",
    "                y_temp, x_temp = y_moved, x_moved\n",
    "                #print(direc, idx, \"이동불가!\")\n",
    "                break\n",
    "\n",
    "    return [y_temp, x_temp]\n",
    "\n",
    "solution([\"OSO\",\"OOO\",\"OXO\",\"OOO\"], [\"E 2\",\"S 3\",\"W 1\"])\n",
    "# 정답 : [0, 0]"
   ]
  },
  {
   "cell_type": "markdown",
   "id": "4c006a1d",
   "metadata": {
    "id": "6a20459f"
   },
   "source": [
    "#### 240714 카드뭉치 (1트, 17분 제출 실패)"
   ]
  },
  {
   "cell_type": "code",
   "execution_count": null,
   "id": "b19b78e5",
   "metadata": {
    "id": "b19b78e5"
   },
   "outputs": [],
   "source": [
    "\"\"\"\n",
    "테스트 케이스도 다 통과했고, 내 생각엔 문제가 없어보이는데 최종제출에서 4개 정도 틀림.\n",
    "\"\"\"\n",
    "def solution(cards1, cards2, goal):\n",
    "    answer = 'Yes'\n",
    "    \n",
    "    for word in goal:\n",
    "        try:\n",
    "            if word == cards1[0]:\n",
    "                del cards1[0]\n",
    "            elif word == cards2[0]:\n",
    "                del cards2[0]\n",
    "            else:\n",
    "                #print(\"List Empty!\")\n",
    "                answer = 'No'\n",
    "                break\n",
    "        except:\n",
    "            if not len(cards1)==0 and len(cards2)==0:\n",
    "                #print(\"Fail!\")\n",
    "                answer = 'No'\n",
    "            break\n",
    "            \n",
    "        #print(word, cards1, cards2)\n",
    "        \n",
    "    return answer"
   ]
  },
  {
   "cell_type": "markdown",
   "id": "46cf3ad5",
   "metadata": {},
   "source": [
    "#### 카드뭉치 정답본"
   ]
  },
  {
   "cell_type": "code",
   "execution_count": null,
   "id": "b5bb1b97",
   "metadata": {},
   "outputs": [],
   "source": [
    "def solution(cards1, cards2, goal):\n",
    "    answer = \"\"\n",
    "    index1 = 0\n",
    "    index2 = 0\n",
    "    A = []\n",
    "\n",
    "    for i in goal:\n",
    "        if i == cards1[index1]:\n",
    "            A.append(cards1[index1])\n",
    "            if index1 < (len(cards1) - 1):\n",
    "                index1 += 1\n",
    "\n",
    "        elif i == cards2[index2]:\n",
    "            A.append(cards2[index2])\n",
    "            if index2 < (len(cards2) - 1):\n",
    "                index2 += 1\n",
    "        else:\n",
    "            break\n",
    "\n",
    "    if A == goal:\n",
    "        answer += \"Yes\"\n",
    "    else:\n",
    "        answer += \"No\"\n",
    "    return answer"
   ]
  },
  {
   "cell_type": "markdown",
   "id": "5039a4d3",
   "metadata": {},
   "source": [
    "#### 카드뭉치 재풀이 시도"
   ]
  },
  {
   "cell_type": "code",
   "execution_count": null,
   "id": "456187d2",
   "metadata": {},
   "outputs": [],
   "source": [
    "\"\"\"\n",
    "'투 포인터'를 사용해서 풀어야 하는 문제.\n",
    "나는 goal 리스트의 단어만 기준으로 for문을 돌렸는데 그러면 카드뭉치 2개가 하나의 인덱스를 기준으로 탐색하게 됨.\n",
    "(물론 난 0번 인덱스만 찾긴 했지만)\n",
    "투 포인터를 사용하면 카드뭉치1,2 에서 일치 조건 인덱스를 찾으면 각각 인덱스를 증가시킴\n",
    "-> 다음 단어 차례가 왔을 때 설정된 인덱스에 맞는 원소가 없으면 \n",
    "-> 브레이크\n",
    "\"\"\"\n",
    "def solution(cards1, cards2, goal):\n",
    "    answer = \"\"\n",
    "    \n",
    "    idx1 = 0\n",
    "    idx2 = 0\n",
    "    \n",
    "    combine = []\n",
    "    \n",
    "    for word in goal:\n",
    "        if word == cards1[idx1]:\n",
    "            combine.append(cards1[idx1])\n",
    "            if idx1 < (len(cards1) - 1):\n",
    "                idx1 += 1\n",
    "\n",
    "        elif word == cards2[idx2]:\n",
    "            combine.append(cards2[idx2])\n",
    "            if idx2 < (len(cards2) - 1):\n",
    "                idx2 += 1\n",
    "        else:\n",
    "            break\n",
    "\n",
    "    if combine == goal:\n",
    "        answer = \"Yes\"\n",
    "    else:\n",
    "        answer = \"No\"\n",
    "        \n",
    "    return answer"
   ]
  },
  {
   "cell_type": "markdown",
   "id": "32aeb2d0",
   "metadata": {},
   "source": [
    "####  240715 [PCCE 기출 문제] 10번/ 데이터 분석 (1트 만족 통과, 9분컷)"
   ]
  },
  {
   "cell_type": "code",
   "execution_count": null,
   "id": "4474add4",
   "metadata": {},
   "outputs": [],
   "source": [
    "\"\"\"\n",
    "라벨 인덱스 변환을 여러번 해봐서 좀 도움이 됐음.\n",
    "딕셔너리 변환, 2중 리스트 인덱스 이용, 람다 키 정렬까지 복합적으로 사용하는 깔끔한 문제였음.\n",
    "생각보다 쉽게 풀었음.\n",
    "\"\"\"\n",
    "def solution(data, ext, val_ext, sort_by):\n",
    "    answer = []\n",
    "    \n",
    "    word2idx = {'code':0, 'date':1, 'maximum':2, 'remain':3}\n",
    "    ext_idx = word2idx[ext]\n",
    "    sort_by_idx = word2idx[sort_by]\n",
    "    #print(ext_idx, sort_by_idx)\n",
    "    \n",
    "    for small_list in data:\n",
    "        if small_list[ext_idx] < val_ext:\n",
    "            #print(small_list[ext_idx])\n",
    "            answer.append(small_list)\n",
    "\n",
    "    answer = sorted(answer, key=lambda x:x[sort_by_idx])\n",
    "    \n",
    "    return answer"
   ]
  },
  {
   "cell_type": "markdown",
   "id": "d4ed39d6",
   "metadata": {},
   "source": [
    "#### 240716 PCCE 기출문제] 9번 / 이웃한 칸 (1트 통과, 16분컷)"
   ]
  },
  {
   "cell_type": "code",
   "execution_count": null,
   "id": "13ad6577",
   "metadata": {},
   "outputs": [],
   "source": [
    "\"\"\"\n",
    "격자칸에서 색을 비교하는건데 \n",
    "'인접칸만 비교하면 된다.', '색 일치 여부만 확인한다.' 2가지만 기준 삼고 풀었더니 금방 풀었음.\n",
    "코드 줄수가 좀 많긴 한데 이쁘게 줄수를 줄이는것보단 시각적 직관성에 포커스를 뒀음.\n",
    "\"\"\"\n",
    "def solution(board, h, w):\n",
    "    answer = -2 # 가로, 세로로 찾는 범위 안에 기준이 되는 칸도 있기 때문에 -1 두번 해줌.\n",
    "    color = board[h][w] \n",
    "    \n",
    "    find_h_range = []\n",
    "    find_w_range = []\n",
    "    \n",
    "    if h>0:\n",
    "        find_h_range.append(h-1)\n",
    "    else:\n",
    "        find_h_range.append(h)\n",
    "    if h<len(board):\n",
    "        find_h_range.append(h+2)\n",
    "    elif h==6:\n",
    "        find_h_range.append(h+1)\n",
    "    else:\n",
    "        find_h_range.append(h)\n",
    "    #print(find_h_range)\n",
    "    \n",
    "    for line_h in board[find_h_range[0]:find_h_range[1]]:\n",
    "        if line_h[w]==color:\n",
    "            answer+=1\n",
    "    \n",
    "    if w>0:\n",
    "        find_w_range.append(w-1)\n",
    "    else:\n",
    "        find_w_range.append(w)\n",
    "    if w<len(board[0]):\n",
    "        find_w_range.append(w+2)\n",
    "    elif w==6:\n",
    "        find_w_range.append(w+1)\n",
    "    else:\n",
    "        find_w_range.append(w)\n",
    "    #print(find_w_range)\n",
    "    \n",
    "    for e in board[h][find_w_range[0]:find_w_range[1]]:\n",
    "        if e==color:\n",
    "            answer+=1\n",
    "        \n",
    "    return answer"
   ]
  },
  {
   "cell_type": "markdown",
   "id": "a92c5e71",
   "metadata": {
    "id": "a92c5e71"
   },
   "source": [
    "# <span style=\"color:blueviolet\"> -------------------- <2단계> -------------------- </span>"
   ]
  },
  {
   "cell_type": "markdown",
   "id": "H-A1jAaOHSEx",
   "metadata": {
    "id": "H-A1jAaOHSEx"
   },
   "source": [
    "#### <span style=\"color:blueviolet\"> 240226 광물 캐기 (1트, 45분 시도 포기) </span>"
   ]
  },
  {
   "cell_type": "code",
   "execution_count": null,
   "id": "b99b8054",
   "metadata": {
    "id": "b99b8054"
   },
   "outputs": [],
   "source": [
    "\"\"\"\n",
    "수치화 하는 것 까진 좋았으나 힌트를 보고 오니 순열, 조합을 쓰는건 아니고\n",
    "5개씩 미네랄 묶음을 나눠서 캐는데 오래 걸리는 순으로 정렬을 하는 거였음.\n",
    "난 무조건 \"미네랄은 순서대로 캐야 합니다.\"에 목을 매서 어려운 길로 갔던 것 같음.\n",
    "\"\"\"\n",
    "from itertools import combinations\n",
    "\n",
    "def solution(picks, minerals):\n",
    "    \"\"\"\n",
    "    dia, iron, stone 순\n",
    "    minerals의 원소가 5개 사라지면 곡괭이는 더 이상 사용 불가\n",
    "    \"\"\"\n",
    "\n",
    "    answer = 0\n",
    "    # 각 곡괭이의 파워로 내구도를 나눴을 때 몫이 피로도가 됨. 1미만도 1로 취급.\n",
    "    durability = {'diamond':25, 'iron':5, 'stone':1}\n",
    "    pick_power = {'D':25, 'I':5, 'S':1}\n",
    "\n",
    "    # 곡괭이를 사용하는 조합을 만들기 위해 동일 문자를 포함한 순서를 지키는 곡괭이 리스트 만듬.\n",
    "    pick_list = []\n",
    "    for idx in range(len(picks)):\n",
    "        if idx == 0:\n",
    "            for _ in range(picks[0]):\n",
    "                pick_list.append('D')\n",
    "        elif idx == 1:\n",
    "            for _ in range(picks[1]):\n",
    "                pick_list.append('I')\n",
    "        elif idx == 2:\n",
    "            for _ in range(picks[2]):\n",
    "                pick_list.append('S')\n",
    "    #print(pick_list)\n",
    "\n",
    "    pick_n_start = len(minerals)//5\n",
    "    pick_comb_list = []\n",
    "    for pick_n in range(pick_n_start, sum(picks)+1):\n",
    "        for comb in combinations(pick_list, pick_n):\n",
    "            pick_comb_list.append(comb)\n",
    "\n",
    "    pick_comb_list = list(set(pick_comb_list))\n",
    "    print(pick_comb_list)\n",
    "\n",
    "\n",
    "    return answer"
   ]
  },
  {
   "cell_type": "markdown",
   "id": "fGJveYfZst9h",
   "metadata": {
    "id": "fGJveYfZst9h"
   },
   "source": [
    "#### <span style=\"color:blueviolet\"> 240227 광물캐기 (2트 실패, 45분 일부 테스트케이스 실패) </span>"
   ]
  },
  {
   "cell_type": "code",
   "execution_count": null,
   "id": "tJha-J_Sstv_",
   "metadata": {
    "id": "tJha-J_Sstv_"
   },
   "outputs": [],
   "source": [
    "def solution(picks, minerals):\n",
    "    answer = 0\n",
    "\n",
    "    # 각 곡괭이의 파워로 내구도를 나눴을 때 몫이 피로도가 됨. 1미만도 1로 취급.\n",
    "    durability = {'diamond':25, 'iron':5, 'stone':1}\n",
    "\n",
    "    sorted_minerals = []\n",
    "\n",
    "    for m5 in range(0, len(minerals), 5):\n",
    "        m5_list = minerals[m5:m5+5]\n",
    "        m5_list.sort()\n",
    "        for m in m5_list:\n",
    "            sorted_minerals.append(m)\n",
    "    #print(sorted_minerals)\n",
    "\n",
    "    total_idx = 0\n",
    "\n",
    "    # Diamond\n",
    "    if picks[0] != 0 and total_idx < len(minerals):\n",
    "        pick_power = 25\n",
    "        for _ in range(picks[0]*5):\n",
    "            energy = durability[sorted_minerals[total_idx]] // pick_power\n",
    "            #print(total_idx, durability[sorted_minerals[total_idx]])\n",
    "            if energy < 1:\n",
    "                energy =1\n",
    "\n",
    "            answer += energy\n",
    "            total_idx += 1\n",
    "            if total_idx == len(minerals):\n",
    "                return answer\n",
    "    #print()\n",
    "\n",
    "    # Iron\n",
    "    if picks[1] != 0 and total_idx < len(minerals):\n",
    "        mineral_cnt = 1\n",
    "        pick_power = 5\n",
    "        for _ in range(picks[1]*5):\n",
    "            energy = durability[sorted_minerals[total_idx]] // pick_power\n",
    "            #print(total_idx, durability[sorted_minerals[total_idx]])\n",
    "            if energy < 1:\n",
    "                energy =1\n",
    "\n",
    "            answer += energy\n",
    "            total_idx += 1\n",
    "            if total_idx == len(minerals):\n",
    "                return answer\n",
    "    #print()\n",
    "\n",
    "    # Stone\n",
    "    if picks[2] != 0 and total_idx < len(minerals):\n",
    "        mineral_cnt = 1\n",
    "        pick_power = 1\n",
    "        for _ in range(picks[2]*5):\n",
    "            energy = durability[sorted_minerals[total_idx]] // pick_power\n",
    "            #print(total_idx, durability[sorted_minerals[total_idx]])\n",
    "            if energy < 1:\n",
    "                energy =1\n",
    "\n",
    "            answer += energy\n",
    "            total_idx += 1\n",
    "            if total_idx == len(minerals):\n",
    "                return answer\n",
    "\n",
    "    return answer"
   ]
  },
  {
   "cell_type": "markdown",
   "id": "d1fDbqVStOhu",
   "metadata": {
    "id": "d1fDbqVStOhu"
   },
   "source": [
    "#### <span style=\"color:blueviolet\"> 240227 광물캐기 (정답 분석본) </span>"
   ]
  },
  {
   "cell_type": "code",
   "execution_count": null,
   "id": "u1L9Nxo6tOZv",
   "metadata": {
    "id": "u1L9Nxo6tOZv"
   },
   "outputs": [],
   "source": [
    "def solution(picks, minerals):\n",
    "    answer = 0\n",
    "    sum =0\n",
    "    # 곡괭이의 수를 구한다.\n",
    "    for i in picks:\n",
    "        sum += i\n",
    "\n",
    "    #곡괭이로 캘 수 있는 광물만큼 자른다.\n",
    "    num = sum * 5\n",
    "    if len(minerals)>sum:\n",
    "        minerals = minerals[:num]\n",
    "\n",
    "    #광물들을 조사한다.\n",
    "    new_minerals =[[0,0,0] for _ in range((len(minerals) //5 +1))]\n",
    "    for i in range(len(minerals)):\n",
    "        if minerals[i]=='diamond':\n",
    "            new_minerals[i//5][0]+=1\n",
    "        elif minerals[i]=='iron':\n",
    "            new_minerals[i//5][1]+=1\n",
    "        elif minerals[i]=='stone':\n",
    "            new_minerals[i//5][2]+=1\n",
    "    print(new_minerals)\n",
    "\n",
    "    #광물의 순서를 다이아몬드, 철, 돌 순서대로 정렬해준다.\n",
    "    new_minerals.sort(key=lambda x:(-x[0],-x[1],-x[2]))\n",
    "    print(new_minerals)\n",
    "\n",
    "    #정렬된 광물들을 다이아,철,돌 곡괭이 순서대로 캔다.\n",
    "    for i in new_minerals:\n",
    "         dia,iron,stone = i\n",
    "         for j in range(len(picks)):\n",
    "            if picks[j]>0 and j==0:\n",
    "                picks[j]-=1\n",
    "                answer += dia + iron + stone\n",
    "                break\n",
    "            elif picks[j]>0 and j==1:\n",
    "                picks[j]-=1\n",
    "                answer += (5*dia) + iron + stone\n",
    "                break\n",
    "            elif picks[j]>0 and j==2:\n",
    "                picks[j]-=1\n",
    "                answer += (25*dia) + (5*iron) + stone\n",
    "                break\n",
    "\n",
    "    return answer"
   ]
  },
  {
   "cell_type": "markdown",
   "id": "3b6c0997",
   "metadata": {
    "id": "3b6c0997"
   },
   "source": [
    "#### <span style=\"color:blueviolet\"> 240308 뒤에 있는 큰 수 찾기 (1트 실패, 30분 테스트케이스 시간초과) </span>"
   ]
  },
  {
   "cell_type": "code",
   "execution_count": null,
   "id": "95c41115",
   "metadata": {
    "id": "95c41115"
   },
   "outputs": [],
   "source": [
    "def solution(numbers):\n",
    "    answer = []\n",
    "\n",
    "    end = len(numbers)\n",
    "    numbers_sort = sorted(numbers)\n",
    "    num_biggest = numbers_sort[-1]\n",
    "\n",
    "    for idx in range(end):\n",
    "        if idx == num_biggest:  # 소요시간을 줄이기 위해 가장 큰수와 1차 비교\n",
    "            answer.append(-1)\n",
    "        if idx == end-1:\n",
    "            answer.append(-1)\n",
    "        else:\n",
    "            for idx2 in range(idx+1, end):\n",
    "                after_num = 0\n",
    "                if numbers[idx2] > numbers[idx]:\n",
    "                    after_num = numbers[idx2]\n",
    "                    answer.append(after_num)\n",
    "                    break\n",
    "            if after_num == 0:\n",
    "                answer.append(-1)\n",
    "            if idx == end-1 and idx2 == end-1 and after_num != 0:\n",
    "                answer.append(-1)\n",
    "\n",
    "    return answer"
   ]
  },
  {
   "cell_type": "markdown",
   "id": "88d54f88",
   "metadata": {
    "id": "88d54f88"
   },
   "source": [
    "#### <span style=\"color:blueviolet\"> 240308 뒤에 있는 큰 수 찾기 (풀이본 최대한 해석해보려는데 어려움) </span>"
   ]
  },
  {
   "cell_type": "code",
   "execution_count": null,
   "id": "04e3ae86",
   "metadata": {
    "id": "04e3ae86",
    "outputId": "f93f6b21-84a4-4073-f267-6963c51d9310"
   },
   "outputs": [
    {
     "name": "stdout",
     "output_type": "stream",
     "text": [
      "for문 마지막 - i:0, stack:[[0, 9]], answer:[-1, -1, -1, -1, -1, -1]\n",
      "\n",
      "for문 마지막 - i:1, stack:[[0, 9], [1, 1]], answer:[-1, -1, -1, -1, -1, -1]\n",
      "\n",
      "while문 마지막 - i,v:(2, 5), stack:[[0, 9]], num:[1, 1], answer:[-1, 5, -1, -1, -1, -1]\n",
      "for문 마지막 - i:2, stack:[[0, 9], [2, 5]], answer:[-1, 5, -1, -1, -1, -1]\n",
      "\n",
      "for문 마지막 - i:3, stack:[[0, 9], [2, 5], [3, 3]], answer:[-1, 5, -1, -1, -1, -1]\n",
      "\n",
      "while문 마지막 - i,v:(4, 6), stack:[[0, 9], [2, 5]], num:[3, 3], answer:[-1, 5, -1, 6, -1, -1]\n",
      "while문 마지막 - i,v:(4, 6), stack:[[0, 9]], num:[2, 5], answer:[-1, 5, 6, 6, -1, -1]\n",
      "for문 마지막 - i:4, stack:[[0, 9], [4, 6]], answer:[-1, 5, 6, 6, -1, -1]\n",
      "\n",
      "for문 마지막 - i:5, stack:[[0, 9], [4, 6], [5, 2]], answer:[-1, 5, 6, 6, -1, -1]\n",
      "\n"
     ]
    },
    {
     "data": {
      "text/plain": [
       "[-1, 5, 6, 6, -1, -1]"
      ]
     },
     "execution_count": 1,
     "metadata": {},
     "output_type": "execute_result"
    }
   ],
   "source": [
    "\"\"\"\n",
    "스택을 이용해서 푸는게 구조적으로 거의 이해는 됐는데 인터넷 봐도 다른 사람 코드 카피캣 하고 넘어간게 다고,\n",
    "명확하게 설명을 하는 사람이 없음.\n",
    "\"\"\"\n",
    "def solution(numbers):\n",
    "    answer = [-1] * len(numbers)\n",
    "    stack = []\n",
    "\n",
    "    for i, v in enumerate(numbers):\n",
    "        while stack and stack[-1][1] < v:\n",
    "            num = stack.pop()\n",
    "            answer[num[0]] = v\n",
    "            print(f'while문 마지막 - i,v:{i,v}, stack:{stack}, num:{num}, answer:{answer}')\n",
    "\n",
    "        stack.append([i,v])\n",
    "        print(f'for문 마지막 - i:{i}, stack:{stack}, answer:{answer}\\n')\n",
    "\n",
    "    return answer\n",
    "\n",
    "solution([9, 1, 5, 3, 6, 2])\n",
    "# result: [-1, 5, 6, 6, -1, -1]"
   ]
  },
  {
   "cell_type": "markdown",
   "id": "131e562e",
   "metadata": {
    "id": "131e562e"
   },
   "source": [
    "#### <span style=\"color:blueviolet\"> 240327 시소 짝꿍 (1트 실패, 12분) </span>"
   ]
  },
  {
   "cell_type": "code",
   "execution_count": null,
   "id": "d80a0dd8",
   "metadata": {
    "id": "d80a0dd8"
   },
   "outputs": [],
   "source": [
    "\"\"\"\n",
    "테스트 케이스 일부 실패, 대부분 타임 아웃.\n",
    "알고리즘 아이디어가 떠오르질 않음.\n",
    "\"\"\"\n",
    "\n",
    "from itertools import combinations\n",
    "\n",
    "def solution(weights):\n",
    "    answer = 0\n",
    "    balance = [4/4, 4/3, 4/2, 4, 3/4, 3/2, 3, 2/4, 2/3, 2, 1/4, 1/3, 1/2]\n",
    "\n",
    "    for comb in combinations(weights, 2):\n",
    "        num = comb[0]/comb[1]\n",
    "        if num in balance:\n",
    "            #print(comb)\n",
    "            answer += 1\n",
    "\n",
    "\n",
    "    return answer"
   ]
  },
  {
   "cell_type": "markdown",
   "id": "a77516e8",
   "metadata": {
    "id": "a77516e8"
   },
   "source": [
    "#### <span style=\"color:blueviolet\"> 시소짝꿍 정답본 </span>"
   ]
  },
  {
   "cell_type": "code",
   "execution_count": null,
   "id": "df4ca814",
   "metadata": {
    "id": "df4ca814",
    "outputId": "ff0a68df-6ac3-4f6a-85b6-eb8c935bdc2f"
   },
   "outputs": [
    {
     "name": "stdout",
     "output_type": "stream",
     "text": [
      "Counter({100: 2, 180: 1, 360: 1, 270: 1})\n"
     ]
    },
    {
     "data": {
      "text/plain": [
       "4"
      ]
     },
     "execution_count": 3,
     "metadata": {},
     "output_type": "execute_result"
    }
   ],
   "source": [
    "\"\"\"\n",
    "Counter 쓰는것까진 확인하고 이해했는데, 이후에 시소 짝꿍 찾는게 코드적으로 이해가 잘 안됨.\n",
    "\"\"\"\n",
    "from collections import Counter\n",
    "\n",
    "def solution(weights):\n",
    "    answer = 0\n",
    "    counter = Counter(weights)\n",
    "    print(counter)\n",
    "\n",
    "    for i in range(100, 1001):\n",
    "        answer += counter[i] * (counter[i] - 1) // 2 # 같은 수끼리\n",
    "        answer += counter[i] * counter[i * 3 / 2]\n",
    "        answer += counter[i] * counter[i * 2]\n",
    "        answer += counter[i] * counter[i * 4 / 3]\n",
    "\n",
    "    return answer\n",
    "\n",
    "solution([100,180,360,100,270])\n",
    "# 정답은 4"
   ]
  },
  {
   "cell_type": "markdown",
   "id": "OIsE7wPi0a45",
   "metadata": {
    "id": "OIsE7wPi0a45"
   },
   "source": [
    "#### <span style=\"color:blueviolet\"> 240330 마법의 엘리베이터 (1트 실패, 20분 소요) </span>"
   ]
  },
  {
   "cell_type": "code",
   "execution_count": null,
   "id": "jnXaPNTE0NwS",
   "metadata": {
    "id": "jnXaPNTE0NwS"
   },
   "outputs": [],
   "source": [
    "\"\"\"\n",
    "10의 제곱수를 사용해 최적의 사용횟수로 해당수를 만들어내는 것과 같은 문제인데\n",
    "자릿수를 하나씩 줄여가면서 계산 처리를 하는데 알고리즘적으로 안 맞았던 것 같음.\n",
    "코드도 코드지만 수학적으로 창의적인 풀이를 해야할 것 같은 문제\n",
    "\"\"\"\n",
    "def solution(storey):\n",
    "    answer = 0\n",
    "\n",
    "    word = str(storey)\n",
    "    long = len(word)\n",
    "\n",
    "    while (long>0):\n",
    "        try:\n",
    "            if int(word[0])>5:\n",
    "                answer += 1\n",
    "            elif int(word[0])==1:\n",
    "                answer += 1\n",
    "            else:\n",
    "                answer += int(word[0])\n",
    "        except:\n",
    "            break\n",
    "        word = word[1:]\n",
    "        #print(answer, word)\n",
    "\n",
    "    return answer"
   ]
  },
  {
   "cell_type": "markdown",
   "id": "2sHBRukt3f0i",
   "metadata": {
    "id": "2sHBRukt3f0i"
   },
   "source": [
    "#### <span style=\"color:blueviolet\"> 마법의 엘리베이터 정답본 </span>"
   ]
  },
  {
   "cell_type": "code",
   "execution_count": 2,
   "id": "Sq93KVPq0N6n",
   "metadata": {
    "id": "Sq93KVPq0N6n"
   },
   "outputs": [],
   "source": [
    "\"\"\"\n",
    "내가 담아내고자 했던 아이디어를 잘 풀어낸 코드라 생각함.\n",
    "나머지를 구해서 어떻게 처리할지가 좀 막막했는데 발상만 하고 완성을 못한게 좀 아쉬움.\n",
    "이해는 했는데 지금 바로 풀면 기억으로만 풀것 같아서 며칠 지나고 까먹은 상태로 다시 도전해볼 예정.\n",
    "\"\"\"\n",
    "def solution(storey):\n",
    "    answer = 0\n",
    "    while storey >= 1:\n",
    "        n = storey % 10\n",
    "        if n > 5 :\n",
    "            answer += (10-n)\n",
    "            storey += (10-n)\n",
    "        elif n < 5:\n",
    "            answer += n\n",
    "            storey -= n\n",
    "        else:\n",
    "            tmp_storey = storey // 10\n",
    "            if tmp_storey % 10 >= 5:\n",
    "                answer += (10-n)\n",
    "                storey += (10-n)\n",
    "            else:\n",
    "                answer += n\n",
    "                storey -= n\n",
    "        storey //= 10\n",
    "\n",
    "    return answer"
   ]
  },
  {
   "cell_type": "markdown",
   "id": "d14e72de",
   "metadata": {},
   "source": [
    "#### <span style=\"color:blueviolet\"> 240405 삼각 달팽이 (1트 포기, 10분 소요) </span>"
   ]
  },
  {
   "cell_type": "code",
   "execution_count": null,
   "id": "dfa4edc2",
   "metadata": {},
   "outputs": [],
   "source": [
    "\"\"\"\n",
    "2차원 배열로 푸는거라는데 첫 풀이때 계속 수학적 공식만 생각하다 포기함..\n",
    "전에도 같은 문제에서 수학적 공식 떠올리겠다고 머리 싸맸던 것 같은데 공식을 떠올리지 않을 수 없던 문제.\n",
    "\"\"\""
   ]
  },
  {
   "cell_type": "markdown",
   "id": "6f79b1c8",
   "metadata": {},
   "source": [
    "#### <span style=\"color:blueviolet\"> 240413 귤 고르기 (1트 포기 후 힌트 참고) </span>"
   ]
  },
  {
   "cell_type": "code",
   "execution_count": 1,
   "id": "14ddd915",
   "metadata": {},
   "outputs": [],
   "source": [
    "\"\"\"\n",
    "문제에서 제기한 풀이 방향에서 어떤 알고리즘으로 연결시킬지 이젠 연관이 잘 되지 않음.\n",
    "내가 알고리즘 공부를 많이 안 해서 그런가 너무 복잡하게 생각해서 못 푸는 경우가 많고, 그런 경우 해답들은 예상외로 심플했음.\n",
    "\"\"\"\n",
    "def solution(k, tangerine):\n",
    "    answer = 0\n",
    "    cnt_dict = {}\n",
    "    \n",
    "    for i in tangerine:\n",
    "        if i in cnt_dict:\n",
    "            cnt_dict[i]+=1\n",
    "        else:\n",
    "            cnt_dict[i]=1\n",
    "\n",
    "    cnt_dict = dict(sorted(cnt_dict.items(), key=lambda x: x[1], reverse=True))\n",
    "    #print(cnt_dict)\n",
    "    \n",
    "    for i in cnt_dict:\n",
    "        if k<=0:\n",
    "            return answer\n",
    "        answer += 1\n",
    "        k -= cnt_dict[i]\n",
    "        #print(k, cnt_dict[i])\n",
    "        \n",
    "    return answer"
   ]
  },
  {
   "cell_type": "markdown",
   "id": "24895c4c",
   "metadata": {},
   "source": [
    "#### <span style=\"color:blueviolet\"> 240511 호텔 대실 (1트 30분 실패) </span>"
   ]
  },
  {
   "cell_type": "code",
   "execution_count": 23,
   "id": "7c2805e6",
   "metadata": {},
   "outputs": [],
   "source": [
    "\"\"\"\n",
    "시각을 분으로 일괄 환산하는것까진 바로 했는데 어떻게 방 배정할지를 못 떠올렸음.\n",
    "다른 사람들은 힙을 썼던데 풀이를 봐도 모르겠음..\n",
    "\"\"\"\n",
    "def solution(book_time):\n",
    "    answer = 0\n",
    "    book_time.sort(key=lambda x: x[0])\n",
    "    #print(book_time)\n",
    "    \n",
    "    loop = len(book_time)\n",
    "    \n",
    "    list_room = []\n",
    "    for _ in range(loop):\n",
    "        list_room.append([])\n",
    "        \n",
    "    for idx in range(loop):\n",
    "        if idx == 0:\n",
    "            start = int(book_time[idx][0][:2])*60 + int(book_time[idx][0][3:])\n",
    "            end = int(book_time[idx][1][:2])*60 + int(book_time[idx][1][3:]) + 10\n",
    "            list_room[0] = [start, end]\n",
    "            print(start, end)\n",
    "            answer += 1\n",
    "        else:\n",
    "            start = int(book_time[idx][0][:2])*60 + int(book_time[idx][0][3:])\n",
    "            end = int(book_time[idx][1][:2])*60 + int(book_time[idx][1][3:]) + 10\n",
    "            print(start, end)\n",
    "            \n",
    "            for idx2 in range(0, idx):\n",
    "                if start >= list_room[idx2][-1]:\n",
    "                    print(\"if\")\n",
    "                    list_room[idx2][1]=end\n",
    "                    break\n",
    "                else:\n",
    "                    print(\"else\")\n",
    "                    if len(list_room[idx2])==0:\n",
    "                        list_room[idx2] = [start, end]\n",
    "                        answer += 1\n",
    "                    else:\n",
    "                        pass\n",
    "                \n",
    "        print(idx, list_room)\n",
    "        \n",
    "    return answer"
   ]
  },
  {
   "cell_type": "markdown",
   "id": "8d7b3c01",
   "metadata": {},
   "source": [
    "#### <span style=\"color:blueviolet\"> 240511 호텔 대실 (정답본) </span>"
   ]
  },
  {
   "cell_type": "code",
   "execution_count": 40,
   "id": "ec00d18f",
   "metadata": {},
   "outputs": [
    {
     "name": "stdout",
     "output_type": "stream",
     "text": [
      "1\n",
      "2\n",
      "3\n",
      "1\n",
      "2\n",
      "2\n",
      "3\n",
      "1\n",
      "2\n",
      "1\n",
      "2\n",
      "2\n"
     ]
    },
    {
     "data": {
      "text/plain": [
       "3"
      ]
     },
     "execution_count": 40,
     "metadata": {},
     "output_type": "execute_result"
    }
   ],
   "source": [
    "\"\"\"\n",
    "여러 정답 풀이 중 제일 이해가 되는 걸로 갖고 와봤는데 풀이설명3에서 else 부분이 동작 순서가 이해가 안됨.\n",
    "구조는 알겠는데 혼자 짜라고 하면 못할 것 같음.\n",
    "\n",
    "\"\"\"\n",
    "def solution(book_time):\n",
    "\n",
    "    # 풀이설명1 : 함수 만들기\n",
    "    def change_min(str_time: str) -> int:\n",
    "        return int(str_time[0:2]) * 60 + int(str_time[3:])\n",
    "\n",
    "    #풀이 설명2 : 예약 시간이 빠른 순으로 정렬하기\n",
    "    book_times = sorted([[change_min(i[0]), change_min(i[1]) + 10] for i in book_time])\n",
    "\n",
    "    #풀이 설명3 : 방 배정하기\n",
    "    rooms = []\n",
    "    for time in book_times:\n",
    "        if not rooms:\n",
    "            rooms.append(time)\n",
    "            continue\n",
    "        print(\"1\")\n",
    "        for idx, room in enumerate(rooms):\n",
    "            #print(idx, room)\n",
    "            if time[0] >= room[-1]:\n",
    "                rooms[idx] = room + time\n",
    "                break\n",
    "            print(\"2\")\n",
    "        else:\n",
    "            print(\"3\")\n",
    "            rooms.append(time)\n",
    "        #print(rooms)\n",
    "        \n",
    "    return len(rooms)\n",
    "\n",
    "solution([[\"15:00\", \"17:00\"], [\"16:40\", \"18:20\"], [\"14:20\", \"15:20\"], [\"14:10\", \"19:20\"], [\"18:20\", \"21:20\"]])"
   ]
  },
  {
   "cell_type": "markdown",
   "id": "250680c9",
   "metadata": {},
   "source": [
    "#### <span style=\"color:blueviolet\"> 요격 시스템 (1트, 10분 포기) </span>"
   ]
  },
  {
   "cell_type": "code",
   "execution_count": 2,
   "id": "689311ea",
   "metadata": {},
   "outputs": [],
   "source": [
    "\"\"\"\n",
    "다른 풀이를 보니 굳이 lambda를 안 써도 sort의 기준은 리스트의 첫 원소였음;;;\n",
    "\"\"\"\n",
    "def solution(targets):\n",
    "    answer = 0\n",
    "    \n",
    "    missile_list = []\n",
    "    for l in targets:\n",
    "        missile = list(range(l[0], l[-1]+1))\n",
    "        print(missile)\n",
    "        missile_list.append(missile)\n",
    "        \n",
    "    print()\n",
    "    missile_list = sorted(missile_list, key=lambda x:x[0])\n",
    "    print(missile_list)\n",
    "    \n",
    "    return answer"
   ]
  },
  {
   "cell_type": "markdown",
   "id": "f50792bb",
   "metadata": {},
   "source": [
    "#### <span style=\"color:blueviolet\"> 요격 시스템 (2트 정답 분석본) </span>"
   ]
  },
  {
   "cell_type": "code",
   "execution_count": null,
   "id": "b69e9b5b",
   "metadata": {},
   "outputs": [],
   "source": [
    "\"\"\"\n",
    "[[4, 5], [4, 8], [10, 14], [11, 13], [5, 12], [3, 7], [1, 4]]\n",
    "가 주어질 때 정렬하면 [s, e]순\n",
    "[[1, 4], [3, 7], [4, 5], [4, 8], [5, 12], [10, 14], [11, 13]]\n",
    "bound는 for문을 돌면서 계속 갱신되는 가장 큰 수를 뜻함.\n",
    "for문 순서대로 s와 bound를 묶어보면\n",
    "초기(0,0) ==> (1,4) -> (3,4) => (4,5) -> (4,5) => (5,12) -> (10,12) -> (11,12)\n",
    "\"\"\"\n",
    "def solution(targets):\n",
    "    answer = 0\n",
    "    bound = 0\n",
    "    #print(sorted(targets))\n",
    "    \n",
    "    for s, e in sorted(targets):\n",
    "        #print(f's:{s} e:{e}')\n",
    "        if s < bound:\n",
    "            #print(\"-if\")\n",
    "            bound = min(bound, e) # 핵심 포인트, 비교를 해서 더 작은 수로 bound 갱신\n",
    "        else:\n",
    "            #print('-else')\n",
    "            bound = e\n",
    "            answer += 1\n",
    "        #print(f'bound >> {bound}')\n",
    "        \n",
    "    return answer"
   ]
  },
  {
   "cell_type": "markdown",
   "id": "3d7d99ca",
   "metadata": {},
   "source": [
    "#### <span style=\"color:blueviolet\"> 240716 연속된 부분 수열의 합 (1트 포기, 25분) </span>"
   ]
  },
  {
   "cell_type": "code",
   "execution_count": null,
   "id": "ed0aa556",
   "metadata": {},
   "outputs": [],
   "source": [
    "\"\"\"\n",
    "숫자 리스트 사이에서 합이 k인 작은 연속 원소 수열을 찾는 문제인데,\n",
    "\"길이가 짧은 수열이 여러 개인 경우 앞쪽에 나온 수열을 찾으므로\" 에서 막힘 밑에 코드 !! 부분이 해당 경우 처리\n",
    "테스트 케이스에서도 많이 실패했음.\n",
    "\"\"\"\n",
    "def solution(sequence, k):\n",
    "    answer = []\n",
    "    length=len(sequence)\n",
    "    \n",
    "    if sequence[-1]==k:\n",
    "        answer.append(sequence.index(sequence[-1]))\n",
    "        answer.append(length-1)\n",
    "    \n",
    "    else:\n",
    "        for cnt in range(2, length+1):#부분 수열의 원소 개수: 2개부터 전체개수까지\n",
    "            for idx in range(0, length-cnt+1):\n",
    "                small_seq = sequence[idx:idx+cnt]\n",
    "                if sum(small_seq) == k:\n",
    "                    #print(small_seq)\n",
    "                    if len(set(small_seq)) == 1: # !!\n",
    "                        answer.append(sequence.index(small_seq[0]))\n",
    "                        answer.append(cnt-1)\n",
    "                    else:\n",
    "                        answer.append(sequence.index(small_seq[0]))\n",
    "                        answer.append(sequence.index(small_seq[1]))\n",
    "                    return answer\n",
    "    return answer"
   ]
  },
  {
   "cell_type": "markdown",
   "id": "0fe6cc1d",
   "metadata": {
    "id": "0fe6cc1d"
   },
   "source": [
    "# -------------------- <3단계> --------------------"
   ]
  }
 ],
 "metadata": {
  "colab": {
   "provenance": [],
   "toc_visible": true
  },
  "kernelspec": {
   "display_name": "Python 3 (ipykernel)",
   "language": "python",
   "name": "python3"
  },
  "language_info": {
   "codemirror_mode": {
    "name": "ipython",
    "version": 3
   },
   "file_extension": ".py",
   "mimetype": "text/x-python",
   "name": "python",
   "nbconvert_exporter": "python",
   "pygments_lexer": "ipython3",
   "version": "3.9.12"
  }
 },
 "nbformat": 4,
 "nbformat_minor": 5
}
