{
 "cells": [
  {
   "cell_type": "code",
   "execution_count": 3,
   "id": "5357f94d",
   "metadata": {},
   "outputs": [],
   "source": [
    "def triangle(n):\n",
    "    # 피라미드의 높이, 한층당 반복 횟수를 결정하는 for문\n",
    "    for i in range(n):\n",
    "        # 여기서부터 i가 카운트 되고 있음. 시작은 i==0\n",
    "        \n",
    "        # 피라미드의 왼쪽면에 공백을 삽입하는 for문, 첫째칸엔 4개, 둘째칸엔 3개...\n",
    "        for j in range(n-1):\n",
    "            print(end=' ')\n",
    "            \n",
    "        # 공백 삽입 후 별을 찍는 for문. \n",
    "        # range가 i+1인 이유는 range는 카운트를 미만으로 세기 때문. (i+1 미만으로 실행)\n",
    "        for j in range(i+1):\n",
    "            print('*', end=' ')\n",
    "        print('\\r') # 해골 원위치! 가 아니고 커서를 맨 앞단으로 원위치.\n",
    "        n=n-1"
   ]
  },
  {
   "cell_type": "code",
   "execution_count": 4,
   "id": "f5963134",
   "metadata": {},
   "outputs": [
    {
     "name": "stdout",
     "output_type": "stream",
     "text": [
      "         * \r\n",
      "        * * \r\n",
      "       * * * \r\n",
      "      * * * * \r\n",
      "     * * * * * \r\n",
      "    * * * * * * \r\n",
      "   * * * * * * * \r\n",
      "  * * * * * * * * \r\n",
      " * * * * * * * * * \r\n",
      "* * * * * * * * * * \r\n"
     ]
    }
   ],
   "source": [
    "triangle(10)"
   ]
  },
  {
   "cell_type": "code",
   "execution_count": null,
   "id": "b9e0a1d8",
   "metadata": {},
   "outputs": [],
   "source": []
  }
 ],
 "metadata": {
  "kernelspec": {
   "display_name": "Python 3",
   "language": "python",
   "name": "python3"
  },
  "language_info": {
   "codemirror_mode": {
    "name": "ipython",
    "version": 3
   },
   "file_extension": ".py",
   "mimetype": "text/x-python",
   "name": "python",
   "nbconvert_exporter": "python",
   "pygments_lexer": "ipython3",
   "version": "3.8.8"
  }
 },
 "nbformat": 4,
 "nbformat_minor": 5
}
