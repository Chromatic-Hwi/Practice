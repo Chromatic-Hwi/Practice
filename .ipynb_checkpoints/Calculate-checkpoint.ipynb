{
 "cells": [
  {
   "cell_type": "code",
   "execution_count": 22,
   "id": "c97a7afc",
   "metadata": {},
   "outputs": [],
   "source": [
    "from Calculate import Calculate"
   ]
  },
  {
   "cell_type": "code",
   "execution_count": 23,
   "id": "c658d341",
   "metadata": {},
   "outputs": [],
   "source": [
    "a = Calculate()\n",
    "b = Calculate()\n",
    "a.setdata(3, 6)\n",
    "b.setdata(5, 7)"
   ]
  },
  {
   "cell_type": "code",
   "execution_count": 24,
   "id": "3843331f",
   "metadata": {},
   "outputs": [
    {
     "name": "stdout",
     "output_type": "stream",
     "text": [
      "3 - 6 = -3\n",
      "\n",
      "5 + 7 = 12\n",
      "\n",
      "3 / 6 = 0.5\n",
      "\n",
      "5 * 7 = 35\n",
      "\n"
     ]
    }
   ],
   "source": [
    "a.sub()\n",
    "b.add()\n",
    "a.div()\n",
    "b.mul()"
   ]
  },
  {
   "cell_type": "code",
   "execution_count": null,
   "id": "c1163cf4",
   "metadata": {},
   "outputs": [],
   "source": []
  }
 ],
 "metadata": {
  "kernelspec": {
   "display_name": "Python 3 (ipykernel)",
   "language": "python",
   "name": "python3"
  },
  "language_info": {
   "codemirror_mode": {
    "name": "ipython",
    "version": 3
   },
   "file_extension": ".py",
   "mimetype": "text/x-python",
   "name": "python",
   "nbconvert_exporter": "python",
   "pygments_lexer": "ipython3",
   "version": "3.9.7"
  }
 },
 "nbformat": 4,
 "nbformat_minor": 5
}
