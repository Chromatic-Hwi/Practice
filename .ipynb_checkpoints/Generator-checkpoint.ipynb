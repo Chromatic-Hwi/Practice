{
 "cells": [
  {
   "cell_type": "code",
   "execution_count": 2,
   "id": "f61c6d4d",
   "metadata": {},
   "outputs": [],
   "source": [
    "def generator_0():\n",
    "    print(\"Start generator()\")\n",
    "    for x in range(0,5):\n",
    "        yield x**2"
   ]
  },
  {
   "cell_type": "code",
   "execution_count": 5,
   "id": "435e25f4",
   "metadata": {},
   "outputs": [],
   "source": [
    "gen = generator_0()"
   ]
  },
  {
   "cell_type": "code",
   "execution_count": 6,
   "id": "91e0a3d8",
   "metadata": {},
   "outputs": [
    {
     "name": "stdout",
     "output_type": "stream",
     "text": [
      "Start generator()\n",
      "0\n",
      "1\n",
      "4\n",
      "9\n",
      "16\n"
     ]
    }
   ],
   "source": [
    "for i in range(0,5):\n",
    "    print(next(gen))"
   ]
  },
  {
   "cell_type": "code",
   "execution_count": null,
   "id": "9a0f3fce",
   "metadata": {},
   "outputs": [],
   "source": []
  }
 ],
 "metadata": {
  "kernelspec": {
   "display_name": "Python 3 (ipykernel)",
   "language": "python",
   "name": "python3"
  },
  "language_info": {
   "codemirror_mode": {
    "name": "ipython",
    "version": 3
   },
   "file_extension": ".py",
   "mimetype": "text/x-python",
   "name": "python",
   "nbconvert_exporter": "python",
   "pygments_lexer": "ipython3",
   "version": "3.9.7"
  }
 },
 "nbformat": 4,
 "nbformat_minor": 5
}
