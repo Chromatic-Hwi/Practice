{
 "cells": [
  {
   "cell_type": "code",
   "execution_count": null,
   "id": "2c5f9aae",
   "metadata": {},
   "outputs": [],
   "source": [
    "\"\"\"\n",
    "- __init__ : class 기본 실행\n",
    "\n",
    "\"\"\""
   ]
  },
  {
   "cell_type": "code",
   "execution_count": 1,
   "id": "0f0f538f",
   "metadata": {},
   "outputs": [],
   "source": [
    "class JSS:\n",
    "    def __init__(self):\n",
    "        self.name = input(\"이름 : \")\n",
    "        self.age = input(\"나이 : \")\n",
    "        \n",
    "    def show(self):\n",
    "        print(f\"나의 이름은 {self.name}이고, 나이는 {self.age}세 입니다.\")"
   ]
  },
  {
   "cell_type": "code",
   "execution_count": 2,
   "id": "0e723eca",
   "metadata": {},
   "outputs": [],
   "source": [
    "# class JSS2 괄호 안에 자식 클래스를 넣어서 상속시킴.\n",
    "class JSS2(JSS):\n",
    "    def __init__(self):\n",
    "        super().__init__() # 상속을 위한 코드\n",
    "        self.plus = input(\"추가 정보가 필요합니까? (Y/N)\")\n",
    "        if self.plus.upper() == \"Y\":\n",
    "            self.gender = input(\"성별 : \")\n",
    "    def show_more(self):\n",
    "        # super().__init__() 여기다 상속을 또 시켜버리면 JSS의 입력단부터 또 새로 다 상속을 받음.\n",
    "        # 새로운 프린트 기능만 하고 싶은 본래 목적 실패.\n",
    "        print(f\"나의 이름은 {self.name}이고 성별은 {self.gender}, 나이는 {self.age}세 입니다.\")"
   ]
  },
  {
   "cell_type": "code",
   "execution_count": 3,
   "id": "3e5ea93b",
   "metadata": {},
   "outputs": [
    {
     "ename": "KeyboardInterrupt",
     "evalue": "Interrupted by user",
     "output_type": "error",
     "traceback": [
      "\u001b[1;31m---------------------------------------------------------------------------\u001b[0m",
      "\u001b[1;31mKeyboardInterrupt\u001b[0m                         Traceback (most recent call last)",
      "Input \u001b[1;32mIn [3]\u001b[0m, in \u001b[0;36m<cell line: 1>\u001b[1;34m()\u001b[0m\n\u001b[1;32m----> 1\u001b[0m jss \u001b[38;5;241m=\u001b[39m \u001b[43mJSS\u001b[49m\u001b[43m(\u001b[49m\u001b[43m)\u001b[49m\n",
      "Input \u001b[1;32mIn [1]\u001b[0m, in \u001b[0;36mJSS.__init__\u001b[1;34m(self)\u001b[0m\n\u001b[0;32m      2\u001b[0m \u001b[38;5;28;01mdef\u001b[39;00m \u001b[38;5;21m__init__\u001b[39m(\u001b[38;5;28mself\u001b[39m):\n\u001b[1;32m----> 3\u001b[0m     \u001b[38;5;28mself\u001b[39m\u001b[38;5;241m.\u001b[39mname \u001b[38;5;241m=\u001b[39m \u001b[38;5;28;43minput\u001b[39;49m\u001b[43m(\u001b[49m\u001b[38;5;124;43m\"\u001b[39;49m\u001b[38;5;124;43m이름 : \u001b[39;49m\u001b[38;5;124;43m\"\u001b[39;49m\u001b[43m)\u001b[49m\n\u001b[0;32m      4\u001b[0m     \u001b[38;5;28mself\u001b[39m\u001b[38;5;241m.\u001b[39mage \u001b[38;5;241m=\u001b[39m \u001b[38;5;28minput\u001b[39m(\u001b[38;5;124m\"\u001b[39m\u001b[38;5;124m나이 : \u001b[39m\u001b[38;5;124m\"\u001b[39m)\n",
      "File \u001b[1;32mC:\\ProgramData\\Anaconda3\\lib\\site-packages\\ipykernel\\kernelbase.py:1075\u001b[0m, in \u001b[0;36mKernel.raw_input\u001b[1;34m(self, prompt)\u001b[0m\n\u001b[0;32m   1071\u001b[0m \u001b[38;5;28;01mif\u001b[39;00m \u001b[38;5;129;01mnot\u001b[39;00m \u001b[38;5;28mself\u001b[39m\u001b[38;5;241m.\u001b[39m_allow_stdin:\n\u001b[0;32m   1072\u001b[0m     \u001b[38;5;28;01mraise\u001b[39;00m StdinNotImplementedError(\n\u001b[0;32m   1073\u001b[0m         \u001b[38;5;124m\"\u001b[39m\u001b[38;5;124mraw_input was called, but this frontend does not support input requests.\u001b[39m\u001b[38;5;124m\"\u001b[39m\n\u001b[0;32m   1074\u001b[0m     )\n\u001b[1;32m-> 1075\u001b[0m \u001b[38;5;28;01mreturn\u001b[39;00m \u001b[38;5;28;43mself\u001b[39;49m\u001b[38;5;241;43m.\u001b[39;49m\u001b[43m_input_request\u001b[49m\u001b[43m(\u001b[49m\n\u001b[0;32m   1076\u001b[0m \u001b[43m    \u001b[49m\u001b[38;5;28;43mstr\u001b[39;49m\u001b[43m(\u001b[49m\u001b[43mprompt\u001b[49m\u001b[43m)\u001b[49m\u001b[43m,\u001b[49m\n\u001b[0;32m   1077\u001b[0m \u001b[43m    \u001b[49m\u001b[38;5;28;43mself\u001b[39;49m\u001b[38;5;241;43m.\u001b[39;49m\u001b[43m_parent_ident\u001b[49m\u001b[43m[\u001b[49m\u001b[38;5;124;43m\"\u001b[39;49m\u001b[38;5;124;43mshell\u001b[39;49m\u001b[38;5;124;43m\"\u001b[39;49m\u001b[43m]\u001b[49m\u001b[43m,\u001b[49m\n\u001b[0;32m   1078\u001b[0m \u001b[43m    \u001b[49m\u001b[38;5;28;43mself\u001b[39;49m\u001b[38;5;241;43m.\u001b[39;49m\u001b[43mget_parent\u001b[49m\u001b[43m(\u001b[49m\u001b[38;5;124;43m\"\u001b[39;49m\u001b[38;5;124;43mshell\u001b[39;49m\u001b[38;5;124;43m\"\u001b[39;49m\u001b[43m)\u001b[49m\u001b[43m,\u001b[49m\n\u001b[0;32m   1079\u001b[0m \u001b[43m    \u001b[49m\u001b[43mpassword\u001b[49m\u001b[38;5;241;43m=\u001b[39;49m\u001b[38;5;28;43;01mFalse\u001b[39;49;00m\u001b[43m,\u001b[49m\n\u001b[0;32m   1080\u001b[0m \u001b[43m\u001b[49m\u001b[43m)\u001b[49m\n",
      "File \u001b[1;32mC:\\ProgramData\\Anaconda3\\lib\\site-packages\\ipykernel\\kernelbase.py:1120\u001b[0m, in \u001b[0;36mKernel._input_request\u001b[1;34m(self, prompt, ident, parent, password)\u001b[0m\n\u001b[0;32m   1117\u001b[0m             \u001b[38;5;28;01mbreak\u001b[39;00m\n\u001b[0;32m   1118\u001b[0m \u001b[38;5;28;01mexcept\u001b[39;00m \u001b[38;5;167;01mKeyboardInterrupt\u001b[39;00m:\n\u001b[0;32m   1119\u001b[0m     \u001b[38;5;66;03m# re-raise KeyboardInterrupt, to truncate traceback\u001b[39;00m\n\u001b[1;32m-> 1120\u001b[0m     \u001b[38;5;28;01mraise\u001b[39;00m \u001b[38;5;167;01mKeyboardInterrupt\u001b[39;00m(\u001b[38;5;124m\"\u001b[39m\u001b[38;5;124mInterrupted by user\u001b[39m\u001b[38;5;124m\"\u001b[39m) \u001b[38;5;28;01mfrom\u001b[39;00m \u001b[38;5;28;01mNone\u001b[39;00m\n\u001b[0;32m   1121\u001b[0m \u001b[38;5;28;01mexcept\u001b[39;00m \u001b[38;5;167;01mException\u001b[39;00m:\n\u001b[0;32m   1122\u001b[0m     \u001b[38;5;28mself\u001b[39m\u001b[38;5;241m.\u001b[39mlog\u001b[38;5;241m.\u001b[39mwarning(\u001b[38;5;124m\"\u001b[39m\u001b[38;5;124mInvalid Message:\u001b[39m\u001b[38;5;124m\"\u001b[39m, exc_info\u001b[38;5;241m=\u001b[39m\u001b[38;5;28;01mTrue\u001b[39;00m)\n",
      "\u001b[1;31mKeyboardInterrupt\u001b[0m: Interrupted by user"
     ]
    }
   ],
   "source": [
    "jss = JSS()"
   ]
  },
  {
   "cell_type": "code",
   "execution_count": 23,
   "id": "5d6fe384",
   "metadata": {},
   "outputs": [
    {
     "data": {
      "text/plain": [
       "'빵빵이'"
      ]
     },
     "execution_count": 23,
     "metadata": {},
     "output_type": "execute_result"
    }
   ],
   "source": [
    "jss.name"
   ]
  },
  {
   "cell_type": "code",
   "execution_count": 24,
   "id": "8f8406b6",
   "metadata": {},
   "outputs": [
    {
     "name": "stdout",
     "output_type": "stream",
     "text": [
      "추가 정보가 필요합니까? (Y/N)n\n"
     ]
    }
   ],
   "source": [
    "jss2 = JSS2()"
   ]
  },
  {
   "cell_type": "code",
   "execution_count": 15,
   "id": "d6d8e17b",
   "metadata": {},
   "outputs": [
    {
     "data": {
      "text/plain": [
       "'옥지'"
      ]
     },
     "execution_count": 15,
     "metadata": {},
     "output_type": "execute_result"
    }
   ],
   "source": [
    "jss2.name"
   ]
  },
  {
   "cell_type": "code",
   "execution_count": 16,
   "id": "263abca3",
   "metadata": {},
   "outputs": [
    {
     "name": "stdout",
     "output_type": "stream",
     "text": [
      "나의 이름은 성재이고, 나이는 27세 입니다.\n"
     ]
    }
   ],
   "source": [
    "jss.show()"
   ]
  },
  {
   "cell_type": "code",
   "execution_count": 17,
   "id": "e583ef5c",
   "metadata": {},
   "outputs": [
    {
     "ename": "AttributeError",
     "evalue": "'JSS' object has no attribute 'show_more'",
     "output_type": "error",
     "traceback": [
      "\u001b[1;31m---------------------------------------------------------------------------\u001b[0m",
      "\u001b[1;31mAttributeError\u001b[0m                            Traceback (most recent call last)",
      "Input \u001b[1;32mIn [17]\u001b[0m, in \u001b[0;36m<cell line: 1>\u001b[1;34m()\u001b[0m\n\u001b[1;32m----> 1\u001b[0m \u001b[43mjss\u001b[49m\u001b[38;5;241;43m.\u001b[39;49m\u001b[43mshow_more\u001b[49m()\n",
      "\u001b[1;31mAttributeError\u001b[0m: 'JSS' object has no attribute 'show_more'"
     ]
    }
   ],
   "source": [
    "jss.show_more()"
   ]
  },
  {
   "cell_type": "code",
   "execution_count": 18,
   "id": "e14d0ab9",
   "metadata": {},
   "outputs": [
    {
     "name": "stdout",
     "output_type": "stream",
     "text": [
      "나의 이름은 옥지이고, 나이는 24세 입니다.\n"
     ]
    }
   ],
   "source": [
    "jss2.show()"
   ]
  },
  {
   "cell_type": "code",
   "execution_count": 19,
   "id": "3bdb0c01",
   "metadata": {},
   "outputs": [
    {
     "name": "stdout",
     "output_type": "stream",
     "text": [
      "나의 이름은 옥지이고 성별은 Female, 나이는 24세 입니다.\n"
     ]
    }
   ],
   "source": [
    "jss2.show_more()"
   ]
  },
  {
   "cell_type": "code",
   "execution_count": null,
   "id": "5de4e4a5",
   "metadata": {},
   "outputs": [],
   "source": []
  },
  {
   "cell_type": "markdown",
   "id": "273806f4",
   "metadata": {},
   "source": [
    "### Step2"
   ]
  },
  {
   "cell_type": "code",
   "execution_count": 33,
   "id": "f70fcc60",
   "metadata": {},
   "outputs": [],
   "source": [
    "class Member:\n",
    "    def __init__(self, id, pw):\n",
    "        self.id = id\n",
    "        self.pw = pw\n",
    "        \n",
    "class MemberRegister:\n",
    "    def __init__(self):\n",
    "        self.member = {} # tuple로 저장\n",
    "\n",
    "    def login(self, id, pw):\n",
    "        isMember = id in self.member #bool로 저장되는 변수\n",
    "        if isMember and self.member[id] == pw:\n",
    "            print(f'{id} : Log-in Success!')\n",
    "            return True\n",
    "        else:\n",
    "            print(f'{id} does not exist.')\n",
    "            return False\n",
    "\n",
    "    def viewMember(self):\n",
    "        for key in self.member.keys():\n",
    "            print(f'ID: {key}')\n",
    "            print(f'ID: {self.member[key]}')\n",
    "\n",
    "    def deleteMember(self, id, pw):\n",
    "        isMember = id in self.member\n",
    "        if isMember and self.member[id] == pw:\n",
    "            # self.member.pop(id)\n",
    "            del self.member[id]\n",
    "            self.viewMember()\n",
    "        else:\n",
    "            print(f'{id} does not exist.')"
   ]
  },
  {
   "cell_type": "code",
   "execution_count": 37,
   "id": "d7a2bff8",
   "metadata": {},
   "outputs": [
    {
     "name": "stdout",
     "output_type": "stream",
     "text": [
      "\t 회원가입 \t\n",
      "가입 신청 인원수 : 1\n",
      "ID : aaa\n",
      "PW : bbb\n",
      "ID: aaa\n",
      "ID: bbb\n",
      "로그인\n",
      "ID : aaa\n",
      "PW : bbb\n",
      "aaa : Log-in Success!\n",
      "회원 관리\n",
      "ID : aaa\n",
      "PW : bbb\n"
     ]
    }
   ],
   "source": [
    "mRegister = MemberRegister()\n",
    "print('\\t 회원가입 \\t')\n",
    "\n",
    "num_members = int(input('가입 신청 인원수 : '))\n",
    "for i in range(num_members):\n",
    "    id = input('ID : ')\n",
    "    pw = input('PW : ')\n",
    "    member = Member(id, pw)\n",
    "    mRegister.member.update({member.id: member.pw})\n",
    "\n",
    "# 멤버 조회\n",
    "mRegister.viewMember()\n",
    "\n",
    "# 로그인\n",
    "print('로그인')\n",
    "while True:\n",
    "    id = input('ID : ')\n",
    "    pw = input('PW : ')\n",
    "    if mRegister.login(id, pw):\n",
    "        break\n",
    "\n",
    "# 삭제\n",
    "print('회원 관리')\n",
    "id = input('ID : ')\n",
    "pw = input('PW : ')\n",
    "mRegister.deleteMember(id, pw)"
   ]
  },
  {
   "cell_type": "code",
   "execution_count": null,
   "id": "e7cc12d1",
   "metadata": {},
   "outputs": [],
   "source": []
  }
 ],
 "metadata": {
  "kernelspec": {
   "display_name": "Python 3 (ipykernel)",
   "language": "python",
   "name": "python3"
  },
  "language_info": {
   "codemirror_mode": {
    "name": "ipython",
    "version": 3
   },
   "file_extension": ".py",
   "mimetype": "text/x-python",
   "name": "python",
   "nbconvert_exporter": "python",
   "pygments_lexer": "ipython3",
   "version": "3.9.12"
  }
 },
 "nbformat": 4,
 "nbformat_minor": 5
}
