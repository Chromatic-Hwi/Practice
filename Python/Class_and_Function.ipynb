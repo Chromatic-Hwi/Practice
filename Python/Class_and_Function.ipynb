{
 "cells": [
  {
   "cell_type": "code",
   "execution_count": 3,
   "id": "0f0f538f",
   "metadata": {},
   "outputs": [],
   "source": [
    "class JSS:\n",
    "    def __init__(self):\n",
    "        self.name = input(\"이름 : \")\n",
    "        self.age = input(\"나이 : \")\n",
    "        \n",
    "    def show(self):\n",
    "        print(f\"나의 이름은 {self.name}이고, 나이는 {self.age}세 입니다.\")"
   ]
  },
  {
   "cell_type": "code",
   "execution_count": 4,
   "id": "0e723eca",
   "metadata": {},
   "outputs": [],
   "source": [
    "class JSS2(JSS):\n",
    "    def __init__(self):\n",
    "        super().__init__() # 상속을 위한 코드\n",
    "        self.plus = input(\"추가 정보가 필요합니까? (Y/N)\")\n",
    "        if self.plus.upper() == \"Y\":\n",
    "            self.gender = input(\"성별 : \")\n",
    "    def show_more(self):\n",
    "        # super().__init__() 여기다 상속을 또 시켜버리면 JSS의 입력단부터 또 새로 다 상속을 받음.\n",
    "        # 새로운 프린트 기능만 하고 싶은 본래 목적 실패.\n",
    "        print(f\"나의 이름은 {self.name}이고 성별은 {self.gender}, 나이는 {self.age}세 입니다.\")"
   ]
  },
  {
   "cell_type": "code",
   "execution_count": 5,
   "id": "3e5ea93b",
   "metadata": {},
   "outputs": [
    {
     "name": "stdout",
     "output_type": "stream",
     "text": [
      "이름 : 옥찌\n",
      "나이 : 30\n"
     ]
    }
   ],
   "source": [
    "jss = JSS()"
   ]
  },
  {
   "cell_type": "code",
   "execution_count": 11,
   "id": "5d6fe384",
   "metadata": {},
   "outputs": [
    {
     "data": {
      "text/plain": [
       "'옥찌'"
      ]
     },
     "execution_count": 11,
     "metadata": {},
     "output_type": "execute_result"
    }
   ],
   "source": [
    "jss.name"
   ]
  },
  {
   "cell_type": "code",
   "execution_count": 6,
   "id": "8f8406b6",
   "metadata": {},
   "outputs": [
    {
     "name": "stdout",
     "output_type": "stream",
     "text": [
      "이름 : 빵빵이\n",
      "나이 : 30\n",
      "추가 정보가 필요합니까? (Y/N)y\n",
      "성별 : 남성\n"
     ]
    }
   ],
   "source": [
    "jss2 = JSS2()"
   ]
  },
  {
   "cell_type": "code",
   "execution_count": 12,
   "id": "d6d8e17b",
   "metadata": {},
   "outputs": [
    {
     "data": {
      "text/plain": [
       "'빵빵이'"
      ]
     },
     "execution_count": 12,
     "metadata": {},
     "output_type": "execute_result"
    }
   ],
   "source": [
    "jss2.name"
   ]
  },
  {
   "cell_type": "code",
   "execution_count": 7,
   "id": "263abca3",
   "metadata": {},
   "outputs": [
    {
     "name": "stdout",
     "output_type": "stream",
     "text": [
      "나의 이름은 옥찌이고, 나이는 30세 입니다.\n"
     ]
    }
   ],
   "source": [
    "jss.show()"
   ]
  },
  {
   "cell_type": "code",
   "execution_count": 8,
   "id": "e583ef5c",
   "metadata": {},
   "outputs": [
    {
     "ename": "AttributeError",
     "evalue": "'JSS' object has no attribute 'show_more'",
     "output_type": "error",
     "traceback": [
      "\u001b[1;31m---------------------------------------------------------------------------\u001b[0m",
      "\u001b[1;31mAttributeError\u001b[0m                            Traceback (most recent call last)",
      "Input \u001b[1;32mIn [8]\u001b[0m, in \u001b[0;36m<cell line: 1>\u001b[1;34m()\u001b[0m\n\u001b[1;32m----> 1\u001b[0m \u001b[43mjss\u001b[49m\u001b[38;5;241;43m.\u001b[39;49m\u001b[43mshow_more\u001b[49m()\n",
      "\u001b[1;31mAttributeError\u001b[0m: 'JSS' object has no attribute 'show_more'"
     ]
    }
   ],
   "source": [
    "jss.show_more()"
   ]
  },
  {
   "cell_type": "code",
   "execution_count": 9,
   "id": "e14d0ab9",
   "metadata": {},
   "outputs": [
    {
     "name": "stdout",
     "output_type": "stream",
     "text": [
      "나의 이름은 빵빵이이고, 나이는 30세 입니다.\n"
     ]
    }
   ],
   "source": [
    "jss2.show()"
   ]
  },
  {
   "cell_type": "code",
   "execution_count": 10,
   "id": "3bdb0c01",
   "metadata": {},
   "outputs": [
    {
     "name": "stdout",
     "output_type": "stream",
     "text": [
      "나의 이름은 빵빵이이고 성별은 남성, 나이는 30세 입니다.\n"
     ]
    }
   ],
   "source": [
    "jss2.show_more()"
   ]
  }
 ],
 "metadata": {
  "kernelspec": {
   "display_name": "Python 3 (ipykernel)",
   "language": "python",
   "name": "python3"
  },
  "language_info": {
   "codemirror_mode": {
    "name": "ipython",
    "version": 3
   },
   "file_extension": ".py",
   "mimetype": "text/x-python",
   "name": "python",
   "nbconvert_exporter": "python",
   "pygments_lexer": "ipython3",
   "version": "3.9.12"
  }
 },
 "nbformat": 4,
 "nbformat_minor": 5
}
