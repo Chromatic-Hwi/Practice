{
 "cells": [
  {
   "cell_type": "markdown",
   "id": "1c81b022",
   "metadata": {},
   "source": [
    "## 코테 풀이"
   ]
  },
  {
   "cell_type": "markdown",
   "id": "a79c7723",
   "metadata": {},
   "source": [
    "### 220809 로또의 최고 순위와 최저 순위 (10분 1트 성공)"
   ]
  },
  {
   "cell_type": "code",
   "execution_count": 1,
   "id": "1e00e62f",
   "metadata": {},
   "outputs": [],
   "source": [
    "\"\"\"\n",
    "주어지는 응모 번호와 로또 당첨 번호를 비교해서 식별 불가 번호포함 최저 순위와 최고 당첨 순위를 출력하는 문제.\n",
    "\n",
    "맞춘 갯수별 순위를 딕셔너리로 했고,\n",
    "\n",
    "전체 응모 번호를 돌면서 0일 경우(=인식불가 숫자) 나중에 더해주기 위해 miss_num 으로 저장했고\n",
    "\n",
    "응모 번호를 탐색하면서 일치할경우 count 증가\n",
    "\n",
    "count에 miss_num을 더해서 award에 Key로 넣으면 최고순위, 안 더하면 최저순위로 나오니 각각 answer에 추가하면 끝.\n",
    "\"\"\"\n",
    "def solution(lottos, win_nums):\n",
    "    answer = []\n",
    "    count=0\n",
    "    miss_num=0\n",
    "    award={0:6, 1:6, 2:5, 3:4, 4:3, 5:2, 6:1}\n",
    "    \n",
    "    for num in lottos:\n",
    "        if num==0:\n",
    "            miss_num+=1\n",
    "        if num in win_nums:\n",
    "            count+=1\n",
    "        else:\n",
    "            pass\n",
    "        \n",
    "    answer.append(award[count+miss_num])\n",
    "    answer.append(award[count])\n",
    "    \n",
    "    return answer"
   ]
  },
  {
   "cell_type": "markdown",
   "id": "69f6daaf",
   "metadata": {},
   "source": [
    "### 220810 없는 숫자 더하기 (5분 1트 성공)"
   ]
  },
  {
   "cell_type": "code",
   "execution_count": 2,
   "id": "24054c21",
   "metadata": {},
   "outputs": [],
   "source": [
    "\"\"\"\n",
    "1~9 범위내 중복 없고 누락 있는 리스트가 주어짐.\n",
    "누락된 범위의 숫자를 찾아서 합을 반환하는 코드를 작성해야 하는데 처음에는 1~9의 range내에서 탐색하면서 불일치할 경우\n",
    "답에 숫자를 더하는 식으로 하려다가 '중복이 없으니 빠진 숫자 합만 구하면 되는거 아니냐' 생각에 45에서 차를 구하는 식으로\n",
    "방향을 바꿨음.\n",
    "\"\"\"\n",
    "def solution(numbers):\n",
    "    num_sum=0\n",
    "    \n",
    "    for num in numbers:\n",
    "        num_sum+=num\n",
    "    \n",
    "    if num_sum==45:\n",
    "        answer=-1\n",
    "    else:\n",
    "        answer=45-num_sum\n",
    "            \n",
    "    return answer"
   ]
  },
  {
   "cell_type": "markdown",
   "id": "587b6f35",
   "metadata": {},
   "source": [
    "### 220810 음양 더하기 (5분 1트 성공)"
   ]
  },
  {
   "cell_type": "code",
   "execution_count": null,
   "id": "8cbb0d29",
   "metadata": {},
   "outputs": [],
   "source": [
    "\"\"\"\n",
    "절댓값 리스트와 참/거짓 리스트가 주어지면 참/거짓 여부에 따라 합차 계산을 해서 결과를 반환하는 문제.\n",
    "두 리스트의 길이는 같기 때문에 한 리스트의 길이만큼 범위를 정하고 해당 순번 인덱스를 넣어서\n",
    "참일 경우 더하고, 거짓일 경우 빼도록 해서 결과를 계산함.\n",
    "\"\"\"\n",
    "def solution(absolutes, signs):\n",
    "    answer = 0\n",
    "    \n",
    "    for n in range(len(absolutes)):\n",
    "        if signs[n]==True:\n",
    "            answer+=absolutes[n]\n",
    "        if signs[n]==False:\n",
    "            answer-=absolutes[n]\n",
    "            \n",
    "    return answer"
   ]
  },
  {
   "cell_type": "markdown",
   "id": "8f092f23",
   "metadata": {},
   "source": [
    "### 220811 소수 만들기 (10분 1트 실패)"
   ]
  },
  {
   "cell_type": "code",
   "execution_count": 1,
   "id": "3b7e63cd",
   "metadata": {},
   "outputs": [
    {
     "data": {
      "text/plain": [
       "'\\n주어진 리스트의 숫자들을 중복 없이 3개 골라 소수인지 판별하는 문제였는데, 전체 리스트의 길이도 모르고\\n순열, 조합 기능을 쓸줄 몰라서 숫자를 뽑는 단계부터 막혀버렸음.\\n'"
      ]
     },
     "execution_count": 1,
     "metadata": {},
     "output_type": "execute_result"
    }
   ],
   "source": [
    "\"\"\"\n",
    "주어진 리스트의 숫자들을 중복 없이 3개 골라 소수인지 판별하는 문제였는데, 전체 리스트의 길이도 모르고\n",
    "순열, 조합 기능을 쓸줄 몰라서 숫자를 뽑는 단계부터 막혀버렸음.\n",
    "\"\"\""
   ]
  },
  {
   "cell_type": "code",
   "execution_count": 17,
   "id": "04c20600",
   "metadata": {},
   "outputs": [
    {
     "name": "stdout",
     "output_type": "stream",
     "text": [
      "(0, 1) (0, 2) (0, 3) (1, 0) (1, 2) (1, 3) (2, 0) (2, 1) (2, 3) (3, 0) (3, 1) (3, 2) "
     ]
    }
   ],
   "source": [
    "# 순열\n",
    "# 중복을 허용하지 않고 뽑으며, 순서 의미가 있다. \n",
    "from itertools import permutations\n",
    "\n",
    "for perm in permutations([0,1,2,3], 2):\n",
    "    print(perm, end=\" \")"
   ]
  },
  {
   "cell_type": "code",
   "execution_count": 18,
   "id": "88d94611",
   "metadata": {},
   "outputs": [
    {
     "name": "stdout",
     "output_type": "stream",
     "text": [
      "(1, 2, 3) (1, 2, 4) (1, 3, 4) (2, 3, 4) "
     ]
    }
   ],
   "source": [
    "# 조합\n",
    "# 중복을 허용하지 않고 뽑으나, 순서를 고려하지 않기 때문에 순서를 바꿔도 중복이 없다.\n",
    "from itertools import combinations\n",
    "\n",
    "for comb in combinations([1,2,3,4], 3):\n",
    "    print(comb, end=\" \")"
   ]
  },
  {
   "cell_type": "code",
   "execution_count": 19,
   "id": "8900fd96",
   "metadata": {},
   "outputs": [
    {
     "name": "stdout",
     "output_type": "stream",
     "text": [
      "(1, 2, 3)\n",
      "(1, 2, 4)\n",
      "(1, 3, 4)\n",
      "(2, 3, 4)\n"
     ]
    }
   ],
   "source": [
    "for i in combinations([1,2,3,4], 3):\n",
    "    print(i)"
   ]
  },
  {
   "cell_type": "code",
   "execution_count": null,
   "id": "8b30da97",
   "metadata": {},
   "outputs": [],
   "source": [
    "\"\"\"\n",
    "조합 기능을 사용해서 코드를 작성했는데 전체 점수에서 53점 정도밖에 안나옴. \n",
    "소수인지 점검하는 것 때문에 그런거라 의심되는데(현재 100이하 소수밖에 없기 때문) 소수 판별 기능을 찾아봐야할듯.\n",
    "\"\"\"\n",
    "from itertools import combinations as COMB\n",
    "\n",
    "def solution(nums):\n",
    "    answer = []\n",
    "    prime=[2,3,5,7,11,13,17,19,23,29,31,37,41,43,47,53,59,61,67,71,73,79,83,89,97]\n",
    "    \n",
    "    for comb_list in COMB(nums, 3):\n",
    "        sum_num=sum(comb_list)\n",
    "        if sum_num in prime:\n",
    "            answer.append(sum_num)\n",
    "    \n",
    "    if len(answer)==0:\n",
    "        answer=0\n",
    "    else:\n",
    "        answer=len(answer)\n",
    "        \n",
    "    return answer"
   ]
  },
  {
   "cell_type": "markdown",
   "id": "9bc340eb",
   "metadata": {},
   "source": [
    "### 220812 폰켓몬 (10분 1트 실패)"
   ]
  },
  {
   "cell_type": "code",
   "execution_count": 1,
   "id": "85900f35",
   "metadata": {},
   "outputs": [],
   "source": [
    "\"\"\"\n",
    "문제를 보자마자 조합 문제인걸 직감했음. \n",
    "하지만 채점 과정에서 시간 초과로 탈락.\n",
    "다른 풀이를 참고하니 전체 조합을 다 비교할 필요는 없다는 정보를 얻었음.\n",
    "\"\"\"\n",
    "\n",
    "from itertools import combinations as COMB\n",
    "\n",
    "def solution(nums):\n",
    "    answer = []\n",
    "    choose=len(nums)//2\n",
    "\n",
    "    for l in COMB(nums, choose):\n",
    "        l=list(set(l))\n",
    "        answer.append(len(l))\n",
    "        \n",
    "    answer=max(answer)\n",
    "    \n",
    "    return answer"
   ]
  },
  {
   "cell_type": "markdown",
   "id": "b6f778a4",
   "metadata": {},
   "source": [
    "### 220812 폰켓몬 (10분 2트 성공)"
   ]
  },
  {
   "cell_type": "code",
   "execution_count": 2,
   "id": "fcc2ce02",
   "metadata": {},
   "outputs": [],
   "source": [
    "\"\"\"\n",
    "set을 통해 중복을 제거하고 다시 list로 만들었을 때, 길이를 비교해서 푸는 방식.\n",
    "조합을 일일히 비교하지 않기 때문에 빠른 처리가 가능.\n",
    "하지만 if 절에 해당하는 알고리즘을 한번에 떠올리진 못해서 다른 풀이를 참고했음.\n",
    "\"\"\"\n",
    "def solution(nums):\n",
    "    choice = len(nums)//2\n",
    "    kind_nums = len(list(set(nums)))\n",
    "\n",
    "    if choice >= kind_nums:\n",
    "        result = kind_nums\n",
    "        \n",
    "    else:\n",
    "        result = choice\n",
    "\n",
    "    return result"
   ]
  },
  {
   "cell_type": "markdown",
   "id": "f4c94fd4",
   "metadata": {},
   "source": [
    "### 220813 최소직사각형 (30분 1트 시간초과 실패)"
   ]
  },
  {
   "cell_type": "code",
   "execution_count": 4,
   "id": "5c44a210",
   "metadata": {},
   "outputs": [],
   "source": [
    "\"\"\"\n",
    "뭔가 풀이에 대한 감은 잡혔는데 30분이 초과되서 실패 처리.\n",
    "테스트 케이스를 통과하지도 못했음.\n",
    "\"\"\"\n",
    "def solution(sizes):\n",
    "    answer = []\n",
    "    num = 0\n",
    "    \n",
    "    for n in range(len(sizes)):\n",
    "        num=sizes[n][0]*sizes[n][1]\n",
    "        if n==0:\n",
    "            start_num=sizes[n][0]*sizes[n][1]\n",
    "            answer.append(sizes[n][0])\n",
    "            answer.append(sizes[n][1])\n",
    "        else:\n",
    "            if start_num>=num:\n",
    "                pass\n",
    "            else:\n",
    "                if answer[0]<sizes[n][0] and answer[1]<sizes[n][1]:\n",
    "                    print(\"1\")\n",
    "                    answer=[sizes[n][0], sizes[n][1]]\n",
    "                if answer[0]<sizes[n][1] and answer[1]<sizes[n][0]:\n",
    "                    print(\"2\")\n",
    "                    answer=[sizes[n][1], sizes[n][0]]\n",
    "                if answer[0]<sizes[n][0] and answer[1]>=sizes[n][1]:\n",
    "                    print(\"3\")\n",
    "                    answer=[sizes[n][0], answer[1]]\n",
    "                if answer[0]>=sizes[n][1] and answer[1]<sizes[n][0]:\n",
    "                    print(\"4\")\n",
    "                    answer=[answer[1], sizes[n][0]]\n",
    "    print(answer)\n",
    "    \n",
    "    answer=answer[0]*answer[1]\n",
    "    return answer"
   ]
  },
  {
   "cell_type": "markdown",
   "id": "a54ebecc",
   "metadata": {},
   "source": [
    "### 220813 최소직사각형 (20분 2트 알고리즘 해결 못함)"
   ]
  },
  {
   "cell_type": "code",
   "execution_count": null,
   "id": "0e6c783f",
   "metadata": {},
   "outputs": [],
   "source": [
    "\"\"\"\n",
    "내 생각으로는 해결이 되야 맞는데 테스트 케이스만 풀리고 본 검사에서는 통과를 못함.\n",
    "\"\"\"\n",
    "def solution(sizes):\n",
    "    answer=[]\n",
    "    \n",
    "    for n in range(len(sizes)):\n",
    "        if n==0:\n",
    "            answer.append(sizes[0][0])\n",
    "            answer.append(sizes[0][1])\n",
    "        else:\n",
    "            sizes[n]=sorted(sizes[n], reverse=True)\n",
    "            if sizes[n][0]>answer[0]:\n",
    "                answer=[sizes[n][0], answer[1]]\n",
    "            if sizes[n][1]>answer[1]:\n",
    "                answer=[answer[0], sizes[n][1]]\n",
    "\n",
    "    answer=answer[0]*answer[1]\n",
    "    return answer"
   ]
  },
  {
   "cell_type": "markdown",
   "id": "da7e0c12",
   "metadata": {},
   "source": [
    "### 220813 최소직사각형 (풀이 참조)"
   ]
  },
  {
   "cell_type": "code",
   "execution_count": null,
   "id": "e4c2bde9",
   "metadata": {},
   "outputs": [],
   "source": [
    "def solution(sizes):\n",
    "    x, y = 0, 0\n",
    "    for t in sizes:\n",
    "        t.sort()\n",
    "        x = max(x, t[0])\n",
    "        y = max(y, t[1])\n",
    "    return x*y"
   ]
  },
  {
   "cell_type": "markdown",
   "id": "36cd7c67",
   "metadata": {},
   "source": [
    "### 220813 두 개 뽑아서 더하기 (5분 1트 클리어)"
   ]
  },
  {
   "cell_type": "code",
   "execution_count": 6,
   "id": "e5e7a390",
   "metadata": {},
   "outputs": [],
   "source": [
    "\"\"\"\n",
    "조합 문제 그 자체.\n",
    "근데 중복 삭제와 정렬을 곁들인..\n",
    "\"\"\"\n",
    "from itertools import combinations as COMB\n",
    "def solution(numbers):\n",
    "    answer = []\n",
    "    for n in COMB(numbers, 2):\n",
    "        answer.append(sum(n))\n",
    "    answer=list(set(answer))\n",
    "    answer.sort()\n",
    "    return answer"
   ]
  },
  {
   "cell_type": "markdown",
   "id": "3a64d300",
   "metadata": {},
   "source": [
    "### 220813 2016년 (20분 1트 실패)"
   ]
  },
  {
   "cell_type": "code",
   "execution_count": 8,
   "id": "2fecacd8",
   "metadata": {},
   "outputs": [],
   "source": [
    "\"\"\"\n",
    "각 월마다 요일 시작점을 만드려다가 그건 알고리즘 연습이 안될듯 해서 전체 일수를 더해서 7로 나눈뒤 계산하는 방향으로\n",
    "했으나 실패함.\n",
    "\"\"\"\n",
    "def solution(a, b):\n",
    "    answer = ''\n",
    "    Month={1:31, 2:29, 3:31, 4:30, 5:31, 6:30, 7:31, 8:31, 9:30, 10:31, 11:30, 12:31}\n",
    "    Days=[\"FRI\", \"SAT\", \"SUN\", \"MON\", \"TUE\", \"WED\", \"THU\"]\n",
    "    day=0\n",
    "    \n",
    "    for d in range(1, a+1):\n",
    "        if a==1:\n",
    "            answer=Days[b//7+1]\n",
    "        else:\n",
    "            if d<a:\n",
    "                day+=Month[d]\n",
    "            if d==a:\n",
    "                total_day=day+b\n",
    "                cnt=0\n",
    "                while(total_day>1):\n",
    "                    total_day=total_day//7\n",
    "                    cnt+=1\n",
    "                print(cnt)\n",
    "                answer=Days[cnt+1]\n",
    "    \n",
    "    return answer"
   ]
  },
  {
   "cell_type": "markdown",
   "id": "e995e5e5",
   "metadata": {},
   "source": [
    "### 2016년 (5분 2트 힌트 봄)"
   ]
  },
  {
   "cell_type": "code",
   "execution_count": 9,
   "id": "f9997552",
   "metadata": {},
   "outputs": [],
   "source": [
    "\"\"\"\n",
    "전체적인 구조는 비슷했으나 세부적인 숫자 조정에서 계산을 실패했음.\n",
    "그리고 난 Month를 딕셔너리로 했는데 다른 풀이를 보니 그냥 리스트로 했었음. 전에 짰던 코드라 생각나서 바로 \n",
    "응용했는데 크게 비효율적인 부분은 아니니 패-스\n",
    "\"\"\"\n",
    "def solution(a, b):\n",
    "    answer = ''\n",
    "    Month={1:31, 2:29, 3:31, 4:30, 5:31, 6:30, 7:31, 8:31, 9:30, 10:31, 11:30, 12:31}\n",
    "    Days=[\"FRI\", \"SAT\", \"SUN\", \"MON\", \"TUE\", \"WED\", \"THU\"]\n",
    "    day=0\n",
    "    \n",
    "    for d in range(1, a+1):\n",
    "        if a==1:\n",
    "            answer=Days[b%7-1]\n",
    "        else:\n",
    "            if d<a:\n",
    "                day+=Month[d]\n",
    "            if d==a:\n",
    "                total_day=day+b\n",
    "                total_day%=7\n",
    "                print(total_day)\n",
    "                answer=Days[total_day-1]\n",
    "    \n",
    "    return answer"
   ]
  },
  {
   "cell_type": "code",
   "execution_count": null,
   "id": "311b6dd3",
   "metadata": {},
   "outputs": [],
   "source": []
  }
 ],
 "metadata": {
  "kernelspec": {
   "display_name": "Python 3 (ipykernel)",
   "language": "python",
   "name": "python3"
  },
  "language_info": {
   "codemirror_mode": {
    "name": "ipython",
    "version": 3
   },
   "file_extension": ".py",
   "mimetype": "text/x-python",
   "name": "python",
   "nbconvert_exporter": "python",
   "pygments_lexer": "ipython3",
   "version": "3.9.7"
  }
 },
 "nbformat": 4,
 "nbformat_minor": 5
}
