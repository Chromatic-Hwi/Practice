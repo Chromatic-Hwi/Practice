{
 "cells": [
  {
   "cell_type": "markdown",
   "id": "1c81b022",
   "metadata": {},
   "source": [
    "# 코테 풀이"
   ]
  },
  {
   "cell_type": "markdown",
   "id": "95670f8a",
   "metadata": {},
   "source": [
    "## 1단계"
   ]
  },
  {
   "cell_type": "markdown",
   "id": "a79c7723",
   "metadata": {},
   "source": [
    "### 220809 로또의 최고 순위와 최저 순위 (10분 1트 성공)"
   ]
  },
  {
   "cell_type": "code",
   "execution_count": 1,
   "id": "1e00e62f",
   "metadata": {},
   "outputs": [],
   "source": [
    "\"\"\"\n",
    "주어지는 응모 번호와 로또 당첨 번호를 비교해서 식별 불가 번호포함 최저 순위와 최고 당첨 순위를 출력하는 문제.\n",
    "\n",
    "맞춘 갯수별 순위를 딕셔너리로 했고,\n",
    "\n",
    "전체 응모 번호를 돌면서 0일 경우(=인식불가 숫자) 나중에 더해주기 위해 miss_num 으로 저장했고\n",
    "\n",
    "응모 번호를 탐색하면서 일치할경우 count 증가\n",
    "\n",
    "count에 miss_num을 더해서 award에 Key로 넣으면 최고순위, 안 더하면 최저순위로 나오니 각각 answer에 추가하면 끝.\n",
    "\"\"\"\n",
    "def solution(lottos, win_nums):\n",
    "    answer = []\n",
    "    count=0\n",
    "    miss_num=0\n",
    "    award={0:6, 1:6, 2:5, 3:4, 4:3, 5:2, 6:1}\n",
    "    \n",
    "    for num in lottos:\n",
    "        if num==0:\n",
    "            miss_num+=1\n",
    "        if num in win_nums:\n",
    "            count+=1\n",
    "        else:\n",
    "            pass\n",
    "        \n",
    "    answer.append(award[count+miss_num])\n",
    "    answer.append(award[count])\n",
    "    \n",
    "    return answer"
   ]
  },
  {
   "cell_type": "markdown",
   "id": "69f6daaf",
   "metadata": {},
   "source": [
    "### 220810 없는 숫자 더하기 (5분 1트 성공)"
   ]
  },
  {
   "cell_type": "code",
   "execution_count": 2,
   "id": "24054c21",
   "metadata": {},
   "outputs": [],
   "source": [
    "\"\"\"\n",
    "1~9 범위내 중복 없고 누락 있는 리스트가 주어짐.\n",
    "누락된 범위의 숫자를 찾아서 합을 반환하는 코드를 작성해야 하는데 처음에는 1~9의 range내에서 탐색하면서 불일치할 경우\n",
    "답에 숫자를 더하는 식으로 하려다가 '중복이 없으니 빠진 숫자 합만 구하면 되는거 아니냐' 생각에 45에서 차를 구하는 식으로\n",
    "방향을 바꿨음.\n",
    "\"\"\"\n",
    "def solution(numbers):\n",
    "    num_sum=0\n",
    "    \n",
    "    for num in numbers:\n",
    "        num_sum+=num\n",
    "    \n",
    "    if num_sum==45:\n",
    "        answer=-1\n",
    "    else:\n",
    "        answer=45-num_sum\n",
    "            \n",
    "    return answer"
   ]
  },
  {
   "cell_type": "markdown",
   "id": "587b6f35",
   "metadata": {},
   "source": [
    "### 220810 음양 더하기 (5분 1트 성공)"
   ]
  },
  {
   "cell_type": "code",
   "execution_count": null,
   "id": "8cbb0d29",
   "metadata": {},
   "outputs": [],
   "source": [
    "\"\"\"\n",
    "절댓값 리스트와 참/거짓 리스트가 주어지면 참/거짓 여부에 따라 합차 계산을 해서 결과를 반환하는 문제.\n",
    "두 리스트의 길이는 같기 때문에 한 리스트의 길이만큼 범위를 정하고 해당 순번 인덱스를 넣어서\n",
    "참일 경우 더하고, 거짓일 경우 빼도록 해서 결과를 계산함.\n",
    "\"\"\"\n",
    "def solution(absolutes, signs):\n",
    "    answer = 0\n",
    "    \n",
    "    for n in range(len(absolutes)):\n",
    "        if signs[n]==True:\n",
    "            answer+=absolutes[n]\n",
    "        if signs[n]==False:\n",
    "            answer-=absolutes[n]\n",
    "            \n",
    "    return answer"
   ]
  },
  {
   "cell_type": "markdown",
   "id": "8f092f23",
   "metadata": {},
   "source": [
    "### 220811 소수 만들기 (10분 1트 실패)"
   ]
  },
  {
   "cell_type": "code",
   "execution_count": 1,
   "id": "3b7e63cd",
   "metadata": {},
   "outputs": [
    {
     "data": {
      "text/plain": [
       "'\\n주어진 리스트의 숫자들을 중복 없이 3개 골라 소수인지 판별하는 문제였는데, 전체 리스트의 길이도 모르고\\n순열, 조합 기능을 쓸줄 몰라서 숫자를 뽑는 단계부터 막혀버렸음.\\n'"
      ]
     },
     "execution_count": 1,
     "metadata": {},
     "output_type": "execute_result"
    }
   ],
   "source": [
    "\"\"\"\n",
    "주어진 리스트의 숫자들을 중복 없이 3개 골라 소수인지 판별하는 문제였는데, 전체 리스트의 길이도 모르고\n",
    "순열, 조합 기능을 쓸줄 몰라서 숫자를 뽑는 단계부터 막혀버렸음.\n",
    "\"\"\""
   ]
  },
  {
   "cell_type": "code",
   "execution_count": 17,
   "id": "04c20600",
   "metadata": {},
   "outputs": [
    {
     "name": "stdout",
     "output_type": "stream",
     "text": [
      "(0, 1) (0, 2) (0, 3) (1, 0) (1, 2) (1, 3) (2, 0) (2, 1) (2, 3) (3, 0) (3, 1) (3, 2) "
     ]
    }
   ],
   "source": [
    "# 순열\n",
    "# 중복을 허용하지 않고 뽑으며, 순서 의미가 있다. \n",
    "from itertools import permutations\n",
    "\n",
    "for perm in permutations([0,1,2,3], 2):\n",
    "    print(perm, end=\" \")"
   ]
  },
  {
   "cell_type": "code",
   "execution_count": 18,
   "id": "88d94611",
   "metadata": {},
   "outputs": [
    {
     "name": "stdout",
     "output_type": "stream",
     "text": [
      "(1, 2, 3) (1, 2, 4) (1, 3, 4) (2, 3, 4) "
     ]
    }
   ],
   "source": [
    "# 조합\n",
    "# 중복을 허용하지 않고 뽑으나, 순서를 고려하지 않기 때문에 순서를 바꿔도 중복이 없다.\n",
    "from itertools import combinations\n",
    "\n",
    "for comb in combinations([1,2,3,4], 3):\n",
    "    print(comb, end=\" \")"
   ]
  },
  {
   "cell_type": "code",
   "execution_count": 19,
   "id": "8900fd96",
   "metadata": {},
   "outputs": [
    {
     "name": "stdout",
     "output_type": "stream",
     "text": [
      "(1, 2, 3)\n",
      "(1, 2, 4)\n",
      "(1, 3, 4)\n",
      "(2, 3, 4)\n"
     ]
    }
   ],
   "source": [
    "for i in combinations([1,2,3,4], 3):\n",
    "    print(i)"
   ]
  },
  {
   "cell_type": "code",
   "execution_count": null,
   "id": "8b30da97",
   "metadata": {},
   "outputs": [],
   "source": [
    "\"\"\"\n",
    "조합 기능을 사용해서 코드를 작성했는데 전체 점수에서 53점 정도밖에 안나옴. \n",
    "소수인지 점검하는 것 때문에 그런거라 의심되는데(현재 100이하 소수밖에 없기 때문) 소수 판별 기능을 찾아봐야할듯.\n",
    "\"\"\"\n",
    "from itertools import combinations as COMB\n",
    "\n",
    "def solution(nums):\n",
    "    answer = []\n",
    "    prime=[2,3,5,7,11,13,17,19,23,29,31,37,41,43,47,53,59,61,67,71,73,79,83,89,97]\n",
    "    \n",
    "    for comb_list in COMB(nums, 3):\n",
    "        sum_num=sum(comb_list)\n",
    "        if sum_num in prime:\n",
    "            answer.append(sum_num)\n",
    "    \n",
    "    if len(answer)==0:\n",
    "        answer=0\n",
    "    else:\n",
    "        answer=len(answer)\n",
    "        \n",
    "    return answer"
   ]
  },
  {
   "cell_type": "markdown",
   "id": "9bc340eb",
   "metadata": {},
   "source": [
    "### 220812 폰켓몬 (10분 1트 실패)"
   ]
  },
  {
   "cell_type": "code",
   "execution_count": 1,
   "id": "85900f35",
   "metadata": {},
   "outputs": [],
   "source": [
    "\"\"\"\n",
    "문제를 보자마자 조합 문제인걸 직감했음. \n",
    "하지만 채점 과정에서 시간 초과로 탈락.\n",
    "다른 풀이를 참고하니 전체 조합을 다 비교할 필요는 없다는 정보를 얻었음.\n",
    "\"\"\"\n",
    "\n",
    "from itertools import combinations as COMB\n",
    "\n",
    "def solution(nums):\n",
    "    answer = []\n",
    "    choose=len(nums)//2\n",
    "\n",
    "    for l in COMB(nums, choose):\n",
    "        l=list(set(l))\n",
    "        answer.append(len(l))\n",
    "        \n",
    "    answer=max(answer)\n",
    "    \n",
    "    return answer"
   ]
  },
  {
   "cell_type": "markdown",
   "id": "b6f778a4",
   "metadata": {},
   "source": [
    "### 220812 폰켓몬 (10분 2트 성공)"
   ]
  },
  {
   "cell_type": "code",
   "execution_count": 2,
   "id": "fcc2ce02",
   "metadata": {},
   "outputs": [],
   "source": [
    "\"\"\"\n",
    "set을 통해 중복을 제거하고 다시 list로 만들었을 때, 길이를 비교해서 푸는 방식.\n",
    "조합을 일일히 비교하지 않기 때문에 빠른 처리가 가능.\n",
    "하지만 if 절에 해당하는 알고리즘을 한번에 떠올리진 못해서 다른 풀이를 참고했음.\n",
    "\"\"\"\n",
    "def solution(nums):\n",
    "    choice = len(nums)//2\n",
    "    kind_nums = len(list(set(nums)))\n",
    "\n",
    "    if choice >= kind_nums:\n",
    "        result = kind_nums\n",
    "        \n",
    "    else:\n",
    "        result = choice\n",
    "\n",
    "    return result"
   ]
  },
  {
   "cell_type": "markdown",
   "id": "f4c94fd4",
   "metadata": {},
   "source": [
    "### 220813 최소직사각형 (30분 1트 시간초과 실패)"
   ]
  },
  {
   "cell_type": "code",
   "execution_count": 4,
   "id": "5c44a210",
   "metadata": {},
   "outputs": [],
   "source": [
    "\"\"\"\n",
    "뭔가 풀이에 대한 감은 잡혔는데 30분이 초과되서 실패 처리.\n",
    "테스트 케이스를 통과하지도 못했음.\n",
    "\"\"\"\n",
    "def solution(sizes):\n",
    "    answer = []\n",
    "    num = 0\n",
    "    \n",
    "    for n in range(len(sizes)):\n",
    "        num=sizes[n][0]*sizes[n][1]\n",
    "        if n==0:\n",
    "            start_num=sizes[n][0]*sizes[n][1]\n",
    "            answer.append(sizes[n][0])\n",
    "            answer.append(sizes[n][1])\n",
    "        else:\n",
    "            if start_num>=num:\n",
    "                pass\n",
    "            else:\n",
    "                if answer[0]<sizes[n][0] and answer[1]<sizes[n][1]:\n",
    "                    print(\"1\")\n",
    "                    answer=[sizes[n][0], sizes[n][1]]\n",
    "                if answer[0]<sizes[n][1] and answer[1]<sizes[n][0]:\n",
    "                    print(\"2\")\n",
    "                    answer=[sizes[n][1], sizes[n][0]]\n",
    "                if answer[0]<sizes[n][0] and answer[1]>=sizes[n][1]:\n",
    "                    print(\"3\")\n",
    "                    answer=[sizes[n][0], answer[1]]\n",
    "                if answer[0]>=sizes[n][1] and answer[1]<sizes[n][0]:\n",
    "                    print(\"4\")\n",
    "                    answer=[answer[1], sizes[n][0]]\n",
    "    print(answer)\n",
    "    \n",
    "    answer=answer[0]*answer[1]\n",
    "    return answer"
   ]
  },
  {
   "cell_type": "markdown",
   "id": "a54ebecc",
   "metadata": {},
   "source": [
    "### 220813 최소직사각형 (20분 2트 알고리즘 해결 못함)"
   ]
  },
  {
   "cell_type": "code",
   "execution_count": null,
   "id": "0e6c783f",
   "metadata": {},
   "outputs": [],
   "source": [
    "\"\"\"\n",
    "내 생각으로는 해결이 되야 맞는데 테스트 케이스만 풀리고 본 검사에서는 통과를 못함.\n",
    "\"\"\"\n",
    "def solution(sizes):\n",
    "    answer=[]\n",
    "    \n",
    "    for n in range(len(sizes)):\n",
    "        if n==0:\n",
    "            answer.append(sizes[0][0])\n",
    "            answer.append(sizes[0][1])\n",
    "        else:\n",
    "            sizes[n]=sorted(sizes[n], reverse=True)\n",
    "            if sizes[n][0]>answer[0]:\n",
    "                answer=[sizes[n][0], answer[1]]\n",
    "            if sizes[n][1]>answer[1]:\n",
    "                answer=[answer[0], sizes[n][1]]\n",
    "\n",
    "    answer=answer[0]*answer[1]\n",
    "    return answer"
   ]
  },
  {
   "cell_type": "markdown",
   "id": "da7e0c12",
   "metadata": {},
   "source": [
    "### 220813 최소직사각형 (풀이 참조)"
   ]
  },
  {
   "cell_type": "code",
   "execution_count": null,
   "id": "e4c2bde9",
   "metadata": {},
   "outputs": [],
   "source": [
    "def solution(sizes):\n",
    "    x, y = 0, 0\n",
    "    for t in sizes:\n",
    "        t.sort()\n",
    "        x = max(x, t[0])\n",
    "        y = max(y, t[1])\n",
    "    return x*y"
   ]
  },
  {
   "cell_type": "markdown",
   "id": "36cd7c67",
   "metadata": {},
   "source": [
    "### 220813 두 개 뽑아서 더하기 (5분 1트 클리어)"
   ]
  },
  {
   "cell_type": "code",
   "execution_count": 6,
   "id": "e5e7a390",
   "metadata": {},
   "outputs": [],
   "source": [
    "\"\"\"\n",
    "조합 문제 그 자체.\n",
    "근데 중복 삭제와 정렬을 곁들인..\n",
    "\"\"\"\n",
    "from itertools import combinations as COMB\n",
    "def solution(numbers):\n",
    "    answer = []\n",
    "    for n in COMB(numbers, 2):\n",
    "        answer.append(sum(n))\n",
    "    answer=list(set(answer))\n",
    "    answer.sort()\n",
    "    return answer"
   ]
  },
  {
   "cell_type": "markdown",
   "id": "3a64d300",
   "metadata": {},
   "source": [
    "### 220813 2016년 (20분 1트 실패)"
   ]
  },
  {
   "cell_type": "code",
   "execution_count": 8,
   "id": "2fecacd8",
   "metadata": {},
   "outputs": [],
   "source": [
    "\"\"\"\n",
    "각 월마다 요일 시작점을 만드려다가 그건 알고리즘 연습이 안될듯 해서 전체 일수를 더해서 7로 나눈뒤 계산하는 방향으로\n",
    "했으나 실패함.\n",
    "\"\"\"\n",
    "def solution(a, b):\n",
    "    answer = ''\n",
    "    Month={1:31, 2:29, 3:31, 4:30, 5:31, 6:30, 7:31, 8:31, 9:30, 10:31, 11:30, 12:31}\n",
    "    Days=[\"FRI\", \"SAT\", \"SUN\", \"MON\", \"TUE\", \"WED\", \"THU\"]\n",
    "    day=0\n",
    "    \n",
    "    for d in range(1, a+1):\n",
    "        if a==1:\n",
    "            answer=Days[b//7+1]\n",
    "        else:\n",
    "            if d<a:\n",
    "                day+=Month[d]\n",
    "            if d==a:\n",
    "                total_day=day+b\n",
    "                cnt=0\n",
    "                while(total_day>1):\n",
    "                    total_day=total_day//7\n",
    "                    cnt+=1\n",
    "                print(cnt)\n",
    "                answer=Days[cnt+1]\n",
    "    \n",
    "    return answer"
   ]
  },
  {
   "cell_type": "markdown",
   "id": "e995e5e5",
   "metadata": {},
   "source": [
    "### 2016년 (5분 2트 힌트 봄)"
   ]
  },
  {
   "cell_type": "code",
   "execution_count": 9,
   "id": "f9997552",
   "metadata": {},
   "outputs": [],
   "source": [
    "\"\"\"\n",
    "전체적인 구조는 비슷했으나 세부적인 숫자 조정에서 계산을 실패했음.\n",
    "그리고 난 Month를 딕셔너리로 했는데 다른 풀이를 보니 그냥 리스트로 했었음. 전에 짰던 코드라 생각나서 바로 \n",
    "응용했는데 크게 비효율적인 부분은 아니니 패-스\n",
    "\"\"\"\n",
    "def solution(a, b):\n",
    "    answer = ''\n",
    "    Month={1:31, 2:29, 3:31, 4:30, 5:31, 6:30, 7:31, 8:31, 9:30, 10:31, 11:30, 12:31}\n",
    "    Days=[\"FRI\", \"SAT\", \"SUN\", \"MON\", \"TUE\", \"WED\", \"THU\"]\n",
    "    day=0\n",
    "    \n",
    "    for d in range(1, a+1):\n",
    "        if a==1:\n",
    "            answer=Days[b%7-1]\n",
    "        else:\n",
    "            if d<a:\n",
    "                day+=Month[d]\n",
    "            if d==a:\n",
    "                total_day=day+b\n",
    "                total_day%=7\n",
    "                print(total_day)\n",
    "                answer=Days[total_day-1]\n",
    "    \n",
    "    return answer"
   ]
  },
  {
   "cell_type": "markdown",
   "id": "f3ee47c3",
   "metadata": {},
   "source": [
    "### 220814 K번째수 (11분 1트 클리어)"
   ]
  },
  {
   "cell_type": "code",
   "execution_count": 1,
   "id": "2d767092",
   "metadata": {},
   "outputs": [],
   "source": [
    "\"\"\"\n",
    "풀이는 쉬웠는데 문제 자체를 빨리 이해하는 것의 필요성을 느꼈음.\n",
    "\"\"\"\n",
    "def solution(array, commands):\n",
    "    answer = []\n",
    "    \n",
    "    for n in range(len(commands)):\n",
    "        start=commands[n][0]-1\n",
    "        end=commands[n][1]\n",
    "        list_little=array[start:end]\n",
    "        list_little=sorted(list_little)\n",
    "        answer.append(list_little[commands[n][2]-1])\n",
    "    \n",
    "    return answer"
   ]
  },
  {
   "cell_type": "markdown",
   "id": "41532b92",
   "metadata": {},
   "source": [
    "### 220814 완주하지 못한 선수 (15분 1트 클리어)"
   ]
  },
  {
   "cell_type": "code",
   "execution_count": 6,
   "id": "34cd0800",
   "metadata": {},
   "outputs": [],
   "source": [
    "\"\"\"\n",
    "무조건 참가자 리스트 길이가 완주자 리스트 길이보다 길기 때문에 같은 인덱스 번호로 반복시키면 index 에러가 발생.\n",
    "그래서 그냥 try, except로 완주자 리스트 인덱스에서 에러가 발생하면 미완주자로 정답을 출력하도록 함.\n",
    "\"\"\"\n",
    "def solution(participant, completion):\n",
    "    answer = ''\n",
    "    if len(participant)==len(completion):\n",
    "        pass\n",
    "    else:\n",
    "        participant.sort()\n",
    "        completion.sort()\n",
    "        \n",
    "        try:\n",
    "            for n in range(len(participant)):\n",
    "                if participant[n]==completion[n]:\n",
    "                    pass\n",
    "                else:\n",
    "                    answer=participant[n]\n",
    "                    break\n",
    "        except:\n",
    "            answer=participant[n]\n",
    "\n",
    "    return answer"
   ]
  },
  {
   "cell_type": "markdown",
   "id": "9dbedf9a",
   "metadata": {},
   "source": [
    "### 220814 같은 숫자는 싫어 (10분 1트 클리어)"
   ]
  },
  {
   "cell_type": "code",
   "execution_count": 12,
   "id": "d73fa8dc",
   "metadata": {},
   "outputs": [],
   "source": [
    "\"\"\"\n",
    "무난하게 해결. 특출난 포인트가 없는 문제\n",
    "\"\"\"\n",
    "def solution(arr):\n",
    "    answer=[]\n",
    "    \n",
    "    for n in range(len(arr)-1):\n",
    "        if arr[n]==arr[n+1]:\n",
    "            if n==len(arr)-2:\n",
    "                answer.append(arr[n])\n",
    "            pass\n",
    "        \n",
    "        else:\n",
    "            answer.append(arr[n])\n",
    "            if n==len(arr)-2:\n",
    "                answer.append(arr[n+1])\n",
    "                \n",
    "    return answer"
   ]
  },
  {
   "cell_type": "markdown",
   "id": "7aa21b15",
   "metadata": {},
   "source": [
    "### 220814 크레인 인형뽑기 게임 (20분 1트 실패)"
   ]
  },
  {
   "cell_type": "code",
   "execution_count": 34,
   "id": "706ea273",
   "metadata": {},
   "outputs": [],
   "source": [
    "\"\"\"\n",
    "리스트에서 숫자를 뽑고 0으로 바꾼뒤 결과 리스트를 다시 중복 삭제하는 문제.\n",
    "if board[line_w][line_h]==0: 절에서 index error가 발생해서 원인을 찾는다고 시간을 많이 썼는데,\n",
    "시간이 5분만 더 있었더라면 풀었을 것 같음.\n",
    "테스트 케이스만 어거지로 통과하고 메인 테스트에선 실패\n",
    "\"\"\"\n",
    "def solution(board, moves):\n",
    "    answer = 0\n",
    "    pick=[]\n",
    "\n",
    "    for m in moves:\n",
    "        line_w=0\n",
    "        line_h=m-1\n",
    "\n",
    "        while True:\n",
    "            if board[line_w][line_h]==0:\n",
    "                line_w+=1\n",
    "                if line_w==len(board):\n",
    "                    pick.append(0)\n",
    "                    break\n",
    "            else:\n",
    "                pick.append(board[line_w][line_h])\n",
    "                board[line_w][line_h]=0\n",
    "                break\n",
    "\n",
    "    print(pick)\n",
    "    origin_len=len(pick)\n",
    "    later_len=len(list(set(pick)))\n",
    "    answer=origin_len-later_len+1\n",
    "    return answer"
   ]
  },
  {
   "cell_type": "markdown",
   "id": "7495eae1",
   "metadata": {},
   "source": [
    "### 크레인 인형 뽑기 게임 (30분 2트 실패)"
   ]
  },
  {
   "cell_type": "code",
   "execution_count": 1,
   "id": "265f66ba",
   "metadata": {},
   "outputs": [],
   "source": [
    "\"\"\"\n",
    "인형을 뽑아서 pick 리스트까지는 정상적으로 만들었는데, 연달아 같은 숫자 즉 애니팡처럼 터지는 부분 구현이 안됨.\n",
    "테스트 케이스에선 정상 작동하는데 왜 통과가 안 되는지 모르겠음.\n",
    "\n",
    "\"\"\"\n",
    "def solution(board, moves):\n",
    "    answer = 0\n",
    "    pick=[]\n",
    "\n",
    "    for m in moves:\n",
    "        line_w=0\n",
    "        line_h=m-1\n",
    "\n",
    "        while True:\n",
    "            if board[line_w][line_h]==0:\n",
    "                line_w+=1\n",
    "                if line_w==len(board):\n",
    "                    pick.append(0)\n",
    "                    break\n",
    "            else:\n",
    "                pick.append(board[line_w][line_h])\n",
    "                board[line_w][line_h]=0\n",
    "                break\n",
    "\n",
    "    for _ in range(30):\n",
    "        for n in range(len(pick)-1):\n",
    "            if pick[n]==pick[n+1]:\n",
    "                del pick[n:n+2]\n",
    "                break\n",
    "            else:\n",
    "                if n==len(pick)-2 and pick[n]==pick[n+1]:\n",
    "                    del pick[n:n+2]\n",
    "                    break\n",
    "                else:\n",
    "                    pass\n",
    "    answer=len(pick)\n",
    "    return answer"
   ]
  },
  {
   "cell_type": "markdown",
   "id": "a713e278",
   "metadata": {},
   "source": [
    "### 220815 체육복 (21분 1트 실패)"
   ]
  },
  {
   "cell_type": "code",
   "execution_count": 38,
   "id": "7093a98f",
   "metadata": {},
   "outputs": [],
   "source": [
    "\"\"\"\n",
    "여러 테스트 케이스를 추가도 해봤는데 정확성 테스트에서 문제 몇개가 실패함.\n",
    "아마 최대의 수를 출력해야 하는데 경우의 수를 다 비교하지 못하고 특정 연산만 해서 그런듯 함.\n",
    "\"\"\"\n",
    "def solution(n, lost, reserve):\n",
    "    answer = n\n",
    "    answer-=len(lost)\n",
    "    \n",
    "    for l in lost:\n",
    "        if l in reserve:\n",
    "            reserve.remove(l)\n",
    "            lost.remove(l)\n",
    "            answer+=1\n",
    "            \n",
    "        try:\n",
    "            if l-1 in reserve:\n",
    "                lost.remove(l)\n",
    "                reserve.remove(l-1)\n",
    "                answer+=1\n",
    "            if l+1 in reserve:\n",
    "                lost.remove(l)\n",
    "                reserve.remove(l+1)\n",
    "                answer+=1\n",
    "        except:\n",
    "            answer+=1\n",
    "            \n",
    "    return answer"
   ]
  },
  {
   "cell_type": "markdown",
   "id": "b5368e53",
   "metadata": {},
   "source": [
    "### 220815 체육복 (1시간 2트 실패)"
   ]
  },
  {
   "cell_type": "code",
   "execution_count": 77,
   "id": "9e9b8be6",
   "metadata": {},
   "outputs": [],
   "source": [
    "\"\"\"\n",
    "탐욕법 (그리디) 문제였는데 대소 비교 조건과 삭제 등\n",
    "전체적인 틀은 다 그려졌는데 세부 계산이 안 맞아서 끝까지 통과 못했음.\n",
    "\"\"\"\n",
    "def solution(n, lost, reserve):\n",
    "    answer = n\n",
    "    answer-=len(lost)\n",
    "    lost.sort()\n",
    "    reserve.sort()\n",
    "    \n",
    "    l=len(lost)\n",
    "    while(l<)\n",
    "    for n in range(len(lost)):\n",
    "        if lost[n] in reserve:\n",
    "            print(\"여벌 없는 놈 제거\")\n",
    "            lost.remove(lost[n])\n",
    "            reserve.remove(lost[n])\n",
    "            print(reserve)\n",
    "            answer+=1\n",
    "            n-=2\n",
    "    print(\"정리끝\")\n",
    "    print(lost, reserve, \"\\n\")\n",
    "    \n",
    "    for l in lost:\n",
    "        try:\n",
    "            if l-1 in reserve:\n",
    "                print(\"작은 번호 있음\")\n",
    "                answer+=1\n",
    "                lost.remove(l)\n",
    "                reserve.remove(l-1)\n",
    "                print(lost, reserve)\n",
    "                \n",
    "            if l+1 in reserve:\n",
    "                print(\"큰 번호 있음\")\n",
    "                answer+=1\n",
    "                lost.remove(l)\n",
    "                reserve.remove(l+1)\n",
    "                print(lost, reserve)\n",
    "            \n",
    "        except:\n",
    "                pass\n",
    "            \n",
    "    return answer"
   ]
  },
  {
   "cell_type": "markdown",
   "id": "a122110a",
   "metadata": {},
   "source": [
    "### 220815 키패드누르기 (중도포기)"
   ]
  },
  {
   "cell_type": "code",
   "execution_count": 108,
   "id": "3a7123ad",
   "metadata": {},
   "outputs": [
    {
     "ename": "SyntaxError",
     "evalue": "cannot assign to operator (Temp/ipykernel_18900/3199267529.py, line 21)",
     "output_type": "error",
     "traceback": [
      "\u001b[1;36m  File \u001b[1;32m\"C:\\Users\\ADMINI~1\\AppData\\Local\\Temp/ipykernel_18900/3199267529.py\"\u001b[1;36m, line \u001b[1;32m21\u001b[0m\n\u001b[1;33m    R-d=abs(R_Hand-n)\u001b[0m\n\u001b[1;37m    ^\u001b[0m\n\u001b[1;31mSyntaxError\u001b[0m\u001b[1;31m:\u001b[0m cannot assign to operator\n"
     ]
    }
   ],
   "source": [
    "\"\"\"\n",
    "카카오 인턴쉽 문제인데 풀이 알고리즘이 도통 떠오르질 않아서 몇시간 동안 고민할 바에 일단 포기\n",
    "\"\"\"\n",
    "def solution(numbers, hand):\n",
    "    answer = []\n",
    "    L=[1,4,7]\n",
    "    R=[3,6,9]\n",
    "    M=[2,5,8,0]\n",
    "    L_Hand=\"*\"\n",
    "    R_Hand=\"#\"\n",
    "    \n",
    "    for n in numbers:\n",
    "        if n in L:\n",
    "            answer.append(\"L\")\n",
    "            L_Hand=n\n",
    "        if n in R:\n",
    "            answer.append(\"R\")\n",
    "            R_Hand=n\n",
    "        if n in M:\n",
    "            L_d=abs(L_Hand-n)\n",
    "            R-d=abs(R_Hand-n)\n",
    "            \n",
    "            \n",
    "    return answer"
   ]
  },
  {
   "cell_type": "markdown",
   "id": "ed36cd78",
   "metadata": {},
   "source": [
    "### 220816 문자열 내 p와 y의 개수 (5분 1트 클리어)"
   ]
  },
  {
   "cell_type": "code",
   "execution_count": 1,
   "id": "4d686f00",
   "metadata": {},
   "outputs": [],
   "source": [
    "\"\"\"\n",
    "1트만에 성공은 했는데 풀면서도 '대문자, 소문자를 바꿔서 하면 편할텐데' 생각을 했었는데 \n",
    "우선은 대소문자 변환 없이 풀었음. 밑에 변환하는 과정을 추가해서 연습할 것.\n",
    "\"\"\"\n",
    "def solution(s):\n",
    "    \n",
    "    p=s.count(\"p\")\n",
    "    P=s.count(\"P\")\n",
    "    y=s.count(\"y\")\n",
    "    Y=s.count(\"Y\")\n",
    "    \n",
    "    if p+P==y+Y or (p+P==0 and y+Y==0):\n",
    "        answer=True\n",
    "        \n",
    "    else:\n",
    "        answer=False\n",
    "\n",
    "    return answer"
   ]
  },
  {
   "cell_type": "code",
   "execution_count": null,
   "id": "599ee113",
   "metadata": {},
   "outputs": [],
   "source": [
    "\"\"\"\n",
    "대문자화는 list.upper()로, 소문자화는 list.lower()로 변환할 수 있음.\n",
    "\"\"\"\n",
    "def solution(s):\n",
    "    s=s.upper()\n",
    "    P=s.count(\"P\")\n",
    "    Y=s.count(\"Y\")\n",
    "    \n",
    "    if P==Y or (P+Y==0):\n",
    "        answer=True\n",
    "        \n",
    "    else:\n",
    "        answer=False\n",
    "\n",
    "    return answer"
   ]
  },
  {
   "cell_type": "markdown",
   "id": "4fc7ac56",
   "metadata": {},
   "source": [
    "### 220817 3진법 뒤집기 (30분 1트 성공)"
   ]
  },
  {
   "cell_type": "code",
   "execution_count": null,
   "id": "2fe587d8",
   "metadata": {},
   "outputs": [],
   "source": [
    "\"\"\"\n",
    "3진법으로 변환한 후 (3으로 나눈 나머지를 이용) \n",
    "리스트에 담는 순서를 조정한 후 다시 10진법으로 바꾸는 문제.\n",
    "\n",
    "리스트에 담거나 정렬할때, 반복문의 변수를 복합적으로 사용해야 하는데 버스 안에서 폰으로 풀다보니 시간이 조금 걸림.\n",
    "\"\"\"\n",
    "def solution(n):\n",
    "    answer = 0\n",
    "    remake=[]\n",
    "    \n",
    "    while True:\n",
    "        remain=n%3\n",
    "        n=n//3\n",
    "        remake.append(str(remain))\n",
    "        if n<=0:\n",
    "            break\n",
    "            \n",
    "    index_list=list(reversed(range(len(remake))))\n",
    "    \n",
    "    for num in range(len(remake)):\n",
    "        #print(int(remake[num])*3**index_list[num])\n",
    "        answer+=(int(remake[num])*3**index_list[num])\n",
    "    return answer"
   ]
  },
  {
   "cell_type": "markdown",
   "id": "7c907639",
   "metadata": {},
   "source": [
    "### 220818 부족한 금액 (5분 1트 성공)"
   ]
  },
  {
   "cell_type": "code",
   "execution_count": null,
   "id": "a82ad555",
   "metadata": {},
   "outputs": [],
   "source": [
    "\"\"\"\n",
    "문제 자체는 쉬웠음. 이제는 return 에서 하나의 변수만을 반환하는게 아니라 \n",
    "조건을 걸어서 좀더 간결하게 사용하는게 익숙해짐.\n",
    "\"\"\"\n",
    "def solution(price, money, count):\n",
    "    total_price=0\n",
    "    \n",
    "    for n in range(count):\n",
    "        total_price+=price+price*n\n",
    "\n",
    "    return total_price-money if money<total_price else 0"
   ]
  },
  {
   "cell_type": "markdown",
   "id": "4076d3b2",
   "metadata": {},
   "source": [
    "### 220819 정수 제곱근 판별 (13분 1트 성공)"
   ]
  },
  {
   "cell_type": "code",
   "execution_count": null,
   "id": "5556519c",
   "metadata": {},
   "outputs": [],
   "source": [
    "\"\"\"\n",
    "문제는 쉬웠는데 내가 처음 생각한 알고리즘이 풀고 나니 비효율적으로 느껴짐. 중간에 수정해서 시간이 조금 걸렸는데\n",
    "처음에는 주어진 숫자 n에 루트를 씌우고 숫자를 1더해서 해당 범위까지 반복하도록 한뒤, 나눠 떨어지는지 검사를 했었는데\n",
    "다시 생각해보니 시간은 좀 더 걸리더라도(그래봐야 ms 단위) 그냥 n까지 반복문 돌려서 계산하는게 낫다고 생각해서 바꿈.\n",
    "\"\"\"\n",
    "def solution(n):\n",
    "    answer = 0\n",
    "    \n",
    "    if n==1:\n",
    "        answer=4\n",
    "    else:\n",
    "        for num in range(2, n):\n",
    "            sqr=num**2\n",
    "            if sqr==n:\n",
    "                answer=(num+1)**2\n",
    "                break\n",
    "                \n",
    "    return -1 if answer==0 else answer"
   ]
  },
  {
   "cell_type": "markdown",
   "id": "d7eb4e0e",
   "metadata": {},
   "source": [
    "### 220819 행렬의 덧셈 (20분 1트 성공)"
   ]
  },
  {
   "cell_type": "code",
   "execution_count": null,
   "id": "9cbe70dd",
   "metadata": {},
   "outputs": [],
   "source": [
    "\"\"\"\n",
    "2중 리스트로 구성된 원소를 각 인덱스별로 더하는 문제..\n",
    "반복문의 구동 순서와 인덱스 처리를 연습할 수 있었던 문제. 다행히 전력과 기상 데이터를 다루면서 연습이 많이 된 상태였다..\n",
    "\"\"\"\n",
    "def solution(arr1, arr2):\n",
    "    big_list=[]\n",
    "    \n",
    "    for i in range(len(arr1)):\n",
    "        small_list=[]\n",
    "        for j in range(len(arr1[0])):\n",
    "            sum_num=arr1[i][j]+arr2[i][j]\n",
    "            small_list.append(sum_num)\n",
    "        big_list.append(small_list)\n",
    "        \n",
    "    return big_list"
   ]
  },
  {
   "cell_type": "markdown",
   "id": "2ee15b23",
   "metadata": {},
   "source": [
    "### 220820 소수 찾기 (15분 1트 실패)"
   ]
  },
  {
   "cell_type": "code",
   "execution_count": 1,
   "id": "97b34b9d",
   "metadata": {},
   "outputs": [],
   "source": [
    "\"\"\"\n",
    "2이상의 정수가 주어지면 해당 정수 범위까지 몇개의 소수가 있는지 검사하는 문제\n",
    "테스트케이스 마지막 몇개 때문에 통과를 못했음. \n",
    "에라토스테네스의 체를 써야만 한다는데 다시 시도해봐야겠음.\n",
    "\"\"\"\n",
    "def solution(n):\n",
    "    answer = []\n",
    "    \n",
    "    for num in range(2, n+1):\n",
    "        small_list=[]\n",
    "        for num2 in range(1, num+1):\n",
    "            if num%num2==0:\n",
    "                small_list.append(num2)\n",
    "        if len(small_list)==2:\n",
    "            answer.append(num)\n",
    "        #print(small_list)\n",
    "        \n",
    "    return len(answer)"
   ]
  },
  {
   "cell_type": "markdown",
   "id": "0e4a08d4",
   "metadata": {},
   "source": [
    "### 220826 실패율 (20분 1트 시간초과 실패)"
   ]
  },
  {
   "cell_type": "code",
   "execution_count": 112,
   "id": "edf116d6",
   "metadata": {},
   "outputs": [],
   "source": [
    "\"\"\"\n",
    "풀면서 뭔가 디큐를 쓰면 굉장히 편하게 풀릴것 같다 내지는 정렬 방법에서 한번 고민할것 같다는 생각을 했는데\n",
    "역시나 시간초과로 통과 못했음.\n",
    "\n",
    "테스트 케이스 정답으로 봐서 작동은 올바른 것 같은데 복잡도나 효율성에서 부족한 점이 있는듯\n",
    "\"\"\"\n",
    "def solution(N, stages):\n",
    "    answer = []\n",
    "    stages.sort()\n",
    "    \n",
    "    for lv in range(1, N+1):\n",
    "        users=0\n",
    "        clear=0\n",
    "        for e in stages:\n",
    "            if e>=lv:\n",
    "                users+=1\n",
    "            if e>lv:\n",
    "                clear+=1\n",
    "            else:\n",
    "                pass\n",
    "        percentage=(users-clear)/users\n",
    "        answer.append([lv, percentage])\n",
    "        \n",
    "    answer.sort(key=lambda x:x[1], reverse=True)\n",
    "    \n",
    "    answer2=[]\n",
    "    for e in answer:\n",
    "        answer2.append(e[0])\n",
    "        \n",
    "    return answer2"
   ]
  },
  {
   "cell_type": "markdown",
   "id": "ca752bbf",
   "metadata": {},
   "source": [
    "### 실패율 (15분 2트 풀이 참조)"
   ]
  },
  {
   "cell_type": "code",
   "execution_count": null,
   "id": "d2c5c0fc",
   "metadata": {},
   "outputs": [],
   "source": [
    "\"\"\"\n",
    "내가 처음에 시도했던것과 유사한데 차이점은\n",
    "-난 주어진 리스트를 정렬했지만 이 풀이에서는 불필요한 정렬을 하지 않았다.\n",
    "-난 리스트의 원소를 리스트로 해서 람다식을 썼지만 이 풀이는 딕셔너리를 바로 추가해줬다.\n",
    "\"\"\"\n",
    "def solution(N, stages):\n",
    "    people = len(stages)\n",
    "    fail = {}\n",
    "    \n",
    "    for LV in range(1, N+1):\n",
    "        if people != 0:\n",
    "            fail[LV]=stages.count(LV)/people\n",
    "            people-=stages.count(LV)\n",
    "        else:\n",
    "            fail[LV] = 0\n",
    "            \n",
    "    #print(fail)\n",
    "    return sorted(fail, key=lambda i: fail[i], reverse=True)"
   ]
  },
  {
   "cell_type": "markdown",
   "id": "577f8265",
   "metadata": {},
   "source": [
    "## <2단계>========================="
   ]
  },
  {
   "cell_type": "markdown",
   "id": "25a65eca",
   "metadata": {},
   "source": [
    "### 220814 더맵게 (30분 1트 실패)"
   ]
  },
  {
   "cell_type": "code",
   "execution_count": 1,
   "id": "4670941a",
   "metadata": {},
   "outputs": [],
   "source": [
    "\"\"\"\n",
    "시간과 별개로 heqp 모듈을 쓰지 않고 풀 수는 없나 해서 리스트로도 해봤는데 (추가, 삭제, 정렬 이용)\n",
    "효율성에서 통과하지 못함.\n",
    "\n",
    "아래 코드는 테스트 3, 7번만 통과를 못해서 결과적으론 실패함.\n",
    "\"\"\"\n",
    "import heapq\n",
    "def solution(scoville, K):\n",
    "    answer = 0\n",
    "    heapq.heapify(scoville)\n",
    "    \n",
    "    while scoville[0]<=K and len(scoville)>1:\n",
    "        heapq.heappush(scoville, scoville[0]+scoville[1]*2)\n",
    "        heapq.heappop(scoville)\n",
    "        heapq.heappop(scoville)\n",
    "        answer+=1\n",
    "        \n",
    "    if scoville[0]<K or len(scoville)<1:\n",
    "        answer=-1\n",
    "    return answer"
   ]
  },
  {
   "cell_type": "markdown",
   "id": "c44097de",
   "metadata": {},
   "source": [
    "### 더 맵게 (30분 2트 힌트봄)"
   ]
  },
  {
   "cell_type": "code",
   "execution_count": null,
   "id": "10b06501",
   "metadata": {},
   "outputs": [],
   "source": [
    "\"\"\"\n",
    "heappop으로 바로 삭제되는게 아니라 해당 원소를 출력해서 바로 사용+삭제를 동시에 해서 코드를 간결하게 함.\n",
    "그리고 단순히 간결한게 아니라 위의 코드에서는 heappop을 두번 했는데 달라진 부분은 그것 뿐이니 저 부분에서 문제가 \n",
    "발생해서 통과가 안 됐던 것이라 생각.\n",
    "\"\"\"\n",
    "import heapq\n",
    "def solution(scoville, K):\n",
    "    answer = 0\n",
    "    heapq.heapify(scoville)\n",
    "    \n",
    "    while scoville[0]<=K and len(scoville)>1:\n",
    "        heapq.heappush(scoville, heapq.heappop(scoville)+heapq.heappop(scoville)*2)\n",
    "        answer+=1\n",
    "        \n",
    "    return -1 if scoville[0]<K else answer"
   ]
  },
  {
   "cell_type": "markdown",
   "id": "c9e1ede7",
   "metadata": {},
   "source": [
    "### 220820 가장 큰 수 (25분 1트 실패)"
   ]
  },
  {
   "cell_type": "code",
   "execution_count": null,
   "id": "6f83f009",
   "metadata": {},
   "outputs": [],
   "source": [
    "\"\"\"\n",
    "몇개의 수가 주어졌을 때 붙여서 최대한 큰수를 만드는 문제.\n",
    "순열도 써보고, 맨 앞자리의 크기를 비교하기도 하는 2가지 방법을 시도했는데 해결 못하고 포기\n",
    "\"\"\"\n",
    "\n",
    "# 1안 - 순열을 이용한 풀이\n",
    "from itertools import permutations as PERM\n",
    "def solution(numbers):\n",
    "    \n",
    "    val_list=[]\n",
    "    for n in PERM(numbers, len(numbers)):\n",
    "        n=list(map(str, n))\n",
    "        n_str=''.join(n)\n",
    "        \n",
    "        val_list.append(n_str)\n",
    "        \n",
    "    return max(val_list)\n",
    "\n",
    "# 2안 - 숫자의 맨 앞자리를 비교해서 붙여보려던 풀이\n",
    "def solution(numbers):\n",
    "    val_list=[]\n",
    "    \n",
    "    while(len(numbers)!=0):\n",
    "        small_list=[]\n",
    "        for n in numbers:\n",
    "            small_list.append(str(n)[0])\n",
    "        index=small_list.index(max(small_list))\n",
    "        val_list.append(numbers[index])\n",
    "        del numbers[index]\n",
    "    print(val_list)\n",
    "    \n",
    "    return 0"
   ]
  },
  {
   "cell_type": "markdown",
   "id": "783f4068",
   "metadata": {},
   "source": [
    "### 220829 (답안 해설)"
   ]
  },
  {
   "cell_type": "code",
   "execution_count": null,
   "id": "f0d08658",
   "metadata": {},
   "outputs": [],
   "source": [
    "\"\"\"\n",
    "인터넷 검색해보니까 출처도 안 밝히고 자기가 푼 것마냥 포스팅 수 늘려놓은 블로그 글도 많고,,\n",
    "게시 과정에서 이해를 못해서 와전된 정보들도 있었다. (ex. x*3을 3번 반복이 아닌 3을 곱했다고 해석)\n",
    "\n",
    "풀이 과정에서는 문자열 리스트로 만든 후 자릿수를 3번 반복해서 정렬 후 조인한다는 풀이였는데 암기식 같아 \n",
    "기록만 남기고 넘어가기로 했다.\n",
    "\"\"\"\n",
    "def solution(numbers):\n",
    "    input_list = list(map(str, numbers))\n",
    "    \n",
    "    input_list.sort(key = lambda x:x*3, reverse=True)\n",
    "    answer = ''\n",
    "    answer = answer.join(input_list)\n",
    "    return str(int(answer))"
   ]
  },
  {
   "cell_type": "markdown",
   "id": "dfc36345",
   "metadata": {},
   "source": [
    "### 220821 기능개발 (25분 1트 실패)"
   ]
  },
  {
   "cell_type": "code",
   "execution_count": 2,
   "id": "17ef73a4",
   "metadata": {},
   "outputs": [
    {
     "name": "stdout",
     "output_type": "stream",
     "text": [
      "[0, 1, 2, 3, 4]\n"
     ]
    }
   ],
   "source": [
    "\"\"\"\n",
    "리스트에 작업 현황이 주어지고 각 작업의 속도가 다른데 작업의 완료와 배포(원소 삭제) 카운트가 어려움.\n",
    "다시 해봐야겠음.\n",
    "\"\"\"\n",
    "def solution(progresses, speeds):\n",
    "    answer1 = []\n",
    "    cnt=[]\n",
    "    for n in range(len(progresses)):\n",
    "        answer1.append((100-progresses[n])//speeds[n])\n",
    "    print(answer1)\n",
    "    \n",
    "    num1=answer1[0]\n",
    "    answer2=[]\n",
    "    for n in answer1:\n",
    "        if n>num1:\n",
    "            answer2.append(n)\n",
    "    \n",
    "    cnt.append(len(answer1)-len(answer2))\n",
    "    #print(answer2)\n",
    "    return cnt"
   ]
  },
  {
   "cell_type": "markdown",
   "id": "49ce6a58",
   "metadata": {},
   "source": [
    "### 220823 기능개발 (25분 2트 성공)"
   ]
  },
  {
   "cell_type": "code",
   "execution_count": 56,
   "id": "2950c54e",
   "metadata": {},
   "outputs": [],
   "source": [
    "\"\"\"\n",
    "다시 시도해서 성공했음.\n",
    "문제 구조상 주어진 리스트안의 원소들이 모두 삭제돼야(혹은 1개 남았을때 종료하거나) 끝나므로 while 조건을 원소가 없는 상태로 했음.\n",
    "리스트의 n번째 원소가 삭제되지 못하면 n이후 원소들도 삭제되지 못하므로 중요한 것은 맨 앞 원소의 100여부\n",
    "if 조건에서는 이를 검사해서 앞에서부터 삭제하면서 리스트 앞단에 100이상 원소가 없도록 반복.\n",
    "삭제가 끝나면 cnt 리스트에 삭제한 개수를 추가해주고, while문 처음으로 돌아가면 몇개 삭제 했는지 판단하는 변수 재설정.\n",
    "계속 작업하다가 원소가 안 남으면 error가 발생하므로 try, except로 종료 설정하면서 마지막 삭제 갯수도 추가해줌.\n",
    "\"\"\"\n",
    "def solution(progresses, speeds):\n",
    "    answer = []\n",
    "    cnt=[]\n",
    "    \n",
    "    while len(progresses)>0:\n",
    "        length=len(progresses)\n",
    "        \n",
    "        if progresses[0]>=100:\n",
    "            try:\n",
    "                while progresses[0]>=100:\n",
    "                    del progresses[0]\n",
    "                    del speeds[0]\n",
    "                cnt.append(length-len(progresses))\n",
    "            except:\n",
    "                cnt.append(length-len(progresses))\n",
    "                \n",
    "        else:\n",
    "            for n in range(len(progresses)):\n",
    "                progresses[n]+=speeds[n]\n",
    "\n",
    "    return cnt"
   ]
  },
  {
   "cell_type": "markdown",
   "id": "5ce72da7",
   "metadata": {},
   "source": [
    "### 220822 짝지어 제거하기 (22분 1트 실패)"
   ]
  },
  {
   "cell_type": "code",
   "execution_count": null,
   "id": "3fb89d6e",
   "metadata": {},
   "outputs": [],
   "source": [
    "\"\"\"\n",
    "충분히 해결할 수 있을줄 알았는데 테스트 케이스에서 막힘.\n",
    "\"\"\"\n",
    "def solution(s):\n",
    "    list_s=list(s)\n",
    "    answer = \"\"\n",
    "\n",
    "    start_num=len(list_s)\n",
    "    n=0\n",
    "    \n",
    "    while n<start_num-1:\n",
    "        if list_s[n]==list_s[n+1]:\n",
    "            del list_s[n]\n",
    "            del list_s[n]\n",
    "            start_num-=2\n",
    "            print(list_s)\n",
    "        else:\n",
    "            print(list_s)\n",
    "            n+=1\n",
    "            \n",
    "    if list_s[0]==list_s[1]:\n",
    "        del list_s[0]\n",
    "        del list_s[0]\n",
    "        \n",
    "    return 0 if len(list_s)==start_num else 1"
   ]
  },
  {
   "cell_type": "markdown",
   "id": "ee875a58",
   "metadata": {},
   "source": [
    "### 짝지어 제거하기 (답안 참조 2트)"
   ]
  },
  {
   "cell_type": "code",
   "execution_count": 3,
   "id": "9a4e308d",
   "metadata": {},
   "outputs": [],
   "source": [
    "\"\"\"\n",
    "스택 구조를 이용한 풀이 \n",
    "나는 쭉 나열된 리스트를 슬라이싱해서 n번째와 n+1번째를 비교할 생각만 해서 index 에러나 다른 테스트케이스 실패로 이어짐.\n",
    "스택 구조로 하나 넣고 그다음부터는 같은지 안 같은지 비교해서 없애면 되는데...\n",
    "스택 구조 문제를 풀어본 좋은 경험이었다 생각함.\n",
    "\"\"\"\n",
    "def solution(s): \n",
    "    list_stack = []\n",
    "    for i in s:\n",
    "        if len(list_stack) == 0:\n",
    "            list_stack.append(i)\n",
    "        elif list_stack[-1] == i:\n",
    "            list_stack.pop()\n",
    "        else: list_stack.append(i)\n",
    "\n",
    "    return 1 if len(list_stack) == 0 else 0 "
   ]
  },
  {
   "cell_type": "markdown",
   "id": "400d3e47",
   "metadata": {},
   "source": [
    "### 220822 숫자의 표현 (20분 1트 효율성 실패)"
   ]
  },
  {
   "cell_type": "code",
   "execution_count": null,
   "id": "9e4e8dd6",
   "metadata": {},
   "outputs": [],
   "source": [
    "\"\"\"\n",
    "주어지는 숫자의 절반 정도로 범위를 설정하고 해당 길이의 갯수만큼 숫자를 묶어서 작은 리스트로 만듬.\n",
    "그 리스트의 원소합이 주어지는 숫자와 같다면, 문제 조건인 연속된 숫자의 합으로 표현하는 숫자의 묶음이 됨.\n",
    "시작 answer가 1인 이유는 자기 자신 약수를 갯수에 미리 포함시켰기 때문임.\n",
    "테스트 케이스는 전부 통과했지만 효율성 테스트에서 실패함.\n",
    "\"\"\"\n",
    "def solution(n):\n",
    "    #answer=1인 이유는 자기 자신 약수를 갯수에 미리 포함시켰기 떄문.\n",
    "    answer = 1\n",
    "    list_n=list(range(1, n))\n",
    "    #print(list_n)\n",
    "    end=n//2+1\n",
    "    \n",
    "    #num1은 묶는 숫자 길이를 뜻함.\n",
    "    for num1 in range(2, end+1):\n",
    "        num2=0\n",
    "        while True:\n",
    "            small_list=list_n[num2:num2+num1]\n",
    "            #print(small_list)\n",
    "            num2+=1\n",
    "            if sum(small_list)==n:\n",
    "                answer+=1\n",
    "            if num2==n:\n",
    "                break\n",
    "\n",
    "    return answer"
   ]
  },
  {
   "cell_type": "markdown",
   "id": "d835a57b",
   "metadata": {},
   "source": [
    "### 220823 숫자의 표현 (15분 2트 재도전 성공)"
   ]
  },
  {
   "cell_type": "code",
   "execution_count": 3,
   "id": "55e6d4ba",
   "metadata": {},
   "outputs": [],
   "source": [
    "\"\"\"\n",
    "다시 도전해서 해결함.\n",
    "리스트로 굳이 만들지 않고 그냥 숫자를 더해서 해결했음.\n",
    "1,2,3,4,5=15(15가 되거나 15를 넘으면 break)\n",
    "2,3,4,5,6(15 초과로 break)\n",
    "3,4,5,6(15 초과로 break)\n",
    "4,5,6(15 일치 break)\n",
    "순으로 작동함.\n",
    "\n",
    "제일 처음 시작하는 숫자는 for문에서 결정하고 (최대 절반+1만큼 범위임)\n",
    "while문 안에서 더해주는 숫자는 시작 숫자+1로 정의됨. (왜냐하면 어디서 시작하든 연속해야 하기때문)\n",
    "\n",
    "등차 수열 공식으로 푸는 사람도 있던데 참고하지 않고 내 방식대로 풀어냈음.\n",
    "\"\"\"\n",
    "def solution(n):\n",
    "    answer=1\n",
    "    \n",
    "    for num in range(1, n//2+1):\n",
    "        plus=num+1\n",
    "        while True:\n",
    "            num+=plus\n",
    "            if num==n:\n",
    "                answer+=1\n",
    "                break\n",
    "            if num>n:\n",
    "                break\n",
    "            plus+=1\n",
    "            \n",
    "    return answer"
   ]
  },
  {
   "cell_type": "markdown",
   "id": "b991d9ab",
   "metadata": {},
   "source": [
    "### 220823 구명보트 (20분 1트 실패)"
   ]
  },
  {
   "cell_type": "code",
   "execution_count": null,
   "id": "b52c8b79",
   "metadata": {},
   "outputs": [],
   "source": [
    "\"\"\"\n",
    "테스트케이스와 효율성 테스트에서 실패.\n",
    "알고리즘적으로 풀이에는 문제가 없는듯한테 테스트케이스에서 전부 실패하는걸 보니 뭔가 핵심을 빠뜨린듯.\n",
    "풀이 예시를 보고 다시 풀어봐야 할듯.\n",
    "\"\"\"\n",
    "from itertools import combinations as COMB\n",
    "\n",
    "def solution(people, limit):\n",
    "    answer = 0\n",
    "    \n",
    "    for e in people:\n",
    "        if limit-e<40:\n",
    "            people.remove(e)\n",
    "            answer+=1\n",
    "            \n",
    "    for C in COMB(people, 2):\n",
    "        #print(C)\n",
    "        if sum(C)<=100:\n",
    "            people.remove(C[0])\n",
    "            people.remove(C[1])\n",
    "            answer+=1\n",
    "\n",
    "    answer+=len(people)\n",
    "    return answer"
   ]
  },
  {
   "cell_type": "markdown",
   "id": "c1f6a3d9",
   "metadata": {},
   "source": [
    "### 구명보트 (2트 해설 참조)"
   ]
  },
  {
   "cell_type": "code",
   "execution_count": 58,
   "id": "993e9123",
   "metadata": {},
   "outputs": [],
   "source": [
    "\"\"\"\n",
    "시간복잡성을 줄이기 위한 deque를 사용한 풀이.\n",
    "그냥 리스트를 쓰면 안되나 생각해봤는데 효율성 면에서 deque가 낫다고 함.\n",
    "\n",
    "from collections import deque\n",
    "deq.pop()\n",
    "deq.popleft()\n",
    "\"\"\"\n",
    "from collections import deque\n",
    "def solution(people, limit):\n",
    "    answer = 0\n",
    "    \n",
    "    deq = deque(sorted(people))\n",
    "    while deq:\n",
    "        if len(deq)==1:\n",
    "            answer+=1\n",
    "            break\n",
    "            \n",
    "        if deq[0]+deq[-1]<=limit:\n",
    "            deq.pop()\n",
    "            deq.popleft()\n",
    "            \n",
    "        else:\n",
    "            deq.pop()\n",
    "        answer += 1\n",
    "        \n",
    "    return answer"
   ]
  },
  {
   "cell_type": "markdown",
   "id": "ab5364e8",
   "metadata": {},
   "source": [
    "### 220824 스킬 체크 문제 (1트 성공)"
   ]
  },
  {
   "cell_type": "code",
   "execution_count": null,
   "id": "edbb0924",
   "metadata": {},
   "outputs": [],
   "source": [
    "\"\"\"\n",
    "자연수 n이 주어지고 그 수를 2진으로 변환했을 때 1의 수를 세야한다. 그리고 n보다 큰 수에서 2진 변환시 1의 수가 \n",
    "처음 n과 같은 조건을 만족하는 가장 작은 수를 반환하는 문제.\n",
    "\n",
    "풀긴했는데 내가 짰지만 구조가 마음에 안듬. 특히 번거로워서 그냥 for문에서 범위를 랜덤수로 크게 설정했지만 \n",
    "while을 쓰고 서로 다른 변수를 두번 지정하는게 낫지않았나 생각됨. ex) n2=n, num=n2\n",
    "\"\"\"\n",
    "def solution(n):\n",
    "    cnt_n=0\n",
    "    cnt=0\n",
    "    for num in range(n, 10000000):\n",
    "        if cnt_n==cnt and num!=n:\n",
    "            break\n",
    "        if num==n:\n",
    "            while num>0:\n",
    "                #print(num%2, num)\n",
    "                if num%2==1:\n",
    "                    cnt_n+=1\n",
    "                num//=2\n",
    "        else:\n",
    "            cnt=0\n",
    "            while num>0:\n",
    "                #print(num%2, num)\n",
    "                if num%2==1:\n",
    "                    cnt+=1\n",
    "                num//=2\n",
    "\n",
    "    return num-1"
   ]
  },
  {
   "cell_type": "markdown",
   "id": "4a8b51d9",
   "metadata": {},
   "source": [
    "### 220824 올바른 괄호 (20분 1트 실패)"
   ]
  },
  {
   "cell_type": "code",
   "execution_count": 63,
   "id": "36f13db9",
   "metadata": {},
   "outputs": [],
   "source": [
    "\"\"\"\n",
    "테스트케이스 4개빼고 다른 테스트는 다 통과했는데 생각해봐도 왜 문제인지 모르겠음.\n",
    "다른 사람들은 deque를 썼을지도 모르는데 이참에 stack과 deque를 능숙하게 쓸 수 있도록 연습해야겠음.\n",
    "\"\"\"\n",
    "def solution(s):\n",
    "    answer=False\n",
    "    state=0\n",
    "    stack=[]\n",
    "    \n",
    "    for n in range(len(s)):\n",
    "        if n==0 and s[0]==\")\":\n",
    "            return False\n",
    "        else:\n",
    "            if len(stack)==0:\n",
    "                stack.append(s[n])\n",
    "            elif stack[-1]==s[n]:# 일단 여기 조건 의도랑 틀림!\n",
    "                stack.pop()\n",
    "            else:\n",
    "                stack.append(s[n])\n",
    "                \n",
    "    start1=s.count(\"(\")\n",
    "    end1=s.count(\")\")\n",
    "    start2=stack.count(\"(\")\n",
    "    end2=stack.count(\")\")\n",
    "\n",
    "    if start1==end1 and start2==end2:\n",
    "        return True\n",
    "    else:\n",
    "        return False"
   ]
  },
  {
   "cell_type": "markdown",
   "id": "f36b0de4",
   "metadata": {},
   "source": [
    "### 올바른 괄호 (3트 풀이 참조)"
   ]
  },
  {
   "cell_type": "code",
   "execution_count": 67,
   "id": "ab9ee870",
   "metadata": {},
   "outputs": [],
   "source": [
    "\"\"\"\n",
    "if list: 조건은 리스트에 원소가 있는지 없는지 검사. 원소가 있다면 True, if not list를 한다면 비어있을 때 적용.\n",
    "deque.pop을 하면 해당 원소를 빼내고 변수에 저장할 수 있는데 이걸 바로 떠올리지 못했음.\n",
    "\n",
    "else의 경우는 answer=False로 처리되고 s_dq의 나머지 슬라이싱 요소들도 처리하기 때문에 조금이라도 빠른 처리를 위해\n",
    "break를 걸어줬음.\n",
    "\"\"\"\n",
    "from collections import deque\n",
    "def solution(s):\n",
    "    s_dq = deque(s)\n",
    "    stack = []\n",
    "    answer = True\n",
    "\n",
    "    while s_dq:\n",
    "        v = s_dq.popleft()\n",
    "        if v == \"(\":\n",
    "            stack.append(v)\n",
    "        elif v == \")\" and stack and stack[-1] == \"(\":\n",
    "            stack.pop()\n",
    "        else:\n",
    "            answer = False\n",
    "            break\n",
    "            \n",
    "    return False if stack else answer"
   ]
  },
  {
   "cell_type": "markdown",
   "id": "22fe7d98",
   "metadata": {},
   "source": [
    "### 220824 124 나라의 숫자 (25분 1트 실패)"
   ]
  },
  {
   "cell_type": "code",
   "execution_count": 73,
   "id": "6f1413af",
   "metadata": {},
   "outputs": [],
   "source": [
    "\"\"\"\n",
    "테스트케이스 전부 실패함. 다른 사람들 질문을 보니 조건에는 자연수라 해놓고 0도 포함되있다고 함.\n",
    "\"\"\"\n",
    "def solution(n):\n",
    "    answer = ''\n",
    "    change={'1':'1', '2':'2', '3':'4', '4':'11', '5':'12', '6':'14', '7':'21', '8':'22', '9':'24', '10':'41'}\n",
    "    n=str(n)\n",
    "\n",
    "    for num in range(len(n)):\n",
    "        if num!=len(n)-1 and n[num]=='1' and n[num+1]=='0':\n",
    "            if n[num+1]=='0':\n",
    "                answer+=change['10']\n",
    "            else:\n",
    "                answer+=change['1']\n",
    "        else:\n",
    "            if n[num]=='0':\n",
    "                pass\n",
    "            else:\n",
    "                answer+=change[n[num]]\n",
    "                     \n",
    "    return answer"
   ]
  },
  {
   "cell_type": "markdown",
   "id": "74ff2cdf",
   "metadata": {},
   "source": [
    "### 124 나라의 숫자 (15분 2트 실패)"
   ]
  },
  {
   "cell_type": "code",
   "execution_count": 76,
   "id": "bd855c8c",
   "metadata": {},
   "outputs": [],
   "source": [
    "\"\"\"\n",
    "테스트 케이스 실패함.\n",
    "0의 경우를 추가해줬는데도 되질 않음. 전부 실패하는걸 보니 뭔가 빠뜨린게 있는듯 한데 모르겠음.\n",
    "\"\"\"\n",
    "def solution(n):\n",
    "    answer = ''\n",
    "    change={'1':'1', '2':'2', '3':'4', '4':'11', '5':'12', '6':'14', '7':'21', '8':'22', '9':'24', '10':'41'}\n",
    "    n=str(n)\n",
    "\n",
    "    for num in range(len(n)):\n",
    "        if num!=len(n)-1 and n[num]=='1' and n[num+1]=='0':\n",
    "            if n[num+1]=='0':\n",
    "                answer+=change['10']\n",
    "            else:\n",
    "                answer+=change['1']\n",
    "        else:\n",
    "            if n[num]=='0':\n",
    "                if n[num-1]=='1':\n",
    "                    pass\n",
    "                else:\n",
    "                    answer+='0'\n",
    "            else:\n",
    "                answer+=change[n[num]]\n",
    "                     \n",
    "    return answer"
   ]
  },
  {
   "cell_type": "markdown",
   "id": "9cb6ed32",
   "metadata": {},
   "source": [
    "### 220825 124 나라의 숫자 (2트 풀이참조 10분) "
   ]
  },
  {
   "cell_type": "code",
   "execution_count": null,
   "id": "91e8c723",
   "metadata": {},
   "outputs": [],
   "source": [
    "\"\"\"\n",
    "3진법과 유사하게 풀되, 3대신 4로 변환해야 하고 answer에 더해줄때 연산 나머지를 문자열로 바꾼 것을 더해주기 때문에\n",
    "순서를 answer=값+answer로 했음. (answer+=값로 하면 틀림.)\n",
    "\"\"\"\n",
    "def solution(n):\n",
    "    answer = ''\n",
    "    \n",
    "    while n>0:\n",
    "        if n%3==0:\n",
    "            answer=\"4\"+answer\n",
    "            n=n//3-1\n",
    "        else:\n",
    "            answer=str(n%3)+answer\n",
    "            n//=3\n",
    "            \n",
    "    return answer"
   ]
  },
  {
   "cell_type": "markdown",
   "id": "6c62d502",
   "metadata": {},
   "source": [
    "### 220825 위장 (1트 20분 실패)"
   ]
  },
  {
   "cell_type": "code",
   "execution_count": null,
   "id": "41d70c3c",
   "metadata": {},
   "outputs": [],
   "source": [
    "\"\"\"\n",
    "문제 중에 4개인가 빼고 다 맞췄는데 시간초과로 실패했음.\n",
    "옷 종류별로 반드시 1개는 착용하되 각 파츠는 중복되지 않도록 입어야 하는 문제인데\n",
    "\n",
    "처음에 옷 종류를 리스트로 담아서 구함.(왜냐하면 옷파츠 종류가 3개라 하면 1개, 2개, 3개로 착용수가 달라지기 때문)\n",
    "->옷 종류 갯수만큼 for문을 돌면서 1개 입을때는 중복이 없으니 answer에 바로 카운트, 2개 이상일땐 파츠 중복 검사해서 카운트\n",
    "\n",
    "방식으로 코딩 했더니 리스트에 담고 다시 정렬하고 세는 과정에서 시간을 초과한 듯함. 해시 문제이니 해시에 대해\n",
    "추가로 공부를 더하고 다시 풀어봐야 할 듯.\n",
    "\"\"\"\n",
    "from itertools import combinations as COMB\n",
    "\n",
    "def solution(clothes):\n",
    "    answer = 0\n",
    "    \n",
    "    part_list=[]\n",
    "    for l in clothes:\n",
    "        part_list.append(l[1])\n",
    "        \n",
    "    part_num=len(list(set(part_list)))\n",
    "    \n",
    "    for n in range(1, part_num+1):\n",
    "        for c in COMB(clothes, n):\n",
    "            if n==1:\n",
    "                answer+=1\n",
    "            else:\n",
    "                part_choose=[]\n",
    "                for i in range(n):\n",
    "                    part_choose.append(c[i][1])\n",
    "                if len(part_choose)==len(list(set(part_choose))):\n",
    "                    answer+=1\n",
    "                else:\n",
    "                    pass\n",
    "    return answer"
   ]
  },
  {
   "cell_type": "markdown",
   "id": "f43a3aa4",
   "metadata": {},
   "source": [
    "### 위장 (해설지 해시 이용 풀이)"
   ]
  },
  {
   "cell_type": "code",
   "execution_count": 78,
   "id": "76af4b65",
   "metadata": {},
   "outputs": [],
   "source": [
    "\"\"\"\n",
    "(종류별 옷의 수 + 1)를 각각 곱하고 마지막에 아무것도 안 입는 경우인 1을 빼주면 수식을 통한 계산과 풀이가 완료됨.\n",
    "옷의 종류가 3가지이고 A가 2벌, B가 3벌 ,C가 4벌이라면 (2+1)*(3+1)*(4+1)-1 로 계산된다.\n",
    "\n",
    "수식이 복잡한것은 둘째치고 해시를 이용한 특정 키로 아이템들을 묶어주는 해시식 정렬을 연습해야 된다고 생각함.\n",
    "\n",
    "from collections impor defaultdict\n",
    "dic=defaultdict(list)\n",
    "\n",
    "key로 item 원소들 넣기\n",
    "for item,key in 리스트:\n",
    "    dic[key].append(item)\n",
    "\n",
    "key로 정렬된 원소들의 갯수나 꺼내기가 가능\n",
    "for key in dic.keys():\n",
    "    실행할 명령들\n",
    "\"\"\"\n",
    "from collections import defaultdict\n",
    "\n",
    "def solution(clothes):\n",
    "    dic = defaultdict(list)\n",
    "    answer = 1\n",
    "    print(dic)\n",
    "    \n",
    "    for item, key in clothes:\n",
    "        dic[key].append(item)\n",
    "        print(dic)\n",
    "        \n",
    "    for key in dic.keys():\n",
    "        answer *= len(dic[key]) + 1\n",
    "\n",
    "    answer -= 1\n",
    "    return answer"
   ]
  },
  {
   "cell_type": "code",
   "execution_count": 80,
   "id": "be165f43",
   "metadata": {},
   "outputs": [
    {
     "name": "stdout",
     "output_type": "stream",
     "text": [
      "defaultdict(<class 'list'>, {})\n",
      "defaultdict(<class 'list'>, {'headgear': ['yellow_hat']})\n",
      "defaultdict(<class 'list'>, {'headgear': ['yellow_hat'], 'eyewear': ['blue_sunglasses']})\n",
      "defaultdict(<class 'list'>, {'headgear': ['yellow_hat', 'green_turban'], 'eyewear': ['blue_sunglasses']})\n"
     ]
    },
    {
     "data": {
      "text/plain": [
       "5"
      ]
     },
     "execution_count": 80,
     "metadata": {},
     "output_type": "execute_result"
    }
   ],
   "source": [
    "solution([[\"yellow_hat\", \"headgear\"], [\"blue_sunglasses\", \"eyewear\"], [\"green_turban\", \"headgear\"]])"
   ]
  },
  {
   "cell_type": "markdown",
   "id": "fbe8bdc1",
   "metadata": {},
   "source": [
    "### 220825 다리를 지나는 트럭 (1트 25분 실패지만 문제 이상)"
   ]
  },
  {
   "cell_type": "code",
   "execution_count": 110,
   "id": "19dc7e05",
   "metadata": {},
   "outputs": [],
   "source": [
    "\"\"\"\n",
    "1차로 풀어봤는데 풀면서도 '이상하다~' 생각은 했지만 다른 사람 질문을 보니 확실해짐.\n",
    "트럭이 다리를 지나는 시간은 얼마인지 안 주어져있어서 제대로 풀수가 없음.\n",
    "나는 그냥 트럭의 무게만 생각하고 1초만에 지나가는 걸로 생각했는데 2번 케이스부터 결과가 아예 틀려버림.\n",
    "\n",
    "만약 차의 이동 속도를 고려했다면 0으로 이뤄진 리스트를 만들었을 것임.\n",
    "다리 길이가 5라면 [0,0,0,0,0]\n",
    "\"\"\"\n",
    "from collections import deque\n",
    "\n",
    "def solution(bridge_length, weight, truck_weights):\n",
    "    sec = 0\n",
    "    waiting=deque(truck_weights)\n",
    "    bridge=deque([])\n",
    "    \n",
    "    while waiting:\n",
    "        # 다리 위에 차가 없을 때\n",
    "        if not bridge:\n",
    "            # 다리 하중과 길이 최대 범위 안으로 차 다리에 올리기\n",
    "            while sum(bridge)<weight and len(bridge)<bridge_length:\n",
    "                try:\n",
    "                    truck=waiting.popleft()\n",
    "                    bridge.append(truck)\n",
    "                    sec+=1\n",
    "                    print(\"차 넣었다\", bridge, sec)\n",
    "                    if sum(bridge)>weight:\n",
    "                        print(\"무겁다 차 빼자\", bridge, sec)\n",
    "                        bridge.popleft()\n",
    "                        sec+=1\n",
    "                except:\n",
    "                    sec+=1\n",
    "                    break\n",
    "        # 다리 위에 차가 있을 때(or최대 조건까지 채웠을때)\n",
    "        elif bridge:\n",
    "            bridge.popleft()\n",
    "            sec+=1\n",
    "            print(\"차 빼자\", bridge, sec)\n",
    "            \n",
    "    return sec"
   ]
  },
  {
   "cell_type": "code",
   "execution_count": 111,
   "id": "277c7948",
   "metadata": {},
   "outputs": [
    {
     "name": "stdout",
     "output_type": "stream",
     "text": [
      "차 넣었다 deque([7]) 2\n",
      "차 넣었다 deque([7, 4]) 3\n",
      "무겁다 차 빼자 deque([7, 4]) 3\n",
      "차 넣었다 deque([4, 5]) 5\n",
      "차 빼자 deque([5]) 6\n",
      "차 빼자 deque([]) 7\n",
      "차 넣었다 deque([6]) 8\n"
     ]
    },
    {
     "data": {
      "text/plain": [
       "8"
      ]
     },
     "execution_count": 111,
     "metadata": {},
     "output_type": "execute_result"
    }
   ],
   "source": [
    "solution(2,10,[7,4,5,6])"
   ]
  },
  {
   "cell_type": "markdown",
   "id": "b4520842",
   "metadata": {},
   "source": [
    "### 220829 N개의 최소공배수 (11분 1트 포기)"
   ]
  },
  {
   "cell_type": "code",
   "execution_count": 113,
   "id": "01b08cb3",
   "metadata": {},
   "outputs": [],
   "source": [
    "\"\"\"\n",
    "디큐로 재정렬해서 하나를 뽑은 뒤에 만약 해당 수로 나눠진다면 이미 그 수는 뒤의 수에 포함된 약수이니 제거하는 식으로\n",
    "최소공배수를 구하려고 해봤는데 일단 계산 알고리즘이 틀림.\n",
    "\n",
    "소인수 분해 방식을 통해 각각의 약수들을 리스트로 담고 전부 하나의 리스트로 합친 뒤 set으로 정렬하면\n",
    "최소공배수가 나올거라 생각은 했는데 구현하더라도 시간 제한과 효율성 테스트에서 걸릴 것 같아 포기함.\n",
    "\"\"\"\n",
    "from collections import deque\n",
    "def solution(arr):\n",
    "    answer = 1\n",
    "    arr=deque(arr)\n",
    "    \n",
    "    while arr:\n",
    "        n=arr.popleft()\n",
    "        print(n)\n",
    "        for num in arr:\n",
    "            if num%n==0:\n",
    "                pass\n",
    "            else:\n",
    "                answer*=n\n",
    "    return answer"
   ]
  },
  {
   "cell_type": "markdown",
   "id": "eaf94b6d",
   "metadata": {},
   "source": [
    "### N개의 최소 공배수 (2트 해설 참조)"
   ]
  },
  {
   "cell_type": "code",
   "execution_count": 114,
   "id": "1b689e57",
   "metadata": {},
   "outputs": [],
   "source": [
    "\"\"\"\n",
    "검색해보니 최소공배수는 math 라이브러리의 gcd 모듈로 최대공약수를 구해서 공식으로 간편하게 구할 수 있었음.\n",
    "\n",
    "여태까지 모듈 임포트를 함수 선언 밖에 했었는데 실사용을 생각해보면 함수 안에 정의하는게 당연한데 문제 푸는데만\n",
    "급급해서 놓치고 있었음.\n",
    "\n",
    "해당 풀이에서는 \n",
    "1. (arr[0], arr[1])로 최소공배수를 구해서 answer에 저장\n",
    "2. (1.의 최소공배수, arr[2]의 최소공배수를 구해서 answer에 저장)\n",
    "3. arr의 모든 원소를 돌면서 저장을 갱신 \n",
    "하는 방식으로 풀이\n",
    "\"\"\"\n",
    "def solution(arr):\n",
    "    from math import gcd\n",
    "    answer=arr[0]\n",
    "    \n",
    "    for n in arr:\n",
    "        answer=answer*n//gcd(answer, n)\n",
    "        print(answer)\n",
    "        \n",
    "    return answer"
   ]
  },
  {
   "cell_type": "code",
   "execution_count": 115,
   "id": "4a1def24",
   "metadata": {},
   "outputs": [
    {
     "data": {
      "text/plain": [
       "'\\n파이썬 3.9 버전 이상에서는 최대공약수 gcd 모듈 뿐만 아니라 최소공배수 lcm 모듈도 제공함.\\nlcm(n1, n2, n3 ,n4)의 형식으로 편하게 사용 가능\\n'"
      ]
     },
     "execution_count": 115,
     "metadata": {},
     "output_type": "execute_result"
    }
   ],
   "source": [
    "\"\"\"\n",
    "파이썬 3.9 버전 이상에서는 최대공약수 gcd 모듈 뿐만 아니라 최소공배수 lcm 모듈도 제공함.\n",
    "lcm(n1, n2, n3 ,n4)의 형식으로 편하게 사용 가능\n",
    "\"\"\""
   ]
  },
  {
   "cell_type": "markdown",
   "id": "a9edb437",
   "metadata": {},
   "source": [
    "### 220829 삼각 달팽이 (13분 1트 실패)"
   ]
  },
  {
   "cell_type": "code",
   "execution_count": 116,
   "id": "1f20c504",
   "metadata": {},
   "outputs": [],
   "source": [
    "\"\"\"\n",
    "뭔가 삼각형을 보고 있자니 각 행별로 리스트를 구하는 것이니 숫자에 규칙이 있을거라 생각해서\n",
    "n=7인 경우를 직접 그려가며 마지막과 마지막전행, 4행까지는 규칙을 찾았지만 억지로 규칙을 찾는 것 같고,\n",
    "1000 이하의 범위에서 검증할 자신이 없어서 해당 방법은 포기함.\n",
    "\"\"\"\n",
    "def solution(n):\n",
    "    answer = []\n",
    "    \"\"\"\n",
    "    맨 마지막 행의 원소수는 n개임.\n",
    "    맨 마지막 행 리스트의 시작과 끝은 [n, 2n-1]\n",
    "    각 행의 시작과 끝은 [행수, 3n-1-행수]\n",
    "    첫 행과 마지막 행을 제외하곤 각 행들은 n번째 일때 n으로 시작함.\n",
    "    n이 n-1개만큼 원소를 더해줘야 하고 3행부터 규칙은\n",
    "    3, 3n-1-행수=14(이건 끝값), 14+행= 두번째 원소, \n",
    "    \"\"\"\n",
    "    \n",
    "    return answer"
   ]
  },
  {
   "cell_type": "markdown",
   "id": "aa5c8d69",
   "metadata": {},
   "source": [
    "### 220829 주차 요금 계산 (25분 1트 실패)"
   ]
  },
  {
   "cell_type": "code",
   "execution_count": 117,
   "id": "16f71c0d",
   "metadata": {},
   "outputs": [],
   "source": [
    "\"\"\"\n",
    "뭔가 풀이 알고리즘이 그려는 지는데 시간초과라 실패 처리.\n",
    "시간 좀 지나서 재도전하거나 풀이를 봐야겠음.\n",
    "\"\"\"\n",
    "def solution(fees, records):\n",
    "    from math import ceil as UP\n",
    "    #fees=[기본시간, 기본 요금, 단위 시간, 단위 요금]\n",
    "    \n",
    "    parking={}\n",
    "    \n",
    "    for car in records:\n",
    "        TIME=car[:5]\n",
    "        CAR_NUM=int(car[6:10])\n",
    "        IO=car[-2:]\n",
    "        \n",
    "        if IO==\"IN\":\n",
    "            print(IO, CAR_NUM, TIME)\n",
    "            parking[CAR_NUM].append(TIME)\n",
    "            parking[CAR_NUM].append(0)\n",
    "        else:\n",
    "            print(IO, CAR_NUM, TIME)\n",
    "            IN_TIME=parking[CAR_NUM][0].pop()\n",
    "            \n",
    "            \n",
    "    return 0"
   ]
  },
  {
   "cell_type": "markdown",
   "id": "f1bea912",
   "metadata": {},
   "source": [
    "### 220830 최댓값과 최솟값 (20분 1트 성공)"
   ]
  },
  {
   "cell_type": "code",
   "execution_count": 2,
   "id": "b873c7f3",
   "metadata": {},
   "outputs": [],
   "source": [
    "\"\"\"\n",
    "처음에는 문자열 슬라이싱으로 앞뒤 다 비교해서 숫자 리스트에 추가하려 했는데 너무 지저분해져서 1안 파기하고 \n",
    "주어진 문자열을 공백 기준으로 split 한뒤 각 덩어리별로 구분해서 숫자 리스트에 추가하도록 풀었음.\n",
    "\n",
    "2자리 이상 수가 문제인데 처음에 문자열로 주어지기 때문에 11의 경우 1을 먼저 저장하고 그 다음이 공백이 아니면\n",
    "(=숫자 뒤에 또 숫자가 있다는것=2자리 이상의 수라는 것)\n",
    "다음 숫자도 문자열로 붙힌뒤 \n",
    "공백을 만났을 때 해당 변수를 int로 변경해서 list에 추가하도록 했음.\n",
    "\n",
    "최소랑 최대를 구하는건 리스트 정렬 뒤 양 끝 원소 고르면 되니 별거 없음.\n",
    "\"\"\"\n",
    "def solution(s):\n",
    "    s.split(\" \")\n",
    "    \n",
    "    number=[]\n",
    "    num=\"\"\n",
    "    \n",
    "    for l in s:\n",
    "        if l==\" \":\n",
    "            number.append(int(num))\n",
    "            num=\"\"\n",
    "            pass\n",
    "        else:\n",
    "            num+=l\n",
    "        #print(num)\n",
    "        \n",
    "    number.append(int(num))\n",
    "    number.sort()\n",
    "    \n",
    "    return str(number[0])+\" \"+str(number[-1])"
   ]
  },
  {
   "cell_type": "markdown",
   "id": "a2c8f4ec",
   "metadata": {},
   "source": [
    "### 220830 스킬트리 (18분 1트 성공)"
   ]
  },
  {
   "cell_type": "code",
   "execution_count": 20,
   "id": "f636fc7d",
   "metadata": {},
   "outputs": [],
   "source": [
    "\"\"\"\n",
    "처음엔 deque를 써서 하나씩 없애가며 풀어보려다가 해당 방법은 연속된 순서 불일치의 경우만 잡아서 폐기.\n",
    "\n",
    "생각해보니 비슷한 알고리즘이지만 이번엔 리스트로 푸는게 훨씬 편할 것 같아서 리스트로 풀었음.\n",
    "\n",
    "만약 스킬트리(문자열)의 첫 글자가 스킬트리의 첫번째 글자와 일치하면 스킬트리의 첫 글자는 삭제.\n",
    "만약에 skill의 첫글자를 제외한 뒷글자와 일치한다면 순서를 무시하고 스킬을 익히는 것이니 \n",
    "뒤의 cnt+=1을 생각해서 미리 1을 빼주고 break\n",
    "\n",
    "\"\"\"\n",
    "def solution(skill, skill_trees):\n",
    "    cnt=0\n",
    "    \n",
    "    for tree in skill_trees:\n",
    "        skill_l=list(skill)\n",
    "        for l in tree:\n",
    "            try:\n",
    "                print(l, skill_l)\n",
    "                if l==skill_l[0]:\n",
    "                    del skill_l[0]\n",
    "                elif l in skill_l[1:]:\n",
    "                    cnt-=1\n",
    "                    break\n",
    "            except:\n",
    "                break\n",
    "        cnt+=1\n",
    "        print()\n",
    "        \n",
    "    return cnt"
   ]
  },
  {
   "cell_type": "code",
   "execution_count": 21,
   "id": "34998c1a",
   "metadata": {},
   "outputs": [
    {
     "name": "stdout",
     "output_type": "stream",
     "text": [
      "B ['C', 'B', 'D']\n",
      "\n",
      "C ['C', 'B', 'D']\n",
      "B ['B', 'D']\n",
      "A ['D']\n",
      "D ['D']\n",
      "F []\n",
      "\n",
      "A ['C', 'B', 'D']\n",
      "E ['C', 'B', 'D']\n",
      "C ['C', 'B', 'D']\n",
      "B ['B', 'D']\n",
      "\n",
      "B ['C', 'B', 'D']\n",
      "\n"
     ]
    },
    {
     "data": {
      "text/plain": [
       "2"
      ]
     },
     "execution_count": 21,
     "metadata": {},
     "output_type": "execute_result"
    }
   ],
   "source": [
    "solution(\"CBD\", [\"BACDE\", \"CBADF\", \"AECB\", \"BDA\"])"
   ]
  },
  {
   "cell_type": "markdown",
   "id": "f1c46459",
   "metadata": {},
   "source": [
    "### 220831 줄 서는 방법 (5분 1트 실패)"
   ]
  },
  {
   "cell_type": "code",
   "execution_count": 1,
   "id": "abcdc083",
   "metadata": {},
   "outputs": [],
   "source": [
    "\"\"\"\n",
    "숫자 1부터 n까지 있을 때 k번째 리스트를 구하는 문제.\n",
    "순열로 풀면 간단할거라 생각해서 바로 itertools를 썼는데 역시나 효율성 테스트에서 떨어짐.\n",
    "\"\"\"\n",
    "def solution(n, k):\n",
    "    from itertools import permutations as PERM\n",
    "    \n",
    "    cnt=0\n",
    "    for l in PERM(list(range(1,n+1)), n):\n",
    "        cnt+=1\n",
    "        answer=l\n",
    "        if cnt==k:\n",
    "            break\n",
    "            \n",
    "    return answer"
   ]
  },
  {
   "cell_type": "markdown",
   "id": "8d872be0",
   "metadata": {},
   "source": [
    "### 220911 줄 서는 방법 (답안)"
   ]
  },
  {
   "cell_type": "code",
   "execution_count": null,
   "id": "6050feac",
   "metadata": {},
   "outputs": [],
   "source": [
    "\"\"\"\n",
    "math 모듈의 팩토리얼을 이용해서 시간효율성을 챙긴 풀이.\n",
    "답안을 보고 이해는 했다만 만약 처음 보는 문제였더라면 바로 생각은 못 했을듯.\n",
    "난이도가 올라갈수록 코딩보단 수학적 풀이 능력을 요구하는게 많이 보여서 좀 의구심이 많이듬.\n",
    "\"\"\"\n",
    "def solution(n, k):\n",
    "    import math\n",
    "    Nums = list(range(1, n+1))\n",
    "    Answer = []\n",
    "    while n != 0:\n",
    "        temp = math.factorial(n-1)\n",
    "        Index, k = (k-1)//temp, k%temp\n",
    "        Answer.append(Nums.pop(Index))\n",
    "        n -= 1\n",
    "    return Answer"
   ]
  },
  {
   "cell_type": "markdown",
   "id": "80e1646b",
   "metadata": {},
   "source": [
    "### 220831 다음 큰 숫자 (1트 21분 성공)"
   ]
  },
  {
   "cell_type": "code",
   "execution_count": 32,
   "id": "751e8a94",
   "metadata": {},
   "outputs": [],
   "source": [
    "\"\"\"\n",
    "처음 보자마자 풀이법은 바로 생각났음.\n",
    "근데 상수 변수가 계속 초기화가 되서(0나 1로) 잠깐 헤맨다고 시간 좀 걸렸음.\n",
    "\n",
    "주어지는 숫자 n을 start_num과 num으로 별도 지정해서 해결\n",
    "\n",
    "다른 사람 풀이를 봤는데 2진 숫자로 바꾸는건 bin(n)으로 간단하게 할 수 있었음. \n",
    "대신 문자열로 반환하기 때문에숫자를 카운트할때 따옴표를 씌워서 문자열로 검색해야함.\n",
    "bin(n).count(\"1\")\n",
    "\"\"\"\n",
    "def solution(n):\n",
    "    answer = 0\n",
    "    binary_cnt_n=0\n",
    "    start_num=n\n",
    "\n",
    "    while True:\n",
    "        num=n\n",
    "        binary_cnt=0\n",
    "        print(num)\n",
    "        if num==start_num:\n",
    "            while num>0:\n",
    "                if num%2==1:\n",
    "                    binary_cnt_n+=1\n",
    "                num//=2\n",
    "        else:\n",
    "            while num>0:\n",
    "                if num%2==1:\n",
    "                    binary_cnt+=1\n",
    "                num//=2\n",
    "            if binary_cnt==binary_cnt_n:\n",
    "                break\n",
    "        print(binary_cnt_n, binary_cnt)\n",
    "        n+=1\n",
    "    \n",
    "    return n"
   ]
  },
  {
   "cell_type": "code",
   "execution_count": 31,
   "id": "d509659f",
   "metadata": {},
   "outputs": [
    {
     "name": "stdout",
     "output_type": "stream",
     "text": [
      "78\n",
      "4 0\n",
      "79\n",
      "4 5\n",
      "80\n",
      "4 2\n",
      "81\n",
      "4 3\n",
      "82\n",
      "4 3\n",
      "83\n"
     ]
    },
    {
     "data": {
      "text/plain": [
       "83"
      ]
     },
     "execution_count": 31,
     "metadata": {},
     "output_type": "execute_result"
    }
   ],
   "source": [
    "solution(78)"
   ]
  },
  {
   "cell_type": "markdown",
   "id": "a116dba3",
   "metadata": {},
   "source": [
    "### 220901 주식가격 (1트 12분 실패)"
   ]
  },
  {
   "cell_type": "code",
   "execution_count": null,
   "id": "fc4a10fd",
   "metadata": {},
   "outputs": [],
   "source": [
    "\"\"\"\n",
    "문제가 엉망, 다른 사람들 후기도 봤는데 효율성이나 지문 조건이 제대로 정의도 안 돼있어서 연습도 제대로 안되는 문제\n",
    "\"\"\"\n",
    "def solution(prices):\n",
    "    answer = []\n",
    "    \n",
    "    for n in range(len(prices)):\n",
    "        if n==len(prices):\n",
    "            answer.append(0)\n",
    "        else:\n",
    "            num=n+1\n",
    "            cnt=0\n",
    "            try:\n",
    "                while prices[n]<=prices[num]:\n",
    "                    cnt+=1\n",
    "                    num+=1\n",
    "            except:\n",
    "                pass\n",
    "            if cnt==0 and n!=len(prices)-1:\n",
    "                cnt=1\n",
    "            answer.append(cnt)\n",
    "                    \n",
    "    return answer"
   ]
  },
  {
   "cell_type": "markdown",
   "id": "bdac1666",
   "metadata": {},
   "source": [
    "### 주식가격 풀이 답안"
   ]
  },
  {
   "cell_type": "code",
   "execution_count": null,
   "id": "2b5cbd28",
   "metadata": {},
   "outputs": [],
   "source": [
    "from collections import deque\n",
    "def solution(prices):\n",
    "    answer = []\n",
    "    que=deque(prices)\n",
    "    while(que):\n",
    "        price=que.popleft() \n",
    "        cnt=0\n",
    "        for com_price in que : \n",
    "            cnt+=1  \n",
    "            if price > com_price : \n",
    "                break\n",
    "        answer.append(cnt) \n",
    "\n",
    "    return answer"
   ]
  },
  {
   "cell_type": "markdown",
   "id": "a1b14653",
   "metadata": {},
   "source": [
    "### 220901 이진 변환 반복 (1트 13분 포기)"
   ]
  },
  {
   "cell_type": "code",
   "execution_count": 26,
   "id": "efc8b572",
   "metadata": {},
   "outputs": [],
   "source": [
    "\"\"\"\n",
    "일단 이진 변환을 쉽게 하는 bin(n)의 결과 앞에 0b가 붙는 다는 것을 몰랐었고,\n",
    "푸는 중에 머리가 꼬여서 풀수 있는 문제인데도 그냥 포기해버림.\n",
    "다른 사람 풀이 보니까 그냥 답이랑 원리를 미리 알고 푸는 카피캣들만 많던데\n",
    "자력으로 다시 풀어봐야겠음.\n",
    "\"\"\"\n",
    "def solution(s):\n",
    "    answer = []\n",
    "    cnt_0=0\n",
    "    word=s\n",
    "    while int(word)>1:\n",
    "        new_word=\"\"\n",
    "        for l in word:\n",
    "            if l==\"1\":\n",
    "                new_word+=\"1\"\n",
    "            else:\n",
    "                cnt_0+=1\n",
    "\n",
    "        new_word=format(int(new_word), 'b')\n",
    "        print(new_word)\n",
    "        word=new_word\n",
    "        print(word, \"\\n\")\n",
    "    return answer"
   ]
  },
  {
   "cell_type": "markdown",
   "id": "7e584246",
   "metadata": {},
   "source": [
    "### 220901 이진 변환 반복 (2트 15분 자력성공)"
   ]
  },
  {
   "cell_type": "code",
   "execution_count": null,
   "id": "a438998f",
   "metadata": {},
   "outputs": [],
   "source": [
    "\"\"\"\n",
    "일단 문제를 잘 못 봤음. 주어진 문자열에서 0을 제거하고 남은 길이만큼의 수를 이진 변환해야하는데 그부분을 틀렸었고\n",
    "그 외에는 수월하게 풀었음.\n",
    "\"\"\"\n",
    "def solution(s):\n",
    "    answer = []\n",
    "    cnt_0=0\n",
    "    cnt=0\n",
    "    word=s\n",
    "    new_word=\"\"\n",
    "    \n",
    "    while True:\n",
    "        cnt+=1\n",
    "        for l in word:\n",
    "            if l==\"0\":\n",
    "                cnt_0+=1\n",
    "            else:\n",
    "                new_word+=\"1\"\n",
    "        \n",
    "        new_word_b=bin(len(new_word))[2:]\n",
    "        print(new_word_b, cnt_0)\n",
    "        word=new_word_b\n",
    "        \n",
    "        if new_word_b==\"1\":\n",
    "            break\n",
    "\n",
    "        new_word=\"\"\n",
    "        \n",
    "    return [cnt, cnt_0]"
   ]
  },
  {
   "cell_type": "markdown",
   "id": "d4fd829d",
   "metadata": {},
   "source": [
    "### 220902 K진수에서 소수 개수 구하기 (1트 20분 실패)"
   ]
  },
  {
   "cell_type": "code",
   "execution_count": 10,
   "id": "d7129870",
   "metadata": {},
   "outputs": [],
   "source": [
    "\"\"\"\n",
    "K진수로 변환하는것은 이전에 해봐서 금방 했음. \n",
    "\n",
    "문제에서 0을 기준으로 양옆에 0을 꼈냐 아니면 0이 왼쪽에만 있냐 이렇게 구분을 하고 101처럼 중간에 0이 낀 숫자는\n",
    "인정하지 않는다고 한걸 보고 '아 그냥 0을 기준으로 띄우면 되겠다'고 판단해서 split을 사용했음.\n",
    "\n",
    "구분된 숫자들 덩이가 나오면 해당 숫자를 포함한 범위까지 검사하면서 약수 개수를 모으는 prime_test에 더하는데\n",
    "1과 자기 자신만 포함되어야 하므로 prime_test가 2가 돼야 answer에 더해줬음.\n",
    "\n",
    "만약 주어지는 숫자가 0이면 진수 변환이나 카운트 의미가 없으므로 return부에 추가해줬음.(풀고 보니 무의미한듯)\n",
    "\n",
    "테스트 케이스 1번만 시간초과로 통과가 안 됐었음.\n",
    "\"\"\"\n",
    "def solution(n, k):\n",
    "    answer = 0\n",
    "    \n",
    "    new_num=\"\"\n",
    "    while n>0:\n",
    "        new_num=str(n%k)+new_num\n",
    "        n//=k\n",
    "    #print(new_num)\n",
    "    \n",
    "    split_list=list(new_num.split(\"0\"))\n",
    "    #print(split_list)\n",
    "    \n",
    "    for e in split_list:\n",
    "        if e=='1' or e=='' or e=='0':\n",
    "            pass\n",
    "        else:\n",
    "            prime_test=0\n",
    "            \n",
    "            for n in range(1, int(e)+1):\n",
    "                if int(e)%n==0:\n",
    "                    prime_test+=1\n",
    "                if prime_test>2:\n",
    "                    break\n",
    "                    \n",
    "            if prime_test==2:\n",
    "                answer+=1\n",
    "    \n",
    "    return answer if n!=0 else 0"
   ]
  },
  {
   "cell_type": "markdown",
   "id": "f656ad9a",
   "metadata": {},
   "source": [
    "### 220902 K진수에서 소수 개수 구하기 (2트 10분 성공)"
   ]
  },
  {
   "cell_type": "code",
   "execution_count": 13,
   "id": "b2184007",
   "metadata": {},
   "outputs": [],
   "source": [
    "\"\"\"\n",
    "테스트 케이스 1번만 시간 초과로 통과가 안돼서 해설을 살짝 봤음. (소수 검사 부분만)\n",
    "\n",
    "특정수까지 범위를 지정하면 너무 오래 걸리니까 그 수의 제곱근까지 범위로 소수를 검사하면 빠르다고 해서\n",
    "적용 후 통과.\n",
    "\n",
    "첨엔 갑자기 다 통과가 안되길래 뭔가;;; 하고 봤더니 제곱근이 되면서 1과 자기 자신이 아니라 1만 약수로 카운트 돼야 해서\n",
    "if prime_test==1 부분에서 막힌거였음.(지금은 맞게 고침)\n",
    "\"\"\"\n",
    "def solution(n, k):\n",
    "    answer = 0\n",
    "    new_num=\"\"\n",
    "    \n",
    "    while n>0:\n",
    "        new_num=str(n%k)+new_num\n",
    "        n//=k\n",
    "    #print(new_num)\n",
    "    \n",
    "    split_list=list(new_num.split(\"0\"))\n",
    "    #print(split_list)\n",
    "    \n",
    "    for e in split_list:\n",
    "        if e=='1' or e=='' or e=='0':\n",
    "            pass\n",
    "        else:\n",
    "            prime_test=0\n",
    "            for n in range(1, int(int(e)**0.5)+1):\n",
    "                if int(e)%n==0:\n",
    "                    prime_test+=1\n",
    "                if prime_test>2:\n",
    "                    break\n",
    "\n",
    "            if prime_test==1:\n",
    "                answer+=1\n",
    "    \n",
    "    return answer"
   ]
  },
  {
   "cell_type": "markdown",
   "id": "e1852b26",
   "metadata": {},
   "source": [
    "### 220902 영어 끝말잇기 (1트 21분 성공)"
   ]
  },
  {
   "cell_type": "code",
   "execution_count": null,
   "id": "1a17392b",
   "metadata": {},
   "outputs": [],
   "source": [
    "\"\"\"\n",
    "구조 짤때 조금 번거롭긴 했지만 문제 자체가 크게 까다롭거나 어렵진 않아서 비교적 쉽게 풀었음.\n",
    "\n",
    "처음 for문에서 원래는 for word in words로 바로 빼냈었는데 이유는 모르겠지만 순서상 마지막 원소가 자꾸 스킵돼서\n",
    "그냥 인덱스로 원소를 찾는 방식으로 했음.\n",
    "\"\"\"\n",
    "def solution(n, words):\n",
    "    answer = [0,0]\n",
    "    player=1\n",
    "    rotate=1\n",
    "    word_pass=[]\n",
    "    \n",
    "    for num in range(len(words)):\n",
    "        #print(player, rotate, word)\n",
    "        if num==0:\n",
    "            word_pass.append(words[num])\n",
    "            pre_word=words[num]\n",
    "            pass\n",
    "        else:\n",
    "            #print(words[num], word_pass)\n",
    "            if words[num] in word_pass:\n",
    "                answer=[player, rotate]\n",
    "                break\n",
    "            elif words[num][0]!=pre_word[-1]:\n",
    "                answer=[player, rotate]\n",
    "                break\n",
    "            word_pass.append(words[num])\n",
    "            pre_word=words[num]\n",
    "            \n",
    "        player+=1\n",
    "    \n",
    "        if player==n+1:\n",
    "            rotate+=1\n",
    "            player=1\n",
    "        \n",
    "    return answer"
   ]
  },
  {
   "cell_type": "markdown",
   "id": "c321a35c",
   "metadata": {},
   "source": [
    "### 220903 점프와 순간이동 (1트 17분 성공)"
   ]
  },
  {
   "cell_type": "code",
   "execution_count": 14,
   "id": "ce618048",
   "metadata": {},
   "outputs": [],
   "source": [
    "\"\"\"\n",
    "0에서 n까지 숫자가 증가(혹은 반대로 감소)하는데 임의의 수만큼 이동하면서 비용을 발생시키느냐 \n",
    "아니면 해당 좌표 X2의 위치로 이동하면서 비용없이 이동하느냐의 문제\n",
    "\n",
    "홀수, 짝수 구분해서 홀수일때만 비용을 더해서 해결\n",
    "\"\"\"\n",
    "def solution(n):\n",
    "    ans = 1\n",
    "    \"\"\"\n",
    "    그냥 이동 = K칸만큼 이동, K만큼 건전지 사용\n",
    "    순간이동 = 현재 거리*2\n",
    "    2(-1) 4 8 16 32 ...1024,,,2048, \n",
    "    \"\"\"\n",
    "    while n>1:\n",
    "        if n%2==0:\n",
    "            pass\n",
    "        else:\n",
    "            ans+=1\n",
    "        n//=2\n",
    "    return ans"
   ]
  },
  {
   "cell_type": "markdown",
   "id": "f6144070",
   "metadata": {},
   "source": [
    "### 220903 모음사전 (1트 11분 포기)"
   ]
  },
  {
   "cell_type": "code",
   "execution_count": 15,
   "id": "a10f0933",
   "metadata": {},
   "outputs": [],
   "source": [
    "\"\"\"\n",
    "A,E,I,O,U 로 구성된 사전에서 주어진 단어의 순번 index를 찾아야 하는 문제\n",
    "일단 순열로 전체 리스트를 다 만드는건 단어길이 차 때문에 정렬이 어려울 듯 하고,\n",
    "수학적으로 공식을 찾아보려다가 포기함\n",
    "\"\"\"\n",
    "def solution(word):\n",
    "    \"\"\"\n",
    "    word는 1이상 5이하 길이\n",
    "    12345 일 경우\n",
    "    1 자리의 순번부터 5자리의 순번까지 다 곱해야 하나?\n",
    "    AAAAE 예에서\n",
    "    A는 첫번째니까 1*1*1*1 하고 E는 2번째니까 \n",
    "    첫단어 A부터 AA, AAA, AAAA 까지 4개 더하고 4+2 하면 6\n",
    "    알파벳 하나만 구성된건 특이케이스\n",
    "    \n",
    "    AAAE는 1*1*1*1*5+4+1=10\n",
    "    \n",
    "    I는 1자리가 A와 E일 경우 2*5*5*5*5=1250개를 넘기고\n",
    "    어....\n",
    "    \"\"\"\n",
    "    answer = 0\n",
    "    return answer"
   ]
  },
  {
   "cell_type": "markdown",
   "id": "01cd2ade",
   "metadata": {},
   "source": [
    "### 220903 모음사전 (2트 풀이참조)"
   ]
  },
  {
   "cell_type": "code",
   "execution_count": null,
   "id": "4b5b5c87",
   "metadata": {},
   "outputs": [],
   "source": [
    "\"\"\"\n",
    "중복순열로 전체 단어의 리스트를 만들어서 index를 찾는 풀이 방법\n",
    "\"\"\"\n",
    "def solution(word):\n",
    "    from itertools import product\n",
    "    words = []\n",
    "    for i in range(1, 6):\n",
    "        for c in product(['A', 'E', 'I', 'O', 'U'], repeat=i):\n",
    "            words.append(''.join(list(c)))\n",
    "\n",
    "    words.sort()\n",
    "    #print(words)\n",
    "    return words.index(word) + 1"
   ]
  },
  {
   "cell_type": "markdown",
   "id": "db93c87f",
   "metadata": {},
   "source": [
    "### 220904 소수찾기 (1트 16분 성공)"
   ]
  },
  {
   "cell_type": "code",
   "execution_count": null,
   "id": "e0fac305",
   "metadata": {},
   "outputs": [],
   "source": [
    "\"\"\"\n",
    "처음에 조합 갯수 0으로 해서 int 에러남-> 아무것도 없는 None 이 반환되서 int화가 안되는 오류. 그래서 i for문에서 수정함.\n",
    "\n",
    "예전에 익혔던 제곱근의 소수 판정을 통해 실행시간을 대폭 줄였음. 만약 약수 cnt가 1을 넘는 순간 break를 통해 중지함.\n",
    "\n",
    "조합을 쓰자니 숫자들의 경우가 제대로 나오지 않고 순열을 쓰자니 중복된 숫자들도 나와서 잠시 헤매다\n",
    "perm_list를 만들어서 넣고 해당 리스트 안에 있는지 검사하면 중복인지 아닌지 판별. 이후 과정을 실행 안해서 속도를 빠르게 함.\n",
    "\"\"\"\n",
    "def solution(numbers):\n",
    "    from itertools import permutations as PERM\n",
    "    answer = 0\n",
    "    list_N=list(numbers)\n",
    "    perm_list=[]\n",
    "    \n",
    "    for i in range(1, len(list_N)+1):\n",
    "        for p in PERM(list_N, i):\n",
    "            num=int(\"\".join(p))\n",
    "            if num==1 or num in perm_list:\n",
    "                pass\n",
    "            else:\n",
    "                cnt=0\n",
    "                for j in range(1, int(num**0.5)+1):\n",
    "                    if num%j==0:\n",
    "                        cnt+=1\n",
    "                    if cnt>1:\n",
    "                        break\n",
    "                if cnt==1:\n",
    "                    answer+=1\n",
    "                    \n",
    "            perm_list.append(num)\n",
    "    \n",
    "    return answer"
   ]
  },
  {
   "cell_type": "markdown",
   "id": "a3b59d5f",
   "metadata": {},
   "source": [
    "### 220904 큰 수 만들기 (1트 15분 실패)"
   ]
  },
  {
   "cell_type": "code",
   "execution_count": null,
   "id": "fcc50120",
   "metadata": {},
   "outputs": [],
   "source": [
    "\"\"\"\n",
    "조합을 이용해서 풀려 했지만 시간 초과로 실패\n",
    "\"\"\"\n",
    "def solution(number, k):\n",
    "    from itertools import combinations as COMB\n",
    "    answer = 0\n",
    "    N_list=list(number)\n",
    "    \n",
    "    k=len(N_list)-k\n",
    "    \n",
    "    for p in COMB(number, k):\n",
    "        p=int(\"\".join(p))\n",
    "        if p>answer:\n",
    "            answer=p\n",
    "            #print(p)\n",
    "            \n",
    "    return str(answer)"
   ]
  },
  {
   "cell_type": "markdown",
   "id": "4c870802",
   "metadata": {},
   "source": [
    "### 220905 큰 수 만들기 (답안 풀이)"
   ]
  },
  {
   "cell_type": "code",
   "execution_count": null,
   "id": "3ec049bc",
   "metadata": {},
   "outputs": [],
   "source": [
    "\"\"\"\n",
    "그리디 유형의 문제인데 풀이를 봐도 100% 이해했다 느낌이 쉽게 오질 않아서 여러번 반복풀이 해보다가 모범 답안으로 공부\n",
    "\n",
    "이해는 했는데... 스택에 숫자를 추가하고 새로 뽑은 숫자가 스택의 맨 마지막보다 크면 해당 스택의 수를 삭제하고\n",
    "삭제됐으니 삭제한 수를 의미하는 k에서 하나 빼기(앞으로 k만큼 더 삭제할 수 있다는 뜻이기 때문)\n",
    "\"\"\"\n",
    "def solution(number, k):\n",
    "    stack = []\n",
    "    for num in number:\n",
    "        #print(num, stack, k)\n",
    "        while stack and stack[-1] < num and k > 0:\n",
    "            k -= 1\n",
    "            stack.pop()\n",
    "        stack.append(num)\n",
    "    if k != 0:\n",
    "        stack = stack[:-k]\n",
    "    return ''.join(stack)"
   ]
  },
  {
   "cell_type": "markdown",
   "id": "beeae4f7",
   "metadata": {},
   "source": [
    "### 220905 JadenCase 문자열 만들기 (1트 8분 성공)"
   ]
  },
  {
   "cell_type": "code",
   "execution_count": 16,
   "id": "56a5666b",
   "metadata": {},
   "outputs": [],
   "source": [
    "\"\"\"\n",
    "대문자 소문자 변환만 할줄 알면 쉬운 문제\n",
    "\"\"\"\n",
    "def solution(s):\n",
    "    block=[]\n",
    "    \n",
    "    for n in range(len(s)):\n",
    "        if n==0:\n",
    "            try:\n",
    "                int(s[n])\n",
    "                block.append(s[n])\n",
    "            except:\n",
    "                block.append(s[n].upper())\n",
    "        else:\n",
    "            if s[n-1]==\" \":\n",
    "                block.append(s[n].upper())\n",
    "            else:\n",
    "                block.append(s[n].lower())\n",
    "    \n",
    "    block=\"\".join(block)\n",
    "    #print(block)\n",
    "    return str(block)"
   ]
  },
  {
   "cell_type": "markdown",
   "id": "d9db9f4b",
   "metadata": {},
   "source": [
    "### 220905 전화번호 목록 (14분 1트 실패)"
   ]
  },
  {
   "cell_type": "code",
   "execution_count": null,
   "id": "c7bcf260",
   "metadata": {},
   "outputs": [],
   "source": [
    "\"\"\"\n",
    "가장 짧은 길이의 문자열 원소 중 하나가 나머지 원소의 앞부분과 같은게 있는지 검사하는 문제\n",
    "\n",
    "나는 길이로 정렬해서 나머지 원소들을 대상으로 검사했는데 테스트 케이스에서 4문제인가 빼고 통과하는 거 보면 \n",
    "큰틀에서는 맞는데 디테일을 놓친듯함.\n",
    "\n",
    "내 생각엔 길이가 같은 원소의 경우 그 원소들이 나머지 원소의 접두어일수도 있는데 그걸 검사 안해서 그런듯.\n",
    "\"\"\"\n",
    "def solution(phone_book):\n",
    "    answer = True\n",
    "    phone_book.sort(key=len)\n",
    "    \n",
    "    head=phone_book[0]\n",
    "    del phone_book[0]\n",
    "    \n",
    "    for e in phone_book:\n",
    "        if head==e[:len(head)]:\n",
    "            answer=False\n",
    "            break\n",
    "            \n",
    "    return answer"
   ]
  },
  {
   "cell_type": "markdown",
   "id": "b1381323",
   "metadata": {},
   "source": [
    "### 220908 전화번호 목록 (풀이 답안)"
   ]
  },
  {
   "cell_type": "code",
   "execution_count": null,
   "id": "d81e755d",
   "metadata": {},
   "outputs": [],
   "source": [
    "\"\"\"\n",
    "정렬 한 후 해당 인덱스의 글자와 직후의 글자를 비교. 이때 앞글자에서 일치해야 하므로 len을 써서 해당 길이만큼까지만 비교\n",
    "\"\"\"\n",
    "def solution(phone_book):\n",
    "    answer = True\n",
    "    \n",
    "    phone_book.sort()\n",
    "\n",
    "    for i in range(len(phone_book)-1):\n",
    "        if phone_book[i] == phone_book[i+1][:len(phone_book[i])]:\n",
    "            answer = False\n",
    "            break\n",
    "    \n",
    "    return answer"
   ]
  },
  {
   "cell_type": "markdown",
   "id": "0a78efd1",
   "metadata": {},
   "source": [
    "### 220910 프린터 (1차 25분 풀이시간 초과 실패)"
   ]
  },
  {
   "cell_type": "code",
   "execution_count": 1,
   "id": "15f77fd5",
   "metadata": {},
   "outputs": [],
   "source": [
    "\"\"\"\n",
    "처음에 가장 큰수를 찾아서 인덱스를 구한뒤 스택//큐 구조를 이용하지 않고 풀어보려다가 시간만 까먹음.\n",
    "deque를 이용해봤지만 시간 초과로 실패처리 하고 다시 시도해볼 예정\n",
    "\"\"\"\n",
    "def solution(priorities, location):\n",
    "    from collections import deque\n",
    "    Target=priorities[location]\n",
    "    priorities_s=priorities\n",
    "    priorities_s.sort()\n",
    "    BIGGEST=priorities_s[-1]\n",
    "    \n",
    "    if Target>=BIGGEST:\n",
    "        return 1\n",
    "    \n",
    "    \n",
    "    else:\n",
    "        cnt=len(priorities)\n",
    "        priorities=deque(priorities)\n",
    "        print(priorities)\n",
    "        while priorities:\n",
    "            num=priorities.popleft()\n",
    "            print(num)\n",
    "            cnt-=1\n",
    "            if num==BIGGEST:\n",
    "                print(\"걸림\", cnt)\n",
    "                break\n",
    "        return cnt"
   ]
  },
  {
   "cell_type": "markdown",
   "id": "d35768f3",
   "metadata": {},
   "source": [
    "### 220910 프린터 (답안)"
   ]
  },
  {
   "cell_type": "code",
   "execution_count": null,
   "id": "56793b0c",
   "metadata": {},
   "outputs": [],
   "source": [
    "\"\"\"\n",
    "디큐를 이용한 풀이\n",
    "\"\"\"\n",
    "def solution(priorities, location):\n",
    "    answer = 0\n",
    "    from collections import deque\n",
    "\n",
    "    d = deque([(v,i) for i,v in enumerate(priorities)])\n",
    "    print(d)\n",
    "    \n",
    "    while len(d):\n",
    "        item = d.popleft()\n",
    "        if d and max(d)[0] > item[0]:\n",
    "            d.append(item)\n",
    "        else:\n",
    "            answer += 1\n",
    "            if item[1] == location:\n",
    "                break\n",
    "    return answer"
   ]
  },
  {
   "cell_type": "markdown",
   "id": "5e6ae05c",
   "metadata": {},
   "source": [
    "### 220916 전력망 둘로 나누기 (1트 25분 실패)"
   ]
  },
  {
   "cell_type": "code",
   "execution_count": null,
   "id": "8a620038",
   "metadata": {},
   "outputs": [],
   "source": [
    "\"\"\"\n",
    "완전탐색 문제였는데 탐색 파트 이론을 능숙히 못 쓰는채로 들어갔다가 박살남.\n",
    "리스트로 모아서 수학적 법칙으로 풀어보려 했는데 예시 문제만 통과하고 실제 문제에서 틀려버림.\n",
    "\"\"\"\n",
    "def solution(n, wires):\n",
    "    Connect1=[]\n",
    "    E1=0\n",
    "    \n",
    "    for num in range(len(wires)):\n",
    "        if num==0:\n",
    "            Connect1.append(wires[0][0])\n",
    "            Connect1.append(wires[0][1])\n",
    "        else:\n",
    "            Connect1.append(wires[num][0])\n",
    "            Connect1.append(wires[num][1])\n",
    "        \n",
    "    for num in range(1, n+1):\n",
    "        cnt=Connect1.count(num)\n",
    "        if cnt==1:\n",
    "            E1+=1\n",
    "            \n",
    "    #print(Connect1)\n",
    "    return abs(n-E1-E1)"
   ]
  },
  {
   "cell_type": "markdown",
   "id": "ce2043b1",
   "metadata": {},
   "source": [
    "### 220929 멀리뛰기 (1트 13분 실패)"
   ]
  },
  {
   "cell_type": "code",
   "execution_count": null,
   "id": "b1d8b237",
   "metadata": {},
   "outputs": [],
   "source": [
    "\"\"\"\n",
    "중복순열로 풀어봤는데 왜 틀리는지 다른 풀이를 더 봐야할 것 같음. 다른 사람들 질문을 보니까 테스트 케이스에 오류가 있다고 함.\n",
    "\"\"\"\n",
    "def solution(n):\n",
    "    from itertools import product\n",
    "    answer = []\n",
    "    for i in range(1, n+1):\n",
    "        for p in product([1,2], repeat=i):\n",
    "            if sum(p)==n:\n",
    "                #print(p)\n",
    "                answer.append(p)\n",
    "            if len(p)==n and sum(p)==n:\n",
    "                break\n",
    "    return len(answer)%1234567"
   ]
  },
  {
   "cell_type": "markdown",
   "id": "3751cd58",
   "metadata": {},
   "source": [
    "### 멀리뛰기 (답안 참조)"
   ]
  },
  {
   "cell_type": "code",
   "execution_count": null,
   "id": "483130ac",
   "metadata": {},
   "outputs": [],
   "source": [
    "\"\"\"\n",
    "피보나치수를 구하는 방법=점화식을 이용한 풀이 \n",
    "f(n)=f(n-1)+f(n-2)\n",
    "\n",
    "3 미만의 경우에는 경우의 수가 정해져있고, 3이상에서는 계산을 통해 풀이.\n",
    "어느정도 암기가 필요한 풀이라고 생각함.\n",
    "\"\"\"\n",
    "def solution(n):\n",
    "    if n<3:\n",
    "        return n\n",
    "    d=[0]*(n+1)\n",
    "    d[1]=1\n",
    "    d[2]=2\n",
    "    #print(d)\n",
    "    for i in range(3,n+1):\n",
    "        d[i]=d[i-1]+d[i-2]\n",
    "    #print(d)\n",
    "    return d[n]%1234567"
   ]
  },
  {
   "cell_type": "markdown",
   "id": "43ac87b9",
   "metadata": {},
   "source": [
    "### 220929 H-Index (1트 25분 실패)"
   ]
  },
  {
   "cell_type": "code",
   "execution_count": null,
   "id": "7aa59316",
   "metadata": {},
   "outputs": [],
   "source": [
    "def solution(citations):\n",
    "    answer = []\n",
    "    citations.sort()\n",
    "    \n",
    "    for n in range(len(citations)):\n",
    "        h=citations[n]\n",
    "        cnt=cnt_r=0\n",
    "        for num in citations:\n",
    "            if num>h:\n",
    "                cnt+=1\n",
    "            else:\n",
    "                cnt_r+=1\n",
    "            if cnt>=cnt_r and cnt+cnt_r==len(citations):\n",
    "                print(cnt,cnt_r)\n",
    "                answer.append(cnt)\n",
    "    return max(answer)"
   ]
  },
  {
   "cell_type": "markdown",
   "id": "fc574e0f",
   "metadata": {},
   "source": [
    "### H-Index (풀이 참조)"
   ]
  },
  {
   "cell_type": "code",
   "execution_count": null,
   "id": "dce8f923",
   "metadata": {},
   "outputs": [],
   "source": [
    "\"\"\"\n",
    "일단 풀이상으로는 간단하게 풀리는데 오래 봤는데도 나머지 원소들에 대한 대소구분 코드가 없는데 어떻게 통과가 되는지 모르겠음.\n",
    "\n",
    "아아아아아 이해했다. [0,1,3,5,6] 예시에서 3을 뽑았을때 3의 index는 2, 그리고 남은 원소의 개수는 2개. \n",
    "이때 나머지 원소들은 뽑은 원소보다 같거나/더 크므로 크기 카운트가 되는것!\n",
    "이걸 왜 이해를 못했지;;;;\n",
    "\"\"\"\n",
    "def solution(citations):\n",
    "    citations.sort()\n",
    "    article_count = len(citations)\n",
    "\n",
    "    for i in range(article_count):\n",
    "        #print(i, citations[i], article_count-i)\n",
    "        if citations[i] >= article_count-i:\n",
    "            # 만약 주어진 리스트의 i번째 원소가 전체에서 i개를 뺀것보다 크거나 같다면 나머지수를 반환.\n",
    "            return article_count-i\n",
    "    return 0"
   ]
  },
  {
   "cell_type": "markdown",
   "id": "bc80e4d2",
   "metadata": {},
   "source": [
    "## 3단계 =============================="
   ]
  },
  {
   "cell_type": "markdown",
   "id": "349c9488",
   "metadata": {},
   "source": [
    "### 220914 최고의 집합 (1트 10분째 폐기안)"
   ]
  },
  {
   "cell_type": "code",
   "execution_count": null,
   "id": "28537377",
   "metadata": {},
   "outputs": [],
   "source": [
    "\"\"\"\n",
    "단순 계산으로 풀려했지만 내가 원소가 2개일때의 예시를 보면서 짜서 그런지 거의다 실패로 뜸.\n",
    "\"\"\"\n",
    "def solution(n, s):\n",
    "    answer = []\n",
    "    \n",
    "    if s%n==0:\n",
    "        for _ in range(n):\n",
    "            answer.append(s//n)\n",
    "    else:\n",
    "        first_num=s//n\n",
    "        for num in range(n):\n",
    "            answer.append(first_num+num)\n",
    "            \n",
    "    return answer if answer[0]!=0 else [-1] "
   ]
  },
  {
   "cell_type": "markdown",
   "id": "1c322600",
   "metadata": {},
   "source": [
    "### 220914 최고의 집합 (1트 30분 실패)"
   ]
  },
  {
   "cell_type": "code",
   "execution_count": null,
   "id": "d66dac49",
   "metadata": {},
   "outputs": [],
   "source": [
    "\"\"\"\n",
    "1안을 폐기하고 중복 순열을 이용해서 해본 풀이.\n",
    "시간 효율성에서도 실패했고, 최고의 조합 조건인 원소들의 합이 최대가 되는 기능도 구현 못했음.\n",
    "\"\"\"\n",
    "def solution(n, s):\n",
    "    from itertools import product\n",
    "    answer = []\n",
    "    \n",
    "    try:\n",
    "        small_list=list(range(1,s))\n",
    "    \n",
    "    except:\n",
    "        pass\n",
    "    \n",
    "    First_Multiple=1\n",
    "    Compare=0\n",
    "    for l in product(small_list, repeat=n):\n",
    "        Multiple=1\n",
    "        if sum(l)==s:\n",
    "            for num in l:\n",
    "                Multiple*=num\n",
    "            if Multiple>=First_Multiple and Multiple>=Compare:\n",
    "                answer=l\n",
    "                Compare=Multiple\n",
    "                \n",
    "    return sorted(answer) if s//n!=0 else [-1]"
   ]
  },
  {
   "cell_type": "code",
   "execution_count": null,
   "id": "13a0d7ee",
   "metadata": {},
   "outputs": [],
   "source": []
  }
 ],
 "metadata": {
  "kernelspec": {
   "display_name": "Python 3 (ipykernel)",
   "language": "python",
   "name": "python3"
  },
  "language_info": {
   "codemirror_mode": {
    "name": "ipython",
    "version": 3
   },
   "file_extension": ".py",
   "mimetype": "text/x-python",
   "name": "python",
   "nbconvert_exporter": "python",
   "pygments_lexer": "ipython3",
   "version": "3.9.13"
  }
 },
 "nbformat": 4,
 "nbformat_minor": 5
}
