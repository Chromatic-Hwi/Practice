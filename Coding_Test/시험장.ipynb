{
 "cells": [
  {
   "cell_type": "code",
   "execution_count": 49,
   "id": "86133133",
   "metadata": {},
   "outputs": [
    {
     "name": "stdout",
     "output_type": "stream",
     "text": [
      "행과 열의 숫자를 스페이스로 구분하여 입력 : 3 4\n",
      "3개의 숫자를 스페이스로 구분하여 입력1 5 4\n",
      "3개의 숫자를 스페이스로 구분하여 입력2 4 6\n",
      "3개의 숫자를 스페이스로 구분하여 입력7 5 5\n",
      "3개의 숫자를 스페이스로 구분하여 입력1 2 2\n",
      "\n",
      "Answer >> 1\n"
     ]
    }
   ],
   "source": [
    "# 2. 숫자 카드 게임 (그리디)\n",
    "\n",
    "M,N = map(int, input('행과 열의 숫자를 스페이스로 구분하여 입력 : ').split())\n",
    "\n",
    "list2=[]\n",
    "for n in range(N):\n",
    "    list1 = list(map(int, input(str(M)+'개의 숫자를 스페이스로 구분하여 입력').split()))\n",
    "    min1 = min(list1)\n",
    "    list2.append(min1)\n",
    "final_min=min(list2)\n",
    "\n",
    "print('\\nAnswer >>', final_min)"
   ]
  }
 ],
 "metadata": {
  "kernelspec": {
   "display_name": "Python 3 (ipykernel)",
   "language": "python",
   "name": "python3"
  },
  "language_info": {
   "codemirror_mode": {
    "name": "ipython",
    "version": 3
   },
   "file_extension": ".py",
   "mimetype": "text/x-python",
   "name": "python",
   "nbconvert_exporter": "python",
   "pygments_lexer": "ipython3",
   "version": "3.9.7"
  }
 },
 "nbformat": 4,
 "nbformat_minor": 5
}
