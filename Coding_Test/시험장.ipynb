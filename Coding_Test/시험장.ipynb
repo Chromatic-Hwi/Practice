{
 "cells": [
  {
   "cell_type": "code",
   "execution_count": 72,
   "id": "86133133",
   "metadata": {},
   "outputs": [
    {
     "name": "stdout",
     "output_type": "stream",
     "text": [
      "두 개 숫자를 스페이스로 구분하여 입력 : 100 5\n",
      "Answer >> 5\n"
     ]
    }
   ],
   "source": [
    "# 2. 1이 될때까지 (그리디)\n",
    "\n",
    "N, K = map(int, input('두 개 숫자를 스페이스로 구분하여 입력 : ').split())\n",
    "\n",
    "Count = 0\n",
    "\n",
    "while (N>=K):\n",
    "    while (N%K!=0):\n",
    "        N-=1\n",
    "        Count+=1\n",
    "    N//=K\n",
    "    Count+=1\n",
    "    \n",
    "# 나눔+빼기의 일련 과정 처리 후 마지막 남은 수에 대해 1씩 뺴기 최종 정리 과정\n",
    "while (N>1):\n",
    "    N-=1\n",
    "    Count+=1\n",
    "        \n",
    "print('Answer >>', Count)"
   ]
  }
 ],
 "metadata": {
  "kernelspec": {
   "display_name": "Python 3 (ipykernel)",
   "language": "python",
   "name": "python3"
  },
  "language_info": {
   "codemirror_mode": {
    "name": "ipython",
    "version": 3
   },
   "file_extension": ".py",
   "mimetype": "text/x-python",
   "name": "python",
   "nbconvert_exporter": "python",
   "pygments_lexer": "ipython3",
   "version": "3.9.7"
  }
 },
 "nbformat": 4,
 "nbformat_minor": 5
}
