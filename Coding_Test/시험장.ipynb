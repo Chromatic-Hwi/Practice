{
 "cells": [
  {
   "cell_type": "code",
   "execution_count": 71,
   "id": "86133133",
   "metadata": {},
   "outputs": [
    {
     "name": "stdout",
     "output_type": "stream",
     "text": [
      "정방 격자의 사이즈를 입력 : 5\n",
      "L, R, U, D로 구분된 이동 명령을 입력 :R R D D D\n",
      "['R', 'R', 'D', 'D', 'D']\n",
      "우로 이동\n",
      "우로 이동\n",
      "아래로 이동\n",
      "아래로 이동\n",
      "아래로 이동\n",
      "Result >> (3,4)\n"
     ]
    }
   ],
   "source": [
    "# 상하좌우 격자 이동 (구현)\n",
    "\n",
    "N=int(input('정방 격자의 사이즈를 입력 : '))\n",
    "\n",
    "N+=1\n",
    "X=1\n",
    "Y=1\n",
    "\n",
    "move_list=list(input('L, R, U, D로 구분된 이동 명령을 입력 :').split())\n",
    "print(move_list)\n",
    "\n",
    "for m in range(len(move_list)):\n",
    "    Direc = move_list[m]\n",
    "    \n",
    "    if(Direc == 'L'):\n",
    "        print('좌로 이동')\n",
    "        X-=1\n",
    "        if(X<1):\n",
    "            X+=1\n",
    "            \n",
    "    elif(Direc == 'R'):\n",
    "        print('우로 이동')\n",
    "        X+=1\n",
    "        if(X>N):\n",
    "            X-=1\n",
    "            \n",
    "    elif(Direc == 'D'):\n",
    "        print('아래로 이동')\n",
    "        Y+=1\n",
    "        if(Y>N):\n",
    "            Y-=1\n",
    "            \n",
    "    elif(Direc == 'U'):\n",
    "        print('위로 이동')\n",
    "        Y-=1\n",
    "        if(Y<1):\n",
    "            Y+=1\n",
    "            \n",
    "    else:\n",
    "        print('Wrong Input!')\n",
    "        print(Direc)\n",
    "        \n",
    "print('Result >>', '('+str(X)+','+str(Y)+')')"
   ]
  }
 ],
 "metadata": {
  "kernelspec": {
   "display_name": "Python 3 (ipykernel)",
   "language": "python",
   "name": "python3"
  },
  "language_info": {
   "codemirror_mode": {
    "name": "ipython",
    "version": 3
   },
   "file_extension": ".py",
   "mimetype": "text/x-python",
   "name": "python",
   "nbconvert_exporter": "python",
   "pygments_lexer": "ipython3",
   "version": "3.9.7"
  }
 },
 "nbformat": 4,
 "nbformat_minor": 5
}
