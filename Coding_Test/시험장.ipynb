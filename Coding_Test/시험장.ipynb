{
 "cells": [
  {
   "cell_type": "code",
   "execution_count": 45,
   "id": "86133133",
   "metadata": {},
   "outputs": [
    {
     "name": "stdout",
     "output_type": "stream",
     "text": [
      "type 3 number with space : 5 8 3\n",
      "type 5 number withe space : 2 4 5 4 6\n",
      "\n",
      "Sorted Data >> [2, 4, 4, 5, 6]\n",
      "\n",
      "<This is Seq> 1\n",
      "first added\n",
      "6\n",
      "first added\n",
      "12\n",
      "first added\n",
      "18\n",
      "second added\n",
      "23\n",
      "\n",
      "<This is Seq> 2\n",
      "first added\n",
      "29\n",
      "first added\n",
      "35\n",
      "first added\n",
      "41\n",
      "second added\n",
      "46\n",
      "\n",
      "<Result> >>  46\n"
     ]
    }
   ],
   "source": [
    "# 2. 큰수의 법칙 (그리디)\n",
    "\n",
    "\"\"\"\n",
    "n = 연산에 쓰일 숫자 갯수\n",
    "m = 전체 반복 가능 횟수\n",
    "k = 제일 큰 수가 반복될 수 있는 횟수\n",
    "\"\"\"\n",
    "\n",
    "n,m,k = map(int, input('type 3 number with space : ').split())\n",
    "data = list(map(int, input('type '+str(n)+' number withe space : ').split()))\n",
    "data.sort()\n",
    "print('\\nSorted Data >>',data)\n",
    "first = data[-1]\n",
    "second = data[-2]\n",
    "\n",
    "\"\"\"\n",
    "서로 다른 배열 위치의 숫자는 다른 수로 취급하여 그대로 덧셈을 진행하는데 만약 1번째와 2번째가 값이\n",
    "같더라도 서로 다른 변수로 저장되어 계산되므로 더 이상의 코드는 필요없음.\n",
    "\"\"\"\n",
    "\n",
    "result=0\n",
    "T=0\n",
    "while (True):\n",
    "    if(m==0):\n",
    "        break\n",
    "        \n",
    "    print('\\n<This is Seq',str(T+1),'>')\n",
    "    \n",
    "    for p in range(k):\n",
    "        print('first added')\n",
    "        result+=first\n",
    "        m-=1\n",
    "        print(result)\n",
    "    result+=second\n",
    "    m-=1\n",
    "    print('second added')\n",
    "    print(result)\n",
    "    \n",
    "    T+=1\n",
    "\n",
    "print('\\n<Result> >> ',result)"
   ]
  }
 ],
 "metadata": {
  "kernelspec": {
   "display_name": "Python 3 (ipykernel)",
   "language": "python",
   "name": "python3"
  },
  "language_info": {
   "codemirror_mode": {
    "name": "ipython",
    "version": 3
   },
   "file_extension": ".py",
   "mimetype": "text/x-python",
   "name": "python",
   "nbconvert_exporter": "python",
   "pygments_lexer": "ipython3",
   "version": "3.9.7"
  }
 },
 "nbformat": 4,
 "nbformat_minor": 5
}
