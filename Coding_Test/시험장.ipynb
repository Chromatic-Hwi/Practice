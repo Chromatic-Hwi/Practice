{
 "cells": [
  {
   "cell_type": "code",
   "execution_count": 80,
   "id": "c56adbc0",
   "metadata": {},
   "outputs": [
    {
     "name": "stdout",
     "output_type": "stream",
     "text": [
      "현재 나이트가 위치한 좌표를 알파벳, 숫자 순으로 입력: a1\n",
      "이동 방식 바뀜\n",
      "3 2\n",
      "5 3\n",
      "7 4\n",
      "9 5\n",
      "이동 방식 바뀜\n",
      "2 3\n",
      "3 5\n",
      "4 7\n",
      "5 9\n",
      "이동 방식 바뀜\n",
      "-1 2\n",
      "이동 방식 바뀜\n",
      "0 3\n",
      "이동 방식 바뀜\n",
      "3 0\n",
      "이동 방식 바뀜\n",
      "2 -1\n",
      "이동 방식 바뀜\n",
      "-1 0\n",
      "이동 방식 바뀜\n",
      "0 -1\n",
      "Result >> 14\n"
     ]
    }
   ],
   "source": [
    "# 왕실의 나이트 (구현)\n",
    "\n",
    "X={'a':1, 'b':2, 'c':3, 'd':4, 'e':5, 'f':6, 'g':7, 'h':8}\n",
    "\n",
    "x,y = map(str, input('현재 나이트가 위치한 좌표를 알파벳, 숫자 순으로 입력: '))\n",
    "\n",
    "\n",
    "move_types=[[2,1],[1,2],[-2,1],[-1,2],[2,-1],[1,-2],[-2,-1],[-1,-2]]\n",
    "\n",
    "Count=0\n",
    "\n",
    "for T in range(len(move_types)):\n",
    "    print('이동 방식 바뀜')\n",
    "    nx=X[x]\n",
    "    ny=int(y)\n",
    "    while(nx>0 and ny>0 and nx<9 and ny<9):\n",
    "        nx+=move_types[T][0]\n",
    "        ny+=move_types[T][1]\n",
    "        print(nx, ny)\n",
    "        Count+=1\n",
    "\n",
    "print('Result >>', Count)"
   ]
  }
 ],
 "metadata": {
  "kernelspec": {
   "display_name": "Python 3 (ipykernel)",
   "language": "python",
   "name": "python3"
  },
  "language_info": {
   "codemirror_mode": {
    "name": "ipython",
    "version": 3
   },
   "file_extension": ".py",
   "mimetype": "text/x-python",
   "name": "python",
   "nbconvert_exporter": "python",
   "pygments_lexer": "ipython3",
   "version": "3.9.7"
  }
 },
 "nbformat": 4,
 "nbformat_minor": 5
}
