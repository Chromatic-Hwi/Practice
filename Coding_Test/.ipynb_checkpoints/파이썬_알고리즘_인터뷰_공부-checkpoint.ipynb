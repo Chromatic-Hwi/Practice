{
 "cells": [
  {
   "cell_type": "markdown",
   "id": "7c6b1533",
   "metadata": {},
   "source": [
    "## 파이썬 알고리즘 인터뷰"
   ]
  },
  {
   "cell_type": "markdown",
   "id": "ac90433f",
   "metadata": {},
   "source": [
    "### 1. 리스트와 딕셔너리"
   ]
  },
  {
   "cell_type": "code",
   "execution_count": 20,
   "id": "be84ef46",
   "metadata": {},
   "outputs": [
    {
     "data": {
      "text/plain": [
       "'<리스트>\\n\\nelem in list >> 해당 원소가 있는지 순차 탐색 확인\\nlist.count(elem) >> elem 개수 리턴\\nlist.index(elem) >> elem의 인덱스 리턴\\nlist.pop() >> default로 맨 마지막 원소 삭제\\nlist.pop(0) >> 가장 첫번째 원소 삭제\\n'"
      ]
     },
     "execution_count": 20,
     "metadata": {},
     "output_type": "execute_result"
    }
   ],
   "source": [
    "\"\"\"<리스트>\n",
    "\n",
    "elem in list >> 해당 원소가 있는지 순차 탐색 확인\n",
    "list.count(elem) >> elem 개수 리턴\n",
    "list.index(elem) >> elem의 인덱스 리턴\n",
    "list.pop() >> default로 맨 마지막 원소 삭제\n",
    "list.pop(0) >> 가장 첫번째 원소 삭제\n",
    "\"\"\""
   ]
  },
  {
   "cell_type": "code",
   "execution_count": null,
   "id": "798ad06a",
   "metadata": {},
   "outputs": [],
   "source": [
    "\"\"\"<딕셔너리>\n",
    "dict[key]=value\n",
    "\"\"\""
   ]
  },
  {
   "cell_type": "code",
   "execution_count": 9,
   "id": "25d2b917",
   "metadata": {},
   "outputs": [
    {
     "name": "stdout",
     "output_type": "stream",
     "text": [
      "['a', 'b', 'c', 'd', 'e', 'z']\n"
     ]
    },
    {
     "data": {
      "text/plain": [
       "'abcdez'"
      ]
     },
     "execution_count": 9,
     "metadata": {},
     "output_type": "execute_result"
    }
   ],
   "source": [
    "word=\"zedcba\"\n",
    "word2=sorted(word)\n",
    "print(word2)\n",
    "\"\".join(word2)"
   ]
  },
  {
   "cell_type": "code",
   "execution_count": 11,
   "id": "ca620cd0",
   "metadata": {},
   "outputs": [
    {
     "data": {
      "text/plain": [
       "['a', 'dd', 'ccc', 'bbbbb']"
      ]
     },
     "execution_count": 11,
     "metadata": {},
     "output_type": "execute_result"
    }
   ],
   "source": [
    "# 일반 sorted와 달리 길이를 기준으로 정렬\n",
    "list0=[\"ccc\", \"dd\", \"a\", \"bbbbb\"]\n",
    "sorted(list0, key=len)"
   ]
  },
  {
   "cell_type": "markdown",
   "id": "630ddd0f",
   "metadata": {},
   "source": [
    "### 2. 배열"
   ]
  },
  {
   "cell_type": "code",
   "execution_count": null,
   "id": "4cb0732a",
   "metadata": {},
   "outputs": [],
   "source": []
  }
 ],
 "metadata": {
  "kernelspec": {
   "display_name": "Python 3 (ipykernel)",
   "language": "python",
   "name": "python3"
  },
  "language_info": {
   "codemirror_mode": {
    "name": "ipython",
    "version": 3
   },
   "file_extension": ".py",
   "mimetype": "text/x-python",
   "name": "python",
   "nbconvert_exporter": "python",
   "pygments_lexer": "ipython3",
   "version": "3.9.7"
  }
 },
 "nbformat": 4,
 "nbformat_minor": 5
}
