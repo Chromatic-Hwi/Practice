{
 "cells": [
  {
   "cell_type": "code",
   "execution_count": 11,
   "id": "c56adbc0",
   "metadata": {},
   "outputs": [
    {
     "name": "stdout",
     "output_type": "stream",
     "text": [
      "행과 열을 스페이스로 구분하여 입력: 5 5\n",
      "0과 1로 구성된 5 자리의 수 입력: 10111\n",
      "0과 1로 구성된 5 자리의 수 입력: 01010\n",
      "0과 1로 구성된 5 자리의 수 입력: 11111\n",
      "0과 1로 구성된 5 자리의 수 입력: 00101\n",
      "0과 1로 구성된 5 자리의 수 입력: 01011\n",
      "[[1, 0, 1, 1, 1], [0, 1, 0, 1, 0], [1, 1, 1, 1, 1], [0, 0, 1, 0, 1], [0, 1, 0, 1, 1]]\n"
     ]
    },
    {
     "ename": "IndexError",
     "evalue": "list index out of range",
     "output_type": "error",
     "traceback": [
      "\u001b[1;31m---------------------------------------------------------------------------\u001b[0m",
      "\u001b[1;31mIndexError\u001b[0m                                Traceback (most recent call last)",
      "\u001b[1;32m~\\AppData\\Local\\Temp/ipykernel_7136/3732133376.py\u001b[0m in \u001b[0;36m<module>\u001b[1;34m\u001b[0m\n\u001b[0;32m     29\u001b[0m \u001b[1;32mfor\u001b[0m \u001b[0mi\u001b[0m \u001b[1;32min\u001b[0m \u001b[0mrange\u001b[0m\u001b[1;33m(\u001b[0m\u001b[0mx\u001b[0m\u001b[1;33m)\u001b[0m\u001b[1;33m:\u001b[0m\u001b[1;33m\u001b[0m\u001b[1;33m\u001b[0m\u001b[0m\n\u001b[0;32m     30\u001b[0m     \u001b[1;32mfor\u001b[0m \u001b[0mj\u001b[0m \u001b[1;32min\u001b[0m \u001b[0mrange\u001b[0m\u001b[1;33m(\u001b[0m\u001b[0my\u001b[0m\u001b[1;33m)\u001b[0m\u001b[1;33m:\u001b[0m\u001b[1;33m\u001b[0m\u001b[1;33m\u001b[0m\u001b[0m\n\u001b[1;32m---> 31\u001b[1;33m         \u001b[1;32mif\u001b[0m \u001b[1;33m(\u001b[0m\u001b[0mDFS\u001b[0m\u001b[1;33m(\u001b[0m\u001b[0mi\u001b[0m\u001b[1;33m,\u001b[0m \u001b[0mj\u001b[0m\u001b[1;33m)\u001b[0m\u001b[1;33m==\u001b[0m\u001b[1;32mTrue\u001b[0m\u001b[1;33m)\u001b[0m\u001b[1;33m:\u001b[0m\u001b[1;33m\u001b[0m\u001b[1;33m\u001b[0m\u001b[0m\n\u001b[0m\u001b[0;32m     32\u001b[0m             \u001b[0mresult\u001b[0m\u001b[1;33m+=\u001b[0m\u001b[1;36m1\u001b[0m\u001b[1;33m\u001b[0m\u001b[1;33m\u001b[0m\u001b[0m\n\u001b[0;32m     33\u001b[0m \u001b[1;33m\u001b[0m\u001b[0m\n",
      "\u001b[1;32m~\\AppData\\Local\\Temp/ipykernel_7136/3732133376.py\u001b[0m in \u001b[0;36mDFS\u001b[1;34m(x2, y2)\u001b[0m\n\u001b[0;32m     20\u001b[0m         \u001b[0mDFS\u001b[0m\u001b[1;33m(\u001b[0m\u001b[0mx2\u001b[0m\u001b[1;33m,\u001b[0m\u001b[0my2\u001b[0m\u001b[1;33m-\u001b[0m\u001b[1;36m1\u001b[0m\u001b[1;33m)\u001b[0m\u001b[1;33m\u001b[0m\u001b[1;33m\u001b[0m\u001b[0m\n\u001b[0;32m     21\u001b[0m         \u001b[0mDFS\u001b[0m\u001b[1;33m(\u001b[0m\u001b[0mx2\u001b[0m\u001b[1;33m+\u001b[0m\u001b[1;36m1\u001b[0m\u001b[1;33m,\u001b[0m\u001b[0my2\u001b[0m\u001b[1;33m)\u001b[0m\u001b[1;33m\u001b[0m\u001b[1;33m\u001b[0m\u001b[0m\n\u001b[1;32m---> 22\u001b[1;33m         \u001b[0mDFS\u001b[0m\u001b[1;33m(\u001b[0m\u001b[0mx2\u001b[0m\u001b[1;33m,\u001b[0m\u001b[0my2\u001b[0m\u001b[1;33m+\u001b[0m\u001b[1;36m1\u001b[0m\u001b[1;33m)\u001b[0m\u001b[1;33m\u001b[0m\u001b[1;33m\u001b[0m\u001b[0m\n\u001b[0m\u001b[0;32m     23\u001b[0m \u001b[1;33m\u001b[0m\u001b[0m\n\u001b[0;32m     24\u001b[0m         \u001b[1;32mreturn\u001b[0m \u001b[1;32mTrue\u001b[0m\u001b[1;33m\u001b[0m\u001b[1;33m\u001b[0m\u001b[0m\n",
      "\u001b[1;32m~\\AppData\\Local\\Temp/ipykernel_7136/3732133376.py\u001b[0m in \u001b[0;36mDFS\u001b[1;34m(x2, y2)\u001b[0m\n\u001b[0;32m     14\u001b[0m         \u001b[1;32mreturn\u001b[0m \u001b[1;32mFalse\u001b[0m\u001b[1;33m\u001b[0m\u001b[1;33m\u001b[0m\u001b[0m\n\u001b[0;32m     15\u001b[0m \u001b[1;33m\u001b[0m\u001b[0m\n\u001b[1;32m---> 16\u001b[1;33m     \u001b[1;32mif\u001b[0m \u001b[1;33m(\u001b[0m\u001b[0mgraph\u001b[0m\u001b[1;33m[\u001b[0m\u001b[0mx2\u001b[0m\u001b[1;33m]\u001b[0m\u001b[1;33m[\u001b[0m\u001b[0my2\u001b[0m\u001b[1;33m]\u001b[0m \u001b[1;33m==\u001b[0m \u001b[1;36m0\u001b[0m\u001b[1;33m)\u001b[0m\u001b[1;33m:\u001b[0m\u001b[1;33m\u001b[0m\u001b[1;33m\u001b[0m\u001b[0m\n\u001b[0m\u001b[0;32m     17\u001b[0m         \u001b[0mgraph\u001b[0m\u001b[1;33m[\u001b[0m\u001b[0mx2\u001b[0m\u001b[1;33m]\u001b[0m\u001b[1;33m[\u001b[0m\u001b[0my2\u001b[0m\u001b[1;33m]\u001b[0m\u001b[1;33m=\u001b[0m\u001b[1;36m1\u001b[0m\u001b[1;33m\u001b[0m\u001b[1;33m\u001b[0m\u001b[0m\n\u001b[0;32m     18\u001b[0m \u001b[1;33m\u001b[0m\u001b[0m\n",
      "\u001b[1;31mIndexError\u001b[0m: list index out of range"
     ]
    }
   ],
   "source": [
    "# 음료수 얼려먹기 (자료구조)\n",
    "\n",
    "x, y= map(int, input('행과 열을 스페이스로 구분하여 입력: ').split())\n",
    "\n",
    "graph=[]\n",
    "for i in range(y):\n",
    "    graph.append(list(map(int, input('0과 1로 구성된 '+str(x)+' 자리의 수 입력: '))))\n",
    "    \n",
    "print(graph)\n",
    "\n",
    "\n",
    "def DFS(x2, y2):\n",
    "    if (x2<=-1 or x2>x or y2<=-1 or y2>y):\n",
    "        return False\n",
    "    \n",
    "    if (graph[x2][y2] == 0):\n",
    "        graph[x2][y2]=1\n",
    "        \n",
    "        DFS(x2-1,y2)\n",
    "        DFS(x2,y2-1)\n",
    "        DFS(x2+1,y2)\n",
    "        DFS(x2,y2+1)\n",
    "        \n",
    "        return True\n",
    "    return False\n",
    "\n",
    "result=0\n",
    "\n",
    "for i in range(x):\n",
    "    for j in range(y):\n",
    "        if (DFS(i, j)==True):\n",
    "            result+=1\n",
    "            \n",
    "print('Result >> ', result)\n"
   ]
  },
  {
   "cell_type": "code",
   "execution_count": 10,
   "id": "c3b3f1d1",
   "metadata": {},
   "outputs": [
    {
     "name": "stdout",
     "output_type": "stream",
     "text": [
      "0\n"
     ]
    }
   ],
   "source": [
    "print(0%2)"
   ]
  },
  {
   "cell_type": "code",
   "execution_count": 116,
   "id": "15d7f931",
   "metadata": {},
   "outputs": [],
   "source": [
    "# Ver.1\n",
    "def solution(s):\n",
    "    answer = 0\n",
    "    \n",
    "    for n in range(len(s)):\n",
    "        # 짝수번째일때 해당 원소는 다음 원소보다 작아야한다.\n",
    "        if n%2==0:\n",
    "            if s[n]<s[n+1]:\n",
    "                pass\n",
    "            if s[n]==s[n+1]:\n",
    "                s.insert(n+1, s[n]+1)\n",
    "                answer+=1\n",
    "            else:\n",
    "                s.insert(n+1, s[n]+1)\n",
    "                answer+=1\n",
    "            print('짝',s)\n",
    "        # 홀수번째일때 해당 원소는 다음 원소보다 커야한다.\n",
    "        if n%2!=0:\n",
    "            if s[n]>s[n+1]:\n",
    "                pass\n",
    "            if s[n]==s[n+1]:\n",
    "                s.insert(n+1, s[n]-1)\n",
    "                answer+=1\n",
    "            else:\n",
    "                s.insert(n+1, s[n]-1)\n",
    "                answer+=1\n",
    "            print('홀',s)\n",
    "\n",
    "    return answer"
   ]
  },
  {
   "cell_type": "code",
   "execution_count": 118,
   "id": "66c3db56",
   "metadata": {},
   "outputs": [
    {
     "name": "stdout",
     "output_type": "stream",
     "text": [
      "짝 [3, 4, -1, 0, 4]\n",
      "홀 [3, 4, 3, -1, 0, 4]\n",
      "짝 [3, 4, 3, 4, -1, 0, 4]\n",
      "홀 [3, 4, 3, 4, 3, -1, 0, 4]\n"
     ]
    },
    {
     "data": {
      "text/plain": [
       "4"
      ]
     },
     "execution_count": 118,
     "metadata": {},
     "output_type": "execute_result"
    }
   ],
   "source": [
    "solution([3,-1,0,4])"
   ]
  },
  {
   "cell_type": "code",
   "execution_count": 130,
   "id": "1cc74ea3",
   "metadata": {},
   "outputs": [],
   "source": [
    "# Ver.2\n",
    "def solution(s):\n",
    "    answer = 0\n",
    "    \n",
    "    for n in range(len(s)):\n",
    "        # 짝수번째일때 해당 원소는 다음 원소보다 작아야한다.\n",
    "        if n%2==0:\n",
    "            if s[n]<s[n+1]:\n",
    "                pass\n",
    "            if s[n]==s[n+1]:\n",
    "                s.insert(n, -s[n+1])\n",
    "                answer+=1\n",
    "            if s[n]>s[n+1]:\n",
    "                s.insert(n, -s[n+1])\n",
    "                answer+=1\n",
    "            print('짝',s)\n",
    "            \n",
    "        # 홀수번째일때 해당 원소는 다음 원소보다 커야한다.\n",
    "        if n%2!=0:\n",
    "            if s[n]>s[n+1]:\n",
    "                pass\n",
    "            if s[n]==s[n+1]:\n",
    "                s.insert(n+1, s[n]-1)\n",
    "                answer+=1\n",
    "            if s[n]<s[n+1]:\n",
    "                s.insert(n+1, s[n]-1)\n",
    "                answer+=1\n",
    "            print('홀',s)\n",
    "\n",
    "    return answer"
   ]
  },
  {
   "cell_type": "code",
   "execution_count": 131,
   "id": "ccd426b9",
   "metadata": {},
   "outputs": [
    {
     "name": "stdout",
     "output_type": "stream",
     "text": [
      "짝 [1, 3, -1, 0, 4]\n",
      "홀 [1, 3, -1, 0, 4]\n",
      "짝 [1, 3, -1, 0, 4]\n",
      "홀 [1, 3, -1, 0, 0, 4]\n"
     ]
    },
    {
     "data": {
      "text/plain": [
       "2"
      ]
     },
     "execution_count": 131,
     "metadata": {},
     "output_type": "execute_result"
    }
   ],
   "source": [
    "solution([3,-1,0,4])\n",
    "#[1, 3, -1, 0, -1, 4]"
   ]
  },
  {
   "cell_type": "code",
   "execution_count": 26,
   "id": "7842ef14",
   "metadata": {},
   "outputs": [
    {
     "name": "stdout",
     "output_type": "stream",
     "text": [
      "4\n",
      "0\n",
      "1\n",
      "2\n",
      "3\n",
      "4\n",
      "5\n"
     ]
    }
   ],
   "source": [
    "list1=[0,1,2,3,4,5]\n",
    "print(len(list1[2:]))\n",
    "for list1 in list1[0:]:\n",
    "    print(list1)"
   ]
  },
  {
   "cell_type": "code",
   "execution_count": 46,
   "id": "e14707bb",
   "metadata": {},
   "outputs": [],
   "source": [
    "def solution(price):\n",
    "    answer = []\n",
    "    for n in range(len(price)):\n",
    "        print('< {0} >'.format(n))\n",
    "        standard=price[n]\n",
    "        count=0\n",
    "        for compare in price[n+1:]:\n",
    "            count+=1\n",
    "            if compare>standard:\n",
    "                print(standard, '찾았당게')\n",
    "                answer.append(count)\n",
    "                break\n",
    "            if standard>=compare and count==len(price[n+1:]):\n",
    "                print(standard, '못찾았당게')\n",
    "                answer.append(-1)\n",
    "    answer.append(-1)\n",
    "    return answer"
   ]
  },
  {
   "cell_type": "code",
   "execution_count": 47,
   "id": "cdc887d3",
   "metadata": {},
   "outputs": [
    {
     "name": "stdout",
     "output_type": "stream",
     "text": [
      "<0>\n",
      "4 찾았당게\n",
      "<1>\n",
      "1 찾았당게\n",
      "<2>\n",
      "4 찾았당게\n",
      "<3>\n",
      "7 못찾았당게\n",
      "<4>\n"
     ]
    },
    {
     "data": {
      "text/plain": [
       "[3, 1, 1, -1, -1]"
      ]
     },
     "execution_count": 47,
     "metadata": {},
     "output_type": "execute_result"
    }
   ],
   "source": [
    "solution([4,1,4,7,6])\n",
    "# [3, 1, 1, -1, -1]"
   ]
  },
  {
   "cell_type": "code",
   "execution_count": 164,
   "id": "9c696632",
   "metadata": {},
   "outputs": [
    {
     "data": {
      "text/plain": [
       "3"
      ]
     },
     "execution_count": 164,
     "metadata": {},
     "output_type": "execute_result"
    }
   ],
   "source": [
    "def solution(p):\n",
    "    rec = [1] * len(p) # rec[i] records the length of the longest increasing subsequence ending with nums[i]\n",
    "    answer = 1\n",
    "    for i in range(1, len(p)):\n",
    "        for j in range(i-1, -1, -1):\n",
    "            if p[j] < p[i]:\n",
    "                rec[i] = max(rec[i], rec[j] + 1)\n",
    "        answer = max(answer, rec[i])\n",
    "    return answer\n",
    "\n",
    "solution([103,101,103,103,101,102,100,100,101,104])"
   ]
  },
  {
   "cell_type": "code",
   "execution_count": 167,
   "id": "715db5d8",
   "metadata": {},
   "outputs": [],
   "source": [
    "def longest_snake(numbers, counts, path):\n",
    "    best = path\n",
    "    for n in sorted(counts, key=numbers.index):\n",
    "        if counts[n] > 0 and (path == [] or abs(path[-1] - n) == 1):\n",
    "            counts[n] -= 1\n",
    "            res = longest_snake(numbers, counts, path + [n])\n",
    "            if len(res) > len(best):\n",
    "                best = res\n",
    "            counts[n] += 1\n",
    "    return best"
   ]
  },
  {
   "cell_type": "code",
   "execution_count": 170,
   "id": "b82dd0bf",
   "metadata": {},
   "outputs": [
    {
     "ename": "TypeError",
     "evalue": "'int' object is not iterable",
     "output_type": "error",
     "traceback": [
      "\u001b[1;31m---------------------------------------------------------------------------\u001b[0m",
      "\u001b[1;31mTypeError\u001b[0m                                 Traceback (most recent call last)",
      "\u001b[1;32m~\\AppData\\Local\\Temp/ipykernel_29476/380215560.py\u001b[0m in \u001b[0;36m<module>\u001b[1;34m\u001b[0m\n\u001b[1;32m----> 1\u001b[1;33m \u001b[0mlongest_snake\u001b[0m\u001b[1;33m(\u001b[0m\u001b[1;33m[\u001b[0m\u001b[1;36m103\u001b[0m\u001b[1;33m,\u001b[0m\u001b[1;36m101\u001b[0m\u001b[1;33m,\u001b[0m\u001b[1;36m103\u001b[0m\u001b[1;33m,\u001b[0m\u001b[1;36m103\u001b[0m\u001b[1;33m,\u001b[0m\u001b[1;36m101\u001b[0m\u001b[1;33m,\u001b[0m\u001b[1;36m102\u001b[0m\u001b[1;33m,\u001b[0m\u001b[1;36m100\u001b[0m\u001b[1;33m,\u001b[0m\u001b[1;36m100\u001b[0m\u001b[1;33m,\u001b[0m\u001b[1;36m101\u001b[0m\u001b[1;33m,\u001b[0m\u001b[1;36m104\u001b[0m\u001b[1;33m]\u001b[0m\u001b[1;33m,\u001b[0m \u001b[0mlen\u001b[0m\u001b[1;33m(\u001b[0m\u001b[1;33m[\u001b[0m\u001b[1;36m103\u001b[0m\u001b[1;33m,\u001b[0m\u001b[1;36m101\u001b[0m\u001b[1;33m,\u001b[0m\u001b[1;36m103\u001b[0m\u001b[1;33m,\u001b[0m\u001b[1;36m103\u001b[0m\u001b[1;33m,\u001b[0m\u001b[1;36m101\u001b[0m\u001b[1;33m,\u001b[0m\u001b[1;36m102\u001b[0m\u001b[1;33m,\u001b[0m\u001b[1;36m100\u001b[0m\u001b[1;33m,\u001b[0m\u001b[1;36m100\u001b[0m\u001b[1;33m,\u001b[0m\u001b[1;36m101\u001b[0m\u001b[1;33m,\u001b[0m\u001b[1;36m104\u001b[0m\u001b[1;33m]\u001b[0m\u001b[1;33m)\u001b[0m\u001b[1;33m,\u001b[0m \u001b[1;32mNone\u001b[0m\u001b[1;33m)\u001b[0m\u001b[1;33m\u001b[0m\u001b[1;33m\u001b[0m\u001b[0m\n\u001b[0m",
      "\u001b[1;32m~\\AppData\\Local\\Temp/ipykernel_29476/2814884083.py\u001b[0m in \u001b[0;36mlongest_snake\u001b[1;34m(numbers, counts, path)\u001b[0m\n\u001b[0;32m      1\u001b[0m \u001b[1;32mdef\u001b[0m \u001b[0mlongest_snake\u001b[0m\u001b[1;33m(\u001b[0m\u001b[0mnumbers\u001b[0m\u001b[1;33m,\u001b[0m \u001b[0mcounts\u001b[0m\u001b[1;33m,\u001b[0m \u001b[0mpath\u001b[0m\u001b[1;33m)\u001b[0m\u001b[1;33m:\u001b[0m\u001b[1;33m\u001b[0m\u001b[1;33m\u001b[0m\u001b[0m\n\u001b[0;32m      2\u001b[0m     \u001b[0mbest\u001b[0m \u001b[1;33m=\u001b[0m \u001b[0mpath\u001b[0m\u001b[1;33m\u001b[0m\u001b[1;33m\u001b[0m\u001b[0m\n\u001b[1;32m----> 3\u001b[1;33m     \u001b[1;32mfor\u001b[0m \u001b[0mn\u001b[0m \u001b[1;32min\u001b[0m \u001b[0msorted\u001b[0m\u001b[1;33m(\u001b[0m\u001b[0mcounts\u001b[0m\u001b[1;33m,\u001b[0m \u001b[0mkey\u001b[0m\u001b[1;33m=\u001b[0m\u001b[0mnumbers\u001b[0m\u001b[1;33m.\u001b[0m\u001b[0mindex\u001b[0m\u001b[1;33m)\u001b[0m\u001b[1;33m:\u001b[0m\u001b[1;33m\u001b[0m\u001b[1;33m\u001b[0m\u001b[0m\n\u001b[0m\u001b[0;32m      4\u001b[0m         \u001b[1;32mif\u001b[0m \u001b[0mcounts\u001b[0m\u001b[1;33m[\u001b[0m\u001b[0mn\u001b[0m\u001b[1;33m]\u001b[0m \u001b[1;33m>\u001b[0m \u001b[1;36m0\u001b[0m \u001b[1;32mand\u001b[0m \u001b[1;33m(\u001b[0m\u001b[0mpath\u001b[0m \u001b[1;33m==\u001b[0m \u001b[1;33m[\u001b[0m\u001b[1;33m]\u001b[0m \u001b[1;32mor\u001b[0m \u001b[0mabs\u001b[0m\u001b[1;33m(\u001b[0m\u001b[0mpath\u001b[0m\u001b[1;33m[\u001b[0m\u001b[1;33m-\u001b[0m\u001b[1;36m1\u001b[0m\u001b[1;33m]\u001b[0m \u001b[1;33m-\u001b[0m \u001b[0mn\u001b[0m\u001b[1;33m)\u001b[0m \u001b[1;33m==\u001b[0m \u001b[1;36m1\u001b[0m\u001b[1;33m)\u001b[0m\u001b[1;33m:\u001b[0m\u001b[1;33m\u001b[0m\u001b[1;33m\u001b[0m\u001b[0m\n\u001b[0;32m      5\u001b[0m             \u001b[0mcounts\u001b[0m\u001b[1;33m[\u001b[0m\u001b[0mn\u001b[0m\u001b[1;33m]\u001b[0m \u001b[1;33m-=\u001b[0m \u001b[1;36m1\u001b[0m\u001b[1;33m\u001b[0m\u001b[1;33m\u001b[0m\u001b[0m\n",
      "\u001b[1;31mTypeError\u001b[0m: 'int' object is not iterable"
     ]
    }
   ],
   "source": [
    "longest_snake([103,101,103,103,101,102,100,100,101,104], len([103,101,103,103,101,102,100,100,101,104]), None)"
   ]
  },
  {
   "cell_type": "code",
   "execution_count": 175,
   "id": "d7a0ec4c",
   "metadata": {},
   "outputs": [
    {
     "ename": "TypeError",
     "evalue": "'int' object is not iterable",
     "output_type": "error",
     "traceback": [
      "\u001b[1;31m---------------------------------------------------------------------------\u001b[0m",
      "\u001b[1;31mTypeError\u001b[0m                                 Traceback (most recent call last)",
      "\u001b[1;32m~\\AppData\\Local\\Temp/ipykernel_29476/3742510657.py\u001b[0m in \u001b[0;36m<module>\u001b[1;34m\u001b[0m\n\u001b[0;32m     10\u001b[0m             \u001b[0mdp\u001b[0m\u001b[1;33m[\u001b[0m\u001b[0mi\u001b[0m\u001b[1;33m]\u001b[0m \u001b[1;33m=\u001b[0m \u001b[0mmax\u001b[0m\u001b[1;33m(\u001b[0m\u001b[0mdp\u001b[0m\u001b[1;33m[\u001b[0m\u001b[0mi\u001b[0m\u001b[1;33m]\u001b[0m\u001b[1;33m,\u001b[0m \u001b[0mdp\u001b[0m\u001b[1;33m[\u001b[0m\u001b[0mi\u001b[0m \u001b[1;33m-\u001b[0m \u001b[1;36m1\u001b[0m\u001b[1;33m]\u001b[0m \u001b[1;33m+\u001b[0m \u001b[1;36m1\u001b[0m\u001b[1;33m)\u001b[0m\u001b[1;33m\u001b[0m\u001b[1;33m\u001b[0m\u001b[0m\n\u001b[0;32m     11\u001b[0m     \u001b[1;32mreturn\u001b[0m \u001b[0mmax\u001b[0m\u001b[1;33m(\u001b[0m\u001b[0mdp\u001b[0m\u001b[1;33m.\u001b[0m\u001b[0mvalues\u001b[0m\u001b[1;33m(\u001b[0m\u001b[1;33m)\u001b[0m\u001b[1;33m)\u001b[0m\u001b[1;33m\u001b[0m\u001b[1;33m\u001b[0m\u001b[0m\n\u001b[1;32m---> 12\u001b[1;33m \u001b[0mlongestConsecutiveSequence\u001b[0m\u001b[1;33m(\u001b[0m\u001b[1;33m[\u001b[0m\u001b[1;36m103\u001b[0m\u001b[1;33m,\u001b[0m\u001b[1;36m101\u001b[0m\u001b[1;33m,\u001b[0m\u001b[1;36m103\u001b[0m\u001b[1;33m,\u001b[0m\u001b[1;36m103\u001b[0m\u001b[1;33m,\u001b[0m\u001b[1;36m101\u001b[0m\u001b[1;33m,\u001b[0m\u001b[1;36m102\u001b[0m\u001b[1;33m,\u001b[0m\u001b[1;36m100\u001b[0m\u001b[1;33m,\u001b[0m\u001b[1;36m100\u001b[0m\u001b[1;33m,\u001b[0m\u001b[1;36m101\u001b[0m\u001b[1;33m,\u001b[0m\u001b[1;36m104\u001b[0m\u001b[1;33m]\u001b[0m\u001b[1;33m,\u001b[0m\u001b[1;36m10\u001b[0m\u001b[1;33m)\u001b[0m\u001b[1;33m\u001b[0m\u001b[1;33m\u001b[0m\u001b[0m\n\u001b[0m",
      "\u001b[1;32m~\\AppData\\Local\\Temp/ipykernel_29476/3742510657.py\u001b[0m in \u001b[0;36mlongestConsecutiveSequence\u001b[1;34m(self, nums)\u001b[0m\n\u001b[0;32m      2\u001b[0m     \u001b[1;32mif\u001b[0m \u001b[0mnums\u001b[0m \u001b[1;33m==\u001b[0m \u001b[1;36m0\u001b[0m\u001b[1;33m:\u001b[0m\u001b[1;33m\u001b[0m\u001b[1;33m\u001b[0m\u001b[0m\n\u001b[0;32m      3\u001b[0m         \u001b[1;32mreturn\u001b[0m \u001b[1;36m0\u001b[0m\u001b[1;33m\u001b[0m\u001b[1;33m\u001b[0m\u001b[0m\n\u001b[1;32m----> 4\u001b[1;33m     \u001b[0md\u001b[0m \u001b[1;33m=\u001b[0m \u001b[0mset\u001b[0m\u001b[1;33m(\u001b[0m\u001b[0mnums\u001b[0m\u001b[1;33m)\u001b[0m\u001b[1;33m\u001b[0m\u001b[1;33m\u001b[0m\u001b[0m\n\u001b[0m\u001b[0;32m      5\u001b[0m     \u001b[0mdp\u001b[0m \u001b[1;33m=\u001b[0m \u001b[0mdefaultdict\u001b[0m\u001b[1;33m(\u001b[0m\u001b[0mint\u001b[0m\u001b[1;33m)\u001b[0m\u001b[1;33m\u001b[0m\u001b[1;33m\u001b[0m\u001b[0m\n\u001b[0;32m      6\u001b[0m     \u001b[0mnums\u001b[0m\u001b[1;33m.\u001b[0m\u001b[0msort\u001b[0m\u001b[1;33m(\u001b[0m\u001b[1;33m)\u001b[0m\u001b[1;33m\u001b[0m\u001b[1;33m\u001b[0m\u001b[0m\n",
      "\u001b[1;31mTypeError\u001b[0m: 'int' object is not iterable"
     ]
    }
   ],
   "source": [
    "\n",
    "def longestConsecutiveSequence(self, nums):\n",
    "    if len(nums) == 0:\n",
    "        return 0\n",
    "    d = set(nums)\n",
    "    dp = defaultdict(int)\n",
    "    nums.sort()        \n",
    "    for i in nums:\n",
    "        dp[i] = max(dp[i], 1)\n",
    "        if i - 1 in d:\n",
    "            dp[i] = max(dp[i], dp[i - 1] + 1)\n",
    "    return max(dp.values())\n",
    "longestConsecutiveSequence([103,101,103,103,101,102,100,100,101,104])"
   ]
  }
 ],
 "metadata": {
  "kernelspec": {
   "display_name": "Python 3 (ipykernel)",
   "language": "python",
   "name": "python3"
  },
  "language_info": {
   "codemirror_mode": {
    "name": "ipython",
    "version": 3
   },
   "file_extension": ".py",
   "mimetype": "text/x-python",
   "name": "python",
   "nbconvert_exporter": "python",
   "pygments_lexer": "ipython3",
   "version": "3.9.7"
  }
 },
 "nbformat": 4,
 "nbformat_minor": 5
}
