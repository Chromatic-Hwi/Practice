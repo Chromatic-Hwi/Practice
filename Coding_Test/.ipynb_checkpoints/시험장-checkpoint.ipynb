{
 "cells": [
  {
   "cell_type": "code",
   "execution_count": 21,
   "id": "86133133",
   "metadata": {},
   "outputs": [
    {
     "name": "stdout",
     "output_type": "stream",
     "text": [
      "3개의 값을 공백으로 구분하여 입력하시오.1 10 100\n",
      "[1, 10, 100]\n"
     ]
    }
   ],
   "source": [
    "nmk_list = list(map(int, input('3개의 값을 공백으로 구분하여 입력하시오.').split()))\n",
    "print(nmk_list)"
   ]
  }
 ],
 "metadata": {
  "kernelspec": {
   "display_name": "Python 3 (ipykernel)",
   "language": "python",
   "name": "python3"
  },
  "language_info": {
   "codemirror_mode": {
    "name": "ipython",
    "version": 3
   },
   "file_extension": ".py",
   "mimetype": "text/x-python",
   "name": "python",
   "nbconvert_exporter": "python",
   "pygments_lexer": "ipython3",
   "version": "3.9.7"
  }
 },
 "nbformat": 4,
 "nbformat_minor": 5
}
