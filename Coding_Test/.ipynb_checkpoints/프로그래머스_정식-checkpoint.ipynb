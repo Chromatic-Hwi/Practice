{
 "cells": [
  {
   "cell_type": "markdown",
   "id": "1c81b022",
   "metadata": {},
   "source": [
    "# 코테 풀이"
   ]
  },
  {
   "cell_type": "markdown",
   "id": "95670f8a",
   "metadata": {},
   "source": [
    "## 1단계"
   ]
  },
  {
   "cell_type": "markdown",
   "id": "a79c7723",
   "metadata": {},
   "source": [
    "### 220809 로또의 최고 순위와 최저 순위 (10분 1트 성공)"
   ]
  },
  {
   "cell_type": "code",
   "execution_count": 1,
   "id": "1e00e62f",
   "metadata": {},
   "outputs": [],
   "source": [
    "\"\"\"\n",
    "주어지는 응모 번호와 로또 당첨 번호를 비교해서 식별 불가 번호포함 최저 순위와 최고 당첨 순위를 출력하는 문제.\n",
    "\n",
    "맞춘 갯수별 순위를 딕셔너리로 했고,\n",
    "\n",
    "전체 응모 번호를 돌면서 0일 경우(=인식불가 숫자) 나중에 더해주기 위해 miss_num 으로 저장했고\n",
    "\n",
    "응모 번호를 탐색하면서 일치할경우 count 증가\n",
    "\n",
    "count에 miss_num을 더해서 award에 Key로 넣으면 최고순위, 안 더하면 최저순위로 나오니 각각 answer에 추가하면 끝.\n",
    "\"\"\"\n",
    "def solution(lottos, win_nums):\n",
    "    answer = []\n",
    "    count=0\n",
    "    miss_num=0\n",
    "    award={0:6, 1:6, 2:5, 3:4, 4:3, 5:2, 6:1}\n",
    "    \n",
    "    for num in lottos:\n",
    "        if num==0:\n",
    "            miss_num+=1\n",
    "        if num in win_nums:\n",
    "            count+=1\n",
    "        else:\n",
    "            pass\n",
    "        \n",
    "    answer.append(award[count+miss_num])\n",
    "    answer.append(award[count])\n",
    "    \n",
    "    return answer"
   ]
  },
  {
   "cell_type": "markdown",
   "id": "69f6daaf",
   "metadata": {},
   "source": [
    "### 220810 없는 숫자 더하기 (5분 1트 성공)"
   ]
  },
  {
   "cell_type": "code",
   "execution_count": 2,
   "id": "24054c21",
   "metadata": {},
   "outputs": [],
   "source": [
    "\"\"\"\n",
    "1~9 범위내 중복 없고 누락 있는 리스트가 주어짐.\n",
    "누락된 범위의 숫자를 찾아서 합을 반환하는 코드를 작성해야 하는데 처음에는 1~9의 range내에서 탐색하면서 불일치할 경우\n",
    "답에 숫자를 더하는 식으로 하려다가 '중복이 없으니 빠진 숫자 합만 구하면 되는거 아니냐' 생각에 45에서 차를 구하는 식으로\n",
    "방향을 바꿨음.\n",
    "\"\"\"\n",
    "def solution(numbers):\n",
    "    num_sum=0\n",
    "    \n",
    "    for num in numbers:\n",
    "        num_sum+=num\n",
    "    \n",
    "    if num_sum==45:\n",
    "        answer=-1\n",
    "    else:\n",
    "        answer=45-num_sum\n",
    "            \n",
    "    return answer"
   ]
  },
  {
   "cell_type": "markdown",
   "id": "587b6f35",
   "metadata": {},
   "source": [
    "### 220810 음양 더하기 (5분 1트 성공)"
   ]
  },
  {
   "cell_type": "code",
   "execution_count": null,
   "id": "8cbb0d29",
   "metadata": {},
   "outputs": [],
   "source": [
    "\"\"\"\n",
    "절댓값 리스트와 참/거짓 리스트가 주어지면 참/거짓 여부에 따라 합차 계산을 해서 결과를 반환하는 문제.\n",
    "두 리스트의 길이는 같기 때문에 한 리스트의 길이만큼 범위를 정하고 해당 순번 인덱스를 넣어서\n",
    "참일 경우 더하고, 거짓일 경우 빼도록 해서 결과를 계산함.\n",
    "\"\"\"\n",
    "def solution(absolutes, signs):\n",
    "    answer = 0\n",
    "    \n",
    "    for n in range(len(absolutes)):\n",
    "        if signs[n]==True:\n",
    "            answer+=absolutes[n]\n",
    "        if signs[n]==False:\n",
    "            answer-=absolutes[n]\n",
    "            \n",
    "    return answer"
   ]
  },
  {
   "cell_type": "markdown",
   "id": "8f092f23",
   "metadata": {},
   "source": [
    "### 220811 소수 만들기 (10분 1트 실패)"
   ]
  },
  {
   "cell_type": "code",
   "execution_count": 1,
   "id": "3b7e63cd",
   "metadata": {},
   "outputs": [
    {
     "data": {
      "text/plain": [
       "'\\n주어진 리스트의 숫자들을 중복 없이 3개 골라 소수인지 판별하는 문제였는데, 전체 리스트의 길이도 모르고\\n순열, 조합 기능을 쓸줄 몰라서 숫자를 뽑는 단계부터 막혀버렸음.\\n'"
      ]
     },
     "execution_count": 1,
     "metadata": {},
     "output_type": "execute_result"
    }
   ],
   "source": [
    "\"\"\"\n",
    "주어진 리스트의 숫자들을 중복 없이 3개 골라 소수인지 판별하는 문제였는데, 전체 리스트의 길이도 모르고\n",
    "순열, 조합 기능을 쓸줄 몰라서 숫자를 뽑는 단계부터 막혀버렸음.\n",
    "\"\"\""
   ]
  },
  {
   "cell_type": "code",
   "execution_count": 17,
   "id": "04c20600",
   "metadata": {},
   "outputs": [
    {
     "name": "stdout",
     "output_type": "stream",
     "text": [
      "(0, 1) (0, 2) (0, 3) (1, 0) (1, 2) (1, 3) (2, 0) (2, 1) (2, 3) (3, 0) (3, 1) (3, 2) "
     ]
    }
   ],
   "source": [
    "# 순열\n",
    "# 중복을 허용하지 않고 뽑으며, 순서 의미가 있다. \n",
    "from itertools import permutations\n",
    "\n",
    "for perm in permutations([0,1,2,3], 2):\n",
    "    print(perm, end=\" \")"
   ]
  },
  {
   "cell_type": "code",
   "execution_count": 18,
   "id": "88d94611",
   "metadata": {},
   "outputs": [
    {
     "name": "stdout",
     "output_type": "stream",
     "text": [
      "(1, 2, 3) (1, 2, 4) (1, 3, 4) (2, 3, 4) "
     ]
    }
   ],
   "source": [
    "# 조합\n",
    "# 중복을 허용하지 않고 뽑으나, 순서를 고려하지 않기 때문에 순서를 바꿔도 중복이 없다.\n",
    "from itertools import combinations\n",
    "\n",
    "for comb in combinations([1,2,3,4], 3):\n",
    "    print(comb, end=\" \")"
   ]
  },
  {
   "cell_type": "code",
   "execution_count": 19,
   "id": "8900fd96",
   "metadata": {},
   "outputs": [
    {
     "name": "stdout",
     "output_type": "stream",
     "text": [
      "(1, 2, 3)\n",
      "(1, 2, 4)\n",
      "(1, 3, 4)\n",
      "(2, 3, 4)\n"
     ]
    }
   ],
   "source": [
    "for i in combinations([1,2,3,4], 3):\n",
    "    print(i)"
   ]
  },
  {
   "cell_type": "code",
   "execution_count": null,
   "id": "8b30da97",
   "metadata": {},
   "outputs": [],
   "source": [
    "\"\"\"\n",
    "조합 기능을 사용해서 코드를 작성했는데 전체 점수에서 53점 정도밖에 안나옴. \n",
    "소수인지 점검하는 것 때문에 그런거라 의심되는데(현재 100이하 소수밖에 없기 때문) 소수 판별 기능을 찾아봐야할듯.\n",
    "\"\"\"\n",
    "from itertools import combinations as COMB\n",
    "\n",
    "def solution(nums):\n",
    "    answer = []\n",
    "    prime=[2,3,5,7,11,13,17,19,23,29,31,37,41,43,47,53,59,61,67,71,73,79,83,89,97]\n",
    "    \n",
    "    for comb_list in COMB(nums, 3):\n",
    "        sum_num=sum(comb_list)\n",
    "        if sum_num in prime:\n",
    "            answer.append(sum_num)\n",
    "    \n",
    "    if len(answer)==0:\n",
    "        answer=0\n",
    "    else:\n",
    "        answer=len(answer)\n",
    "        \n",
    "    return answer"
   ]
  },
  {
   "cell_type": "markdown",
   "id": "9bc340eb",
   "metadata": {},
   "source": [
    "### 220812 폰켓몬 (10분 1트 실패)"
   ]
  },
  {
   "cell_type": "code",
   "execution_count": 1,
   "id": "85900f35",
   "metadata": {},
   "outputs": [],
   "source": [
    "\"\"\"\n",
    "문제를 보자마자 조합 문제인걸 직감했음. \n",
    "하지만 채점 과정에서 시간 초과로 탈락.\n",
    "다른 풀이를 참고하니 전체 조합을 다 비교할 필요는 없다는 정보를 얻었음.\n",
    "\"\"\"\n",
    "\n",
    "from itertools import combinations as COMB\n",
    "\n",
    "def solution(nums):\n",
    "    answer = []\n",
    "    choose=len(nums)//2\n",
    "\n",
    "    for l in COMB(nums, choose):\n",
    "        l=list(set(l))\n",
    "        answer.append(len(l))\n",
    "        \n",
    "    answer=max(answer)\n",
    "    \n",
    "    return answer"
   ]
  },
  {
   "cell_type": "markdown",
   "id": "b6f778a4",
   "metadata": {},
   "source": [
    "### 220812 폰켓몬 (10분 2트 성공)"
   ]
  },
  {
   "cell_type": "code",
   "execution_count": 2,
   "id": "fcc2ce02",
   "metadata": {},
   "outputs": [],
   "source": [
    "\"\"\"\n",
    "set을 통해 중복을 제거하고 다시 list로 만들었을 때, 길이를 비교해서 푸는 방식.\n",
    "조합을 일일히 비교하지 않기 때문에 빠른 처리가 가능.\n",
    "하지만 if 절에 해당하는 알고리즘을 한번에 떠올리진 못해서 다른 풀이를 참고했음.\n",
    "\"\"\"\n",
    "def solution(nums):\n",
    "    choice = len(nums)//2\n",
    "    kind_nums = len(list(set(nums)))\n",
    "\n",
    "    if choice >= kind_nums:\n",
    "        result = kind_nums\n",
    "        \n",
    "    else:\n",
    "        result = choice\n",
    "\n",
    "    return result"
   ]
  },
  {
   "cell_type": "markdown",
   "id": "f4c94fd4",
   "metadata": {},
   "source": [
    "### 220813 최소직사각형 (30분 1트 시간초과 실패)"
   ]
  },
  {
   "cell_type": "code",
   "execution_count": 4,
   "id": "5c44a210",
   "metadata": {},
   "outputs": [],
   "source": [
    "\"\"\"\n",
    "뭔가 풀이에 대한 감은 잡혔는데 30분이 초과되서 실패 처리.\n",
    "테스트 케이스를 통과하지도 못했음.\n",
    "\"\"\"\n",
    "def solution(sizes):\n",
    "    answer = []\n",
    "    num = 0\n",
    "    \n",
    "    for n in range(len(sizes)):\n",
    "        num=sizes[n][0]*sizes[n][1]\n",
    "        if n==0:\n",
    "            start_num=sizes[n][0]*sizes[n][1]\n",
    "            answer.append(sizes[n][0])\n",
    "            answer.append(sizes[n][1])\n",
    "        else:\n",
    "            if start_num>=num:\n",
    "                pass\n",
    "            else:\n",
    "                if answer[0]<sizes[n][0] and answer[1]<sizes[n][1]:\n",
    "                    print(\"1\")\n",
    "                    answer=[sizes[n][0], sizes[n][1]]\n",
    "                if answer[0]<sizes[n][1] and answer[1]<sizes[n][0]:\n",
    "                    print(\"2\")\n",
    "                    answer=[sizes[n][1], sizes[n][0]]\n",
    "                if answer[0]<sizes[n][0] and answer[1]>=sizes[n][1]:\n",
    "                    print(\"3\")\n",
    "                    answer=[sizes[n][0], answer[1]]\n",
    "                if answer[0]>=sizes[n][1] and answer[1]<sizes[n][0]:\n",
    "                    print(\"4\")\n",
    "                    answer=[answer[1], sizes[n][0]]\n",
    "    print(answer)\n",
    "    \n",
    "    answer=answer[0]*answer[1]\n",
    "    return answer"
   ]
  },
  {
   "cell_type": "markdown",
   "id": "a54ebecc",
   "metadata": {},
   "source": [
    "### 220813 최소직사각형 (20분 2트 알고리즘 해결 못함)"
   ]
  },
  {
   "cell_type": "code",
   "execution_count": null,
   "id": "0e6c783f",
   "metadata": {},
   "outputs": [],
   "source": [
    "\"\"\"\n",
    "내 생각으로는 해결이 되야 맞는데 테스트 케이스만 풀리고 본 검사에서는 통과를 못함.\n",
    "\"\"\"\n",
    "def solution(sizes):\n",
    "    answer=[]\n",
    "    \n",
    "    for n in range(len(sizes)):\n",
    "        if n==0:\n",
    "            answer.append(sizes[0][0])\n",
    "            answer.append(sizes[0][1])\n",
    "        else:\n",
    "            sizes[n]=sorted(sizes[n], reverse=True)\n",
    "            if sizes[n][0]>answer[0]:\n",
    "                answer=[sizes[n][0], answer[1]]\n",
    "            if sizes[n][1]>answer[1]:\n",
    "                answer=[answer[0], sizes[n][1]]\n",
    "\n",
    "    answer=answer[0]*answer[1]\n",
    "    return answer"
   ]
  },
  {
   "cell_type": "markdown",
   "id": "da7e0c12",
   "metadata": {},
   "source": [
    "### 220813 최소직사각형 (풀이 참조)"
   ]
  },
  {
   "cell_type": "code",
   "execution_count": null,
   "id": "e4c2bde9",
   "metadata": {},
   "outputs": [],
   "source": [
    "def solution(sizes):\n",
    "    x, y = 0, 0\n",
    "    for t in sizes:\n",
    "        t.sort()\n",
    "        x = max(x, t[0])\n",
    "        y = max(y, t[1])\n",
    "    return x*y"
   ]
  },
  {
   "cell_type": "markdown",
   "id": "36cd7c67",
   "metadata": {},
   "source": [
    "### 220813 두 개 뽑아서 더하기 (5분 1트 클리어)"
   ]
  },
  {
   "cell_type": "code",
   "execution_count": 6,
   "id": "e5e7a390",
   "metadata": {},
   "outputs": [],
   "source": [
    "\"\"\"\n",
    "조합 문제 그 자체.\n",
    "근데 중복 삭제와 정렬을 곁들인..\n",
    "\"\"\"\n",
    "from itertools import combinations as COMB\n",
    "def solution(numbers):\n",
    "    answer = []\n",
    "    for n in COMB(numbers, 2):\n",
    "        answer.append(sum(n))\n",
    "    answer=list(set(answer))\n",
    "    answer.sort()\n",
    "    return answer"
   ]
  },
  {
   "cell_type": "markdown",
   "id": "3a64d300",
   "metadata": {},
   "source": [
    "### 220813 2016년 (20분 1트 실패)"
   ]
  },
  {
   "cell_type": "code",
   "execution_count": 8,
   "id": "2fecacd8",
   "metadata": {},
   "outputs": [],
   "source": [
    "\"\"\"\n",
    "각 월마다 요일 시작점을 만드려다가 그건 알고리즘 연습이 안될듯 해서 전체 일수를 더해서 7로 나눈뒤 계산하는 방향으로\n",
    "했으나 실패함.\n",
    "\"\"\"\n",
    "def solution(a, b):\n",
    "    answer = ''\n",
    "    Month={1:31, 2:29, 3:31, 4:30, 5:31, 6:30, 7:31, 8:31, 9:30, 10:31, 11:30, 12:31}\n",
    "    Days=[\"FRI\", \"SAT\", \"SUN\", \"MON\", \"TUE\", \"WED\", \"THU\"]\n",
    "    day=0\n",
    "    \n",
    "    for d in range(1, a+1):\n",
    "        if a==1:\n",
    "            answer=Days[b//7+1]\n",
    "        else:\n",
    "            if d<a:\n",
    "                day+=Month[d]\n",
    "            if d==a:\n",
    "                total_day=day+b\n",
    "                cnt=0\n",
    "                while(total_day>1):\n",
    "                    total_day=total_day//7\n",
    "                    cnt+=1\n",
    "                print(cnt)\n",
    "                answer=Days[cnt+1]\n",
    "    \n",
    "    return answer"
   ]
  },
  {
   "cell_type": "markdown",
   "id": "e995e5e5",
   "metadata": {},
   "source": [
    "### 2016년 (5분 2트 힌트 봄)"
   ]
  },
  {
   "cell_type": "code",
   "execution_count": 9,
   "id": "f9997552",
   "metadata": {},
   "outputs": [],
   "source": [
    "\"\"\"\n",
    "전체적인 구조는 비슷했으나 세부적인 숫자 조정에서 계산을 실패했음.\n",
    "그리고 난 Month를 딕셔너리로 했는데 다른 풀이를 보니 그냥 리스트로 했었음. 전에 짰던 코드라 생각나서 바로 \n",
    "응용했는데 크게 비효율적인 부분은 아니니 패-스\n",
    "\"\"\"\n",
    "def solution(a, b):\n",
    "    answer = ''\n",
    "    Month={1:31, 2:29, 3:31, 4:30, 5:31, 6:30, 7:31, 8:31, 9:30, 10:31, 11:30, 12:31}\n",
    "    Days=[\"FRI\", \"SAT\", \"SUN\", \"MON\", \"TUE\", \"WED\", \"THU\"]\n",
    "    day=0\n",
    "    \n",
    "    for d in range(1, a+1):\n",
    "        if a==1:\n",
    "            answer=Days[b%7-1]\n",
    "        else:\n",
    "            if d<a:\n",
    "                day+=Month[d]\n",
    "            if d==a:\n",
    "                total_day=day+b\n",
    "                total_day%=7\n",
    "                print(total_day)\n",
    "                answer=Days[total_day-1]\n",
    "    \n",
    "    return answer"
   ]
  },
  {
   "cell_type": "markdown",
   "id": "f3ee47c3",
   "metadata": {},
   "source": [
    "### 220814 K번째수 (11분 1트 클리어)"
   ]
  },
  {
   "cell_type": "code",
   "execution_count": 1,
   "id": "2d767092",
   "metadata": {},
   "outputs": [],
   "source": [
    "\"\"\"\n",
    "풀이는 쉬웠는데 문제 자체를 빨리 이해하는 것의 필요성을 느꼈음.\n",
    "\"\"\"\n",
    "def solution(array, commands):\n",
    "    answer = []\n",
    "    \n",
    "    for n in range(len(commands)):\n",
    "        start=commands[n][0]-1\n",
    "        end=commands[n][1]\n",
    "        list_little=array[start:end]\n",
    "        list_little=sorted(list_little)\n",
    "        answer.append(list_little[commands[n][2]-1])\n",
    "    \n",
    "    return answer"
   ]
  },
  {
   "cell_type": "markdown",
   "id": "41532b92",
   "metadata": {},
   "source": [
    "### 220814 완주하지 못한 선수 (15분 1트 클리어)"
   ]
  },
  {
   "cell_type": "code",
   "execution_count": 6,
   "id": "34cd0800",
   "metadata": {},
   "outputs": [],
   "source": [
    "\"\"\"\n",
    "무조건 참가자 리스트 길이가 완주자 리스트 길이보다 길기 때문에 같은 인덱스 번호로 반복시키면 index 에러가 발생.\n",
    "그래서 그냥 try, except로 완주자 리스트 인덱스에서 에러가 발생하면 미완주자로 정답을 출력하도록 함.\n",
    "\"\"\"\n",
    "def solution(participant, completion):\n",
    "    answer = ''\n",
    "    if len(participant)==len(completion):\n",
    "        pass\n",
    "    else:\n",
    "        participant.sort()\n",
    "        completion.sort()\n",
    "        \n",
    "        try:\n",
    "            for n in range(len(participant)):\n",
    "                if participant[n]==completion[n]:\n",
    "                    pass\n",
    "                else:\n",
    "                    answer=participant[n]\n",
    "                    break\n",
    "        except:\n",
    "            answer=participant[n]\n",
    "\n",
    "    return answer"
   ]
  },
  {
   "cell_type": "markdown",
   "id": "9dbedf9a",
   "metadata": {},
   "source": [
    "### 220814 같은 숫자는 싫어 (10분 1트 클리어)"
   ]
  },
  {
   "cell_type": "code",
   "execution_count": 12,
   "id": "d73fa8dc",
   "metadata": {},
   "outputs": [],
   "source": [
    "\"\"\"\n",
    "무난하게 해결. 특출난 포인트가 없는 문제\n",
    "\"\"\"\n",
    "def solution(arr):\n",
    "    answer=[]\n",
    "    \n",
    "    for n in range(len(arr)-1):\n",
    "        if arr[n]==arr[n+1]:\n",
    "            if n==len(arr)-2:\n",
    "                answer.append(arr[n])\n",
    "            pass\n",
    "        \n",
    "        else:\n",
    "            answer.append(arr[n])\n",
    "            if n==len(arr)-2:\n",
    "                answer.append(arr[n+1])\n",
    "                \n",
    "    return answer"
   ]
  },
  {
   "cell_type": "markdown",
   "id": "7aa21b15",
   "metadata": {},
   "source": [
    "### 220814 크레인 인형뽑기 게임 (20분 1트 실패)"
   ]
  },
  {
   "cell_type": "code",
   "execution_count": 34,
   "id": "706ea273",
   "metadata": {},
   "outputs": [],
   "source": [
    "\"\"\"\n",
    "리스트에서 숫자를 뽑고 0으로 바꾼뒤 결과 리스트를 다시 중복 삭제하는 문제.\n",
    "if board[line_w][line_h]==0: 절에서 index error가 발생해서 원인을 찾는다고 시간을 많이 썼는데,\n",
    "시간이 5분만 더 있었더라면 풀었을 것 같음.\n",
    "테스트 케이스만 어거지로 통과하고 메인 테스트에선 실패\n",
    "\"\"\"\n",
    "def solution(board, moves):\n",
    "    answer = 0\n",
    "    pick=[]\n",
    "\n",
    "    for m in moves:\n",
    "        line_w=0\n",
    "        line_h=m-1\n",
    "\n",
    "        while True:\n",
    "            if board[line_w][line_h]==0:\n",
    "                line_w+=1\n",
    "                if line_w==len(board):\n",
    "                    pick.append(0)\n",
    "                    break\n",
    "            else:\n",
    "                pick.append(board[line_w][line_h])\n",
    "                board[line_w][line_h]=0\n",
    "                break\n",
    "\n",
    "    print(pick)\n",
    "    origin_len=len(pick)\n",
    "    later_len=len(list(set(pick)))\n",
    "    answer=origin_len-later_len+1\n",
    "    return answer"
   ]
  },
  {
   "cell_type": "markdown",
   "id": "7495eae1",
   "metadata": {},
   "source": [
    "### 크레인 인형 뽑기 게임 (30분 2트 실패)"
   ]
  },
  {
   "cell_type": "code",
   "execution_count": 1,
   "id": "265f66ba",
   "metadata": {},
   "outputs": [],
   "source": [
    "\"\"\"\n",
    "인형을 뽑아서 pick 리스트까지는 정상적으로 만들었는데, 연달아 같은 숫자 즉 애니팡처럼 터지는 부분 구현이 안됨.\n",
    "테스트 케이스에선 정상 작동하는데 왜 통과가 안 되는지 모르겠음.\n",
    "\n",
    "\"\"\"\n",
    "def solution(board, moves):\n",
    "    answer = 0\n",
    "    pick=[]\n",
    "\n",
    "    for m in moves:\n",
    "        line_w=0\n",
    "        line_h=m-1\n",
    "\n",
    "        while True:\n",
    "            if board[line_w][line_h]==0:\n",
    "                line_w+=1\n",
    "                if line_w==len(board):\n",
    "                    pick.append(0)\n",
    "                    break\n",
    "            else:\n",
    "                pick.append(board[line_w][line_h])\n",
    "                board[line_w][line_h]=0\n",
    "                break\n",
    "\n",
    "    for _ in range(30):\n",
    "        for n in range(len(pick)-1):\n",
    "            if pick[n]==pick[n+1]:\n",
    "                del pick[n:n+2]\n",
    "                break\n",
    "            else:\n",
    "                if n==len(pick)-2 and pick[n]==pick[n+1]:\n",
    "                    del pick[n:n+2]\n",
    "                    break\n",
    "                else:\n",
    "                    pass\n",
    "    answer=len(pick)\n",
    "    return answer"
   ]
  },
  {
   "cell_type": "markdown",
   "id": "a713e278",
   "metadata": {},
   "source": [
    "### 220815 체육복 (21분 1트 실패)"
   ]
  },
  {
   "cell_type": "code",
   "execution_count": 38,
   "id": "7093a98f",
   "metadata": {},
   "outputs": [],
   "source": [
    "\"\"\"\n",
    "여러 테스트 케이스를 추가도 해봤는데 정확성 테스트에서 문제 몇개가 실패함.\n",
    "아마 최대의 수를 출력해야 하는데 경우의 수를 다 비교하지 못하고 특정 연산만 해서 그런듯 함.\n",
    "\"\"\"\n",
    "def solution(n, lost, reserve):\n",
    "    answer = n\n",
    "    answer-=len(lost)\n",
    "    \n",
    "    for l in lost:\n",
    "        if l in reserve:\n",
    "            reserve.remove(l)\n",
    "            lost.remove(l)\n",
    "            answer+=1\n",
    "            \n",
    "        try:\n",
    "            if l-1 in reserve:\n",
    "                lost.remove(l)\n",
    "                reserve.remove(l-1)\n",
    "                answer+=1\n",
    "            if l+1 in reserve:\n",
    "                lost.remove(l)\n",
    "                reserve.remove(l+1)\n",
    "                answer+=1\n",
    "        except:\n",
    "            answer+=1\n",
    "            \n",
    "    return answer"
   ]
  },
  {
   "cell_type": "markdown",
   "id": "b5368e53",
   "metadata": {},
   "source": [
    "### 220815 체육복 (1시간 2트 실패)"
   ]
  },
  {
   "cell_type": "code",
   "execution_count": 77,
   "id": "9e9b8be6",
   "metadata": {},
   "outputs": [],
   "source": [
    "\"\"\"\n",
    "탐욕법 (그리디) 문제였는데 대소 비교 조건과 삭제 등\n",
    "전체적인 틀은 다 그려졌는데 세부 계산이 안 맞아서 끝까지 통과 못했음.\n",
    "\"\"\"\n",
    "def solution(n, lost, reserve):\n",
    "    answer = n\n",
    "    answer-=len(lost)\n",
    "    lost.sort()\n",
    "    reserve.sort()\n",
    "    \n",
    "    l=len(lost)\n",
    "    while(l<)\n",
    "    for n in range(len(lost)):\n",
    "        if lost[n] in reserve:\n",
    "            print(\"여벌 없는 놈 제거\")\n",
    "            lost.remove(lost[n])\n",
    "            reserve.remove(lost[n])\n",
    "            print(reserve)\n",
    "            answer+=1\n",
    "            n-=2\n",
    "    print(\"정리끝\")\n",
    "    print(lost, reserve, \"\\n\")\n",
    "    \n",
    "    for l in lost:\n",
    "        try:\n",
    "            if l-1 in reserve:\n",
    "                print(\"작은 번호 있음\")\n",
    "                answer+=1\n",
    "                lost.remove(l)\n",
    "                reserve.remove(l-1)\n",
    "                print(lost, reserve)\n",
    "                \n",
    "            if l+1 in reserve:\n",
    "                print(\"큰 번호 있음\")\n",
    "                answer+=1\n",
    "                lost.remove(l)\n",
    "                reserve.remove(l+1)\n",
    "                print(lost, reserve)\n",
    "            \n",
    "        except:\n",
    "                pass\n",
    "            \n",
    "    return answer"
   ]
  },
  {
   "cell_type": "markdown",
   "id": "a122110a",
   "metadata": {},
   "source": [
    "### 220815 키패드누르기 (중도포기)"
   ]
  },
  {
   "cell_type": "code",
   "execution_count": 108,
   "id": "3a7123ad",
   "metadata": {},
   "outputs": [
    {
     "ename": "SyntaxError",
     "evalue": "cannot assign to operator (Temp/ipykernel_18900/3199267529.py, line 21)",
     "output_type": "error",
     "traceback": [
      "\u001b[1;36m  File \u001b[1;32m\"C:\\Users\\ADMINI~1\\AppData\\Local\\Temp/ipykernel_18900/3199267529.py\"\u001b[1;36m, line \u001b[1;32m21\u001b[0m\n\u001b[1;33m    R-d=abs(R_Hand-n)\u001b[0m\n\u001b[1;37m    ^\u001b[0m\n\u001b[1;31mSyntaxError\u001b[0m\u001b[1;31m:\u001b[0m cannot assign to operator\n"
     ]
    }
   ],
   "source": [
    "\"\"\"\n",
    "카카오 인턴쉽 문제인데 풀이 알고리즘이 도통 떠오르질 않아서 몇시간 동안 고민할 바에 일단 포기\n",
    "\"\"\"\n",
    "def solution(numbers, hand):\n",
    "    answer = []\n",
    "    L=[1,4,7]\n",
    "    R=[3,6,9]\n",
    "    M=[2,5,8,0]\n",
    "    L_Hand=\"*\"\n",
    "    R_Hand=\"#\"\n",
    "    \n",
    "    for n in numbers:\n",
    "        if n in L:\n",
    "            answer.append(\"L\")\n",
    "            L_Hand=n\n",
    "        if n in R:\n",
    "            answer.append(\"R\")\n",
    "            R_Hand=n\n",
    "        if n in M:\n",
    "            L_d=abs(L_Hand-n)\n",
    "            R-d=abs(R_Hand-n)\n",
    "            \n",
    "            \n",
    "    return answer"
   ]
  },
  {
   "cell_type": "markdown",
   "id": "ed36cd78",
   "metadata": {},
   "source": [
    "### 220816 문자열 내 p와 y의 개수 (5분 1트 클리어)"
   ]
  },
  {
   "cell_type": "code",
   "execution_count": 1,
   "id": "4d686f00",
   "metadata": {},
   "outputs": [],
   "source": [
    "\"\"\"\n",
    "1트만에 성공은 했는데 풀면서도 '대문자, 소문자를 바꿔서 하면 편할텐데' 생각을 했었는데 \n",
    "우선은 대소문자 변환 없이 풀었음. 밑에 변환하는 과정을 추가해서 연습할 것.\n",
    "\"\"\"\n",
    "def solution(s):\n",
    "    \n",
    "    p=s.count(\"p\")\n",
    "    P=s.count(\"P\")\n",
    "    y=s.count(\"y\")\n",
    "    Y=s.count(\"Y\")\n",
    "    \n",
    "    if p+P==y+Y or (p+P==0 and y+Y==0):\n",
    "        answer=True\n",
    "        \n",
    "    else:\n",
    "        answer=False\n",
    "\n",
    "    return answer"
   ]
  },
  {
   "cell_type": "code",
   "execution_count": null,
   "id": "599ee113",
   "metadata": {},
   "outputs": [],
   "source": [
    "\"\"\"\n",
    "대문자화는 list.upper()로, 소문자화는 list.lower()로 변환할 수 있음.\n",
    "\"\"\"\n",
    "def solution(s):\n",
    "    s=s.upper()\n",
    "    P=s.count(\"P\")\n",
    "    Y=s.count(\"Y\")\n",
    "    \n",
    "    if P==Y or (P+Y==0):\n",
    "        answer=True\n",
    "        \n",
    "    else:\n",
    "        answer=False\n",
    "\n",
    "    return answer"
   ]
  },
  {
   "cell_type": "markdown",
   "id": "577f8265",
   "metadata": {},
   "source": [
    "## 2단계"
   ]
  },
  {
   "cell_type": "markdown",
   "id": "25a65eca",
   "metadata": {},
   "source": [
    "### 220814 더맵게 (30분 1트 실패)"
   ]
  },
  {
   "cell_type": "code",
   "execution_count": 1,
   "id": "4670941a",
   "metadata": {},
   "outputs": [],
   "source": [
    "\"\"\"\n",
    "시간과 별개로 heqp 모듈을 쓰지 않고 풀 수는 없나 해서 리스트로도 해봤는데 (추가, 삭제, 정렬 이용)\n",
    "효율성에서 통과하지 못함.\n",
    "\n",
    "아래 코드는 테스트 3, 7번만 통과를 못해서 결과적으론 실패함.\n",
    "\"\"\"\n",
    "import heapq\n",
    "def solution(scoville, K):\n",
    "    answer = 0\n",
    "    heapq.heapify(scoville)\n",
    "    \n",
    "    while scoville[0]<=K and len(scoville)>1:\n",
    "        heapq.heappush(scoville, scoville[0]+scoville[1]*2)\n",
    "        heapq.heappop(scoville)\n",
    "        heapq.heappop(scoville)\n",
    "        answer+=1\n",
    "        \n",
    "    if scoville[0]<K or len(scoville)<1:\n",
    "        answer=-1\n",
    "    return answer"
   ]
  },
  {
   "cell_type": "markdown",
   "id": "c44097de",
   "metadata": {},
   "source": [
    "### 더 맵게 (30분 2트 힌트봄)"
   ]
  },
  {
   "cell_type": "code",
   "execution_count": null,
   "id": "10b06501",
   "metadata": {},
   "outputs": [],
   "source": [
    "\"\"\"\n",
    "heappop으로 바로 삭제되는게 아니라 해당 원소를 출력해서 바로 사용+삭제를 동시에 해서 코드를 간결하게 함.\n",
    "그리고 단순히 간결한게 아니라 위의 코드에서는 heappop을 두번 했는데 달라진 부분은 그것 뿐이니 저 부분에서 문제가 \n",
    "발생해서 통과가 안 됐던 것이라 생각.\n",
    "\"\"\"\n",
    "import heapq\n",
    "def solution(scoville, K):\n",
    "    answer = 0\n",
    "    heapq.heapify(scoville)\n",
    "    \n",
    "    while scoville[0]<=K and len(scoville)>1:\n",
    "        heapq.heappush(scoville, heapq.heappop(scoville)+heapq.heappop(scoville)*2)\n",
    "        answer+=1\n",
    "        \n",
    "    return -1 if scoville[0]<K else answer"
   ]
  },
  {
   "cell_type": "code",
   "execution_count": null,
   "id": "35412e2c",
   "metadata": {},
   "outputs": [],
   "source": []
  }
 ],
 "metadata": {
  "kernelspec": {
   "display_name": "Python 3 (ipykernel)",
   "language": "python",
   "name": "python3"
  },
  "language_info": {
   "codemirror_mode": {
    "name": "ipython",
    "version": 3
   },
   "file_extension": ".py",
   "mimetype": "text/x-python",
   "name": "python",
   "nbconvert_exporter": "python",
   "pygments_lexer": "ipython3",
   "version": "3.9.7"
  }
 },
 "nbformat": 4,
 "nbformat_minor": 5
}
