{
 "cells": [
  {
   "cell_type": "markdown",
   "id": "1c81b022",
   "metadata": {},
   "source": [
    "# 코테 풀이"
   ]
  },
  {
   "cell_type": "markdown",
   "id": "95670f8a",
   "metadata": {},
   "source": [
    "## 1단계"
   ]
  },
  {
   "cell_type": "markdown",
   "id": "a79c7723",
   "metadata": {},
   "source": [
    "### 220809 로또의 최고 순위와 최저 순위 (10분 1트 성공)"
   ]
  },
  {
   "cell_type": "code",
   "execution_count": 1,
   "id": "1e00e62f",
   "metadata": {},
   "outputs": [],
   "source": [
    "\"\"\"\n",
    "주어지는 응모 번호와 로또 당첨 번호를 비교해서 식별 불가 번호포함 최저 순위와 최고 당첨 순위를 출력하는 문제.\n",
    "\n",
    "맞춘 갯수별 순위를 딕셔너리로 했고,\n",
    "\n",
    "전체 응모 번호를 돌면서 0일 경우(=인식불가 숫자) 나중에 더해주기 위해 miss_num 으로 저장했고\n",
    "\n",
    "응모 번호를 탐색하면서 일치할경우 count 증가\n",
    "\n",
    "count에 miss_num을 더해서 award에 Key로 넣으면 최고순위, 안 더하면 최저순위로 나오니 각각 answer에 추가하면 끝.\n",
    "\"\"\"\n",
    "def solution(lottos, win_nums):\n",
    "    answer = []\n",
    "    count=0\n",
    "    miss_num=0\n",
    "    award={0:6, 1:6, 2:5, 3:4, 4:3, 5:2, 6:1}\n",
    "    \n",
    "    for num in lottos:\n",
    "        if num==0:\n",
    "            miss_num+=1\n",
    "        if num in win_nums:\n",
    "            count+=1\n",
    "        else:\n",
    "            pass\n",
    "        \n",
    "    answer.append(award[count+miss_num])\n",
    "    answer.append(award[count])\n",
    "    \n",
    "    return answer"
   ]
  },
  {
   "cell_type": "markdown",
   "id": "69f6daaf",
   "metadata": {},
   "source": [
    "### 220810 없는 숫자 더하기 (5분 1트 성공)"
   ]
  },
  {
   "cell_type": "code",
   "execution_count": 2,
   "id": "24054c21",
   "metadata": {},
   "outputs": [],
   "source": [
    "\"\"\"\n",
    "1~9 범위내 중복 없고 누락 있는 리스트가 주어짐.\n",
    "누락된 범위의 숫자를 찾아서 합을 반환하는 코드를 작성해야 하는데 처음에는 1~9의 range내에서 탐색하면서 불일치할 경우\n",
    "답에 숫자를 더하는 식으로 하려다가 '중복이 없으니 빠진 숫자 합만 구하면 되는거 아니냐' 생각에 45에서 차를 구하는 식으로\n",
    "방향을 바꿨음.\n",
    "\"\"\"\n",
    "def solution(numbers):\n",
    "    num_sum=0\n",
    "    \n",
    "    for num in numbers:\n",
    "        num_sum+=num\n",
    "    \n",
    "    if num_sum==45:\n",
    "        answer=-1\n",
    "    else:\n",
    "        answer=45-num_sum\n",
    "            \n",
    "    return answer"
   ]
  },
  {
   "cell_type": "markdown",
   "id": "587b6f35",
   "metadata": {},
   "source": [
    "### 220810 음양 더하기 (5분 1트 성공)"
   ]
  },
  {
   "cell_type": "code",
   "execution_count": null,
   "id": "8cbb0d29",
   "metadata": {},
   "outputs": [],
   "source": [
    "\"\"\"\n",
    "절댓값 리스트와 참/거짓 리스트가 주어지면 참/거짓 여부에 따라 합차 계산을 해서 결과를 반환하는 문제.\n",
    "두 리스트의 길이는 같기 때문에 한 리스트의 길이만큼 범위를 정하고 해당 순번 인덱스를 넣어서\n",
    "참일 경우 더하고, 거짓일 경우 빼도록 해서 결과를 계산함.\n",
    "\"\"\"\n",
    "def solution(absolutes, signs):\n",
    "    answer = 0\n",
    "    \n",
    "    for n in range(len(absolutes)):\n",
    "        if signs[n]==True:\n",
    "            answer+=absolutes[n]\n",
    "        if signs[n]==False:\n",
    "            answer-=absolutes[n]\n",
    "            \n",
    "    return answer"
   ]
  },
  {
   "cell_type": "markdown",
   "id": "8f092f23",
   "metadata": {},
   "source": [
    "### 220811 소수 만들기 (10분 1트 실패)"
   ]
  },
  {
   "cell_type": "code",
   "execution_count": 1,
   "id": "3b7e63cd",
   "metadata": {},
   "outputs": [
    {
     "data": {
      "text/plain": [
       "'\\n주어진 리스트의 숫자들을 중복 없이 3개 골라 소수인지 판별하는 문제였는데, 전체 리스트의 길이도 모르고\\n순열, 조합 기능을 쓸줄 몰라서 숫자를 뽑는 단계부터 막혀버렸음.\\n'"
      ]
     },
     "execution_count": 1,
     "metadata": {},
     "output_type": "execute_result"
    }
   ],
   "source": [
    "\"\"\"\n",
    "주어진 리스트의 숫자들을 중복 없이 3개 골라 소수인지 판별하는 문제였는데, 전체 리스트의 길이도 모르고\n",
    "순열, 조합 기능을 쓸줄 몰라서 숫자를 뽑는 단계부터 막혀버렸음.\n",
    "\"\"\""
   ]
  },
  {
   "cell_type": "code",
   "execution_count": 17,
   "id": "04c20600",
   "metadata": {},
   "outputs": [
    {
     "name": "stdout",
     "output_type": "stream",
     "text": [
      "(0, 1) (0, 2) (0, 3) (1, 0) (1, 2) (1, 3) (2, 0) (2, 1) (2, 3) (3, 0) (3, 1) (3, 2) "
     ]
    }
   ],
   "source": [
    "# 순열\n",
    "# 중복을 허용하지 않고 뽑으며, 순서 의미가 있다. \n",
    "from itertools import permutations\n",
    "\n",
    "for perm in permutations([0,1,2,3], 2):\n",
    "    print(perm, end=\" \")"
   ]
  },
  {
   "cell_type": "code",
   "execution_count": 18,
   "id": "88d94611",
   "metadata": {},
   "outputs": [
    {
     "name": "stdout",
     "output_type": "stream",
     "text": [
      "(1, 2, 3) (1, 2, 4) (1, 3, 4) (2, 3, 4) "
     ]
    }
   ],
   "source": [
    "# 조합\n",
    "# 중복을 허용하지 않고 뽑으나, 순서를 고려하지 않기 때문에 순서를 바꿔도 중복이 없다.\n",
    "from itertools import combinations\n",
    "\n",
    "for comb in combinations([1,2,3,4], 3):\n",
    "    print(comb, end=\" \")"
   ]
  },
  {
   "cell_type": "code",
   "execution_count": 19,
   "id": "8900fd96",
   "metadata": {},
   "outputs": [
    {
     "name": "stdout",
     "output_type": "stream",
     "text": [
      "(1, 2, 3)\n",
      "(1, 2, 4)\n",
      "(1, 3, 4)\n",
      "(2, 3, 4)\n"
     ]
    }
   ],
   "source": [
    "for i in combinations([1,2,3,4], 3):\n",
    "    print(i)"
   ]
  },
  {
   "cell_type": "code",
   "execution_count": null,
   "id": "8b30da97",
   "metadata": {},
   "outputs": [],
   "source": [
    "\"\"\"\n",
    "조합 기능을 사용해서 코드를 작성했는데 전체 점수에서 53점 정도밖에 안나옴. \n",
    "소수인지 점검하는 것 때문에 그런거라 의심되는데(현재 100이하 소수밖에 없기 때문) 소수 판별 기능을 찾아봐야할듯.\n",
    "\"\"\"\n",
    "from itertools import combinations as COMB\n",
    "\n",
    "def solution(nums):\n",
    "    answer = []\n",
    "    prime=[2,3,5,7,11,13,17,19,23,29,31,37,41,43,47,53,59,61,67,71,73,79,83,89,97]\n",
    "    \n",
    "    for comb_list in COMB(nums, 3):\n",
    "        sum_num=sum(comb_list)\n",
    "        if sum_num in prime:\n",
    "            answer.append(sum_num)\n",
    "    \n",
    "    if len(answer)==0:\n",
    "        answer=0\n",
    "    else:\n",
    "        answer=len(answer)\n",
    "        \n",
    "    return answer"
   ]
  },
  {
   "cell_type": "markdown",
   "id": "9bc340eb",
   "metadata": {},
   "source": [
    "### 220812 폰켓몬 (10분 1트 실패)"
   ]
  },
  {
   "cell_type": "code",
   "execution_count": 1,
   "id": "85900f35",
   "metadata": {},
   "outputs": [],
   "source": [
    "\"\"\"\n",
    "문제를 보자마자 조합 문제인걸 직감했음. \n",
    "하지만 채점 과정에서 시간 초과로 탈락.\n",
    "다른 풀이를 참고하니 전체 조합을 다 비교할 필요는 없다는 정보를 얻었음.\n",
    "\"\"\"\n",
    "\n",
    "from itertools import combinations as COMB\n",
    "\n",
    "def solution(nums):\n",
    "    answer = []\n",
    "    choose=len(nums)//2\n",
    "\n",
    "    for l in COMB(nums, choose):\n",
    "        l=list(set(l))\n",
    "        answer.append(len(l))\n",
    "        \n",
    "    answer=max(answer)\n",
    "    \n",
    "    return answer"
   ]
  },
  {
   "cell_type": "markdown",
   "id": "b6f778a4",
   "metadata": {},
   "source": [
    "### 220812 폰켓몬 (10분 2트 성공)"
   ]
  },
  {
   "cell_type": "code",
   "execution_count": 2,
   "id": "fcc2ce02",
   "metadata": {},
   "outputs": [],
   "source": [
    "\"\"\"\n",
    "set을 통해 중복을 제거하고 다시 list로 만들었을 때, 길이를 비교해서 푸는 방식.\n",
    "조합을 일일히 비교하지 않기 때문에 빠른 처리가 가능.\n",
    "하지만 if 절에 해당하는 알고리즘을 한번에 떠올리진 못해서 다른 풀이를 참고했음.\n",
    "\"\"\"\n",
    "def solution(nums):\n",
    "    choice = len(nums)//2\n",
    "    kind_nums = len(list(set(nums)))\n",
    "\n",
    "    if choice >= kind_nums:\n",
    "        result = kind_nums\n",
    "        \n",
    "    else:\n",
    "        result = choice\n",
    "\n",
    "    return result"
   ]
  },
  {
   "cell_type": "markdown",
   "id": "f4c94fd4",
   "metadata": {},
   "source": [
    "### 220813 최소직사각형 (30분 1트 시간초과 실패)"
   ]
  },
  {
   "cell_type": "code",
   "execution_count": 4,
   "id": "5c44a210",
   "metadata": {},
   "outputs": [],
   "source": [
    "\"\"\"\n",
    "뭔가 풀이에 대한 감은 잡혔는데 30분이 초과되서 실패 처리.\n",
    "테스트 케이스를 통과하지도 못했음.\n",
    "\"\"\"\n",
    "def solution(sizes):\n",
    "    answer = []\n",
    "    num = 0\n",
    "    \n",
    "    for n in range(len(sizes)):\n",
    "        num=sizes[n][0]*sizes[n][1]\n",
    "        if n==0:\n",
    "            start_num=sizes[n][0]*sizes[n][1]\n",
    "            answer.append(sizes[n][0])\n",
    "            answer.append(sizes[n][1])\n",
    "        else:\n",
    "            if start_num>=num:\n",
    "                pass\n",
    "            else:\n",
    "                if answer[0]<sizes[n][0] and answer[1]<sizes[n][1]:\n",
    "                    print(\"1\")\n",
    "                    answer=[sizes[n][0], sizes[n][1]]\n",
    "                if answer[0]<sizes[n][1] and answer[1]<sizes[n][0]:\n",
    "                    print(\"2\")\n",
    "                    answer=[sizes[n][1], sizes[n][0]]\n",
    "                if answer[0]<sizes[n][0] and answer[1]>=sizes[n][1]:\n",
    "                    print(\"3\")\n",
    "                    answer=[sizes[n][0], answer[1]]\n",
    "                if answer[0]>=sizes[n][1] and answer[1]<sizes[n][0]:\n",
    "                    print(\"4\")\n",
    "                    answer=[answer[1], sizes[n][0]]\n",
    "    print(answer)\n",
    "    \n",
    "    answer=answer[0]*answer[1]\n",
    "    return answer"
   ]
  },
  {
   "cell_type": "markdown",
   "id": "a54ebecc",
   "metadata": {},
   "source": [
    "### 220813 최소직사각형 (20분 2트 알고리즘 해결 못함)"
   ]
  },
  {
   "cell_type": "code",
   "execution_count": null,
   "id": "0e6c783f",
   "metadata": {},
   "outputs": [],
   "source": [
    "\"\"\"\n",
    "내 생각으로는 해결이 되야 맞는데 테스트 케이스만 풀리고 본 검사에서는 통과를 못함.\n",
    "\"\"\"\n",
    "def solution(sizes):\n",
    "    answer=[]\n",
    "    \n",
    "    for n in range(len(sizes)):\n",
    "        if n==0:\n",
    "            answer.append(sizes[0][0])\n",
    "            answer.append(sizes[0][1])\n",
    "        else:\n",
    "            sizes[n]=sorted(sizes[n], reverse=True)\n",
    "            if sizes[n][0]>answer[0]:\n",
    "                answer=[sizes[n][0], answer[1]]\n",
    "            if sizes[n][1]>answer[1]:\n",
    "                answer=[answer[0], sizes[n][1]]\n",
    "\n",
    "    answer=answer[0]*answer[1]\n",
    "    return answer"
   ]
  },
  {
   "cell_type": "markdown",
   "id": "da7e0c12",
   "metadata": {},
   "source": [
    "### 220813 최소직사각형 (풀이 참조)"
   ]
  },
  {
   "cell_type": "code",
   "execution_count": null,
   "id": "e4c2bde9",
   "metadata": {},
   "outputs": [],
   "source": [
    "def solution(sizes):\n",
    "    x, y = 0, 0\n",
    "    for t in sizes:\n",
    "        t.sort()\n",
    "        x = max(x, t[0])\n",
    "        y = max(y, t[1])\n",
    "    return x*y"
   ]
  },
  {
   "cell_type": "markdown",
   "id": "36cd7c67",
   "metadata": {},
   "source": [
    "### 220813 두 개 뽑아서 더하기 (5분 1트 클리어)"
   ]
  },
  {
   "cell_type": "code",
   "execution_count": 6,
   "id": "e5e7a390",
   "metadata": {},
   "outputs": [],
   "source": [
    "\"\"\"\n",
    "조합 문제 그 자체.\n",
    "근데 중복 삭제와 정렬을 곁들인..\n",
    "\"\"\"\n",
    "from itertools import combinations as COMB\n",
    "def solution(numbers):\n",
    "    answer = []\n",
    "    for n in COMB(numbers, 2):\n",
    "        answer.append(sum(n))\n",
    "    answer=list(set(answer))\n",
    "    answer.sort()\n",
    "    return answer"
   ]
  },
  {
   "cell_type": "markdown",
   "id": "3a64d300",
   "metadata": {},
   "source": [
    "### 220813 2016년 (20분 1트 실패)"
   ]
  },
  {
   "cell_type": "code",
   "execution_count": 8,
   "id": "2fecacd8",
   "metadata": {},
   "outputs": [],
   "source": [
    "\"\"\"\n",
    "각 월마다 요일 시작점을 만드려다가 그건 알고리즘 연습이 안될듯 해서 전체 일수를 더해서 7로 나눈뒤 계산하는 방향으로\n",
    "했으나 실패함.\n",
    "\"\"\"\n",
    "def solution(a, b):\n",
    "    answer = ''\n",
    "    Month={1:31, 2:29, 3:31, 4:30, 5:31, 6:30, 7:31, 8:31, 9:30, 10:31, 11:30, 12:31}\n",
    "    Days=[\"FRI\", \"SAT\", \"SUN\", \"MON\", \"TUE\", \"WED\", \"THU\"]\n",
    "    day=0\n",
    "    \n",
    "    for d in range(1, a+1):\n",
    "        if a==1:\n",
    "            answer=Days[b//7+1]\n",
    "        else:\n",
    "            if d<a:\n",
    "                day+=Month[d]\n",
    "            if d==a:\n",
    "                total_day=day+b\n",
    "                cnt=0\n",
    "                while(total_day>1):\n",
    "                    total_day=total_day//7\n",
    "                    cnt+=1\n",
    "                print(cnt)\n",
    "                answer=Days[cnt+1]\n",
    "    \n",
    "    return answer"
   ]
  },
  {
   "cell_type": "markdown",
   "id": "e995e5e5",
   "metadata": {},
   "source": [
    "### 2016년 (5분 2트 힌트 봄)"
   ]
  },
  {
   "cell_type": "code",
   "execution_count": 9,
   "id": "f9997552",
   "metadata": {},
   "outputs": [],
   "source": [
    "\"\"\"\n",
    "전체적인 구조는 비슷했으나 세부적인 숫자 조정에서 계산을 실패했음.\n",
    "그리고 난 Month를 딕셔너리로 했는데 다른 풀이를 보니 그냥 리스트로 했었음. 전에 짰던 코드라 생각나서 바로 \n",
    "응용했는데 크게 비효율적인 부분은 아니니 패-스\n",
    "\"\"\"\n",
    "def solution(a, b):\n",
    "    answer = ''\n",
    "    Month={1:31, 2:29, 3:31, 4:30, 5:31, 6:30, 7:31, 8:31, 9:30, 10:31, 11:30, 12:31}\n",
    "    Days=[\"FRI\", \"SAT\", \"SUN\", \"MON\", \"TUE\", \"WED\", \"THU\"]\n",
    "    day=0\n",
    "    \n",
    "    for d in range(1, a+1):\n",
    "        if a==1:\n",
    "            answer=Days[b%7-1]\n",
    "        else:\n",
    "            if d<a:\n",
    "                day+=Month[d]\n",
    "            if d==a:\n",
    "                total_day=day+b\n",
    "                total_day%=7\n",
    "                print(total_day)\n",
    "                answer=Days[total_day-1]\n",
    "    \n",
    "    return answer"
   ]
  },
  {
   "cell_type": "markdown",
   "id": "f3ee47c3",
   "metadata": {},
   "source": [
    "### 220814 K번째수 (11분 1트 클리어)"
   ]
  },
  {
   "cell_type": "code",
   "execution_count": 1,
   "id": "2d767092",
   "metadata": {},
   "outputs": [],
   "source": [
    "\"\"\"\n",
    "풀이는 쉬웠는데 문제 자체를 빨리 이해하는 것의 필요성을 느꼈음.\n",
    "\"\"\"\n",
    "def solution(array, commands):\n",
    "    answer = []\n",
    "    \n",
    "    for n in range(len(commands)):\n",
    "        start=commands[n][0]-1\n",
    "        end=commands[n][1]\n",
    "        list_little=array[start:end]\n",
    "        list_little=sorted(list_little)\n",
    "        answer.append(list_little[commands[n][2]-1])\n",
    "    \n",
    "    return answer"
   ]
  },
  {
   "cell_type": "markdown",
   "id": "41532b92",
   "metadata": {},
   "source": [
    "### 220814 완주하지 못한 선수 (15분 1트 클리어)"
   ]
  },
  {
   "cell_type": "code",
   "execution_count": 6,
   "id": "34cd0800",
   "metadata": {},
   "outputs": [],
   "source": [
    "\"\"\"\n",
    "무조건 참가자 리스트 길이가 완주자 리스트 길이보다 길기 때문에 같은 인덱스 번호로 반복시키면 index 에러가 발생.\n",
    "그래서 그냥 try, except로 완주자 리스트 인덱스에서 에러가 발생하면 미완주자로 정답을 출력하도록 함.\n",
    "\"\"\"\n",
    "def solution(participant, completion):\n",
    "    answer = ''\n",
    "    if len(participant)==len(completion):\n",
    "        pass\n",
    "    else:\n",
    "        participant.sort()\n",
    "        completion.sort()\n",
    "        \n",
    "        try:\n",
    "            for n in range(len(participant)):\n",
    "                if participant[n]==completion[n]:\n",
    "                    pass\n",
    "                else:\n",
    "                    answer=participant[n]\n",
    "                    break\n",
    "        except:\n",
    "            answer=participant[n]\n",
    "\n",
    "    return answer"
   ]
  },
  {
   "cell_type": "markdown",
   "id": "9dbedf9a",
   "metadata": {},
   "source": [
    "### 220814 같은 숫자는 싫어 (10분 1트 클리어)"
   ]
  },
  {
   "cell_type": "code",
   "execution_count": 12,
   "id": "d73fa8dc",
   "metadata": {},
   "outputs": [],
   "source": [
    "\"\"\"\n",
    "무난하게 해결. 특출난 포인트가 없는 문제\n",
    "\"\"\"\n",
    "def solution(arr):\n",
    "    answer=[]\n",
    "    \n",
    "    for n in range(len(arr)-1):\n",
    "        if arr[n]==arr[n+1]:\n",
    "            if n==len(arr)-2:\n",
    "                answer.append(arr[n])\n",
    "            pass\n",
    "        \n",
    "        else:\n",
    "            answer.append(arr[n])\n",
    "            if n==len(arr)-2:\n",
    "                answer.append(arr[n+1])\n",
    "                \n",
    "    return answer"
   ]
  },
  {
   "cell_type": "markdown",
   "id": "7aa21b15",
   "metadata": {},
   "source": [
    "### 220814 크레인 인형뽑기 게임 (20분 1트 실패)"
   ]
  },
  {
   "cell_type": "code",
   "execution_count": 34,
   "id": "706ea273",
   "metadata": {},
   "outputs": [],
   "source": [
    "\"\"\"\n",
    "리스트에서 숫자를 뽑고 0으로 바꾼뒤 결과 리스트를 다시 중복 삭제하는 문제.\n",
    "if board[line_w][line_h]==0: 절에서 index error가 발생해서 원인을 찾는다고 시간을 많이 썼는데,\n",
    "시간이 5분만 더 있었더라면 풀었을 것 같음.\n",
    "테스트 케이스만 어거지로 통과하고 메인 테스트에선 실패\n",
    "\"\"\"\n",
    "def solution(board, moves):\n",
    "    answer = 0\n",
    "    pick=[]\n",
    "\n",
    "    for m in moves:\n",
    "        line_w=0\n",
    "        line_h=m-1\n",
    "\n",
    "        while True:\n",
    "            if board[line_w][line_h]==0:\n",
    "                line_w+=1\n",
    "                if line_w==len(board):\n",
    "                    pick.append(0)\n",
    "                    break\n",
    "            else:\n",
    "                pick.append(board[line_w][line_h])\n",
    "                board[line_w][line_h]=0\n",
    "                break\n",
    "\n",
    "    print(pick)\n",
    "    origin_len=len(pick)\n",
    "    later_len=len(list(set(pick)))\n",
    "    answer=origin_len-later_len+1\n",
    "    return answer"
   ]
  },
  {
   "cell_type": "markdown",
   "id": "7495eae1",
   "metadata": {},
   "source": [
    "### 크레인 인형 뽑기 게임 (30분 2트 실패)"
   ]
  },
  {
   "cell_type": "code",
   "execution_count": 1,
   "id": "265f66ba",
   "metadata": {},
   "outputs": [],
   "source": [
    "\"\"\"\n",
    "인형을 뽑아서 pick 리스트까지는 정상적으로 만들었는데, 연달아 같은 숫자 즉 애니팡처럼 터지는 부분 구현이 안됨.\n",
    "테스트 케이스에선 정상 작동하는데 왜 통과가 안 되는지 모르겠음.\n",
    "\n",
    "\"\"\"\n",
    "def solution(board, moves):\n",
    "    answer = 0\n",
    "    pick=[]\n",
    "\n",
    "    for m in moves:\n",
    "        line_w=0\n",
    "        line_h=m-1\n",
    "\n",
    "        while True:\n",
    "            if board[line_w][line_h]==0:\n",
    "                line_w+=1\n",
    "                if line_w==len(board):\n",
    "                    pick.append(0)\n",
    "                    break\n",
    "            else:\n",
    "                pick.append(board[line_w][line_h])\n",
    "                board[line_w][line_h]=0\n",
    "                break\n",
    "\n",
    "    for _ in range(30):\n",
    "        for n in range(len(pick)-1):\n",
    "            if pick[n]==pick[n+1]:\n",
    "                del pick[n:n+2]\n",
    "                break\n",
    "            else:\n",
    "                if n==len(pick)-2 and pick[n]==pick[n+1]:\n",
    "                    del pick[n:n+2]\n",
    "                    break\n",
    "                else:\n",
    "                    pass\n",
    "    answer=len(pick)\n",
    "    return answer"
   ]
  },
  {
   "cell_type": "markdown",
   "id": "a713e278",
   "metadata": {},
   "source": [
    "### 220815 체육복 (21분 1트 실패)"
   ]
  },
  {
   "cell_type": "code",
   "execution_count": 38,
   "id": "7093a98f",
   "metadata": {},
   "outputs": [],
   "source": [
    "\"\"\"\n",
    "여러 테스트 케이스를 추가도 해봤는데 정확성 테스트에서 문제 몇개가 실패함.\n",
    "아마 최대의 수를 출력해야 하는데 경우의 수를 다 비교하지 못하고 특정 연산만 해서 그런듯 함.\n",
    "\"\"\"\n",
    "def solution(n, lost, reserve):\n",
    "    answer = n\n",
    "    answer-=len(lost)\n",
    "    \n",
    "    for l in lost:\n",
    "        if l in reserve:\n",
    "            reserve.remove(l)\n",
    "            lost.remove(l)\n",
    "            answer+=1\n",
    "            \n",
    "        try:\n",
    "            if l-1 in reserve:\n",
    "                lost.remove(l)\n",
    "                reserve.remove(l-1)\n",
    "                answer+=1\n",
    "            if l+1 in reserve:\n",
    "                lost.remove(l)\n",
    "                reserve.remove(l+1)\n",
    "                answer+=1\n",
    "        except:\n",
    "            answer+=1\n",
    "            \n",
    "    return answer"
   ]
  },
  {
   "cell_type": "markdown",
   "id": "b5368e53",
   "metadata": {},
   "source": [
    "### 220815 체육복 (1시간 2트 실패)"
   ]
  },
  {
   "cell_type": "code",
   "execution_count": 77,
   "id": "9e9b8be6",
   "metadata": {},
   "outputs": [],
   "source": [
    "\"\"\"\n",
    "탐욕법 (그리디) 문제였는데 대소 비교 조건과 삭제 등\n",
    "전체적인 틀은 다 그려졌는데 세부 계산이 안 맞아서 끝까지 통과 못했음.\n",
    "\"\"\"\n",
    "def solution(n, lost, reserve):\n",
    "    answer = n\n",
    "    answer-=len(lost)\n",
    "    lost.sort()\n",
    "    reserve.sort()\n",
    "    \n",
    "    l=len(lost)\n",
    "    while(l<)\n",
    "    for n in range(len(lost)):\n",
    "        if lost[n] in reserve:\n",
    "            print(\"여벌 없는 놈 제거\")\n",
    "            lost.remove(lost[n])\n",
    "            reserve.remove(lost[n])\n",
    "            print(reserve)\n",
    "            answer+=1\n",
    "            n-=2\n",
    "    print(\"정리끝\")\n",
    "    print(lost, reserve, \"\\n\")\n",
    "    \n",
    "    for l in lost:\n",
    "        try:\n",
    "            if l-1 in reserve:\n",
    "                print(\"작은 번호 있음\")\n",
    "                answer+=1\n",
    "                lost.remove(l)\n",
    "                reserve.remove(l-1)\n",
    "                print(lost, reserve)\n",
    "                \n",
    "            if l+1 in reserve:\n",
    "                print(\"큰 번호 있음\")\n",
    "                answer+=1\n",
    "                lost.remove(l)\n",
    "                reserve.remove(l+1)\n",
    "                print(lost, reserve)\n",
    "            \n",
    "        except:\n",
    "                pass\n",
    "            \n",
    "    return answer"
   ]
  },
  {
   "cell_type": "markdown",
   "id": "a122110a",
   "metadata": {},
   "source": [
    "### 220815 키패드누르기 (중도포기)"
   ]
  },
  {
   "cell_type": "code",
   "execution_count": 108,
   "id": "3a7123ad",
   "metadata": {},
   "outputs": [
    {
     "ename": "SyntaxError",
     "evalue": "cannot assign to operator (Temp/ipykernel_18900/3199267529.py, line 21)",
     "output_type": "error",
     "traceback": [
      "\u001b[1;36m  File \u001b[1;32m\"C:\\Users\\ADMINI~1\\AppData\\Local\\Temp/ipykernel_18900/3199267529.py\"\u001b[1;36m, line \u001b[1;32m21\u001b[0m\n\u001b[1;33m    R-d=abs(R_Hand-n)\u001b[0m\n\u001b[1;37m    ^\u001b[0m\n\u001b[1;31mSyntaxError\u001b[0m\u001b[1;31m:\u001b[0m cannot assign to operator\n"
     ]
    }
   ],
   "source": [
    "\"\"\"\n",
    "카카오 인턴쉽 문제인데 풀이 알고리즘이 도통 떠오르질 않아서 몇시간 동안 고민할 바에 일단 포기\n",
    "\"\"\"\n",
    "def solution(numbers, hand):\n",
    "    answer = []\n",
    "    L=[1,4,7]\n",
    "    R=[3,6,9]\n",
    "    M=[2,5,8,0]\n",
    "    L_Hand=\"*\"\n",
    "    R_Hand=\"#\"\n",
    "    \n",
    "    for n in numbers:\n",
    "        if n in L:\n",
    "            answer.append(\"L\")\n",
    "            L_Hand=n\n",
    "        if n in R:\n",
    "            answer.append(\"R\")\n",
    "            R_Hand=n\n",
    "        if n in M:\n",
    "            L_d=abs(L_Hand-n)\n",
    "            R-d=abs(R_Hand-n)\n",
    "            \n",
    "            \n",
    "    return answer"
   ]
  },
  {
   "cell_type": "markdown",
   "id": "ed36cd78",
   "metadata": {},
   "source": [
    "### 220816 문자열 내 p와 y의 개수 (5분 1트 클리어)"
   ]
  },
  {
   "cell_type": "code",
   "execution_count": 1,
   "id": "4d686f00",
   "metadata": {},
   "outputs": [],
   "source": [
    "\"\"\"\n",
    "1트만에 성공은 했는데 풀면서도 '대문자, 소문자를 바꿔서 하면 편할텐데' 생각을 했었는데 \n",
    "우선은 대소문자 변환 없이 풀었음. 밑에 변환하는 과정을 추가해서 연습할 것.\n",
    "\"\"\"\n",
    "def solution(s):\n",
    "    \n",
    "    p=s.count(\"p\")\n",
    "    P=s.count(\"P\")\n",
    "    y=s.count(\"y\")\n",
    "    Y=s.count(\"Y\")\n",
    "    \n",
    "    if p+P==y+Y or (p+P==0 and y+Y==0):\n",
    "        answer=True\n",
    "        \n",
    "    else:\n",
    "        answer=False\n",
    "\n",
    "    return answer"
   ]
  },
  {
   "cell_type": "code",
   "execution_count": null,
   "id": "599ee113",
   "metadata": {},
   "outputs": [],
   "source": [
    "\"\"\"\n",
    "대문자화는 list.upper()로, 소문자화는 list.lower()로 변환할 수 있음.\n",
    "\"\"\"\n",
    "def solution(s):\n",
    "    s=s.upper()\n",
    "    P=s.count(\"P\")\n",
    "    Y=s.count(\"Y\")\n",
    "    \n",
    "    if P==Y or (P+Y==0):\n",
    "        answer=True\n",
    "        \n",
    "    else:\n",
    "        answer=False\n",
    "\n",
    "    return answer"
   ]
  },
  {
   "cell_type": "markdown",
   "id": "4fc7ac56",
   "metadata": {},
   "source": [
    "### 220817 3진법 뒤집기 (30분 1트 성공)"
   ]
  },
  {
   "cell_type": "code",
   "execution_count": null,
   "id": "2fe587d8",
   "metadata": {},
   "outputs": [],
   "source": [
    "\"\"\"\n",
    "3진법으로 변환한 후 (3으로 나눈 나머지를 이용) \n",
    "리스트에 담는 순서를 조정한 후 다시 10진법으로 바꾸는 문제.\n",
    "\n",
    "리스트에 담거나 정렬할때, 반복문의 변수를 복합적으로 사용해야 하는데 버스 안에서 폰으로 풀다보니 시간이 조금 걸림.\n",
    "\"\"\"\n",
    "def solution(n):\n",
    "    answer = 0\n",
    "    remake=[]\n",
    "    \n",
    "    while True:\n",
    "        remain=n%3\n",
    "        n=n//3\n",
    "        remake.append(str(remain))\n",
    "        if n<=0:\n",
    "            break\n",
    "            \n",
    "    index_list=list(reversed(range(len(remake))))\n",
    "    \n",
    "    for num in range(len(remake)):\n",
    "        #print(int(remake[num])*3**index_list[num])\n",
    "        answer+=(int(remake[num])*3**index_list[num])\n",
    "    return answer"
   ]
  },
  {
   "cell_type": "markdown",
   "id": "7c907639",
   "metadata": {},
   "source": [
    "### 220818 부족한 금액 (5분 1트 성공)"
   ]
  },
  {
   "cell_type": "code",
   "execution_count": null,
   "id": "a82ad555",
   "metadata": {},
   "outputs": [],
   "source": [
    "\"\"\"\n",
    "문제 자체는 쉬웠음. 이제는 return 에서 하나의 변수만을 반환하는게 아니라 \n",
    "조건을 걸어서 좀더 간결하게 사용하는게 익숙해짐.\n",
    "\"\"\"\n",
    "def solution(price, money, count):\n",
    "    total_price=0\n",
    "    \n",
    "    for n in range(count):\n",
    "        total_price+=price+price*n\n",
    "\n",
    "    return total_price-money if money<total_price else 0"
   ]
  },
  {
   "cell_type": "markdown",
   "id": "4076d3b2",
   "metadata": {},
   "source": [
    "### 220819 정수 제곱근 판별 (13분 1트 성공)"
   ]
  },
  {
   "cell_type": "code",
   "execution_count": null,
   "id": "5556519c",
   "metadata": {},
   "outputs": [],
   "source": [
    "\"\"\"\n",
    "문제는 쉬웠는데 내가 처음 생각한 알고리즘이 풀고 나니 비효율적으로 느껴짐. 중간에 수정해서 시간이 조금 걸렸는데\n",
    "처음에는 주어진 숫자 n에 루트를 씌우고 숫자를 1더해서 해당 범위까지 반복하도록 한뒤, 나눠 떨어지는지 검사를 했었는데\n",
    "다시 생각해보니 시간은 좀 더 걸리더라도(그래봐야 ms 단위) 그냥 n까지 반복문 돌려서 계산하는게 낫다고 생각해서 바꿈.\n",
    "\"\"\"\n",
    "def solution(n):\n",
    "    answer = 0\n",
    "    \n",
    "    if n==1:\n",
    "        answer=4\n",
    "    else:\n",
    "        for num in range(2, n):\n",
    "            sqr=num**2\n",
    "            if sqr==n:\n",
    "                answer=(num+1)**2\n",
    "                break\n",
    "                \n",
    "    return -1 if answer==0 else answer"
   ]
  },
  {
   "cell_type": "markdown",
   "id": "d7eb4e0e",
   "metadata": {},
   "source": [
    "### 220819 행렬의 덧셈 (20분 1트 성공)"
   ]
  },
  {
   "cell_type": "code",
   "execution_count": null,
   "id": "9cbe70dd",
   "metadata": {},
   "outputs": [],
   "source": [
    "\"\"\"\n",
    "2중 리스트로 구성된 원소를 각 인덱스별로 더하는 문제..\n",
    "반복문의 구동 순서와 인덱스 처리를 연습할 수 있었던 문제. 다행히 전력과 기상 데이터를 다루면서 연습이 많이 된 상태였다..\n",
    "\"\"\"\n",
    "def solution(arr1, arr2):\n",
    "    big_list=[]\n",
    "    \n",
    "    for i in range(len(arr1)):\n",
    "        small_list=[]\n",
    "        for j in range(len(arr1[0])):\n",
    "            sum_num=arr1[i][j]+arr2[i][j]\n",
    "            small_list.append(sum_num)\n",
    "        big_list.append(small_list)\n",
    "        \n",
    "    return big_list"
   ]
  },
  {
   "cell_type": "markdown",
   "id": "2ee15b23",
   "metadata": {},
   "source": [
    "### 220820 소수 찾기 (15분 1트 실패)"
   ]
  },
  {
   "cell_type": "code",
   "execution_count": 1,
   "id": "97b34b9d",
   "metadata": {},
   "outputs": [],
   "source": [
    "\"\"\"\n",
    "2이상의 정수가 주어지면 해당 정수 범위까지 몇개의 소수가 있는지 검사하는 문제\n",
    "테스트케이스 마지막 몇개 때문에 통과를 못했음. \n",
    "에라토스테네스의 체를 써야만 한다는데 다시 시도해봐야겠음.\n",
    "\"\"\"\n",
    "def solution(n):\n",
    "    answer = []\n",
    "    \n",
    "    for num in range(2, n+1):\n",
    "        small_list=[]\n",
    "        for num2 in range(1, num+1):\n",
    "            if num%num2==0:\n",
    "                small_list.append(num2)\n",
    "        if len(small_list)==2:\n",
    "            answer.append(num)\n",
    "        #print(small_list)\n",
    "        \n",
    "    return len(answer)"
   ]
  },
  {
   "cell_type": "markdown",
   "id": "577f8265",
   "metadata": {},
   "source": [
    "## <2단계>========================="
   ]
  },
  {
   "cell_type": "markdown",
   "id": "25a65eca",
   "metadata": {},
   "source": [
    "### 220814 더맵게 (30분 1트 실패)"
   ]
  },
  {
   "cell_type": "code",
   "execution_count": 1,
   "id": "4670941a",
   "metadata": {},
   "outputs": [],
   "source": [
    "\"\"\"\n",
    "시간과 별개로 heqp 모듈을 쓰지 않고 풀 수는 없나 해서 리스트로도 해봤는데 (추가, 삭제, 정렬 이용)\n",
    "효율성에서 통과하지 못함.\n",
    "\n",
    "아래 코드는 테스트 3, 7번만 통과를 못해서 결과적으론 실패함.\n",
    "\"\"\"\n",
    "import heapq\n",
    "def solution(scoville, K):\n",
    "    answer = 0\n",
    "    heapq.heapify(scoville)\n",
    "    \n",
    "    while scoville[0]<=K and len(scoville)>1:\n",
    "        heapq.heappush(scoville, scoville[0]+scoville[1]*2)\n",
    "        heapq.heappop(scoville)\n",
    "        heapq.heappop(scoville)\n",
    "        answer+=1\n",
    "        \n",
    "    if scoville[0]<K or len(scoville)<1:\n",
    "        answer=-1\n",
    "    return answer"
   ]
  },
  {
   "cell_type": "markdown",
   "id": "c44097de",
   "metadata": {},
   "source": [
    "### 더 맵게 (30분 2트 힌트봄)"
   ]
  },
  {
   "cell_type": "code",
   "execution_count": null,
   "id": "10b06501",
   "metadata": {},
   "outputs": [],
   "source": [
    "\"\"\"\n",
    "heappop으로 바로 삭제되는게 아니라 해당 원소를 출력해서 바로 사용+삭제를 동시에 해서 코드를 간결하게 함.\n",
    "그리고 단순히 간결한게 아니라 위의 코드에서는 heappop을 두번 했는데 달라진 부분은 그것 뿐이니 저 부분에서 문제가 \n",
    "발생해서 통과가 안 됐던 것이라 생각.\n",
    "\"\"\"\n",
    "import heapq\n",
    "def solution(scoville, K):\n",
    "    answer = 0\n",
    "    heapq.heapify(scoville)\n",
    "    \n",
    "    while scoville[0]<=K and len(scoville)>1:\n",
    "        heapq.heappush(scoville, heapq.heappop(scoville)+heapq.heappop(scoville)*2)\n",
    "        answer+=1\n",
    "        \n",
    "    return -1 if scoville[0]<K else answer"
   ]
  },
  {
   "cell_type": "markdown",
   "id": "c9e1ede7",
   "metadata": {},
   "source": [
    "### 220820 가장 큰 수 (25분 1트 실패)"
   ]
  },
  {
   "cell_type": "code",
   "execution_count": null,
   "id": "6f83f009",
   "metadata": {},
   "outputs": [],
   "source": [
    "\"\"\"\n",
    "몇개의 수가 주어졌을 때 붙여서 최대한 큰수를 만드는 문제.\n",
    "순열도 써보고, 맨 앞자리의 크기를 비교하기도 하는 2가지 방법을 시도했는데 해결 못하고 포기\n",
    "\"\"\"\n",
    "\n",
    "# 1안 - 순열을 이용한 풀이\n",
    "from itertools import permutations as PERM\n",
    "def solution(numbers):\n",
    "    \n",
    "    val_list=[]\n",
    "    for n in PERM(numbers, len(numbers)):\n",
    "        n=list(map(str, n))\n",
    "        n_str=''.join(n)\n",
    "        \n",
    "        val_list.append(n_str)\n",
    "        \n",
    "    return max(val_list)\n",
    "\n",
    "# 2안 - 숫자의 맨 앞자리를 비교해서 붙여보려던 풀이\n",
    "def solution(numbers):\n",
    "    val_list=[]\n",
    "    \n",
    "    while(len(numbers)!=0):\n",
    "        small_list=[]\n",
    "        for n in numbers:\n",
    "            small_list.append(str(n)[0])\n",
    "        index=small_list.index(max(small_list))\n",
    "        val_list.append(numbers[index])\n",
    "        del numbers[index]\n",
    "    print(val_list)\n",
    "    \n",
    "    return 0"
   ]
  },
  {
   "cell_type": "markdown",
   "id": "dfc36345",
   "metadata": {},
   "source": [
    "### 220821 기능개발 (25분 1트 실패)"
   ]
  },
  {
   "cell_type": "code",
   "execution_count": 2,
   "id": "17ef73a4",
   "metadata": {},
   "outputs": [
    {
     "name": "stdout",
     "output_type": "stream",
     "text": [
      "[0, 1, 2, 3, 4]\n"
     ]
    }
   ],
   "source": [
    "\"\"\"\n",
    "리스트에 작업 현황이 주어지고 각 작업의 속도가 다른데 작업의 완료와 배포(원소 삭제) 카운트가 어려움.\n",
    "다시 해봐야겠음.\n",
    "\"\"\"\n",
    "def solution(progresses, speeds):\n",
    "    answer1 = []\n",
    "    cnt=[]\n",
    "    for n in range(len(progresses)):\n",
    "        answer1.append((100-progresses[n])//speeds[n])\n",
    "    print(answer1)\n",
    "    \n",
    "    num1=answer1[0]\n",
    "    answer2=[]\n",
    "    for n in answer1:\n",
    "        if n>num1:\n",
    "            answer2.append(n)\n",
    "    \n",
    "    cnt.append(len(answer1)-len(answer2))\n",
    "    #print(answer2)\n",
    "    return cnt"
   ]
  },
  {
   "cell_type": "markdown",
   "id": "49ce6a58",
   "metadata": {},
   "source": [
    "### 220823 기능개발 (25분 2트 성공)"
   ]
  },
  {
   "cell_type": "code",
   "execution_count": 56,
   "id": "2950c54e",
   "metadata": {},
   "outputs": [],
   "source": [
    "\"\"\"\n",
    "다시 시도해서 성공했음.\n",
    "문제 구조상 주어진 리스트안의 원소들이 모두 삭제돼야(혹은 1개 남았을때 종료하거나) 끝나므로 while 조건을 원소가 없는 상태로 했음.\n",
    "리스트의 n번째 원소가 삭제되지 못하면 n이후 원소들도 삭제되지 못하므로 중요한 것은 맨 앞 원소의 100여부\n",
    "if 조건에서는 이를 검사해서 앞에서부터 삭제하면서 리스트 앞단에 100이상 원소가 없도록 반복.\n",
    "삭제가 끝나면 cnt 리스트에 삭제한 개수를 추가해주고, while문 처음으로 돌아가면 몇개 삭제 했는지 판단하는 변수 재설정.\n",
    "계속 작업하다가 원소가 안 남으면 error가 발생하므로 try, except로 종료 설정하면서 마지막 삭제 갯수도 추가해줌.\n",
    "\"\"\"\n",
    "def solution(progresses, speeds):\n",
    "    answer = []\n",
    "    cnt=[]\n",
    "    \n",
    "    while len(progresses)>0:\n",
    "        length=len(progresses)\n",
    "        \n",
    "        if progresses[0]>=100:\n",
    "            try:\n",
    "                while progresses[0]>=100:\n",
    "                    del progresses[0]\n",
    "                    del speeds[0]\n",
    "                cnt.append(length-len(progresses))\n",
    "            except:\n",
    "                cnt.append(length-len(progresses))\n",
    "                \n",
    "        else:\n",
    "            for n in range(len(progresses)):\n",
    "                progresses[n]+=speeds[n]\n",
    "\n",
    "    return cnt"
   ]
  },
  {
   "cell_type": "markdown",
   "id": "5ce72da7",
   "metadata": {},
   "source": [
    "### 220822 짝지어 제거하기 (22분 1트 실패)"
   ]
  },
  {
   "cell_type": "code",
   "execution_count": null,
   "id": "3fb89d6e",
   "metadata": {},
   "outputs": [],
   "source": [
    "\"\"\"\n",
    "충분히 해결할 수 있을줄 알았는데 테스트 케이스에서 막힘.\n",
    "\"\"\"\n",
    "def solution(s):\n",
    "    list_s=list(s)\n",
    "    answer = \"\"\n",
    "\n",
    "    start_num=len(list_s)\n",
    "    n=0\n",
    "    \n",
    "    while n<start_num-1:\n",
    "        if list_s[n]==list_s[n+1]:\n",
    "            del list_s[n]\n",
    "            del list_s[n]\n",
    "            start_num-=2\n",
    "            print(list_s)\n",
    "        else:\n",
    "            print(list_s)\n",
    "            n+=1\n",
    "            \n",
    "    if list_s[0]==list_s[1]:\n",
    "        del list_s[0]\n",
    "        del list_s[0]\n",
    "        \n",
    "    return 0 if len(list_s)==start_num else 1"
   ]
  },
  {
   "cell_type": "markdown",
   "id": "ee875a58",
   "metadata": {},
   "source": [
    "### 짝지어 제거하기 (답안 참조 2트)"
   ]
  },
  {
   "cell_type": "code",
   "execution_count": 3,
   "id": "9a4e308d",
   "metadata": {},
   "outputs": [],
   "source": [
    "\"\"\"\n",
    "스택 구조를 이용한 풀이 \n",
    "나는 쭉 나열된 리스트를 슬라이싱해서 n번째와 n+1번째를 비교할 생각만 해서 index 에러나 다른 테스트케이스 실패로 이어짐.\n",
    "스택 구조로 하나 넣고 그다음부터는 같은지 안 같은지 비교해서 없애면 되는데...\n",
    "스택 구조 문제를 풀어본 좋은 경험이었다 생각함.\n",
    "\"\"\"\n",
    "def solution(s): \n",
    "    list_stack = []\n",
    "    for i in s:\n",
    "        if len(list_stack) == 0:\n",
    "            list_stack.append(i)\n",
    "        elif list_stack[-1] == i:\n",
    "            list_stack.pop()\n",
    "        else: list_stack.append(i)\n",
    "\n",
    "    return 1 if len(list_stack) == 0 else 0 "
   ]
  },
  {
   "cell_type": "markdown",
   "id": "400d3e47",
   "metadata": {},
   "source": [
    "### 220822 숫자의 표현 (20분 1트 효율성 실패)"
   ]
  },
  {
   "cell_type": "code",
   "execution_count": null,
   "id": "9e4e8dd6",
   "metadata": {},
   "outputs": [],
   "source": [
    "\"\"\"\n",
    "주어지는 숫자의 절반 정도로 범위를 설정하고 해당 길이의 갯수만큼 숫자를 묶어서 작은 리스트로 만듬.\n",
    "그 리스트의 원소합이 주어지는 숫자와 같다면, 문제 조건인 연속된 숫자의 합으로 표현하는 숫자의 묶음이 됨.\n",
    "시작 answer가 1인 이유는 자기 자신 약수를 갯수에 미리 포함시켰기 때문임.\n",
    "테스트 케이스는 전부 통과했지만 효율성 테스트에서 실패함.\n",
    "\"\"\"\n",
    "def solution(n):\n",
    "    #answer=1인 이유는 자기 자신 약수를 갯수에 미리 포함시켰기 떄문.\n",
    "    answer = 1\n",
    "    list_n=list(range(1, n))\n",
    "    #print(list_n)\n",
    "    end=n//2+1\n",
    "    \n",
    "    #num1은 묶는 숫자 길이를 뜻함.\n",
    "    for num1 in range(2, end+1):\n",
    "        num2=0\n",
    "        while True:\n",
    "            small_list=list_n[num2:num2+num1]\n",
    "            #print(small_list)\n",
    "            num2+=1\n",
    "            if sum(small_list)==n:\n",
    "                answer+=1\n",
    "            if num2==n:\n",
    "                break\n",
    "\n",
    "    return answer"
   ]
  },
  {
   "cell_type": "markdown",
   "id": "d835a57b",
   "metadata": {},
   "source": [
    "### 220823 숫자의 표현 (15분 2트 재도전 성공)"
   ]
  },
  {
   "cell_type": "code",
   "execution_count": 3,
   "id": "55e6d4ba",
   "metadata": {},
   "outputs": [],
   "source": [
    "\"\"\"\n",
    "다시 도전해서 해결함.\n",
    "리스트로 굳이 만들지 않고 그냥 숫자를 더해서 해결했음.\n",
    "1,2,3,4,5=15(15가 되거나 15를 넘으면 break)\n",
    "2,3,4,5,6(15 초과로 break)\n",
    "3,4,5,6(15 초과로 break)\n",
    "4,5,6(15 일치 break)\n",
    "순으로 작동함.\n",
    "\n",
    "제일 처음 시작하는 숫자는 for문에서 결정하고 (최대 절반+1만큼 범위임)\n",
    "while문 안에서 더해주는 숫자는 시작 숫자+1로 정의됨. (왜냐하면 어디서 시작하든 연속해야 하기때문)\n",
    "\n",
    "등차 수열 공식으로 푸는 사람도 있던데 참고하지 않고 내 방식대로 풀어냈음.\n",
    "\"\"\"\n",
    "def solution(n):\n",
    "    answer=1\n",
    "    \n",
    "    for num in range(1, n//2+1):\n",
    "        plus=num+1\n",
    "        while True:\n",
    "            num+=plus\n",
    "            if num==n:\n",
    "                answer+=1\n",
    "                break\n",
    "            if num>n:\n",
    "                break\n",
    "            plus+=1\n",
    "            \n",
    "    return answer"
   ]
  },
  {
   "cell_type": "markdown",
   "id": "b991d9ab",
   "metadata": {},
   "source": [
    "### 220823 구명보트 (20분 1트 실패)"
   ]
  },
  {
   "cell_type": "code",
   "execution_count": null,
   "id": "b52c8b79",
   "metadata": {},
   "outputs": [],
   "source": [
    "\"\"\"\n",
    "테스트케이스와 효율성 테스트에서 실패.\n",
    "알고리즘적으로 풀이에는 문제가 없는듯한테 테스트케이스에서 전부 실패하는걸 보니 뭔가 핵심을 빠뜨린듯.\n",
    "풀이 예시를 보고 다시 풀어봐야 할듯.\n",
    "\"\"\"\n",
    "from itertools import combinations as COMB\n",
    "\n",
    "def solution(people, limit):\n",
    "    answer = 0\n",
    "    \n",
    "    for e in people:\n",
    "        if limit-e<40:\n",
    "            people.remove(e)\n",
    "            answer+=1\n",
    "            \n",
    "    for C in COMB(people, 2):\n",
    "        #print(C)\n",
    "        if sum(C)<=100:\n",
    "            people.remove(C[0])\n",
    "            people.remove(C[1])\n",
    "            answer+=1\n",
    "\n",
    "    answer+=len(people)\n",
    "    return answer"
   ]
  },
  {
   "cell_type": "markdown",
   "id": "c1f6a3d9",
   "metadata": {},
   "source": [
    "### 구명보트 (2트 해설 참조)"
   ]
  },
  {
   "cell_type": "code",
   "execution_count": 58,
   "id": "993e9123",
   "metadata": {},
   "outputs": [],
   "source": [
    "\"\"\"\n",
    "시간복잡성을 줄이기 위한 deque를 사용한 풀이.\n",
    "그냥 리스트를 쓰면 안되나 생각해봤는데 효율성 면에서 deque가 낫다고 함.\n",
    "\n",
    "from collections import deque\n",
    "deq.pop()\n",
    "deq.popleft()\n",
    "\"\"\"\n",
    "from collections import deque\n",
    "def solution(people, limit):\n",
    "    answer = 0\n",
    "    \n",
    "    deq = deque(sorted(people))\n",
    "    while deq:\n",
    "        if len(deq)==1:\n",
    "            answer+=1\n",
    "            break\n",
    "            \n",
    "        if deq[0]+deq[-1]<=limit:\n",
    "            deq.pop()\n",
    "            deq.popleft()\n",
    "            \n",
    "        else:\n",
    "            deq.pop()\n",
    "        answer += 1\n",
    "        \n",
    "    return answer"
   ]
  },
  {
   "cell_type": "markdown",
   "id": "ab5364e8",
   "metadata": {},
   "source": [
    "### 220824 스킬 체크 문제 (1트 성공)"
   ]
  },
  {
   "cell_type": "code",
   "execution_count": null,
   "id": "edbb0924",
   "metadata": {},
   "outputs": [],
   "source": [
    "\"\"\"\n",
    "자연수 n이 주어지고 그 수를 2진으로 변환했을 때 1의 수를 세야한다. 그리고 n보다 큰 수에서 2진 변환시 1의 수가 \n",
    "처음 n과 같은 조건을 만족하는 가장 작은 수를 반환하는 문제.\n",
    "\n",
    "풀긴했는데 내가 짰지만 구조가 마음에 안듬. 특히 번거로워서 그냥 for문에서 범위를 랜덤수로 크게 설정했지만 \n",
    "while을 쓰고 서로 다른 변수를 두번 지정하는게 낫지않았나 생각됨. ex) n2=n, num=n2\n",
    "\"\"\"\n",
    "def solution(n):\n",
    "    cnt_n=0\n",
    "    cnt=0\n",
    "    for num in range(n, 10000000):\n",
    "        if cnt_n==cnt and num!=n:\n",
    "            break\n",
    "        if num==n:\n",
    "            while num>0:\n",
    "                #print(num%2, num)\n",
    "                if num%2==1:\n",
    "                    cnt_n+=1\n",
    "                num//=2\n",
    "        else:\n",
    "            cnt=0\n",
    "            while num>0:\n",
    "                #print(num%2, num)\n",
    "                if num%2==1:\n",
    "                    cnt+=1\n",
    "                num//=2\n",
    "\n",
    "    return num-1"
   ]
  },
  {
   "cell_type": "markdown",
   "id": "4a8b51d9",
   "metadata": {},
   "source": [
    "### 220824 올바른 괄호 (20분 1트 실패)"
   ]
  },
  {
   "cell_type": "code",
   "execution_count": 63,
   "id": "36f13db9",
   "metadata": {},
   "outputs": [],
   "source": [
    "\"\"\"\n",
    "테스트케이스 4개빼고 다른 테스트는 다 통과했는데 생각해봐도 왜 문제인지 모르겠음.\n",
    "다른 사람들은 deque를 썼을지도 모르는데 이참에 stack과 deque를 능숙하게 쓸 수 있도록 연습해야겠음.\n",
    "\"\"\"\n",
    "def solution(s):\n",
    "    answer=False\n",
    "    state=0\n",
    "    stack=[]\n",
    "    \n",
    "    for n in range(len(s)):\n",
    "        if n==0 and s[0]==\")\":\n",
    "            return False\n",
    "        else:\n",
    "            if len(stack)==0:\n",
    "                stack.append(s[n])\n",
    "            elif stack[-1]==s[n]:# 일단 여기 조건 의도랑 틀림!\n",
    "                stack.pop()\n",
    "            else:\n",
    "                stack.append(s[n])\n",
    "                \n",
    "    start1=s.count(\"(\")\n",
    "    end1=s.count(\")\")\n",
    "    start2=stack.count(\"(\")\n",
    "    end2=stack.count(\")\")\n",
    "\n",
    "    if start1==end1 and start2==end2:\n",
    "        return True\n",
    "    else:\n",
    "        return False"
   ]
  },
  {
   "cell_type": "markdown",
   "id": "f36b0de4",
   "metadata": {},
   "source": [
    "### 올바른 괄호 (3트 풀이 참조)"
   ]
  },
  {
   "cell_type": "code",
   "execution_count": 67,
   "id": "ab9ee870",
   "metadata": {},
   "outputs": [],
   "source": [
    "\"\"\"\n",
    "if list: 조건은 리스트에 원소가 있는지 없는지 검사. 원소가 있다면 True, if not list를 한다면 비어있을 때 적용.\n",
    "deque.pop을 하면 해당 원소를 빼내고 변수에 저장할 수 있는데 이걸 바로 떠올리지 못했음.\n",
    "\n",
    "else의 경우는 answer=False로 처리되고 s_dq의 나머지 슬라이싱 요소들도 처리하기 때문에 조금이라도 빠른 처리를 위해\n",
    "break를 걸어줬음.\n",
    "\"\"\"\n",
    "from collections import deque\n",
    "def solution(s):\n",
    "    s_dq = deque(s)\n",
    "    stack = []\n",
    "    answer = True\n",
    "\n",
    "    while s_dq:\n",
    "        v = s_dq.popleft()\n",
    "        if v == \"(\":\n",
    "            stack.append(v)\n",
    "        elif v == \")\" and stack and stack[-1] == \"(\":\n",
    "            stack.pop()\n",
    "        else:\n",
    "            answer = False\n",
    "            break\n",
    "            \n",
    "    return False if stack else answer"
   ]
  },
  {
   "cell_type": "markdown",
   "id": "22fe7d98",
   "metadata": {},
   "source": [
    "### 220824 124 나라의 숫자 (25분 1트 실패)"
   ]
  },
  {
   "cell_type": "code",
   "execution_count": 73,
   "id": "6f1413af",
   "metadata": {},
   "outputs": [],
   "source": [
    "\"\"\"\n",
    "테스트케이스 전부 실패함. 다른 사람들 질문을 보니 조건에는 자연수라 해놓고 0도 포함되있다고 함.\n",
    "\"\"\"\n",
    "def solution(n):\n",
    "    answer = ''\n",
    "    change={'1':'1', '2':'2', '3':'4', '4':'11', '5':'12', '6':'14', '7':'21', '8':'22', '9':'24', '10':'41'}\n",
    "    n=str(n)\n",
    "\n",
    "    for num in range(len(n)):\n",
    "        if num!=len(n)-1 and n[num]=='1' and n[num+1]=='0':\n",
    "            if n[num+1]=='0':\n",
    "                answer+=change['10']\n",
    "            else:\n",
    "                answer+=change['1']\n",
    "        else:\n",
    "            if n[num]=='0':\n",
    "                pass\n",
    "            else:\n",
    "                answer+=change[n[num]]\n",
    "                     \n",
    "    return answer"
   ]
  },
  {
   "cell_type": "markdown",
   "id": "74ff2cdf",
   "metadata": {},
   "source": [
    "### 124 나라의 숫자 (15분 2트 실패)"
   ]
  },
  {
   "cell_type": "code",
   "execution_count": 76,
   "id": "bd855c8c",
   "metadata": {},
   "outputs": [],
   "source": [
    "\"\"\"\n",
    "테스트 케이스 실패함.\n",
    "0의 경우를 추가해줬는데도 되질 않음. 전부 실패하는걸 보니 뭔가 빠뜨린게 있는듯 한데 모르겠음.\n",
    "\"\"\"\n",
    "def solution(n):\n",
    "    answer = ''\n",
    "    change={'1':'1', '2':'2', '3':'4', '4':'11', '5':'12', '6':'14', '7':'21', '8':'22', '9':'24', '10':'41'}\n",
    "    n=str(n)\n",
    "\n",
    "    for num in range(len(n)):\n",
    "        if num!=len(n)-1 and n[num]=='1' and n[num+1]=='0':\n",
    "            if n[num+1]=='0':\n",
    "                answer+=change['10']\n",
    "            else:\n",
    "                answer+=change['1']\n",
    "        else:\n",
    "            if n[num]=='0':\n",
    "                if n[num-1]=='1':\n",
    "                    pass\n",
    "                else:\n",
    "                    answer+='0'\n",
    "            else:\n",
    "                answer+=change[n[num]]\n",
    "                     \n",
    "    return answer"
   ]
  },
  {
   "cell_type": "markdown",
   "id": "e875bb84",
   "metadata": {},
   "source": [
    "### 220825 124 나라의 숫자 (2트 풀이참조 10분) "
   ]
  },
  {
   "cell_type": "code",
   "execution_count": null,
   "id": "9ed054b6",
   "metadata": {},
   "outputs": [],
   "source": [
    "\"\"\"\n",
    "3진법과 유사하게 풀되, 3대신 4로 변환해야 하고 answer에 더해줄때 연산 나머지를 문자열로 바꾼 것을 더해주기 때문에\n",
    "순서를 answer=값+answer로 했음. (answer+=값로 하면 틀림.)\n",
    "\"\"\"\n",
    "def solution(n):\n",
    "    answer = ''\n",
    "    \n",
    "    while n>0:\n",
    "        if n%3==0:\n",
    "            answer=\"4\"+answer\n",
    "            n=n//3-1\n",
    "        else:\n",
    "            answer=str(n%3)+answer\n",
    "            n//=3\n",
    "            \n",
    "    return answer"
   ]
  },
  {
   "cell_type": "markdown",
   "id": "cc468409",
   "metadata": {},
   "source": [
    "### 220825 위장 (1트 20분 실패)"
   ]
  },
  {
   "cell_type": "code",
   "execution_count": null,
   "id": "7ad63dae",
   "metadata": {},
   "outputs": [],
   "source": [
    "\"\"\"\n",
    "문제 중에 4개인가 빼고 다 맞췄는데 시간초과로 실패했음.\n",
    "옷 종류별로 반드시 1개는 착용하되 각 파츠는 중복되지 않도록 입어야 하는 문제인데\n",
    "\n",
    "처음에 옷 종류를 리스트로 담아서 구함.(왜냐하면 옷파츠 종류가 3개라 하면 1개, 2개, 3개로 착용수가 달라지기 때문)\n",
    "->옷 종류 갯수만큼 for문을 돌면서 1개 입을때는 중복이 없으니 answer에 바로 카운트, 2개 이상일땐 파츠 중복 검사해서 카운트\n",
    "\n",
    "방식으로 코딩 했더니 리스트에 담고 다시 정렬하고 세는 과정에서 시간을 초과한 듯함. 해시 문제이니 해시에 대해\n",
    "추가로 공부를 더하고 다시 풀어봐야 할 듯.\n",
    "\"\"\"\n",
    "from itertools import combinations as COMB\n",
    "\n",
    "def solution(clothes):\n",
    "    answer = 0\n",
    "    \n",
    "    part_list=[]\n",
    "    for l in clothes:\n",
    "        part_list.append(l[1])\n",
    "        \n",
    "    part_num=len(list(set(part_list)))\n",
    "    \n",
    "    for n in range(1, part_num+1):\n",
    "        for c in COMB(clothes, n):\n",
    "            if n==1:\n",
    "                answer+=1\n",
    "            else:\n",
    "                part_choose=[]\n",
    "                for i in range(n):\n",
    "                    part_choose.append(c[i][1])\n",
    "                if len(part_choose)==len(list(set(part_choose))):\n",
    "                    answer+=1\n",
    "                else:\n",
    "                    pass\n",
    "    return answer"
   ]
  }
 ],
 "metadata": {
  "kernelspec": {
   "display_name": "Python 3 (ipykernel)",
   "language": "python",
   "name": "python3"
  },
  "language_info": {
   "codemirror_mode": {
    "name": "ipython",
    "version": 3
   },
   "file_extension": ".py",
   "mimetype": "text/x-python",
   "name": "python",
   "nbconvert_exporter": "python",
   "pygments_lexer": "ipython3",
   "version": "3.9.7"
  }
 },
 "nbformat": 4,
 "nbformat_minor": 5
}
