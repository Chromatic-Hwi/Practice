{
 "cells": [
  {
   "cell_type": "markdown",
   "id": "1c81b022",
   "metadata": {},
   "source": [
    "## 코테 풀이"
   ]
  },
  {
   "cell_type": "markdown",
   "id": "a79c7723",
   "metadata": {},
   "source": [
    "### 220809 로또의 최고 순위와 최저 순위 (10분 1트 클)"
   ]
  },
  {
   "cell_type": "code",
   "execution_count": null,
   "id": "1e00e62f",
   "metadata": {},
   "outputs": [],
   "source": [
    "\"\"\"\n",
    "주어지는 응모 번호와 로또 당첨 번호를 비교해서 식별 불가 번호포함 최저 순위와 최고 당첨 순위를 출력하는 문제.\n",
    "\n",
    "맞춘 갯수별 순위를 딕셔너리로 했고,\n",
    "\n",
    "전체 응모 번호를 돌면서 0일 경우(=인식불가 숫자) 나중에 더해주기 위해 miss_num 으로 저장했고\n",
    "\n",
    "응모 번호를 탐색하면서 일치할경우 count 증가\n",
    "\n",
    "count에 miss_num을 더해서 award에 Key로 넣으면 최고순위, 안 더하면 최저순위로 나오니 각각 answer에 추가하면 끝.\n",
    "\"\"\"\n",
    "def solution(lottos, win_nums):\n",
    "    answer = []\n",
    "    count=0\n",
    "    miss_num=0\n",
    "    award={0:6, 1:6, 2:5, 3:4, 4:3, 5:2, 6:1}\n",
    "    \n",
    "    for num in lottos:\n",
    "        if num==0:\n",
    "            miss_num+=1\n",
    "        if num in win_nums:\n",
    "            count+=1\n",
    "        else:\n",
    "            pass\n",
    "        \n",
    "    answer.append(award[count+miss_num])\n",
    "    answer.append(award[count])\n",
    "    \n",
    "    return answer"
   ]
  }
 ],
 "metadata": {
  "kernelspec": {
   "display_name": "Python 3 (ipykernel)",
   "language": "python",
   "name": "python3"
  },
  "language_info": {
   "codemirror_mode": {
    "name": "ipython",
    "version": 3
   },
   "file_extension": ".py",
   "mimetype": "text/x-python",
   "name": "python",
   "nbconvert_exporter": "python",
   "pygments_lexer": "ipython3",
   "version": "3.9.7"
  }
 },
 "nbformat": 4,
 "nbformat_minor": 5
}
