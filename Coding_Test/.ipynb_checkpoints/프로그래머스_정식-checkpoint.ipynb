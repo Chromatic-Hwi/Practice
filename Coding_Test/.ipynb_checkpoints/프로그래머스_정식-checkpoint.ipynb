{
 "cells": [
  {
   "cell_type": "markdown",
   "id": "1c81b022",
   "metadata": {},
   "source": [
    "## 코테 풀이"
   ]
  },
  {
   "cell_type": "markdown",
   "id": "a79c7723",
   "metadata": {},
   "source": [
    "### 220809 로또의 최고 순위와 최저 순위 (10분 1트 클)"
   ]
  },
  {
   "cell_type": "code",
   "execution_count": 1,
   "id": "1e00e62f",
   "metadata": {},
   "outputs": [],
   "source": [
    "\"\"\"\n",
    "주어지는 응모 번호와 로또 당첨 번호를 비교해서 식별 불가 번호포함 최저 순위와 최고 당첨 순위를 출력하는 문제.\n",
    "\n",
    "맞춘 갯수별 순위를 딕셔너리로 했고,\n",
    "\n",
    "전체 응모 번호를 돌면서 0일 경우(=인식불가 숫자) 나중에 더해주기 위해 miss_num 으로 저장했고\n",
    "\n",
    "응모 번호를 탐색하면서 일치할경우 count 증가\n",
    "\n",
    "count에 miss_num을 더해서 award에 Key로 넣으면 최고순위, 안 더하면 최저순위로 나오니 각각 answer에 추가하면 끝.\n",
    "\"\"\"\n",
    "def solution(lottos, win_nums):\n",
    "    answer = []\n",
    "    count=0\n",
    "    miss_num=0\n",
    "    award={0:6, 1:6, 2:5, 3:4, 4:3, 5:2, 6:1}\n",
    "    \n",
    "    for num in lottos:\n",
    "        if num==0:\n",
    "            miss_num+=1\n",
    "        if num in win_nums:\n",
    "            count+=1\n",
    "        else:\n",
    "            pass\n",
    "        \n",
    "    answer.append(award[count+miss_num])\n",
    "    answer.append(award[count])\n",
    "    \n",
    "    return answer"
   ]
  },
  {
   "cell_type": "markdown",
   "id": "69f6daaf",
   "metadata": {},
   "source": [
    "### 220810 없는 숫자 더하기 (5분 1트 클)"
   ]
  },
  {
   "cell_type": "code",
   "execution_count": 2,
   "id": "24054c21",
   "metadata": {},
   "outputs": [],
   "source": [
    "\"\"\"\n",
    "1~9 범위내 중복 없고 누락 있는 리스트가 주어짐.\n",
    "누락된 범위의 숫자를 찾아서 합을 반환하는 코드를 작성해야 하는데 처음에는 1~9의 range내에서 탐색하면서 불일치할 경우\n",
    "답에 숫자를 더하는 식으로 하려다가 '중복이 없으니 빠진 숫자 합만 구하면 되는거 아니냐' 생각에 45에서 차를 구하는 식으로\n",
    "방향을 바꿨음.\n",
    "\"\"\"\n",
    "def solution(numbers):\n",
    "    num_sum=0\n",
    "    \n",
    "    for num in numbers:\n",
    "        num_sum+=num\n",
    "    \n",
    "    if num_sum==45:\n",
    "        answer=-1\n",
    "    else:\n",
    "        answer=45-num_sum\n",
    "            \n",
    "    return answer"
   ]
  },
  {
   "cell_type": "markdown",
   "id": "587b6f35",
   "metadata": {},
   "source": [
    "### 220810 음양 더하기 (5분 1트 클)"
   ]
  },
  {
   "cell_type": "code",
   "execution_count": null,
   "id": "8cbb0d29",
   "metadata": {},
   "outputs": [],
   "source": [
    "\"\"\"\n",
    "절댓값 리스트와 참/거짓 리스트가 주어지면 참/거짓 여부에 따라 합차 계산을 해서 결과를 반환하는 문제.\n",
    "두 리스트의 길이는 같기 때문에 한 리스트의 길이만큼 범위를 정하고 해당 순번 인덱스를 넣어서\n",
    "참일 경우 더하고, 거짓일 경우 빼도록 해서 결과를 계산함.\n",
    "\"\"\"\n",
    "def solution(absolutes, signs):\n",
    "    answer = 0\n",
    "    \n",
    "    for n in range(len(absolutes)):\n",
    "        if signs[n]==True:\n",
    "            answer+=absolutes[n]\n",
    "        if signs[n]==False:\n",
    "            answer-=absolutes[n]\n",
    "            \n",
    "    return answer"
   ]
  }
 ],
 "metadata": {
  "kernelspec": {
   "display_name": "Python 3 (ipykernel)",
   "language": "python",
   "name": "python3"
  },
  "language_info": {
   "codemirror_mode": {
    "name": "ipython",
    "version": 3
   },
   "file_extension": ".py",
   "mimetype": "text/x-python",
   "name": "python",
   "nbconvert_exporter": "python",
   "pygments_lexer": "ipython3",
   "version": "3.9.7"
  }
 },
 "nbformat": 4,
 "nbformat_minor": 5
}
