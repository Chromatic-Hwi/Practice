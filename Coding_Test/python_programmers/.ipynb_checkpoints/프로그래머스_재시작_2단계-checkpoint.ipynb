{
 "cells": [
  {
   "cell_type": "markdown",
   "id": "3be78130",
   "metadata": {
    "id": "3be78130"
   },
   "source": [
    "# 코테 재시작"
   ]
  },
  {
   "cell_type": "markdown",
   "id": "a92c5e71",
   "metadata": {
    "id": "a92c5e71"
   },
   "source": [
    "# <span style=\"color:blueviolet\"> -------------------- <2단계> -------------------- </span>"
   ]
  },
  {
   "cell_type": "markdown",
   "id": "H-A1jAaOHSEx",
   "metadata": {
    "id": "H-A1jAaOHSEx"
   },
   "source": [
    "#### <span style=\"color:blueviolet\"> 240226 광물 캐기 (1트, 45분 시도 포기) </span>"
   ]
  },
  {
   "cell_type": "code",
   "execution_count": null,
   "id": "b99b8054",
   "metadata": {
    "id": "b99b8054"
   },
   "outputs": [],
   "source": [
    "\"\"\"\n",
    "수치화 하는 것 까진 좋았으나 힌트를 보고 오니 순열, 조합을 쓰는건 아니고\n",
    "5개씩 미네랄 묶음을 나눠서 캐는데 오래 걸리는 순으로 정렬을 하는 거였음.\n",
    "난 무조건 \"미네랄은 순서대로 캐야 합니다.\"에 목을 매서 어려운 길로 갔던 것 같음.\n",
    "\"\"\"\n",
    "from itertools import combinations\n",
    "\n",
    "def solution(picks, minerals):\n",
    "    \"\"\"\n",
    "    dia, iron, stone 순\n",
    "    minerals의 원소가 5개 사라지면 곡괭이는 더 이상 사용 불가\n",
    "    \"\"\"\n",
    "\n",
    "    answer = 0\n",
    "    # 각 곡괭이의 파워로 내구도를 나눴을 때 몫이 피로도가 됨. 1미만도 1로 취급.\n",
    "    durability = {'diamond':25, 'iron':5, 'stone':1}\n",
    "    pick_power = {'D':25, 'I':5, 'S':1}\n",
    "\n",
    "    # 곡괭이를 사용하는 조합을 만들기 위해 동일 문자를 포함한 순서를 지키는 곡괭이 리스트 만듬.\n",
    "    pick_list = []\n",
    "    for idx in range(len(picks)):\n",
    "        if idx == 0:\n",
    "            for _ in range(picks[0]):\n",
    "                pick_list.append('D')\n",
    "        elif idx == 1:\n",
    "            for _ in range(picks[1]):\n",
    "                pick_list.append('I')\n",
    "        elif idx == 2:\n",
    "            for _ in range(picks[2]):\n",
    "                pick_list.append('S')\n",
    "    #print(pick_list)\n",
    "\n",
    "    pick_n_start = len(minerals)//5\n",
    "    pick_comb_list = []\n",
    "    for pick_n in range(pick_n_start, sum(picks)+1):\n",
    "        for comb in combinations(pick_list, pick_n):\n",
    "            pick_comb_list.append(comb)\n",
    "\n",
    "    pick_comb_list = list(set(pick_comb_list))\n",
    "    print(pick_comb_list)\n",
    "\n",
    "\n",
    "    return answer"
   ]
  },
  {
   "cell_type": "markdown",
   "id": "fGJveYfZst9h",
   "metadata": {
    "id": "fGJveYfZst9h"
   },
   "source": [
    "#### <span style=\"color:blueviolet\"> 240227 광물캐기 (2트 실패, 45분 일부 테스트케이스 실패) </span>"
   ]
  },
  {
   "cell_type": "code",
   "execution_count": null,
   "id": "tJha-J_Sstv_",
   "metadata": {
    "id": "tJha-J_Sstv_"
   },
   "outputs": [],
   "source": [
    "def solution(picks, minerals):\n",
    "    answer = 0\n",
    "\n",
    "    # 각 곡괭이의 파워로 내구도를 나눴을 때 몫이 피로도가 됨. 1미만도 1로 취급.\n",
    "    durability = {'diamond':25, 'iron':5, 'stone':1}\n",
    "\n",
    "    sorted_minerals = []\n",
    "\n",
    "    for m5 in range(0, len(minerals), 5):\n",
    "        m5_list = minerals[m5:m5+5]\n",
    "        m5_list.sort()\n",
    "        for m in m5_list:\n",
    "            sorted_minerals.append(m)\n",
    "    #print(sorted_minerals)\n",
    "\n",
    "    total_idx = 0\n",
    "\n",
    "    # Diamond\n",
    "    if picks[0] != 0 and total_idx < len(minerals):\n",
    "        pick_power = 25\n",
    "        for _ in range(picks[0]*5):\n",
    "            energy = durability[sorted_minerals[total_idx]] // pick_power\n",
    "            #print(total_idx, durability[sorted_minerals[total_idx]])\n",
    "            if energy < 1:\n",
    "                energy =1\n",
    "\n",
    "            answer += energy\n",
    "            total_idx += 1\n",
    "            if total_idx == len(minerals):\n",
    "                return answer\n",
    "    #print()\n",
    "\n",
    "    # Iron\n",
    "    if picks[1] != 0 and total_idx < len(minerals):\n",
    "        mineral_cnt = 1\n",
    "        pick_power = 5\n",
    "        for _ in range(picks[1]*5):\n",
    "            energy = durability[sorted_minerals[total_idx]] // pick_power\n",
    "            #print(total_idx, durability[sorted_minerals[total_idx]])\n",
    "            if energy < 1:\n",
    "                energy =1\n",
    "\n",
    "            answer += energy\n",
    "            total_idx += 1\n",
    "            if total_idx == len(minerals):\n",
    "                return answer\n",
    "    #print()\n",
    "\n",
    "    # Stone\n",
    "    if picks[2] != 0 and total_idx < len(minerals):\n",
    "        mineral_cnt = 1\n",
    "        pick_power = 1\n",
    "        for _ in range(picks[2]*5):\n",
    "            energy = durability[sorted_minerals[total_idx]] // pick_power\n",
    "            #print(total_idx, durability[sorted_minerals[total_idx]])\n",
    "            if energy < 1:\n",
    "                energy =1\n",
    "\n",
    "            answer += energy\n",
    "            total_idx += 1\n",
    "            if total_idx == len(minerals):\n",
    "                return answer\n",
    "\n",
    "    return answer"
   ]
  },
  {
   "cell_type": "markdown",
   "id": "d1fDbqVStOhu",
   "metadata": {
    "id": "d1fDbqVStOhu"
   },
   "source": [
    "#### <span style=\"color:blueviolet\"> 240227 광물캐기 (정답 분석본) </span>"
   ]
  },
  {
   "cell_type": "code",
   "execution_count": null,
   "id": "u1L9Nxo6tOZv",
   "metadata": {
    "id": "u1L9Nxo6tOZv"
   },
   "outputs": [],
   "source": [
    "def solution(picks, minerals):\n",
    "    answer = 0\n",
    "    sum =0\n",
    "    # 곡괭이의 수를 구한다.\n",
    "    for i in picks:\n",
    "        sum += i\n",
    "\n",
    "    #곡괭이로 캘 수 있는 광물만큼 자른다.\n",
    "    num = sum * 5\n",
    "    if len(minerals)>sum:\n",
    "        minerals = minerals[:num]\n",
    "\n",
    "    #광물들을 조사한다.\n",
    "    new_minerals =[[0,0,0] for _ in range((len(minerals) //5 +1))]\n",
    "    for i in range(len(minerals)):\n",
    "        if minerals[i]=='diamond':\n",
    "            new_minerals[i//5][0]+=1\n",
    "        elif minerals[i]=='iron':\n",
    "            new_minerals[i//5][1]+=1\n",
    "        elif minerals[i]=='stone':\n",
    "            new_minerals[i//5][2]+=1\n",
    "    print(new_minerals)\n",
    "\n",
    "    #광물의 순서를 다이아몬드, 철, 돌 순서대로 정렬해준다.\n",
    "    new_minerals.sort(key=lambda x:(-x[0],-x[1],-x[2]))\n",
    "    print(new_minerals)\n",
    "\n",
    "    #정렬된 광물들을 다이아,철,돌 곡괭이 순서대로 캔다.\n",
    "    for i in new_minerals:\n",
    "         dia,iron,stone = i\n",
    "         for j in range(len(picks)):\n",
    "            if picks[j]>0 and j==0:\n",
    "                picks[j]-=1\n",
    "                answer += dia + iron + stone\n",
    "                break\n",
    "            elif picks[j]>0 and j==1:\n",
    "                picks[j]-=1\n",
    "                answer += (5*dia) + iron + stone\n",
    "                break\n",
    "            elif picks[j]>0 and j==2:\n",
    "                picks[j]-=1\n",
    "                answer += (25*dia) + (5*iron) + stone\n",
    "                break\n",
    "\n",
    "    return answer"
   ]
  },
  {
   "cell_type": "markdown",
   "id": "3b6c0997",
   "metadata": {
    "id": "3b6c0997"
   },
   "source": [
    "#### <span style=\"color:blueviolet\"> 240308 뒤에 있는 큰 수 찾기 (1트 실패, 30분 테스트케이스 시간초과) </span>"
   ]
  },
  {
   "cell_type": "code",
   "execution_count": null,
   "id": "95c41115",
   "metadata": {
    "id": "95c41115"
   },
   "outputs": [],
   "source": [
    "def solution(numbers):\n",
    "    answer = []\n",
    "\n",
    "    end = len(numbers)\n",
    "    numbers_sort = sorted(numbers)\n",
    "    num_biggest = numbers_sort[-1]\n",
    "\n",
    "    for idx in range(end):\n",
    "        if idx == num_biggest:  # 소요시간을 줄이기 위해 가장 큰수와 1차 비교\n",
    "            answer.append(-1)\n",
    "        if idx == end-1:\n",
    "            answer.append(-1)\n",
    "        else:\n",
    "            for idx2 in range(idx+1, end):\n",
    "                after_num = 0\n",
    "                if numbers[idx2] > numbers[idx]:\n",
    "                    after_num = numbers[idx2]\n",
    "                    answer.append(after_num)\n",
    "                    break\n",
    "            if after_num == 0:\n",
    "                answer.append(-1)\n",
    "            if idx == end-1 and idx2 == end-1 and after_num != 0:\n",
    "                answer.append(-1)\n",
    "\n",
    "    return answer"
   ]
  },
  {
   "cell_type": "markdown",
   "id": "88d54f88",
   "metadata": {
    "id": "88d54f88"
   },
   "source": [
    "#### <span style=\"color:blueviolet\"> 240308 뒤에 있는 큰 수 찾기 (풀이본 최대한 해석해보려는데 어려움) </span>"
   ]
  },
  {
   "cell_type": "code",
   "execution_count": null,
   "id": "04e3ae86",
   "metadata": {
    "id": "04e3ae86",
    "outputId": "f93f6b21-84a4-4073-f267-6963c51d9310"
   },
   "outputs": [
    {
     "name": "stdout",
     "output_type": "stream",
     "text": [
      "for문 마지막 - i:0, stack:[[0, 9]], answer:[-1, -1, -1, -1, -1, -1]\n",
      "\n",
      "for문 마지막 - i:1, stack:[[0, 9], [1, 1]], answer:[-1, -1, -1, -1, -1, -1]\n",
      "\n",
      "while문 마지막 - i,v:(2, 5), stack:[[0, 9]], num:[1, 1], answer:[-1, 5, -1, -1, -1, -1]\n",
      "for문 마지막 - i:2, stack:[[0, 9], [2, 5]], answer:[-1, 5, -1, -1, -1, -1]\n",
      "\n",
      "for문 마지막 - i:3, stack:[[0, 9], [2, 5], [3, 3]], answer:[-1, 5, -1, -1, -1, -1]\n",
      "\n",
      "while문 마지막 - i,v:(4, 6), stack:[[0, 9], [2, 5]], num:[3, 3], answer:[-1, 5, -1, 6, -1, -1]\n",
      "while문 마지막 - i,v:(4, 6), stack:[[0, 9]], num:[2, 5], answer:[-1, 5, 6, 6, -1, -1]\n",
      "for문 마지막 - i:4, stack:[[0, 9], [4, 6]], answer:[-1, 5, 6, 6, -1, -1]\n",
      "\n",
      "for문 마지막 - i:5, stack:[[0, 9], [4, 6], [5, 2]], answer:[-1, 5, 6, 6, -1, -1]\n",
      "\n"
     ]
    },
    {
     "data": {
      "text/plain": [
       "[-1, 5, 6, 6, -1, -1]"
      ]
     },
     "execution_count": 1,
     "metadata": {},
     "output_type": "execute_result"
    }
   ],
   "source": [
    "\"\"\"\n",
    "스택을 이용해서 푸는게 구조적으로 거의 이해는 됐는데 인터넷 봐도 다른 사람 코드 카피캣 하고 넘어간게 다고,\n",
    "명확하게 설명을 하는 사람이 없음.\n",
    "\"\"\"\n",
    "def solution(numbers):\n",
    "    answer = [-1] * len(numbers)\n",
    "    stack = []\n",
    "\n",
    "    for i, v in enumerate(numbers):\n",
    "        while stack and stack[-1][1] < v:\n",
    "            num = stack.pop()\n",
    "            answer[num[0]] = v\n",
    "            print(f'while문 마지막 - i,v:{i,v}, stack:{stack}, num:{num}, answer:{answer}')\n",
    "\n",
    "        stack.append([i,v])\n",
    "        print(f'for문 마지막 - i:{i}, stack:{stack}, answer:{answer}\\n')\n",
    "\n",
    "    return answer\n",
    "\n",
    "solution([9, 1, 5, 3, 6, 2])\n",
    "# result: [-1, 5, 6, 6, -1, -1]"
   ]
  },
  {
   "cell_type": "markdown",
   "id": "131e562e",
   "metadata": {
    "id": "131e562e"
   },
   "source": [
    "#### <span style=\"color:blueviolet\"> 240327 시소 짝꿍 (1트 실패, 12분) </span>"
   ]
  },
  {
   "cell_type": "code",
   "execution_count": null,
   "id": "d80a0dd8",
   "metadata": {
    "id": "d80a0dd8"
   },
   "outputs": [],
   "source": [
    "\"\"\"\n",
    "테스트 케이스 일부 실패, 대부분 타임 아웃.\n",
    "알고리즘 아이디어가 떠오르질 않음.\n",
    "\"\"\"\n",
    "\n",
    "from itertools import combinations\n",
    "\n",
    "def solution(weights):\n",
    "    answer = 0\n",
    "    balance = [4/4, 4/3, 4/2, 4, 3/4, 3/2, 3, 2/4, 2/3, 2, 1/4, 1/3, 1/2]\n",
    "\n",
    "    for comb in combinations(weights, 2):\n",
    "        num = comb[0]/comb[1]\n",
    "        if num in balance:\n",
    "            #print(comb)\n",
    "            answer += 1\n",
    "\n",
    "\n",
    "    return answer"
   ]
  },
  {
   "cell_type": "markdown",
   "id": "a77516e8",
   "metadata": {
    "id": "a77516e8"
   },
   "source": [
    "#### <span style=\"color:blueviolet\"> 시소짝꿍 정답본 </span>"
   ]
  },
  {
   "cell_type": "code",
   "execution_count": 1,
   "id": "df4ca814",
   "metadata": {
    "id": "df4ca814",
    "outputId": "ff0a68df-6ac3-4f6a-85b6-eb8c935bdc2f"
   },
   "outputs": [
    {
     "data": {
      "text/plain": [
       "4.0"
      ]
     },
     "execution_count": 1,
     "metadata": {},
     "output_type": "execute_result"
    }
   ],
   "source": [
    "\"\"\"\n",
    "Counter를 사용하지 않는 풀이법\n",
    "이 풀이로 보니까 수학적으로 접근해서 어떻게 풀었는지 알것 같음.\n",
    "처음에 딕셔너리로 해당 원소(=무게)가 몇개나 있는지 value로 입력해주고\n",
    "\n",
    "2번째 for문에서 dic[i] * dic[2*i] 이런식으로 해당 key의 value를 서로 곱해주는건\n",
    "만약 200, 그리고 200의 2배 거리에 있는 400 원소가 2개 있을 경우 이 두 원소는 서로 다르게 취급하기 때문에\n",
    "경우가 2가지가 되어 곱해주는것! \n",
    "\n",
    "이해 완료\n",
    "\"\"\"\n",
    "def solution(weights):\n",
    "    answer = 0\n",
    "    \n",
    "    dic = {}\n",
    "    \n",
    "    for i in weights:\n",
    "        if i in dic:\n",
    "            dic[i] += 1\n",
    "        else:\n",
    "            dic[i] = 1\n",
    "    #print(dic)\n",
    "    \n",
    "    for i in dic:\n",
    "        if dic[i] > 1:\n",
    "            answer += (dic[i] * (dic[i]-1)) / 2\n",
    "        if i*2 in dic:\n",
    "            answer += dic[i] * dic[2*i]\n",
    "        if i*2/3 in dic:\n",
    "            answer += dic[i] * dic[i*2/3]\n",
    "        if i*3/4 in dic:\n",
    "            answer += dic[i] * dic[i*3/4]\n",
    "\n",
    "    return answer\n",
    "\n",
    "solution([100,180,360,100,270])\n",
    "# 정답은 4"
   ]
  },
  {
   "cell_type": "markdown",
   "id": "27d4fbdc",
   "metadata": {},
   "source": [
    "#### <span style=\"color:blueviolet\"> 240727 시소 짝꿍 (2트 성공, 10분 소요) </span>"
   ]
  },
  {
   "cell_type": "code",
   "execution_count": null,
   "id": "6a6bf1d8",
   "metadata": {},
   "outputs": [],
   "source": [
    "\"\"\"\n",
    "순열 쓰는 법\n",
    "딕셔너리에서 키와 밸류를 조건에 맞게 꺼내쓰고, 괄호를 잘 구분해서 써주는것\n",
    "정도만 조심하면 무난했음.\n",
    "\n",
    "이미 수학적 풀이법을 알아서 그럴지도..\n",
    "\"\"\"\n",
    "def solution(weights):\n",
    "    answer = 0\n",
    "    \n",
    "    dic = {}\n",
    "    \n",
    "    for weight in weights:\n",
    "        if weight in dic:\n",
    "            dic[weight] += 1\n",
    "        else:\n",
    "            dic[weight] = 1\n",
    "            \n",
    "    #print(dic)\n",
    "    \n",
    "    for key in dic:\n",
    "        if dic[key] > 1:\n",
    "            answer += (dic[key] * (dic[key]-1))/2 # 시소의 양쪽에 앉는 경우의 수 계산\n",
    "        if (key*2) in dic:\n",
    "            answer += dic[key] * dic[key*2]\n",
    "        if (key*2/3) in dic:\n",
    "            answer += dic[key] * dic[key*2/3]\n",
    "        if (key*3/4) in dic:\n",
    "            answer += dic[key] * dic[key*3/4]\n",
    "            \n",
    "    return answer"
   ]
  },
  {
   "cell_type": "markdown",
   "id": "OIsE7wPi0a45",
   "metadata": {
    "id": "OIsE7wPi0a45"
   },
   "source": [
    "#### <span style=\"color:blueviolet\"> 240330 마법의 엘리베이터 (1트 실패, 20분 소요) </span>"
   ]
  },
  {
   "cell_type": "code",
   "execution_count": null,
   "id": "jnXaPNTE0NwS",
   "metadata": {
    "id": "jnXaPNTE0NwS"
   },
   "outputs": [],
   "source": [
    "\"\"\"\n",
    "10의 제곱수를 사용해 최적의 사용횟수로 해당수를 만들어내는 것과 같은 문제인데\n",
    "자릿수를 하나씩 줄여가면서 계산 처리를 하는데 알고리즘적으로 안 맞았던 것 같음.\n",
    "코드도 코드지만 수학적으로 창의적인 풀이를 해야할 것 같은 문제\n",
    "\"\"\"\n",
    "def solution(storey):\n",
    "    answer = 0\n",
    "\n",
    "    word = str(storey)\n",
    "    long = len(word)\n",
    "\n",
    "    while (long>0):\n",
    "        try:\n",
    "            if int(word[0])>5:\n",
    "                answer += 1\n",
    "            elif int(word[0])==1:\n",
    "                answer += 1\n",
    "            else:\n",
    "                answer += int(word[0])\n",
    "        except:\n",
    "            break\n",
    "        word = word[1:]\n",
    "        #print(answer, word)\n",
    "\n",
    "    return answer"
   ]
  },
  {
   "cell_type": "markdown",
   "id": "2sHBRukt3f0i",
   "metadata": {
    "id": "2sHBRukt3f0i"
   },
   "source": [
    "#### <span style=\"color:blueviolet\"> 마법의 엘리베이터 정답본 </span>"
   ]
  },
  {
   "cell_type": "code",
   "execution_count": 2,
   "id": "Sq93KVPq0N6n",
   "metadata": {
    "id": "Sq93KVPq0N6n"
   },
   "outputs": [],
   "source": [
    "\"\"\"\n",
    "내가 담아내고자 했던 아이디어를 잘 풀어낸 코드라 생각함.\n",
    "나머지를 구해서 어떻게 처리할지가 좀 막막했는데 발상만 하고 완성을 못한게 좀 아쉬움.\n",
    "이해는 했는데 지금 바로 풀면 기억으로만 풀것 같아서 며칠 지나고 까먹은 상태로 다시 도전해볼 예정.\n",
    "\"\"\"\n",
    "def solution(storey):\n",
    "    answer = 0\n",
    "    while storey >= 1:\n",
    "        n = storey % 10\n",
    "        if n > 5 :\n",
    "            answer += (10-n)\n",
    "            storey += (10-n)\n",
    "        elif n < 5:\n",
    "            answer += n\n",
    "            storey -= n\n",
    "        else:\n",
    "            tmp_storey = storey // 10\n",
    "            if tmp_storey % 10 >= 5:\n",
    "                answer += (10-n)\n",
    "                storey += (10-n)\n",
    "            else:\n",
    "                answer += n\n",
    "                storey -= n\n",
    "        storey //= 10\n",
    "\n",
    "    return answer"
   ]
  },
  {
   "cell_type": "markdown",
   "id": "d14e72de",
   "metadata": {},
   "source": [
    "#### <span style=\"color:blueviolet\"> 240405 삼각 달팽이 (1트 포기, 10분 소요) </span>"
   ]
  },
  {
   "cell_type": "code",
   "execution_count": null,
   "id": "dfa4edc2",
   "metadata": {},
   "outputs": [],
   "source": [
    "\"\"\"\n",
    "2차원 배열로 푸는거라는데 첫 풀이때 계속 수학적 공식만 생각하다 포기함..\n",
    "전에도 같은 문제에서 수학적 공식 떠올리겠다고 머리 싸맸던 것 같은데 공식을 떠올리지 않을 수 없던 문제.\n",
    "\"\"\""
   ]
  },
  {
   "cell_type": "markdown",
   "id": "6f79b1c8",
   "metadata": {},
   "source": [
    "#### <span style=\"color:blueviolet\"> 240413 귤 고르기 (1트 포기 후 힌트 참고) </span>"
   ]
  },
  {
   "cell_type": "code",
   "execution_count": 1,
   "id": "14ddd915",
   "metadata": {},
   "outputs": [],
   "source": [
    "\"\"\"\n",
    "문제에서 제기한 풀이 방향에서 어떤 알고리즘으로 연결시킬지 이젠 연관이 잘 되지 않음.\n",
    "내가 알고리즘 공부를 많이 안 해서 그런가 너무 복잡하게 생각해서 못 푸는 경우가 많고, 그런 경우 해답들은 예상외로 심플했음.\n",
    "\"\"\"\n",
    "def solution(k, tangerine):\n",
    "    answer = 0\n",
    "    cnt_dict = {}\n",
    "    \n",
    "    for i in tangerine:\n",
    "        if i in cnt_dict:\n",
    "            cnt_dict[i]+=1\n",
    "        else:\n",
    "            cnt_dict[i]=1\n",
    "\n",
    "    cnt_dict = dict(sorted(cnt_dict.items(), key=lambda x: x[1], reverse=True))\n",
    "    #print(cnt_dict)\n",
    "    \n",
    "    for i in cnt_dict:\n",
    "        if k<=0:\n",
    "            return answer\n",
    "        answer += 1\n",
    "        k -= cnt_dict[i]\n",
    "        #print(k, cnt_dict[i])\n",
    "        \n",
    "    return answer"
   ]
  },
  {
   "cell_type": "markdown",
   "id": "24895c4c",
   "metadata": {},
   "source": [
    "#### <span style=\"color:blueviolet\"> 240511 호텔 대실 (1트 30분 실패) </span>"
   ]
  },
  {
   "cell_type": "code",
   "execution_count": 23,
   "id": "7c2805e6",
   "metadata": {},
   "outputs": [],
   "source": [
    "\"\"\"\n",
    "시각을 분으로 일괄 환산하는것까진 바로 했는데 어떻게 방 배정할지를 못 떠올렸음.\n",
    "다른 사람들은 힙을 썼던데 풀이를 봐도 모르겠음..\n",
    "\"\"\"\n",
    "def solution(book_time):\n",
    "    answer = 0\n",
    "    book_time.sort(key=lambda x: x[0])\n",
    "    #print(book_time)\n",
    "    \n",
    "    loop = len(book_time)\n",
    "    \n",
    "    list_room = []\n",
    "    for _ in range(loop):\n",
    "        list_room.append([])\n",
    "        \n",
    "    for idx in range(loop):\n",
    "        if idx == 0:\n",
    "            start = int(book_time[idx][0][:2])*60 + int(book_time[idx][0][3:])\n",
    "            end = int(book_time[idx][1][:2])*60 + int(book_time[idx][1][3:]) + 10\n",
    "            list_room[0] = [start, end]\n",
    "            print(start, end)\n",
    "            answer += 1\n",
    "        else:\n",
    "            start = int(book_time[idx][0][:2])*60 + int(book_time[idx][0][3:])\n",
    "            end = int(book_time[idx][1][:2])*60 + int(book_time[idx][1][3:]) + 10\n",
    "            print(start, end)\n",
    "            \n",
    "            for idx2 in range(0, idx):\n",
    "                if start >= list_room[idx2][-1]:\n",
    "                    print(\"if\")\n",
    "                    list_room[idx2][1]=end\n",
    "                    break\n",
    "                else:\n",
    "                    print(\"else\")\n",
    "                    if len(list_room[idx2])==0:\n",
    "                        list_room[idx2] = [start, end]\n",
    "                        answer += 1\n",
    "                    else:\n",
    "                        pass\n",
    "                \n",
    "        print(idx, list_room)\n",
    "        \n",
    "    return answer"
   ]
  },
  {
   "cell_type": "markdown",
   "id": "8d7b3c01",
   "metadata": {},
   "source": [
    "#### <span style=\"color:blueviolet\"> 240511 호텔 대실 (정답본) </span>"
   ]
  },
  {
   "cell_type": "code",
   "execution_count": 40,
   "id": "ec00d18f",
   "metadata": {},
   "outputs": [
    {
     "name": "stdout",
     "output_type": "stream",
     "text": [
      "1\n",
      "2\n",
      "3\n",
      "1\n",
      "2\n",
      "2\n",
      "3\n",
      "1\n",
      "2\n",
      "1\n",
      "2\n",
      "2\n"
     ]
    },
    {
     "data": {
      "text/plain": [
       "3"
      ]
     },
     "execution_count": 40,
     "metadata": {},
     "output_type": "execute_result"
    }
   ],
   "source": [
    "\"\"\"\n",
    "여러 정답 풀이 중 제일 이해가 되는 걸로 갖고 와봤는데 풀이설명3에서 else 부분이 동작 순서가 이해가 안됨.\n",
    "구조는 알겠는데 혼자 짜라고 하면 못할 것 같음.\n",
    "\n",
    "\"\"\"\n",
    "def solution(book_time):\n",
    "\n",
    "    # 풀이설명1 : 함수 만들기\n",
    "    def change_min(str_time: str) -> int:\n",
    "        return int(str_time[0:2]) * 60 + int(str_time[3:])\n",
    "\n",
    "    #풀이 설명2 : 예약 시간이 빠른 순으로 정렬하기\n",
    "    book_times = sorted([[change_min(i[0]), change_min(i[1]) + 10] for i in book_time])\n",
    "\n",
    "    #풀이 설명3 : 방 배정하기\n",
    "    rooms = []\n",
    "    for time in book_times:\n",
    "        if not rooms:\n",
    "            rooms.append(time)\n",
    "            continue\n",
    "        print(\"1\")\n",
    "        for idx, room in enumerate(rooms):\n",
    "            #print(idx, room)\n",
    "            if time[0] >= room[-1]:\n",
    "                rooms[idx] = room + time\n",
    "                break\n",
    "            print(\"2\")\n",
    "        else:\n",
    "            print(\"3\")\n",
    "            rooms.append(time)\n",
    "        #print(rooms)\n",
    "        \n",
    "    return len(rooms)\n",
    "\n",
    "solution([[\"15:00\", \"17:00\"], [\"16:40\", \"18:20\"], [\"14:20\", \"15:20\"], [\"14:10\", \"19:20\"], [\"18:20\", \"21:20\"]])"
   ]
  },
  {
   "cell_type": "markdown",
   "id": "250680c9",
   "metadata": {},
   "source": [
    "#### <span style=\"color:blueviolet\"> 요격 시스템 (1트, 10분 포기) </span>"
   ]
  },
  {
   "cell_type": "code",
   "execution_count": 2,
   "id": "689311ea",
   "metadata": {},
   "outputs": [],
   "source": [
    "\"\"\"\n",
    "다른 풀이를 보니 굳이 lambda를 안 써도 sort의 기준은 리스트의 첫 원소였음;;;\n",
    "\"\"\"\n",
    "def solution(targets):\n",
    "    answer = 0\n",
    "    \n",
    "    missile_list = []\n",
    "    for l in targets:\n",
    "        missile = list(range(l[0], l[-1]+1))\n",
    "        print(missile)\n",
    "        missile_list.append(missile)\n",
    "        \n",
    "    print()\n",
    "    missile_list = sorted(missile_list, key=lambda x:x[0])\n",
    "    print(missile_list)\n",
    "    \n",
    "    return answer"
   ]
  },
  {
   "cell_type": "markdown",
   "id": "f50792bb",
   "metadata": {},
   "source": [
    "#### <span style=\"color:blueviolet\"> 요격 시스템 (2트 정답 분석본) </span>"
   ]
  },
  {
   "cell_type": "code",
   "execution_count": null,
   "id": "b69e9b5b",
   "metadata": {},
   "outputs": [],
   "source": [
    "\"\"\"\n",
    "[[4, 5], [4, 8], [10, 14], [11, 13], [5, 12], [3, 7], [1, 4]]\n",
    "가 주어질 때 정렬하면 [s, e]순\n",
    "[[1, 4], [3, 7], [4, 5], [4, 8], [5, 12], [10, 14], [11, 13]]\n",
    "bound는 for문을 돌면서 계속 갱신되는 가장 큰 수를 뜻함.\n",
    "for문 순서대로 s와 bound를 묶어보면\n",
    "초기(0,0) ==> (1,4) -> (3,4) => (4,5) -> (4,5) => (5,12) -> (10,12) -> (11,12)\n",
    "\"\"\"\n",
    "def solution(targets):\n",
    "    answer = 0\n",
    "    bound = 0\n",
    "    #print(sorted(targets))\n",
    "    \n",
    "    for s, e in sorted(targets):\n",
    "        #print(f's:{s} e:{e}')\n",
    "        if s < bound:\n",
    "            #print(\"-if\")\n",
    "            bound = min(bound, e) # 핵심 포인트, 비교를 해서 더 작은 수로 bound 갱신\n",
    "        else:\n",
    "            #print('-else')\n",
    "            bound = e\n",
    "            answer += 1\n",
    "        #print(f'bound >> {bound}')\n",
    "        \n",
    "    return answer"
   ]
  },
  {
   "cell_type": "markdown",
   "id": "3d7d99ca",
   "metadata": {},
   "source": [
    "#### <span style=\"color:blueviolet\"> 240716 연속된 부분 수열의 합 (1트 포기, 25분) </span>"
   ]
  },
  {
   "cell_type": "code",
   "execution_count": null,
   "id": "ed0aa556",
   "metadata": {},
   "outputs": [],
   "source": [
    "\"\"\"\n",
    "숫자 리스트 사이에서 합이 k인 작은 연속 원소 수열을 찾는 문제인데,\n",
    "\"길이가 짧은 수열이 여러 개인 경우 앞쪽에 나온 수열을 찾으므로\" 에서 막힘 밑에 코드 !! 부분이 해당 경우 처리\n",
    "테스트 케이스에서도 많이 실패했음.\n",
    "\"\"\"\n",
    "def solution(sequence, k):\n",
    "    answer = []\n",
    "    length=len(sequence)\n",
    "    \n",
    "    if sequence[-1]==k:\n",
    "        answer.append(sequence.index(sequence[-1]))\n",
    "        answer.append(length-1)\n",
    "    \n",
    "    else:\n",
    "        for cnt in range(2, length+1):#부분 수열의 원소 개수: 2개부터 전체개수까지\n",
    "            for idx in range(0, length-cnt+1):\n",
    "                small_seq = sequence[idx:idx+cnt]\n",
    "                if sum(small_seq) == k:\n",
    "                    #print(small_seq)\n",
    "                    if len(set(small_seq)) == 1: # !!\n",
    "                        answer.append(sequence.index(small_seq[0]))\n",
    "                        answer.append(cnt-1)\n",
    "                    else:\n",
    "                        answer.append(sequence.index(small_seq[0]))\n",
    "                        answer.append(sequence.index(small_seq[1]))\n",
    "                    return answer\n",
    "    return answer"
   ]
  },
  {
   "cell_type": "markdown",
   "id": "a78234e7",
   "metadata": {},
   "source": [
    "#### <span style=\"color:blueviolet\"> 240717 연속된 부분 수열의 합 (2트 실패, 20분) </span>"
   ]
  },
  {
   "cell_type": "code",
   "execution_count": null,
   "id": "9863e194",
   "metadata": {},
   "outputs": [],
   "source": [
    "\"\"\"\n",
    "다른 풀이를 보고 혼자 힘으로 다시 풀어봄.\n",
    "그런데 테스트 케이스에서 시간 초과가 나서 실패.\n",
    "원리는 맞는듯한데 시간 초과가 나는 원인을 찾아봐야할 듯 함.\n",
    "=> 탐색 횟수를 최소화해야하는데 그 부분에서 부족했음. \n",
    "역순 이터레이션이나 투포인터 탐색을 좀 더 이용해보자\n",
    "\n",
    "\"\"\"\n",
    "def solution(sequence, k):\n",
    "    answer = []\n",
    "    idx_s = idx_e = 0 # start, end\n",
    "    length = len(sequence)\n",
    "        \n",
    "    for idx_s in range(length):\n",
    "        if sequence[idx_s]>k:\n",
    "            break\n",
    "        sum = 0\n",
    "        for idx_e in range(idx_s, length):\n",
    "            sum += sequence[idx_e]\n",
    "            if sum == k:\n",
    "                # 끝 인덱스에서 시작 인덱스를 뺀 수가 부분 수열의 원소 개수를 뜻함. \n",
    "                # 비교가 쉽게 작은 리스트의 맨 앞에 추가해서 answer 리스트에 추가해줌.\n",
    "                answer.append([idx_e-idx_s, idx_s, idx_e]) \n",
    "            if len(answer)>1:# 비교 대상이 있을때만\n",
    "                # 숫자가 더 적을때만, 같을때는 더 작은 시작 인덱스를 기준으로 해야하니 삭제X\n",
    "                if answer[1][0]<answer[0][0]: \n",
    "                    answer.pop(0)\n",
    "                break\n",
    "                \n",
    "    answer = answer[0][1:]\n",
    "    #print(answer)\n",
    "        \n",
    "    return answer"
   ]
  },
  {
   "cell_type": "markdown",
   "id": "7469ffd3",
   "metadata": {},
   "source": [
    "#### <span style=\"color:blueviolet\"> 240721 연속된 부분 수열의 합 (정답본) </span>"
   ]
  },
  {
   "cell_type": "code",
   "execution_count": null,
   "id": "c4fd0df7",
   "metadata": {},
   "outputs": [],
   "source": [
    "\"\"\"\n",
    "다른 풀이를 보고 이해해보려 했는데\n",
    "num==k를 충족했을 때 while문으로 수열 인덱스를 줄여나가는 부분이 완벽히 이해가 안 됨.\n",
    "혼자 힘으로 다시 풀어보려면 안될것 같음.\n",
    "\"\"\"\n",
    "def solution(sequence, k):\n",
    "    num = 0\n",
    "    \n",
    "    for i in range(len(sequence)-1, -1, -1):\n",
    "        num += sequence[i]\n",
    "        \n",
    "        if num > k:\n",
    "            num -= sequence.pop()\n",
    "            print(\">k\", sequence, sequence[i-1], sequence[-1], '|',  i)\n",
    "            \n",
    "            \n",
    "        if num == k:\n",
    "            print(\"==k\", sequence, sequence[i-1], sequence[-1], '|', i)\n",
    "            while sequence[i-1] == sequence[-1] and i>0:\n",
    "                print(\"While\", sequence, sequence[i-1], sequence[-1], '|', i)\n",
    "                i-=1\n",
    "                sequence.pop()\n",
    "            print(\"While Done\", sequence, sequence[i-1], sequence[-1], '|', i)\n",
    "            return [i, len(sequence)-1]\n",
    "            "
   ]
  },
  {
   "cell_type": "markdown",
   "id": "9691f650",
   "metadata": {},
   "source": [
    "#### <span style=\"color:blueviolet\"> 240721 두 원 사이의 정수 쌍 (1트 실패, 20분 소요) </span>"
   ]
  },
  {
   "cell_type": "code",
   "execution_count": null,
   "id": "8e04bbc2",
   "metadata": {},
   "outputs": [],
   "source": [
    "\"\"\"\n",
    "처음엔 좌표 그림을 보고 단순 카운트 계산식으로 풀어보려 했는데 실패했고,\n",
    "중복조합을 통해 삼각형의 빗변과 반지름을 이용해서 풀어보려 했는데 실패\n",
    "\"\"\"\n",
    "from itertools import combinations_with_replacement\n",
    "def solution(r1, r2):\n",
    "    answer = 8\n",
    "    \"\"\"\n",
    "    어차피 원이니까 4로 나눠서 생각하자\n",
    "    최외각1 \n",
    "    내각 1\n",
    "    2-3 사이엔 +3\n",
    "    1-3 사이엔 +5\n",
    "    (r2-r1)*3*4+4+4 이게 아니네\n",
    "    \"\"\"\n",
    "    for c in combinations_with_replacement(range(r2+1), 2):\n",
    "        x = c[0]\n",
    "        y = c[1]\n",
    "        r = x*y**0.5\n",
    "        if r>=r1:\n",
    "            answer+=4\n",
    "        \n",
    "    return answer"
   ]
  },
  {
   "cell_type": "markdown",
   "id": "8d99ffd5",
   "metadata": {},
   "source": [
    "#### <span style=\"color:blueviolet\"> 240722 과제 진행하기 (1트 포기, 40분 소요)</span>"
   ]
  },
  {
   "cell_type": "code",
   "execution_count": null,
   "id": "48218b7a",
   "metadata": {},
   "outputs": [],
   "source": [
    "\"\"\"\n",
    "아 거의 감은 다 잡았는데 이런식으로 끌고가면 안될듯 해서 깔끔하게 재도전 해보기로 함\n",
    "\"\"\"\n",
    "def time2min(start_time):\n",
    "    return int(start_time[:2])*60 + int(start_time[3:])\n",
    "\n",
    "def solution(plans):\n",
    "    finish = []\n",
    "    unfinish = plans\n",
    "    idx = 0\n",
    "    now_min = time2min(plans[0][1])\n",
    "    \n",
    "    while (len(unfinish)>0):        \n",
    "        name = plans[idx][0]\n",
    "        start_time = plans[idx][1]\n",
    "        start_min = time2min(start_time)\n",
    "        playtime = int(plans[idx][2])\n",
    "        #print(name, start_min, playtime)\n",
    "\n",
    "        while(len(unfinish) !=0 and now_min < start_min):\n",
    "            unfinish[0][1] -= (start_min-now_min)\n",
    "            if unfinish[0][1] == 0:\n",
    "                del unfinish[0]\n",
    "            print(\"멈춘것처리\", unfinish)\n",
    "\n",
    "        if start_min <= time2min(plans[idx+1][1]):\n",
    "            finish.append(name)\n",
    "            del unfinish[0]\n",
    "            print(\"과제 완료\", finish)\n",
    "            now_min+=playtime\n",
    "        else:\n",
    "            unfinish.append([name, time2min(plans[idx+1][1])-start_min])\n",
    "            print(\"과제 멈춤\", unfinish)\n",
    "            now_min += (time2min(plans[idx+1][1])-start_min)\n",
    "        \n",
    "        print(\"현재시간\", now_min)\n",
    "        idx+=1\n",
    "\n",
    "    \n",
    "    return finish"
   ]
  },
  {
   "cell_type": "markdown",
   "id": "dce99c90",
   "metadata": {},
   "source": [
    "#### <span style=\"color:blueviolet\"> 240722 과제 진행하기 (2트 포기)</span>"
   ]
  },
  {
   "cell_type": "code",
   "execution_count": null,
   "id": "3a16d1de",
   "metadata": {},
   "outputs": [],
   "source": [
    "\"\"\"\n",
    "이걸로 이해해보자\n",
    "\"\"\"\n",
    "def solution(plans):\n",
    "    stack = []\n",
    "    answer = []\n",
    "    \n",
    "    for i in range(len(plans)):\n",
    "        h, m = map(int, plans[i][1].split(':'))\n",
    "        plans[i][1] = h*60 + m\n",
    "        plans[i][2] = int(plans[i][2])\n",
    "    plans.sort(key=lambda x: x[1])\n",
    "    for i in range(len(plans)-1):\n",
    "        stack.append([plans[i][0], plans[i][2]])\n",
    "        gap = plans[i+1][1] - plans[i][1]\n",
    "        while stack and gap:\n",
    "            if stack[-1][1] <= gap:\n",
    "                cn, ct = stack.pop()\n",
    "                gap -= ct\n",
    "                answer.append(cn)\n",
    "            else:\n",
    "                stack[-1][1] -= gap\n",
    "                gap = 0\n",
    "    answer.append(plans[-1][0])\n",
    "    for i in range(len(stack)):\n",
    "        answer.append(stack[~i][0])\n",
    "        \n",
    "    return answer"
   ]
  },
  {
   "cell_type": "markdown",
   "id": "d093a68a",
   "metadata": {},
   "source": [
    "#### <span style=\"color:blueviolet\"> 240729 카펫 (1트 실패, 19분 소요)</span>"
   ]
  },
  {
   "cell_type": "code",
   "execution_count": null,
   "id": "f46fb0f6",
   "metadata": {},
   "outputs": [],
   "source": [
    "\"\"\"\n",
    "테스트케이스에서 걸림\n",
    "조건을 뭘 많이 걸어보긴했는데 전체 칸수만 세고, 실제로 직사각형 카펫구조가 되는지를 검사를 못함.\n",
    "\"\"\"\n",
    "def solution(brown, yellow):\n",
    "    answer = []\n",
    "\n",
    "    by = brown + yellow\n",
    "    \n",
    "    for width in range(3, brown):\n",
    "        if by%width==0:\n",
    "            for height in range(3, brown):\n",
    "                if width*height==by and width>=height:\n",
    "                    if width==height:\n",
    "                        if yellow%3==0 or yellow==1:\n",
    "                            answer = [width, height]\n",
    "                            return answer\n",
    "                    elif width!=height:\n",
    "                        answer = [width, height]\n",
    "                        return answer"
   ]
  },
  {
   "cell_type": "markdown",
   "id": "d4ce674f",
   "metadata": {},
   "source": [
    "#### <span style=\"color:blueviolet\"> 240729 카펫 (2트 성공, 금방 픽스함)</span>"
   ]
  },
  {
   "cell_type": "code",
   "execution_count": null,
   "id": "369e66ac",
   "metadata": {},
   "outputs": [],
   "source": [
    "\"\"\"\n",
    "사실 위의 1트도 원안은 심플했는데 테스트 케이스 극복해보려다 이것저것 조건이 더붙은 지저분한 결과였음.\n",
    "내가 갈색 타일이 여러겹인걸 고려해서 짠 코드였는데 갈색 타일은 1줄 뿐이라 사실은 쉬운 거였음...\n",
    "(width-2)*(height-2) 하면 바로 내부 노랑칸의 넓이가 나오는데...\n",
    "\"\"\"\n",
    "def solution(brown, yellow):\n",
    "    answer = []\n",
    "\n",
    "    by_sum = brown + yellow\n",
    "\n",
    "    for width in range(3, brown//2):\n",
    "        if by_sum%width==0:\n",
    "            for height in range(3, brown//2):\n",
    "                if width*height==by_sum and width>=height and (width-2)*(height-2)==yellow:\n",
    "                    answer = [width, height]\n",
    "                    return answer"
   ]
  },
  {
   "cell_type": "markdown",
   "id": "80988941",
   "metadata": {},
   "source": [
    "#### <span style=\"color:blueviolet\"> 240730 숫자 블록 (1트 실패, 15분 소요)</span>"
   ]
  },
  {
   "cell_type": "code",
   "execution_count": null,
   "id": "d2eeafcd",
   "metadata": {},
   "outputs": [],
   "source": [
    "\"\"\"\n",
    "문제가 개정된 이후로 설명이 좀 부족하기도 하고,\n",
    "제출할때까지만 해도 완벽하다 생각했는데, 다 틀렸음.\n",
    "\"\"\"\n",
    "def solution(begin, end):\n",
    "    dic = {n:1 for n in range(begin, end+1)}\n",
    "    dic[begin]=0\n",
    "    #print(dic)\n",
    "    \n",
    "    for n in range(begin+1, end+1):\n",
    "        square = (end+1)//n\n",
    "        if square >= begin+1:\n",
    "            for n2 in range(begin+1, square+1):\n",
    "                dic[n*n2]=n\n",
    "            #print(dic.values(), '\\n')\n",
    "        else:\n",
    "            break\n",
    "    \n",
    "    return list(dic.values())"
   ]
  },
  {
   "cell_type": "markdown",
   "id": "6c42aff3",
   "metadata": {},
   "source": [
    "#### <span style=\"color:blueviolet\"> 240802 행렬의 곱셈 (1트 포기)</span>"
   ]
  },
  {
   "cell_type": "code",
   "execution_count": null,
   "id": "14a34141",
   "metadata": {},
   "outputs": [],
   "source": [
    "\"\"\"\n",
    "for문이 계속 늘어나다가 풀릴 기미가 안 보여서 포기함\n",
    "\"\"\""
   ]
  },
  {
   "cell_type": "markdown",
   "id": "55d674b7",
   "metadata": {},
   "source": [
    "#### <span style=\"color:blueviolet\"> 240802 행렬의 곱셈 (답안)</span>"
   ]
  },
  {
   "cell_type": "code",
   "execution_count": null,
   "id": "8e8224eb",
   "metadata": {},
   "outputs": [],
   "source": [
    "\"\"\"\n",
    "미리 정답 행렬을 예상 크기만큼 만들어놓고 해당 인덱스에 채워넣는 3중 for문 구조\n",
    "\"\"\"\n",
    "def solution(arr1, arr2):\n",
    "    answer = [[0]*len(arr2[0]) for _ in range(len(arr1))]\n",
    "    #print(answer)\n",
    "    \n",
    "    for i in range(len(arr1)): \n",
    "        lists = []\n",
    "        for j in range(len(arr2[0])): \n",
    "            for k in range(len(arr1[0])): \n",
    "                answer[i][j] += arr1[i][k] * arr2[k][j]\n",
    "                \n",
    "    return answer"
   ]
  },
  {
   "cell_type": "markdown",
   "id": "a1088dfc",
   "metadata": {},
   "source": [
    "#### <span style=\"color:blueviolet\"> 240802 행렬의 곱셈 (혼자 풀어봄)</span>"
   ]
  },
  {
   "cell_type": "code",
   "execution_count": null,
   "id": "daf06067",
   "metadata": {},
   "outputs": [],
   "source": [
    "\"\"\"\n",
    "3중 인덱스에서 살짝 꼬였었음. 아마 행렬연산을 날것의 코드로 구현하려다보니 그랬나봄.\n",
    "== 수학 실력\n",
    "\"\"\"\n",
    "def solution(arr1, arr2):\n",
    "    answer = [[0]*len(arr2[0]) for _ in range(len(arr1))]\n",
    "    #print(answer)\n",
    "    \n",
    "    for idx1 in range(len(arr1)):\n",
    "        for idx2 in range(len(arr2[0])):\n",
    "            for idx3 in range(len(arr1[0])):\n",
    "                answer[idx1][idx2] += arr1[idx1][idx3] * arr2[idx3][idx2]\n",
    "        \n",
    "    return answer"
   ]
  },
  {
   "cell_type": "markdown",
   "id": "23d0c992",
   "metadata": {},
   "source": [
    "#### <span style=\"color:blueviolet\"> 240731 가장 큰 정사각형 찾기 (1트 포기)</span>"
   ]
  },
  {
   "cell_type": "code",
   "execution_count": null,
   "id": "c8c4fd7e",
   "metadata": {},
   "outputs": [],
   "source": [
    "\"\"\"\n",
    "도저히 알고리즘 방향이 잡히질 않아서 풀다가 포기.\n",
    "다른 풀이를 보니 동적프로그래밍을 사용해야 한다는데 이 유형은 이론을 좀 더 공부하고 풀어야 할듯함.\n",
    "\"\"\""
   ]
  },
  {
   "cell_type": "markdown",
   "id": "2e52dbc8",
   "metadata": {},
   "source": [
    "#### <span style=\"color:blueviolet\"> 240805 디펜스 게임 (1트 포기, 15분 소요)</span>"
   ]
  },
  {
   "cell_type": "code",
   "execution_count": null,
   "id": "417b2694",
   "metadata": {},
   "outputs": [],
   "source": [
    "\"\"\"\n",
    "틀릴건 알았지만 num>man//2라는 단순 크기 비교 조건을 넣어봤는데 테스트 케이스에서 거의 다 틀렸음.\n",
    "각 원소들 혹은 인덱스에 스킬을 써서 최대의 결과를 찾아야 하는데 그 방법을 찾지 못함.\n",
    "\"\"\"\n",
    "def solution(man, skill, enemy):\n",
    "    answer = 0\n",
    "    \n",
    "    if skill == len(enemy):\n",
    "        return len(enemy)\n",
    "        \n",
    "    \"\"\"\n",
    "    else:\n",
    "        for num in enemy:\n",
    "            if num>man//2 and skill!=0:\n",
    "                answer += 1\n",
    "                skill -= 1\n",
    "            else:\n",
    "                answer += 1\n",
    "                man -= num\n",
    "                if man<=0:\n",
    "                    break\n",
    "                    \"\"\"\n",
    "    return answer-1"
   ]
  },
  {
   "cell_type": "markdown",
   "id": "7b36802c",
   "metadata": {},
   "source": [
    "#### <span style=\"color:blueviolet\"> 240805 디펜스 게임 (답안)</span>"
   ]
  },
  {
   "cell_type": "code",
   "execution_count": 1,
   "id": "de45f30e",
   "metadata": {},
   "outputs": [
    {
     "name": "stdout",
     "output_type": "stream",
     "text": [
      "push [4]\n",
      "push [2, 4]\n",
      "push [2, 4, 4]\n",
      "push [2, 4, 4, 5]\n",
      "last 2\n",
      "push [3, 4, 5, 4]\n",
      "last 3\n",
      "push [3, 4, 5, 4]\n",
      "last 3\n"
     ]
    },
    {
     "data": {
      "text/plain": [
       "5"
      ]
     },
     "execution_count": 1,
     "metadata": {},
     "output_type": "execute_result"
    }
   ],
   "source": [
    "\"\"\"\n",
    "heap을 써서 처리하는 방법임.\n",
    "enemy 리스트의 원소들을 순차대로 heap에 넣다가 n의 크기를 넘어서면\n",
    "이후엔 heap의 가장 작은 원소를 n과 비교해 치환하고 마지막에 last를 빼줌.\n",
    "이때 heap이 가지는 의미는 순차대로 enemy를 돌면서 처리할 수 있는 라운드의 적들임, \n",
    "heap에서 가장 작은 원소를 k와 비교한다고 문제 설명과 혼동해서 'round의 적 수가 적은데 왜 무적권을 쓰지?'라고 생각하면 안됨.\n",
    "\"\"\"\n",
    "from heapq import heappush, heappop\n",
    "\n",
    "def solution(n, k, enemy):\n",
    "    stage = len(enemy)\n",
    "    if k >= stage :\n",
    "        return stage\n",
    "    q = []\n",
    "    \n",
    "    for i in range(stage) :\n",
    "        heappush(q, enemy[i])\n",
    "        print('push', q)\n",
    "        if len(q) > k :\n",
    "            last = heappop(q)\n",
    "            print('last', last)\n",
    "            if last > n :\n",
    "                return i\n",
    "            n -= last\n",
    "        \n",
    "    return stage\n",
    "\n",
    "solution(7, 3, [4, 2, 4, 5, 3, 3, 1])\n",
    "# 정답 = 5"
   ]
  },
  {
   "cell_type": "markdown",
   "id": "a9b208e7",
   "metadata": {},
   "source": [
    "#### <span style=\"color:blueviolet\"> 240805 디펜스 게임 (2트 성공, 15분 소요)</span>"
   ]
  },
  {
   "cell_type": "code",
   "execution_count": null,
   "id": "efb9321d",
   "metadata": {},
   "outputs": [],
   "source": [
    "\"\"\"\n",
    "else 안에서 stage는 enemy 리스트의 인덱스로도 사용하고, 동시에 최종 return 스테이지 카운트로도 사용하는데\n",
    "if judge>n의 경우 조건을 벗어나니 stage 그대로 return 해도 되지만(-1해주는 셈)\n",
    "해당 조건에 안 걸리고 for문을 다 돌았을 때 return을 stage 그대로 하면 0부터 시작되기 때문에 stage를 세려면\n",
    "1을 더해줘야 함.\n",
    "\"\"\"\n",
    "from heapq import heappush, heappop\n",
    "\n",
    "def solution(n, k, enemy):\n",
    "    max_stage = len(enemy)\n",
    "    \n",
    "    if k>=max_stage:\n",
    "        return max_stage\n",
    "    else:\n",
    "        Q = []\n",
    "        for stage in range(max_stage):\n",
    "            heappush(Q, enemy[stage])\n",
    "            #print(Q)\n",
    "            if len(Q)>k:\n",
    "                judge = heappop(Q)\n",
    "                if judge>n:\n",
    "                    return stage\n",
    "                n -= judge\n",
    "                \n",
    "        return stage+1"
   ]
  },
  {
   "cell_type": "markdown",
   "id": "8ae319aa",
   "metadata": {},
   "source": [
    "#### <span style=\"color:blueviolet\"> 240806 2 x n 타일링 (1트 실패, 15분 소요)</span>"
   ]
  },
  {
   "cell_type": "code",
   "execution_count": null,
   "id": "aad6c3d4",
   "metadata": {},
   "outputs": [],
   "source": [
    "\"\"\"\n",
    "어느 정도 칸의 수에 따른 배치 경우의 수가 정해져있으니, 작은 수들은 크기만 비교해서 바로 return하고,\n",
    "큰 수들은 나눠지는 수들로 각각 더해주면 될 줄 알았는데 테스트케이스 다 실패했음.\n",
    "\"\"\"\n",
    "def solution(n):\n",
    "    answer = 0\n",
    "    \n",
    "    if n<2:\n",
    "        return 0%1000000007\n",
    "    elif n>=2 and n<3:\n",
    "        return 1%1000000007\n",
    "    elif n>=3 and n<4:\n",
    "        return 2%1000000007\n",
    "    elif n>=4 and n<5:\n",
    "        return 5%1000000007\n",
    "    elif n>=5 and n<6:\n",
    "        return 10%1000000007\n",
    "    else:\n",
    "        if n/2==0:\n",
    "            answer += (n/2)*1\n",
    "        if n/3==0:\n",
    "            answer += (n/3)*2\n",
    "        if n/4==0:\n",
    "            answer += (n/4)*5\n",
    "        if n/5==0:\n",
    "            answer += (n/5)*10\n",
    "        return answer%1000000007"
   ]
  },
  {
   "cell_type": "markdown",
   "id": "fbdb9abe",
   "metadata": {},
   "source": [
    "#### <span style=\"color:blueviolet\"> 240806 2 x n 타일링 (답안과 설명)</span>"
   ]
  },
  {
   "cell_type": "code",
   "execution_count": null,
   "id": "14783ee5",
   "metadata": {},
   "outputs": [],
   "source": [
    "\"\"\"\n",
    "타일 크기는 2x1이기 때문에 결국 가로길이인 n에서 1과 2를 조합한 경우의 수를 구하는 문제나 마찬가지이다.\n",
    "\n",
    "n=0인 경우는 타일을 배치할 수는 없지만 경우의 수로 따졌을 때는 타일이 0개 배치된 한 가지 방법이 있다.\n",
    "n=1인 경우는 타일을 세로로 배치하는 한 가지 방법밖에 없다.\n",
    "\n",
    "n=2는 가로와 세로 배치가 모두 가능한데, \n",
    "세로배치 같은 경우는 n=1의 경우에 새로운 타일을 세로로 배치하는 한 가지가 있고 \n",
    "가로배치는 가로길이 2칸을 차지해야 하기 때문에 n=0의 경우에 가로배치하는 한 가지 경우가 있어서 \n",
    "n=2는 총 두 가지 경우의 수가 있다.\n",
    "\n",
    "여기서 규칙을 발견할 수 있는데\n",
    "n의 경우의 수는 곧 n-1이었던 모든 경우에 세로로 타일을 배치하는 경우의 수와 n-2의 모든 경우에 가로로 타일을 배치하는 경우의 수를 더한 값이다.\n",
    "\"\"\"\n",
    "def solution(n):\n",
    "    answer = 0\n",
    "    devine = 1000000007\n",
    "    \n",
    "    dp = [0] * (n+1)\n",
    "    \n",
    "    dp[0] = 1\n",
    "    dp[1] = 1\n",
    "    \n",
    "    for i in range(2, n+1):\n",
    "        dp[i] = (dp[i-2] + dp[i-1]) % devine\n",
    "    \n",
    "    return dp[n]"
   ]
  },
  {
   "cell_type": "markdown",
   "id": "b558d595",
   "metadata": {},
   "source": [
    "#### <span style=\"color:blueviolet\"> 240806 2 x n 타일링 (쉬운 풀이)</span>"
   ]
  },
  {
   "cell_type": "code",
   "execution_count": null,
   "id": "e3df18da",
   "metadata": {},
   "outputs": [],
   "source": [
    "\"\"\"\n",
    "위에서 복잡하게 메모리제이션 기법도 쓰고 어렵게 말은 했지만\n",
    "사실상 피보나치 수열을 찾아내는 기법이고, 아래와 같이 편하게 구현 가능, 효율성도 통과했음.\n",
    "\"\"\"\n",
    "def solution(n):\n",
    "    cnt1=1\n",
    "    cnt2=2\n",
    "    \n",
    "    if n==1:\n",
    "        return cnt1\n",
    "    elif n==2:\n",
    "        return cnt2\n",
    "    \n",
    "    for _ in range(n-2):\n",
    "        temp=cnt1\n",
    "        cnt1=cnt2\n",
    "        cnt2=cnt1+temp\n",
    "        #print(temp, cnt1, cnt2)\n",
    "\n",
    "    return cnt2%1000000007"
   ]
  },
  {
   "cell_type": "markdown",
   "id": "5babc807",
   "metadata": {},
   "source": [
    "#### <span style=\"color:blueviolet\"> 240807 당구 연습 (1트 실패, 15분 소요)</span>"
   ]
  },
  {
   "cell_type": "code",
   "execution_count": null,
   "id": "0cf63ac4",
   "metadata": {},
   "outputs": [],
   "source": [
    "\"\"\"\n",
    "수학적으로 접근해보긴 했으나, 예제에서 거리가 계산과 안 맞기도 하고, 내가 생각한 방식을 구현하려면\n",
    "현재 점과 다음 위치 점의 좌표가 어느 벽에 가까운지를 비교해야 하기때문에 너무 복잡해짐.\n",
    "\"\"\"\n",
    "def solution(m, n, startX, startY, balls):\n",
    "    answer = []\n",
    "    point = [startX, startY]\n",
    "    \"\"\"\n",
    "    두 점 사이 이동거리가 벽을 찍고 이동하는 거리는 벽 사이 거리가 동일할 때, 각도가 어떻게 변하든 같다.\n",
    "    시작점이 0쪽에 가깝냐, 최대거리 쪽에 가깝냐... 이걸 따져야 하나?\n",
    "    \n",
    "    구할건 시작점과 벽 사이 거리 + 처음 벽에 튕기는 지점부터 다음 점까지 거리\n",
    "    \"\"\"\n",
    "    \n",
    "    return answer"
   ]
  },
  {
   "cell_type": "markdown",
   "id": "98e34d90",
   "metadata": {},
   "source": [
    "#### <span style=\"color:blueviolet\"> 240807 당구 연습 (답안)</span>"
   ]
  },
  {
   "cell_type": "code",
   "execution_count": null,
   "id": "d7807607",
   "metadata": {},
   "outputs": [],
   "source": [
    "\"\"\"\n",
    "각 면에서 거울처럼 대칭을 시켜서 확장한 뒤에 거리 개념으로 접근한 풀이\n",
    "출발점과 도착점의 위치 비교에 따라 가능한지 체크하고, if단에서 불가능한 거리조건이면 m제곱과 n제곱의 합으로 \n",
    "순위를 뒤로 보내버리는것.(min값을 채택하기 때문)\n",
    "\"\"\"\n",
    "def solution(m, n, startX, startY, balls):\n",
    "    answer = []\n",
    "    max_dist = m**2 + n**2\n",
    "    for i in balls :\n",
    "        x, y = i[0], i[1]\n",
    "        a = (startX-x)**2 + (startY-(y+(n-y)*2))**2\n",
    "        b = (startX+x)**2 + (startY-y)**2\n",
    "        c = (startX-x)**2 + (startY+y)**2\n",
    "        d = (startX-(x+(m-x)*2))**2 + (startY-y)**2\n",
    "        print(a,b,c,d)\n",
    "        \n",
    "        if startY == y and x < startX:\n",
    "            b = max_dist\n",
    "        if startX == x and y < startY:\n",
    "            c = max_dist\n",
    "        if startY == y and x > startX :\n",
    "            d = max_dist\n",
    "        if startX == x and y > startY :\n",
    "            a = max_dist\n",
    "        print(a,b,c,d)\n",
    "        answer.append(min(a,b,c,d))\n",
    "        \n",
    "    return answer"
   ]
  },
  {
   "cell_type": "markdown",
   "id": "38140df9",
   "metadata": {},
   "source": [
    "#### <span style=\"color:blueviolet\"> 240811 할인 행사 (1트 실패, 20분 소요)</span>"
   ]
  },
  {
   "cell_type": "code",
   "execution_count": null,
   "id": "d4ded6ef",
   "metadata": {},
   "outputs": [],
   "source": [
    "\"\"\"\n",
    "테스트 케이스에서 거의 다 틀림.\n",
    "발상은 맞는것 같은데 어디서 틀린건지 모르겠음.\n",
    "\"\"\"\n",
    "def solution(want, number, discount):\n",
    "    answer = 0\n",
    "    \n",
    "    want_dict = dict(zip(want, number))\n",
    "    \n",
    "    want_len = len(want)\n",
    "    dc_len = len(discount)\n",
    "    \n",
    "    for idx in range(want_len):\n",
    "        match_cnt = 0\n",
    "        for merch in want:\n",
    "            if idx<dc_len-10:\n",
    "                if discount[idx:idx+10].count(merch) >= want_dict[merch]:\n",
    "                    match_cnt+=1\n",
    "            else:\n",
    "                if discount[idx:dc_len].count(merch) >= want_dict[merch]:\n",
    "                    match_cnt+=1\n",
    "                \n",
    "        if match_cnt == want_len:\n",
    "            answer+=1\n",
    "            \n",
    "    return answer"
   ]
  },
  {
   "cell_type": "markdown",
   "id": "51bba6d6",
   "metadata": {},
   "source": [
    "#### <span style=\"color:blueviolet\"> 240811 할인 행사 (2트 성공, 5분 소요)</span>"
   ]
  },
  {
   "cell_type": "code",
   "execution_count": null,
   "id": "72cc2430",
   "metadata": {},
   "outputs": [],
   "source": [
    "\"\"\"\n",
    "전에도 겪은 문제인데 dictionary 만들때 단순히 zip해서 dict로 만들면 원하는대로 동작 안 하는 경우가 있음...\n",
    "\"\"\"\n",
    "from collections import Counter\n",
    "\n",
    "def solution(want, number, discount):\n",
    "    answer = 0\n",
    "    dic = {k:v for k,v in zip(want, number)}\n",
    "    dic2 = dict(zip(want, number))\n",
    "    #print(dic)\n",
    "    #print(dic2)\n",
    "    for i in range(len(discount)):\n",
    "        if dic == Counter(discount[i:i+10]):\n",
    "            answer += 1\n",
    "\n",
    "    return answer"
   ]
  },
  {
   "cell_type": "markdown",
   "id": "5fdf3b8a",
   "metadata": {},
   "source": [
    "#### <span style=\"color:blueviolet\"> 240812 택배상자 (1트 실패, 18분 소요)</span>"
   ]
  },
  {
   "cell_type": "code",
   "execution_count": null,
   "id": "758867e7",
   "metadata": {},
   "outputs": [],
   "source": [
    "\"\"\"\n",
    "순서대로 인덱스 비교해서 맞는 인덱스일때만 넣는걸로 구현했는데\n",
    "역순으로 했을때 정렬한것과 같으면 바로 리턴하도록 한게 잘 안먹히나 봄..\n",
    "답안을 봤더니 원리는 비슷한데 사소한 구현이 차이가 있나봄.\n",
    "\"\"\"\n",
    "def solution(order):\n",
    "    answer = 0\n",
    "    sub = []\n",
    "    if sorted(order, reverse=True) == order:\n",
    "        return len(order)\n",
    "    \n",
    "    for idx, e in zip(range(1, len(order)+1), order):\n",
    "        if idx == e:\n",
    "            answer+=1\n",
    "        else:\n",
    "            if len(sub)!=0:\n",
    "                if idx == sub[0]:\n",
    "                    answer += 1\n",
    "                    del sub[0]\n",
    "                else:\n",
    "                    sub.append(e)\n",
    "                    #print(sub)\n",
    "            else:\n",
    "                sub.append(e)\n",
    "                #print(sub)\n",
    "        \n",
    "    return answer"
   ]
  },
  {
   "cell_type": "markdown",
   "id": "a403544c",
   "metadata": {},
   "source": [
    "#### <span style=\"color:blueviolet\"> 240812 택배상자 (정답분석본)</span>"
   ]
  },
  {
   "cell_type": "code",
   "execution_count": null,
   "id": "7ee3e40d",
   "metadata": {},
   "outputs": [],
   "source": [
    "def solution(order):\n",
    "    sub = []\n",
    "    truck_insert = 1\n",
    "    idx = 0\n",
    "    \n",
    "    while idx < len(order):\n",
    "        print('-Work')\n",
    "        if order[idx] == truck_insert:\n",
    "            print('  if')\n",
    "            truck_insert += 1\n",
    "            idx += 1\n",
    "        elif len(sub) > 0 and order[idx] == sub[-1]:\n",
    "            print('  elif', sub, sub[-1])\n",
    "            sub.pop()\n",
    "            idx += 1\n",
    "        else:\n",
    "            print('  else')\n",
    "            if truck_insert <= len(order):\n",
    "                sub.append(truck_insert)\n",
    "                truck_insert += 1\n",
    "            else:\n",
    "                print('    Break!')\n",
    "                break\n",
    "        print('-Done', truck_insert, idx, sub, '\\n')\n",
    "        \n",
    "    return idx"
   ]
  },
  {
   "cell_type": "markdown",
   "id": "1eb7363f",
   "metadata": {},
   "source": [
    "#### <span style=\"color:blueviolet\"> 240813 연속 부분 수열 합의 개수 (1트 성공, 19분 소요)</span>"
   ]
  },
  {
   "cell_type": "code",
   "execution_count": null,
   "id": "3ff6f536",
   "metadata": {},
   "outputs": [],
   "source": [
    "\"\"\"\n",
    "원형 리스트로 표현했을 때, 길이별 연속된 부분 수열(=작은 리스트)의 합들의 서로 다른 개수를 구하는 문제\n",
    "원형 리스트의 연결은 인덱스로 해결했고, (마지막 인덱스는 예상과 달라서 조금 점검 시간이 걸리긴 했음)\n",
    "주어진 리스트의 전체 길이를 이용할 일이 중복으로 몇번 있어서 처음에 변수에 저장해두고, len()함수 소요 시간을 줄임.\n",
    "깔끔하게 한방에 풀어서 기분 좋음!\n",
    "\"\"\"\n",
    "def solution(elements):\n",
    "    answer = 0\n",
    "    max_len = len(elements)\n",
    "    plus = []\n",
    "    \n",
    "    for length in range(1, max_len+1):\n",
    "        for idx in range(max_len):\n",
    "            if idx+length>max_len:\n",
    "                #if idx==4:\n",
    "                    #print('last', idx, idx+length, elements[idx:], idx+length-max_len, elements[:idx+length-max_len])\n",
    "                plus.append(sum(elements[idx:])+sum(elements[:idx+length-max_len]))\n",
    "            else:\n",
    "                plus.append(sum(elements[idx:idx+length]))\n",
    "    #print(list(set(plus)))\n",
    "    answer += len(list(set(plus)))\n",
    "    return answer"
   ]
  }
 ],
 "metadata": {
  "colab": {
   "provenance": [],
   "toc_visible": true
  },
  "kernelspec": {
   "display_name": "Python 3 (ipykernel)",
   "language": "python",
   "name": "python3"
  },
  "language_info": {
   "codemirror_mode": {
    "name": "ipython",
    "version": 3
   },
   "file_extension": ".py",
   "mimetype": "text/x-python",
   "name": "python",
   "nbconvert_exporter": "python",
   "pygments_lexer": "ipython3",
   "version": "3.9.12"
  }
 },
 "nbformat": 4,
 "nbformat_minor": 5
}
