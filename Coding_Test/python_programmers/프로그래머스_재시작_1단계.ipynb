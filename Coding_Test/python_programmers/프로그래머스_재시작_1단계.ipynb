{
 "cells": [
  {
   "cell_type": "markdown",
   "id": "3be78130",
   "metadata": {
    "id": "3be78130"
   },
   "source": [
    "# 코테 재시작"
   ]
  },
  {
   "cell_type": "markdown",
   "id": "c0b41d13",
   "metadata": {
    "id": "c0b41d13"
   },
   "source": [
    "# -------------------- <1단계> --------------------"
   ]
  },
  {
   "cell_type": "markdown",
   "id": "26412841",
   "metadata": {
    "id": "26412841"
   },
   "source": [
    "#### 240213 달리기 경주 (다시 코테 시작, 20분 타임아웃)"
   ]
  },
  {
   "cell_type": "code",
   "execution_count": null,
   "id": "d5e7fda6",
   "metadata": {
    "id": "d5e7fda6"
   },
   "outputs": [],
   "source": [
    "\"\"\"\n",
    "리스트 쓰는 법부터 다 까먹었음. 머리로 구상은 다 됐는데 구현이 안 되는 상황.\n",
    "※ list.pop() 함수를 사용하면 맨 끝 인덱스 원소를 삭제한다.\n",
    "\"\"\"\n",
    "def solution(players, callings):\n",
    "    for called_name in callings:\n",
    "        now_index = players.index(called_name)\n",
    "\n",
    "        # 추월을 하게 되면 항상 인덱스가 큰 숫자에서 작은 숫자 방향으로 가기 때문에 빼기 연산이 문제가 없음.\n",
    "        del players[now_index] # 추월 예정인 원소 삭제\n",
    "\n",
    "        overtake_index = now_index-1\n",
    "        players.insert(overtake_index, called_name) # 추월 대상 원소의 위치에 삽입하면 자동으로 해당 원소는 뒤로 밀림.\n",
    "\n",
    "    answer = players\n",
    "    return answer"
   ]
  },
  {
   "cell_type": "markdown",
   "id": "f0a415ed",
   "metadata": {
    "id": "f0a415ed"
   },
   "source": [
    "#### 240213 달리기 경주 (힌트 보고 2트)"
   ]
  },
  {
   "cell_type": "code",
   "execution_count": null,
   "id": "562acdbe",
   "metadata": {
    "id": "562acdbe",
    "outputId": "7d804e9c-74a3-4b4c-d85c-60b832d104c7"
   },
   "outputs": [
    {
     "data": {
      "text/plain": [
       "['mumu', 'kai', 'mine', 'soe', 'poe']"
      ]
     },
     "execution_count": 15,
     "metadata": {},
     "output_type": "execute_result"
    }
   ],
   "source": [
    "\"\"\"\n",
    "list index는 그 탐색 자체만으로 이미 루프임. 따라서 dictionary 주소로 찾는게 빠르다고 함.\n",
    "그러면 dict 사용법을 다시 살펴볼까..\n",
    "\n",
    "※ range 함수는 자체로 list를 생성한다.\n",
    "\n",
    "※ 파이썬의 swap 함수를 사용하면 간단히 두 변수의 값을 스왑할 수 있다.\n",
    "\"\"\"\n",
    "\n",
    "def solution(players, callings):\n",
    "    dict_players = dict(zip(players, range(len(players))))\n",
    "    # 값 : 키 순으로 배치, 이름의 순번을 바꿔야하기 때문에 편의성 고려\n",
    "\n",
    "    \"\"\"\n",
    "    callings의 값(=이름)으로 딕셔너리에서 검색\n",
    "    -> 해당 이름의 인덱스(=키) 추출, 저장\n",
    "    -> 해당 이름의 인덱스 -1을 키로 가지는 원소의 인덱스 +1 연산\n",
    "    -> 이름값은 변하지 않으니 해당 이름의 원소 인덱스 -1 연산 실행\n",
    "    -> 딕셔너리 내부에서 키와 밸류 정리 완료.\n",
    "    -> 원본 리스트에서 딕셔너리의 키를 사용해 자리 swap\n",
    "    \"\"\"\n",
    "\n",
    "    for call in callings:\n",
    "        called_idx = dict_players[call]\n",
    "        dict_players[players[called_idx-1]] += 1\n",
    "        dict_players[call] -= 1\n",
    "\n",
    "        players[called_idx-1], players[called_idx] = players[called_idx], players[called_idx-1]\n",
    "\n",
    "    answer = players\n",
    "    return answer\n",
    "\n",
    "solution([\"mumu\", \"soe\", \"poe\", \"kai\", \"mine\"], [\"kai\", \"kai\", \"mine\", \"mine\"])"
   ]
  },
  {
   "cell_type": "markdown",
   "id": "f667d8b9",
   "metadata": {
    "id": "f667d8b9"
   },
   "source": [
    "#### 240214 가장 가까운 같은 글자 (1트, 30분 타임아웃)"
   ]
  },
  {
   "cell_type": "code",
   "execution_count": null,
   "id": "f8b78d28",
   "metadata": {
    "id": "f8b78d28"
   },
   "outputs": [],
   "source": [
    "def solution(s):\n",
    "    #letter_list = list(s)\n",
    "\n",
    "    answer = []\n",
    "\n",
    "    for idx in range(len(s)):\n",
    "        if idx == 0:\n",
    "            print(\"첫 글자\\n\")\n",
    "            first_letter = s[0]\n",
    "            answer.append(-1)\n",
    "        else:\n",
    "            print(f\"this is {idx} letter\")\n",
    "            for idx2 in range(idx, 0, -1):\n",
    "                if s[idx2] not in s[0:idx-1]:\n",
    "                    print(\"앞에 중복 없음\\n\")\n",
    "                    answer.append(-1)\n",
    "                    break\n",
    "                else:\n",
    "                    if s[idx] == s[idx2] and idx != idx2:\n",
    "                        print(f\"찾음. {idx}, {idx2}\")\n",
    "                        answer.append(idx-idx2)\n",
    "                        break\n",
    "                    else:\n",
    "                        print(\"얘 아님\")\n",
    "                        pass\n",
    "    return answer"
   ]
  },
  {
   "cell_type": "markdown",
   "id": "c40a64f3",
   "metadata": {
    "id": "c40a64f3"
   },
   "source": [
    "#### 가장 가까운 같은 글자(힌트본, dict 이용)"
   ]
  },
  {
   "cell_type": "code",
   "execution_count": null,
   "id": "0f3763f9",
   "metadata": {
    "id": "0f3763f9"
   },
   "outputs": [],
   "source": [
    "def solution(s):\n",
    "    answer = []\n",
    "    s_dict = dict()\n",
    "\n",
    "    for i in range(len(s)):\n",
    "        if s[i] not in s_dict:\n",
    "            answer.append(-1)\n",
    "        else:\n",
    "            print(\"중복 찾기\")\n",
    "            answer.append(i-s_dict[s[i]]) # 현재 idx에서 딕셔너리 내부 동일글자(s[i]) 인덱스에 해당하는 숫자 차연산\n",
    "        print(i, s_dict)\n",
    "        s_dict[s[i]] = i\n",
    "        print(i, s_dict, \"\\n\")\n",
    "\n",
    "    return answer"
   ]
  },
  {
   "cell_type": "markdown",
   "id": "3a3f2dbf",
   "metadata": {
    "id": "3a3f2dbf"
   },
   "source": [
    "#### 240215 햄버거 만들기 (1차, 20분 타임아웃, 다른 방향으로 만들어야 한다고 깨달음)"
   ]
  },
  {
   "cell_type": "code",
   "execution_count": null,
   "id": "ad7ce579",
   "metadata": {
    "id": "ad7ce579"
   },
   "outputs": [],
   "source": [
    "def solution(ingredient):\n",
    "    answer = 0\n",
    "    burger_step = 1\n",
    "    burger_maked = []\n",
    "\n",
    "    for pick in ingredient:\n",
    "        print(pick)\n",
    "        if pick == 1:\n",
    "            if len(burger_maked) == 0:\n",
    "                burger_maked.append(pick)\n",
    "            elif burger_maked[-1] == 3:\n",
    "                burger_maked.append(pick)\n",
    "                print(burger_maked)\n",
    "                answer += 1\n",
    "                burger_maked.clear()\n",
    "            else:\n",
    "                pass\n",
    "        elif pick == 2:\n",
    "            if len(burger_maked) == 0:\n",
    "                pass\n",
    "            else:\n",
    "                burger_maked.append(pick)\n",
    "        elif pick == 3:\n",
    "            if len(burger_maked) == 0:\n",
    "                pass\n",
    "            else:\n",
    "                burger_maked.append(pick)\n",
    "        else:\n",
    "            pass\n",
    "\n",
    "    return answer"
   ]
  },
  {
   "cell_type": "markdown",
   "id": "6ba1cb0b",
   "metadata": {
    "id": "6ba1cb0b"
   },
   "source": [
    "#### 240215 햄버거 만들기 (2차, 5분 실패, 문제 이해를 잘 못함)"
   ]
  },
  {
   "cell_type": "code",
   "execution_count": null,
   "id": "b8bee741",
   "metadata": {
    "id": "b8bee741"
   },
   "outputs": [],
   "source": [
    "\"\"\"\n",
    "문제에서 제시한건 연속된 1-2-3-1 순서로만 버거를 만들 수 있단 뜻.\n",
    "처음 만들었던 코드와 이 버전을 합치면 될듯 함.\n",
    "\"\"\"\n",
    "def solution(ingredient):\n",
    "    answer = 0\n",
    "    next_ingredient = 1\n",
    "\n",
    "    for pick in ingredient:\n",
    "        if pick == 1 and next_ingredient == 1:\n",
    "            next_ingredient = 2\n",
    "        elif pick == 2 and next_ingredient == 2:\n",
    "            next_ingredient = 3\n",
    "        elif pick == 3 and next_ingredient == 3:\n",
    "            next_ingredient = 4\n",
    "        elif pick == 1 and next_ingredient == 4:\n",
    "            next_ingredient = 1\n",
    "            answer += 1\n",
    "        else:\n",
    "            pass\n",
    "\n",
    "    return answer"
   ]
  },
  {
   "cell_type": "markdown",
   "id": "11036d39",
   "metadata": {
    "id": "11036d39"
   },
   "source": [
    "#### 240215 햄버거 만들기 (3차, 실패)"
   ]
  },
  {
   "cell_type": "code",
   "execution_count": null,
   "id": "d38f2991",
   "metadata": {
    "id": "d38f2991"
   },
   "outputs": [],
   "source": [
    "\"\"\"\n",
    "루프 돌면서 1-2-3-1 만 찾도록 해봤는데 처음 만들때부터 시간 초과될게 걱정이기도 했지만,\n",
    "결과적으로 코드 정상 동작 실패\n",
    "\"\"\"\n",
    "def solution(ingredient):\n",
    "    answer = 0\n",
    "    next_ingredient = 1\n",
    "    burger = []\n",
    "\n",
    "    for idx in range(len(ingredient)):\n",
    "        print(ingredient[idx])\n",
    "        if ingredient[idx] == 1 and next_ingredient == 1:\n",
    "            next_ingredient == 2\n",
    "            if ingredient[idx+1] == 2 and next_ingredient == 2:\n",
    "                next_ingredient == 3\n",
    "                if ingredient[idx+2] == 3 and next_ingredient == 3:\n",
    "                    next_ingredient == 4\n",
    "                    if ingredient[idx+3] == 1 and next_ingredient == 4:\n",
    "                        next_ingredient ==1\n",
    "                        del ingredient[idx:idx+4]\n",
    "        else:\n",
    "            pass\n",
    "    return answer"
   ]
  },
  {
   "cell_type": "markdown",
   "id": "781a118f",
   "metadata": {
    "id": "781a118f"
   },
   "source": [
    "#### 240215 햄버거 만들기 (힌트본)"
   ]
  },
  {
   "cell_type": "code",
   "execution_count": null,
   "id": "e9c72626",
   "metadata": {
    "id": "e9c72626"
   },
   "outputs": [],
   "source": [
    "\"\"\"\n",
    "리스트내 원소를 하나씩만 비교할게 아니라 버거가 조합되는\n",
    "1-2-3-1 을 하나의 별도 리스트로 생각하고, 우측(리스트끝)부터 카운트한 4개가 버거 조합으로 완성되면\n",
    "별도 리스트 내부에서 4개를 삭제하는 식.\n",
    "s[-4:] == [1, 2, 3, 1] 이걸 생각을 못했네\n",
    "\"\"\"\n",
    "def solution(ingredient):\n",
    "    s = []\n",
    "    answer = 0\n",
    "\n",
    "    for i in ingredient:\n",
    "        s.append(i)\n",
    "        if s[-4:] == [1, 2, 3, 1]:\n",
    "            answer += 1\n",
    "            del s[-4:]\n",
    "\n",
    "    return answer"
   ]
  },
  {
   "cell_type": "markdown",
   "id": "2045325f",
   "metadata": {
    "id": "2045325f"
   },
   "source": [
    "#### 240216 콜라문제 (1트, 30분 검증에서 실패)"
   ]
  },
  {
   "cell_type": "code",
   "execution_count": null,
   "id": "04e737b6",
   "metadata": {
    "id": "04e737b6"
   },
   "outputs": [],
   "source": [
    "\"\"\"\n",
    "a는 고려를 했는데 b를 고려를 안 하고 1일거라고만 생각함.\n",
    "문제를 제대로 이해하지 못한게 패착\n",
    "\"\"\"\n",
    "def solution(a, b, empty_bottle):\n",
    "    new_cola = 0\n",
    "\n",
    "    while (empty_bottle>0):\n",
    "        print(empty_bottle)\n",
    "        new_cola_get = 0\n",
    "        if empty_bottle<2:# 빈병이 2병 미만이면 1병이던가 0병인데 어차피 새콜라 수령수에는 미포함이니 바로 브레이크\n",
    "            break\n",
    "        elif empty_bottle == 2:\n",
    "            new_cola += 1\n",
    "            break\n",
    "        else:\n",
    "            if empty_bottle % a == 0:\n",
    "                new_cola += empty_bottle//a\n",
    "                new_cola_get += empty_bottle//a\n",
    "                empty_bottle -= empty_bottle\n",
    "            else:\n",
    "                new_cola += (empty_bottle-(empty_bottle%a))//a\n",
    "                new_cola_get += (empty_bottle-1)//a\n",
    "                empty_bottle -= empty_bottle-1\n",
    "\n",
    "            empty_bottle += new_cola_get\n",
    "        print(empty_bottle, \"\\n\")\n",
    "    return new_cola"
   ]
  },
  {
   "cell_type": "markdown",
   "id": "554cfc32",
   "metadata": {
    "id": "554cfc32"
   },
   "source": [
    "#### 240216 콜라문제 (2트, 1트 재활용 10분컷, 통과)"
   ]
  },
  {
   "cell_type": "code",
   "execution_count": null,
   "id": "deb4e057",
   "metadata": {
    "id": "deb4e057"
   },
   "outputs": [],
   "source": [
    "def solution(a, b, empty_bottle):\n",
    "    new_cola = 0\n",
    "\n",
    "    while (empty_bottle>0):\n",
    "        print(empty_bottle)\n",
    "        new_cola_get = 0\n",
    "        if empty_bottle<a:# 빈병이 2병 미만이면 1병이던가 0병인데 어차피 새콜라 수령수에는 미포함이니 바로 브레이크\n",
    "            break\n",
    "        elif empty_bottle == a:\n",
    "            new_cola += b\n",
    "            break\n",
    "        else:\n",
    "            if empty_bottle % a == 0:\n",
    "                cal = empty_bottle//a*b\n",
    "                new_cola += cal\n",
    "                new_cola_get += cal\n",
    "                empty_bottle -= empty_bottle\n",
    "            else:\n",
    "                cal = (empty_bottle-(empty_bottle%a))//a*b\n",
    "                new_cola += cal\n",
    "                new_cola_get += cal\n",
    "                empty_bottle -= (empty_bottle-(empty_bottle%a))\n",
    "            empty_bottle += new_cola_get\n",
    "        print(empty_bottle, \"\\n\")\n",
    "    return new_cola"
   ]
  },
  {
   "cell_type": "markdown",
   "id": "6f333df6",
   "metadata": {
    "id": "6f333df6"
   },
   "source": [
    "#### 240217 추억 점수 (1트, 10분컷 통과)"
   ]
  },
  {
   "cell_type": "code",
   "execution_count": null,
   "id": "c2b3bc07",
   "metadata": {
    "id": "c2b3bc07"
   },
   "outputs": [],
   "source": [
    "\"\"\"\n",
    "이름에 해당하는 점수를 각 리스트별로 합산하는걸 보자마자 딕셔너리를 써야겠다고 직감함.\n",
    "테스트 케이스에서 이름에 대한 점수가 없는 경우가 있어서 error가 한번 났었지만 딕셔너리 안에서 이름 유무를 검사하는 코드를 추가해서 해결\n",
    "\"\"\"\n",
    "def solution(name, yearning, photo):\n",
    "    answer = []\n",
    "    memory_dict = dict(zip(name, yearning))\n",
    "    for idx in range(len(photo)):\n",
    "        memory_value = 0\n",
    "        for n in photo[idx]:\n",
    "            if n in memory_dict:\n",
    "                memory_value += memory_dict[n]\n",
    "            else:\n",
    "                pass\n",
    "        answer.append(memory_value)\n",
    "    return answer"
   ]
  },
  {
   "cell_type": "markdown",
   "id": "cf52cbd7",
   "metadata": {
    "id": "cf52cbd7"
   },
   "source": [
    "#### 240217 삼총사 (1트, 15분컷 통과)"
   ]
  },
  {
   "cell_type": "code",
   "execution_count": null,
   "id": "d54a31d2",
   "metadata": {
    "id": "d54a31d2"
   },
   "outputs": [],
   "source": [
    "\"\"\"\n",
    "순열로 뽑아서 정렬을 해버리면 같은 값 원소는 없어져버림.\n",
    "조합을 써야 정상 작동함. (순서를 고려한다는 것은 같은 값이라도 인덱스가 다르면 다르게 취급하는거니까)\n",
    "\"\"\"\n",
    "from itertools import combinations\n",
    "\n",
    "def solution(number):\n",
    "    answer = 0\n",
    "    total_comb = []\n",
    "\n",
    "    for comb in combinations(number, 3):\n",
    "        comb_list=list(comb)\n",
    "        #perm_list.sort()\n",
    "        #if perm_list not in total_comb:\n",
    "        if sum(comb_list) == 0:\n",
    "            answer += 1\n",
    "        else:\n",
    "            pass\n",
    "        #total_comb.append(comb_list)\n",
    "    return answer"
   ]
  },
  {
   "cell_type": "markdown",
   "id": "9914d95e",
   "metadata": {
    "id": "9914d95e"
   },
   "source": [
    "#### 240218 햄버거 만들기 재도전 (8분, 통과)"
   ]
  },
  {
   "cell_type": "code",
   "execution_count": null,
   "id": "bd40639d",
   "metadata": {
    "id": "bd40639d"
   },
   "outputs": [],
   "source": [
    "def solution(ingredient):\n",
    "    answer = 0\n",
    "    total = []\n",
    "    burger = [1,2,3,1]\n",
    "\n",
    "    for sub in ingredient:\n",
    "        if total[-4:] == burger:\n",
    "            answer += 1\n",
    "            del total[-4:]\n",
    "        else:\n",
    "            total.append(sub)\n",
    "        print(sub, total)\n",
    "    return answer"
   ]
  },
  {
   "cell_type": "markdown",
   "id": "fa8a1ee7",
   "metadata": {
    "id": "fa8a1ee7"
   },
   "source": [
    "#### 240218 가장 가까운 글자 재도전 (10분, 통과)"
   ]
  },
  {
   "cell_type": "code",
   "execution_count": null,
   "id": "4c72c2a0",
   "metadata": {
    "id": "4c72c2a0"
   },
   "outputs": [],
   "source": [
    "def solution(s):\n",
    "    answer = []\n",
    "    s_dict = dict()\n",
    "\n",
    "    for i in range(len(s)):\n",
    "        if s[i] not in s_dict: # 첫인덱스도 어차피 해당 안되니 바로 -1 추가하면 됨.\n",
    "            answer.append(-1)\n",
    "        else:\n",
    "            answer.append(i-s_dict[s[i]])\n",
    "        s_dict[s[i]] = i\n",
    "        #print(i, s[i], s_dict)\n",
    "\n",
    "    return answer"
   ]
  },
  {
   "cell_type": "markdown",
   "id": "98d398bc",
   "metadata": {
    "id": "98d398bc"
   },
   "source": [
    "#### 240220 과일 장수 (1트, 22분 타임아웃)"
   ]
  },
  {
   "cell_type": "code",
   "execution_count": null,
   "id": "5ec9bd0e",
   "metadata": {
    "id": "5ec9bd0e"
   },
   "outputs": [],
   "source": [
    "\"\"\"\n",
    "조합을 이용하는 것까진 캐치, 조합으로 만드는 전체 가지수를 모아야 하는데 그걸 못했음.\n",
    "힌트 봤더니... 조합 쓰는게 아니라 전체 리스트 정렬한 다음에 주어진 길이로 그냥 슬라이싱해서 잘린 리스트가\n",
    "조건 리스트 원소수랑 일치하면 리턴값에 더해주는 식이더라.. 너무 어렵게 접근했나\n",
    "그런데 리스트 슬라이싱할때 길이 초과되면 자동으로 마지막 원소까지만 잘리는건가 보네\n",
    "\"\"\"\n",
    "from itertools import combinations\n",
    "\n",
    "def solution(max_point, max_apple, apple_list):\n",
    "    answer = [0]\n",
    "    if max_apple > len(apple_list):\n",
    "        return\n",
    "\n",
    "    apple_box_price = 0\n",
    "    for comb in combinations(apple_list, max_apple):\n",
    "        comb_list=list(comb)\n",
    "        comb_list.sort()\n",
    "        apple_box_price = comb_list[0]*max_apple\n",
    "\n",
    "        if apple_box_price > answer[-1]:\n",
    "            answer.append(apple_box_price)\n",
    "            #print(answer)\n",
    "\n",
    "    final_sum_range = -(len(apple_list)//max_apple)\n",
    "    #print(answer[final_sum_range:])\n",
    "\n",
    "    return sum(answer[final_sum_range:])"
   ]
  },
  {
   "cell_type": "code",
   "execution_count": null,
   "id": "54daeb38",
   "metadata": {
    "id": "54daeb38",
    "outputId": "07a27222-028d-4020-e33b-b989907a00af"
   },
   "outputs": [
    {
     "name": "stdout",
     "output_type": "stream",
     "text": [
      "[0, 1, 2]\n",
      "[3, 4, 5]\n",
      "[6, 7, 8]\n",
      "[9]\n"
     ]
    }
   ],
   "source": [
    "# 테스트용\n",
    "test = list(range(10))\n",
    "for idx in range(0, len(test), 3):\n",
    "    print(test[idx:idx+3])"
   ]
  },
  {
   "cell_type": "markdown",
   "id": "d5001ae9",
   "metadata": {
    "id": "d5001ae9"
   },
   "source": [
    "#### 과일 장수 (2트, 5분컷 통과)"
   ]
  },
  {
   "cell_type": "code",
   "execution_count": null,
   "id": "1b4fdb20",
   "metadata": {
    "id": "1b4fdb20"
   },
   "outputs": [],
   "source": [
    "def solution(max_point, max_apple, apple_list):\n",
    "    answer = 0\n",
    "    apple_list.sort(reverse=True)\n",
    "    #print(apple_list)\n",
    "\n",
    "    for idx in range(0, len(apple_list), max_apple):\n",
    "        pick_list = apple_list[idx:idx+max_apple]\n",
    "        if len(pick_list) == max_apple:\n",
    "            #print(pick_list)\n",
    "            answer += pick_list[-1]*max_apple\n",
    "\n",
    "    return answer"
   ]
  },
  {
   "cell_type": "markdown",
   "id": "a45a93ea",
   "metadata": {
    "id": "a45a93ea"
   },
   "source": [
    "#### 240221 문자열 내 마음대로 정렬하기 (1트, 25분 실패)"
   ]
  },
  {
   "cell_type": "code",
   "execution_count": null,
   "id": "6c826501",
   "metadata": {
    "id": "6c826501"
   },
   "outputs": [],
   "source": [
    "def solution(strings, n):\n",
    "    answer = []\n",
    "    \"\"\"\n",
    "    strings 안의 단어들의 n번째 글자를 모아 dictionary로 만듬.\n",
    "    딕셔너리에 해당하는 인덱스 순번은 글자의 순번과도 일치하므로 딕셔너리를 정렬한 뒤\n",
    "    그 순서대로 strings 내부 단어들 순서 재정렬\n",
    "\n",
    "    키로 정렬하고 프린트된걸 보니 굳이 인덱스로 한걸 다시 찾을 필요없이\n",
    "    인덱스가 아닌 그냥 단어로 하면 되는거 아님?\n",
    "\n",
    "    아니다 일단 키:벨류 구조에서 키는 중복이 될 수 없으니까 키를 단어로 하고, 벨류를 정렬 글자로 해야됨.\n",
    "\n",
    "    실패 원인 :\n",
    "    벨류가 중복일 경우 키의 단어를 비교해서 정렬해야 하는데 그걸 못함.\n",
    "    \"\"\"\n",
    "    letter_dict = dict()\n",
    "\n",
    "    for idx in range(len(strings)):\n",
    "        letter_dict[strings[idx]] = strings[idx][n]\n",
    "\n",
    "    dict(sorted(letter_dict.items()))\n",
    "    sorted_dict = dict(sorted(letter_dict.items(), key=lambda x: x[1]))\n",
    "    print(sorted_dict)\n",
    "\n",
    "    return list(sorted_dict.keys())"
   ]
  },
  {
   "cell_type": "markdown",
   "id": "5fa1bc4d",
   "metadata": {
    "id": "5fa1bc4d"
   },
   "source": [
    "#### 240221 문자열 내 마음대로 정렬하기 (힌트본, 공부 필요)"
   ]
  },
  {
   "cell_type": "code",
   "execution_count": null,
   "id": "6af744b3",
   "metadata": {
    "id": "6af744b3"
   },
   "outputs": [],
   "source": [
    "\"\"\"\n",
    "람다!\n",
    "튜플!\n",
    "더 간단하게 sorted의 기준을 튜플로 넣는 코드도 있는데 아래 코드가 좀 더 직관적이라 생각되어 채택\n",
    "\"\"\"\n",
    "def solution(strings, n):\n",
    "    strings.sort()\n",
    "    return sorted(strings, key=lambda x:x[n])"
   ]
  },
  {
   "cell_type": "code",
   "execution_count": null,
   "id": "9b13e000",
   "metadata": {
    "id": "9b13e000"
   },
   "outputs": [],
   "source": [
    "\"\"\"\n",
    "람다에 튜플 형식을 표현식으로 넣으면 우선순위가 인덱스별로 입력됨.\n",
    "\"\"\"\n",
    "def solution(strings, n):\n",
    "    return sorted(strings, key=lambda x:(x[n],x))"
   ]
  },
  {
   "cell_type": "markdown",
   "id": "25fb5ae1",
   "metadata": {
    "id": "25fb5ae1"
   },
   "source": [
    "#### 240222 람다식 연습"
   ]
  },
  {
   "cell_type": "code",
   "execution_count": null,
   "id": "01f2e5af",
   "metadata": {
    "id": "01f2e5af",
    "outputId": "11148e6f-e2b2-4c1e-e2df-00a25831118e"
   },
   "outputs": [
    {
     "name": "stdout",
     "output_type": "stream",
     "text": [
      "[1, 16, 49, 100]\n",
      "[[3, 4, 5], [9, 10, 11]]\n"
     ]
    }
   ],
   "source": [
    "# lambda 매개변수 : 표현식\n",
    "(lambda x,y : x + y)(10, 20)\n",
    "\n",
    "#map(함수, 리스트)\n",
    "test_list = [[0,1,2], [3,4,5], [6,7,8], [9,10,11]]\n",
    "new_list = list(map(lambda x:x[1]**2, test_list))\n",
    "print(new_list)\n",
    "\n",
    "filtered_list = list(filter(lambda x:x[2]%2, test_list))\n",
    "print(filtered_list)"
   ]
  },
  {
   "cell_type": "markdown",
   "id": "7a355a02",
   "metadata": {
    "id": "7a355a02"
   },
   "source": [
    "#### 240222 문자열 내 마음대로 정렬하기 (2트, 5분 통과)"
   ]
  },
  {
   "cell_type": "code",
   "execution_count": null,
   "id": "b9bbfdb0",
   "metadata": {
    "id": "b9bbfdb0"
   },
   "outputs": [],
   "source": [
    "def solution(strings, n):\n",
    "    return sorted(strings, key=lambda x:(x[n],x))"
   ]
  },
  {
   "cell_type": "markdown",
   "id": "415b73c9",
   "metadata": {
    "id": "415b73c9"
   },
   "source": [
    "#### 240222 제일 작은 수 제거하기 (1트, 20분 잘못 풀어서 바로 재시도)"
   ]
  },
  {
   "cell_type": "code",
   "execution_count": null,
   "id": "377512ed",
   "metadata": {
    "id": "377512ed"
   },
   "outputs": [],
   "source": [
    "def solution(arr):\n",
    "    if len(arr) == 0 or len(arr) == 1:\n",
    "        return [-1]\n",
    "    else:\n",
    "        # 아 sort 정렬하고 pop 해버리니까 중복 숫자를 삭제해버리네;;\n",
    "        arr_dict=dict()\n",
    "        for idx in range(len(arr)):\n",
    "            arr_dict[idx] = arr[idx]\n",
    "        sort_dict = dict(sorted(arr_dict.items(), key=lambda x:x[1], reverse=True))\n",
    "        sort_list = list(list(sort_dict.values()))\n",
    "        sort_list.pop()\n",
    "    return sort_list"
   ]
  },
  {
   "cell_type": "markdown",
   "id": "9a999c66",
   "metadata": {
    "id": "9a999c66"
   },
   "source": [
    "#### 240222 제일 작은 수 제거하기 (2트, 3분 실패, 뭔가 이상해서 참고본 봄)"
   ]
  },
  {
   "cell_type": "code",
   "execution_count": null,
   "id": "1d7ef8c5",
   "metadata": {
    "id": "1d7ef8c5"
   },
   "outputs": [],
   "source": [
    "def solution(arr):\n",
    "    if len(arr) == 0 or len(arr) == 1:\n",
    "        return [-1]\n",
    "    else:\n",
    "        new_arr = list(set(arr))\n",
    "        new_arr.sort(reverse=True)\n",
    "        new_arr.pop()\n",
    "    return new_arr"
   ]
  },
  {
   "cell_type": "markdown",
   "id": "b9ddcc6f",
   "metadata": {
    "id": "b9ddcc6f"
   },
   "source": [
    "#### 240222 제일 작은 수 제거하기 (3트,  람다 적극 활용, 10분컷 실패)"
   ]
  },
  {
   "cell_type": "code",
   "execution_count": null,
   "id": "06e4ff98",
   "metadata": {
    "id": "06e4ff98"
   },
   "outputs": [],
   "source": [
    "\"\"\"\n",
    "아니;;; 프로그래머스 실행시간 초과면 기준을 설명을 해놔주던가 어이가 없네.\n",
    "완전 열받네 모범 답안도 틀리게 해놓고, 조건도 엉망이고 어쩌라는거;;\n",
    "진짜 내가 heapq까지도 써봤다 휴..\n",
    "\"\"\"\n",
    "def solution(arr):\n",
    "    if len(arr)<2:\n",
    "        return [-1]\n",
    "    else:\n",
    "        arr_copy = arr\n",
    "        arr_copy.sort(reverse=True)\n",
    "        min_num = arr_copy.pop()\n",
    "        answer = list(filter(lambda x:x!=min_num, arr))\n",
    "    return answer"
   ]
  },
  {
   "cell_type": "markdown",
   "id": "fb9cd755",
   "metadata": {},
   "source": [
    "#### 240809 제일 작은 수 제거하기 (재도전, 3분컷)"
   ]
  },
  {
   "cell_type": "code",
   "execution_count": null,
   "id": "14d76bc6",
   "metadata": {},
   "outputs": [],
   "source": [
    "def solution(arr):\n",
    "    small = min(arr)\n",
    "    arr.remove(small)\n",
    "    \n",
    "    if len(arr)==0:\n",
    "        return [-1]\n",
    "    else:\n",
    "        return arr"
   ]
  },
  {
   "cell_type": "markdown",
   "id": "1b5af3da",
   "metadata": {
    "id": "1b5af3da"
   },
   "source": [
    "#### 240223 숫자 짝꿍 (1트,  30분 통과)"
   ]
  },
  {
   "cell_type": "code",
   "execution_count": null,
   "id": "0306ec3a",
   "metadata": {
    "id": "0306ec3a"
   },
   "outputs": [],
   "source": [
    "def solution(X, Y):\n",
    "    answer = '-1'\n",
    "    answer_list = []\n",
    "\n",
    "    list_x = list(X)\n",
    "    list_y = list(Y)\n",
    "\n",
    "    dict_x = dict()\n",
    "    dict_y = dict()\n",
    "\n",
    "    for x in list_x:\n",
    "        if x in dict_x:\n",
    "            dict_x[x] += 1\n",
    "        else:\n",
    "            dict_x[x] = 1\n",
    "\n",
    "    for y in list_y:\n",
    "        if y in dict_y:\n",
    "            dict_y[y] += 1\n",
    "        else:\n",
    "            dict_y[y] = 1\n",
    "\n",
    "    #print(dict_x, '\\n', dict_y)\n",
    "\n",
    "    for key in dict_x.keys():\n",
    "        if key in dict_y:\n",
    "            #print(key, dict_x[key], dict_y[key])\n",
    "            if dict_x[key] >= dict_y[key]:\n",
    "                for _ in range(dict_y[key]):\n",
    "                    answer_list.append(key)\n",
    "            elif dict_x[key] < dict_y[key]:\n",
    "                for _ in range(dict_x[key]):\n",
    "                    answer_list.append(key)\n",
    "        else:\n",
    "            pass\n",
    "\n",
    "    answer_list.sort(reverse=True)\n",
    "    #print(answer_list)\n",
    "    if len(answer_list) != 0:\n",
    "        if len(set(answer_list)) == 1 and answer_list[-1] == '0':\n",
    "                return '0'\n",
    "        else:\n",
    "            answer = ''.join(map(str, answer_list))\n",
    "    return answer"
   ]
  },
  {
   "cell_type": "markdown",
   "id": "rBUcd6wodjh8",
   "metadata": {
    "id": "rBUcd6wodjh8"
   },
   "source": [
    "#### 240225 둘만의 암호 (1트 실패, 30분 초과 타임아웃)"
   ]
  },
  {
   "cell_type": "code",
   "execution_count": null,
   "id": "vWFJS8Q_dU6T",
   "metadata": {
    "id": "vWFJS8Q_dU6T"
   },
   "outputs": [],
   "source": [
    "def solution(s, skip, index):\n",
    "    \"\"\"\n",
    "    생각을 너무 많이 하다가 실패했음.\n",
    "    굳이 for문에 대한 걱정을 하지 말고 그냥 쓸걸 그랬음.\n",
    "    for문 동작 시간이나 순환형 리스트 구현을 위한 while 문과 불필요한 변수 증가, 딕셔너리 구현 등에 시간을 너무 많이 썼음.\n",
    "    문제가 요구하는 바는 바로 이해했으나, 구현을 너무 복잡하게 하려한 것이 패착.\n",
    "    \"\"\"\n",
    "    answer = ''\n",
    "\n",
    "    # 초기 전체 알파벳\n",
    "    alphabet = 'abcdefghijklmnopqrstruvwxyz'\n",
    "    alphabet = list(alphabet)\n",
    "\n",
    "    # skip의 길이는 10을 안 넘으므로 for문으로 리스트에서 삭제\n",
    "    for letter in skip:\n",
    "        alphabet.remove(letter)\n",
    "    #print(alphabet)\n",
    "\n",
    "    dict_alphabet = dict()\n",
    "\n",
    "    # skip 글자를 제외한 딕셔너리 완성, 알파벳:인덱스\n",
    "    for idx in range(len(alphabet)):\n",
    "        dict_alphabet[alphabet[idx]] = idx\n",
    "    #print(dict_alphabet)\n",
    "\n",
    "    num = len(s)\n",
    "    idx_while = 0\n",
    "\n",
    "    while (num):\n",
    "        letter_idx = dict_alphabet[s[idx_while]]\n",
    "        letter_idx += index\n",
    "\n",
    "        if letter_idx > len(alphabet):\n",
    "            letter_idx -= len(alphabet)\n",
    "\n",
    "        print(dict_alphabet[dict_alphabet[letter_idx]])\n",
    "        idx_while += 1\n",
    "        num -= 1\n",
    "\n",
    "    return answer"
   ]
  },
  {
   "cell_type": "markdown",
   "id": "y5kY7V4pmBIG",
   "metadata": {
    "id": "y5kY7V4pmBIG"
   },
   "source": [
    "#### 240225 둘만의 암호 (2트 통과, 7분컷 )"
   ]
  },
  {
   "cell_type": "code",
   "execution_count": null,
   "id": "NQ0tWF4il_sW",
   "metadata": {
    "id": "NQ0tWF4il_sW"
   },
   "outputs": [],
   "source": [
    "\"\"\"\n",
    "알파벳 리스트에 오타 들어간줄도 모르고 구조 의심하다가 한 3분 까먹음;;;\n",
    "\"\"\"\n",
    "def solution(s, skip, index):\n",
    "    answer = ''\n",
    "\n",
    "    # 초기 전체 알파벳\n",
    "    alphabet = 'abcdefghijklmnopqrstuvwxyz'\n",
    "    alphabet = list(alphabet)\n",
    "\n",
    "    # skip의 길이는 10을 안 넘으므로 for문으로 리스트에서 삭제\n",
    "    for letter in skip:\n",
    "        alphabet.remove(letter)\n",
    "    #print(alphabet)\n",
    "\n",
    "    # 순환 인덱스는 전체 길이로 나눈 나머지를 더하는 것으로 구현\n",
    "    for letter in s:\n",
    "        result_idx = (alphabet.index(letter)+index)%len(alphabet)\n",
    "        answer += alphabet[result_idx]\n",
    "\n",
    "    return answer"
   ]
  },
  {
   "cell_type": "markdown",
   "id": "d4c49cf7",
   "metadata": {
    "id": "d4c49cf7"
   },
   "source": [
    "#### 240301 덧칠하기 (1트, 25분컷)"
   ]
  },
  {
   "cell_type": "code",
   "execution_count": null,
   "id": "4a06e910",
   "metadata": {
    "id": "4a06e910"
   },
   "outputs": [],
   "source": [
    "\"\"\"\n",
    "한방에 바로 풀었음.\n",
    "처음에 dict 쓰려다가 불필요한걸 알아채고 list로 풀었음.\n",
    "풀이 답안 보니까 나랑 한건 비슷한데 인덱스를 몇개 쓰냐 정도의 차이인듯.\n",
    "\"\"\"\n",
    "def solution(n, m, section):\n",
    "    answer = 0\n",
    "    wall = []\n",
    "    idx_s = 0\n",
    "\n",
    "    for idx in range(1, n+1):\n",
    "        if idx == section[idx_s]:   #페인트칠 필요하면 1로 표시\n",
    "            wall.append(1)\n",
    "            if idx_s != len(section)-1:\n",
    "                idx_s += 1\n",
    "        else:\n",
    "            wall.append(0)\n",
    "\n",
    "    #print(wall)\n",
    "\n",
    "    idx_loop = 0\n",
    "    while(idx_loop<len(wall)):\n",
    "        try:\n",
    "            if wall[idx_loop] == 1:\n",
    "                for i in range(idx_loop, idx_loop+m):\n",
    "                    wall[i] = 0\n",
    "                idx_loop += m\n",
    "                answer += 1\n",
    "            else:\n",
    "                idx_loop += 1\n",
    "        except IndexError:\n",
    "            #print(\"Index Out!\")\n",
    "            answer += 1\n",
    "            break\n",
    "\n",
    "    return answer"
   ]
  },
  {
   "cell_type": "markdown",
   "id": "5c91a904",
   "metadata": {
    "id": "5c91a904"
   },
   "source": [
    "#### 240302 푸드파이트 대회 (1트 통과, 9분컷)"
   ]
  },
  {
   "cell_type": "code",
   "execution_count": null,
   "id": "941afb91",
   "metadata": {
    "id": "941afb91"
   },
   "outputs": [],
   "source": [
    "\"\"\"\n",
    "전부터 느끼는건데 시간에 집착해서 그런가 코드 자체는 직관적인데 길이가 파이써닉하지 못하고 좀 긴 느낌..\n",
    "\"\"\"\n",
    "def solution(food):\n",
    "    answer = ''\n",
    "    f_list = []\n",
    "    f_list_reverse = []\n",
    "\n",
    "    for idx in range(1, len(food)):\n",
    "        #print(idx, food[idx])\n",
    "        for _ in range(food[idx]//2):\n",
    "            f_list.append(str(idx))\n",
    "            f_list_reverse.append(str(idx))\n",
    "    f_list.append('0')\n",
    "\n",
    "    f_list_reverse.sort(reverse=True)\n",
    "    #print(f_list, f_list_reverse)\n",
    "\n",
    "    f_str = ''.join(f_list)\n",
    "    f_str_reverse = ''.join(f_list_reverse)\n",
    "\n",
    "    return f_str+f_str_reverse"
   ]
  },
  {
   "cell_type": "markdown",
   "id": "09de4d05",
   "metadata": {
    "id": "09de4d05"
   },
   "source": [
    "#### 240304 모의고사 (1트 타임아웃, 23분 실패)"
   ]
  },
  {
   "cell_type": "code",
   "execution_count": null,
   "id": "bf4201eb",
   "metadata": {
    "id": "bf4201eb"
   },
   "outputs": [],
   "source": [
    "def solution(answers):\n",
    "    answer = []\n",
    "    math1 = [1,2,3,4,5]\n",
    "    math2 = [2,1,2,3,2,4,2,5]\n",
    "    math3 = [3,3,1,1,2,2,4,4,5,5]\n",
    "\n",
    "    score = {1:0, 2:0, 3:0}\n",
    "\n",
    "    for idx in range(len(answers)):\n",
    "        if answers[idx] == math1[idx%len(answers)]:\n",
    "            score[1] += 1\n",
    "        if answers[idx] == math2[idx%len(answers)]:\n",
    "            score[2] += 1\n",
    "        if answers[idx] == math3[idx%len(answers)]:\n",
    "            score[3] += 1\n",
    "\n",
    "    #print(score)\n",
    "    sorted_score = dict(sorted(score.items(), key=lambda x: x[1], reverse=True))\n",
    "    #print(sorted_score.keys())\n",
    "    best_score = sorted_score[list(sorted_score.keys())[0]]\n",
    "    answer.append(list(sorted_score.keys())[0])\n",
    "    #print(best_score)\n",
    "\n",
    "    if best_score == sorted_score[list(sorted_score.keys())[1]]:\n",
    "        answer.append(list(sorted_score.keys())[1])\n",
    "    if best_score == sorted_score[list(sorted_score.keys())[2]]:\n",
    "        answer.append(list(sorted_score.keys())[2])\n",
    "\n",
    "    return answer"
   ]
  },
  {
   "cell_type": "markdown",
   "id": "9d1076a6",
   "metadata": {
    "id": "9d1076a6"
   },
   "source": [
    "#### 240304 모의고사 (2트, 일부만 수정하고 바로 통과 )"
   ]
  },
  {
   "cell_type": "code",
   "execution_count": null,
   "id": "dc1d36a0",
   "metadata": {
    "id": "dc1d36a0"
   },
   "outputs": [],
   "source": [
    "\"\"\"\n",
    "math? 리스트를 순환 리스트로 만들기 위해 1트에선 리스트 길이로 했었는데\n",
    "len 자체가 원소를 카운트하고, 시간을 잡아먹어서 그냥 len(answers)가 아니라 정해진 math리스트 길이(5,8,10)으로\n",
    "해서 해결\n",
    "\"\"\""
   ]
  },
  {
   "cell_type": "markdown",
   "id": "7be22cef",
   "metadata": {
    "id": "7be22cef"
   },
   "source": [
    "#### 240305 시저암호 (1트 통과, 12분컷)"
   ]
  },
  {
   "cell_type": "code",
   "execution_count": null,
   "id": "517553d8",
   "metadata": {
    "id": "517553d8"
   },
   "outputs": [],
   "source": [
    "\"\"\"\n",
    "알파벳 리스트를 문자열로 넣는게 귀찮았을 뿐, 난이도는 높지 않았던 문제.\n",
    "answer에 추가할때 순환 리스트를 구현해야 했는데 처음엔 단순 합산만 했다가 금방 찾아서 해결함.\n",
    "한가지 기억할 건 반복동작의 경우 len()함수를 쓰면 시간이 많이 소요된다는 것! (바로 26으로 나눈 부분)\n",
    "\"\"\"\n",
    "def solution(s, n):\n",
    "    answer = ''\n",
    "\n",
    "    alphabet_L_list = ['a','b','c','d','e','f','g','h','i','j','k','l','m','n','o','p','q','r','s','t','u','v','w','x','y','z']\n",
    "    alphabet_U_list = ['A','B','C','D','E','F','G','H','I','J','K','L','M','N','O','P','Q','R','S','T','U','V','W','X','Y','Z']\n",
    "\n",
    "    alphabet_L_dict = dict(zip(alphabet_L_list, range(26)))\n",
    "    alphabet_U_dict = dict(zip(alphabet_U_list, range(26)))\n",
    "\n",
    "    for letter in s:\n",
    "        if letter.islower():\n",
    "            idx = (alphabet_L_dict[letter] + n)%26\n",
    "            answer += alphabet_L_list[idx]\n",
    "        elif letter.isupper():\n",
    "            idx = (alphabet_U_dict[letter] + n)%26\n",
    "            answer += alphabet_U_list[idx]\n",
    "        else:\n",
    "            answer += ' '\n",
    "\n",
    "    return answer"
   ]
  },
  {
   "cell_type": "markdown",
   "id": "8aa3ef72",
   "metadata": {
    "id": "8aa3ef72"
   },
   "source": [
    "#### 240305 성격 유형 검사하기 (1트 실패, 30분 제출 불합격)"
   ]
  },
  {
   "cell_type": "code",
   "execution_count": null,
   "id": "8149b329",
   "metadata": {
    "id": "8149b329"
   },
   "outputs": [],
   "source": [
    "\"\"\"\n",
    "예외도 충분히 준 것 같고, 다른 사람들이랑 풀이 맥락도 비슷한데 왜 실패로 뜨는지 몰라서 일단 질문 올림.\n",
    "\"\"\"\n",
    "def solution(survey, choices):\n",
    "    \"\"\"\n",
    "    몇점이냐 그 자체보단\n",
    "    3점 이하냐, 4점 이하냐, 5점 이상이냐 3가지 경우로 구분하면 될듯함.\n",
    "    R/T, C/F, J/M, A/N\n",
    "    \"\"\"\n",
    "    answer = ''\n",
    "\n",
    "    style = [{'R':0, 'T':0}, {'C':0, 'F':0}, {'J':0, 'M':0}, {'A':0, 'N':0}]\n",
    "\n",
    "    for idx in range(len(choices)):\n",
    "        if choices[idx] <= 3:\n",
    "            idx_word = 0 # 앞글자 선택\n",
    "        elif choices[idx] == 4:\n",
    "            idx_word = 2 # 예외 처리용 숫자\n",
    "        elif choices[idx] >= 5:\n",
    "            idx_word = 1 # 뒷글자 선택\n",
    "\n",
    "        if idx_word != 2:\n",
    "            word = survey[idx][idx_word]\n",
    "\n",
    "        if word == 'R' or word == 'T':\n",
    "            style[0][word] += 1\n",
    "        elif word == 'C' or word == 'F':\n",
    "            style[1][word] += 1\n",
    "        elif word == 'J' or word == 'M':\n",
    "            style[2][word] += 1\n",
    "        elif word == 'A' or word == 'N':\n",
    "            style[3][word] += 1\n",
    "    #print(style)\n",
    "\n",
    "    for l in style:\n",
    "        list_choose = list(l.keys())\n",
    "        if l[list_choose[0]] > l[list_choose[1]]:\n",
    "            answer += list_choose[0]\n",
    "        elif l[list_choose[0]] == l[list_choose[1]]:\n",
    "            # 정렬 안 해줘도 기본 선택지 2개씩은 알파벳순으로 되어 있음.\n",
    "            answer += list_choose[0]\n",
    "        elif l[list_choose[0]] < l[list_choose[1]]:\n",
    "            answer += list_choose[1]\n",
    "    return answer"
   ]
  },
  {
   "cell_type": "markdown",
   "id": "cffd616d",
   "metadata": {
    "id": "cffd616d"
   },
   "source": [
    "#### 240306 성격 유형 검사하기 (2트 실패, 테스트케이스 3개 실패)"
   ]
  },
  {
   "cell_type": "code",
   "execution_count": null,
   "id": "4eb43681",
   "metadata": {
    "id": "4eb43681"
   },
   "outputs": [],
   "source": [
    "\"\"\"\n",
    "테스트 케이스 3개만 타임아웃 뜨는데 흐음...\n",
    "줄일만큼 줄이기도 했고, 다른 사람도 for문 2개 쓴사람 있던데..\n",
    "\"\"\"\n",
    "def solution(survey, choices):\n",
    "    answer = ''\n",
    "\n",
    "    style = [{'R':0, 'T':0}, {'C':0, 'F':0}, {'J':0, 'M':0}, {'A':0, 'N':0}]\n",
    "    score = {1:3, 2:2, 3:1, 4:0, 5:1, 6:2, 7:3}\n",
    "\n",
    "    for idx in range(len(choices)):\n",
    "        point1 = choices[idx]\n",
    "        point2 = score[point1]\n",
    "        if point1 <= 3: idx_word = 0 # 앞글자 선택\n",
    "        elif point1 == 4: idx_word = 2 # 예외 처리용 숫자\n",
    "        elif point1 >= 5: idx_word = 1 # 뒷글자 선택\n",
    "\n",
    "        if idx_word != 2: word = survey[idx][idx_word]\n",
    "        else: pass\n",
    "\n",
    "        if word == 'R' or word == 'T': style[0][word] += point2\n",
    "        elif word == 'C' or word == 'F': style[1][word] += point2\n",
    "        elif word == 'J' or word == 'M': style[2][word] += point2\n",
    "        else: #word == 'A' or word == 'N':\n",
    "            style[3][word] += point2\n",
    "\n",
    "    #print(style)\n",
    "\n",
    "    for l in style:\n",
    "        list_choose = list(l.keys())\n",
    "        if l[list_choose[0]] >= l[list_choose[1]]:\n",
    "            # 정렬 안 해줘도 style 리스트 내 기본 선택지 2개씩은 알파벳순으로 되어 있음.\n",
    "            answer += list_choose[0]\n",
    "        else: #l[list_choose[0]] < l[list_choose[1]]:\n",
    "            answer += list_choose[1]\n",
    "\n",
    "    return answer"
   ]
  },
  {
   "cell_type": "markdown",
   "id": "f472f0a8",
   "metadata": {
    "id": "f472f0a8"
   },
   "source": [
    "#### 성격 유형 검사하기 (3트 통과, 정답 참고본)"
   ]
  },
  {
   "cell_type": "code",
   "execution_count": null,
   "id": "7e3286fc",
   "metadata": {
    "id": "7e3286fc"
   },
   "outputs": [],
   "source": [
    "\"\"\"\n",
    "첫 for문에서 survey랑 choices를 zip으로 묶어서 s,c로 인덱스 돌리던데\n",
    "난 좀 더러워 보여도 직관적인 코드로 수정함.\n",
    "\n",
    "dic에서 내가 했던것처럼 소리스트로 나눈게 아니라 순서대로 해놓고, 나중에 인덱스를 2씩 건너뛰는게 하나\n",
    "4에서 choices를 빼든가 choices에서 4를 빼는거 둘.\n",
    "\n",
    "이 두개가 진짜 키포인트로 적용된 듯.\n",
    "\n",
    "직접 풀었을 때 적용해보니 zip 쓰는것도 괜찮네.. 그리고 딕셔너리 items 추출한뒤에 쓰는건 잘 기억해야 함.\n",
    "\"\"\"\n",
    "def solution(survey, choices):\n",
    "    # R/T, C/F, J/M, A/N\n",
    "    answer = ''\n",
    "    dic= {\"R\":0, \"T\":0, \"C\":0, \"F\":0, \"J\":0, \"M\":0, \"A\":0, \"N\":0 }\n",
    "    #print(list(zip(survey,choices)))\n",
    "\n",
    "    for idx in range(len(choices)):\n",
    "        if choices[idx]<4: dic[survey[idx][0]] += 4-choices[idx]\n",
    "        elif choices[idx]>4: dic[survey[idx][1]] += choices[idx]-4\n",
    "    \"\"\"\n",
    "    for s,c in zip(survey, choices):\n",
    "        if c<4: dic[s[0]] += 4-c\n",
    "        elif c>4: dic[s[1]] += c-4\n",
    "    \"\"\"\n",
    "    #print(dic)\n",
    "\n",
    "    list_item = list(dic.items())\n",
    "\n",
    "    for i in range(0, 8, 2):\n",
    "        if list_item[i][1] >= list_item[i+1][1]:\n",
    "            answer += list_item[i][0]\n",
    "        else:\n",
    "            answer += list_item[i+1][0]\n",
    "\n",
    "    return answer"
   ]
  },
  {
   "cell_type": "markdown",
   "id": "667b8323",
   "metadata": {
    "id": "667b8323"
   },
   "source": [
    "#### 숫자 문자열과 영단어 (1트 통과, 20분컷)"
   ]
  },
  {
   "cell_type": "code",
   "execution_count": null,
   "id": "1fe463f7",
   "metadata": {
    "id": "1fe463f7"
   },
   "outputs": [],
   "source": [
    "\"\"\"\n",
    "처음엔 s 인덱스를 돌리면서 타입이 문자열인 숫자가 나오면 바로 숫자로 바꾸려고 try, except를 썼는데\n",
    "(try를 쓴 이유는 숫자가 아닌 문자열을 변환하면 에러가 나기 때문)\n",
    "계획한 대로 실행되지 않아서 dict_int를 추가로 정의해서 풀었음.\n",
    "맨 마지막 if문은 마지막 단어가 숫자로 변환되지 않아서 넣어줬음.\n",
    "\"\"\"\n",
    "def solution(s):\n",
    "    answer = ''\n",
    "\n",
    "    dict_str = {'zero':'0', 'one':'1', 'two':'2', 'three':'3', 'four':'4',\n",
    "                'five':'5', 'six':'6', 'seven':'7', 'eight':'8', 'nine':'9'}\n",
    "    dict_int = {'0':'0', '1':'1', '2':'2', '3':'3', '4':'4',\n",
    "               '5':'5', '6':'6', '7':'7', '8':'8', '9':'9'}\n",
    "\n",
    "    word = ''\n",
    "    for letter in s:\n",
    "        if word in dict_str:\n",
    "            answer += dict_str[word]\n",
    "            word = ''\n",
    "        if letter in dict_int:\n",
    "            answer += dict_int[letter]\n",
    "        else:\n",
    "            word += letter\n",
    "\n",
    "    if word != '':\n",
    "        answer += dict_str[word]\n",
    "\n",
    "    return int(answer)"
   ]
  },
  {
   "cell_type": "markdown",
   "id": "9e8358d4",
   "metadata": {
    "id": "9e8358d4"
   },
   "source": [
    "#### 240310 옹알이(2) (1트 실패, 30분 테스트케이스 1개만 실패)"
   ]
  },
  {
   "cell_type": "code",
   "execution_count": null,
   "id": "390a4f34",
   "metadata": {
    "id": "390a4f34"
   },
   "outputs": [],
   "source": [
    "\"\"\"\n",
    "일단 코드가 너무 길고..\n",
    "구조상 틀린건 없어보이는데 무슨 이유인지 테스트케이스 3번만 통과를 못함. 시간초과가 나는 것도 아니라서 의문..\n",
    "\"\"\"\n",
    "def solution(babbling):\n",
    "    answer = 0\n",
    "    baby_word = ['aya', 'ye', 'woo', 'ma']\n",
    "\n",
    "    for word in babbling:\n",
    "        if len(word) < 2:\n",
    "            pass\n",
    "        elif len(word) == 2 or len(word) == 3:\n",
    "            if word in baby_word: answer += 1\n",
    "            else: pass\n",
    "        else:\n",
    "            PlusOrNot = True\n",
    "            before_word = ''\n",
    "            while (len(word) > 1):\n",
    "                if word[0] == 'a' or word[0] == 'w':\n",
    "                    letter_3 = word[0:3]\n",
    "                    #print(3, letter_3)\n",
    "                    if letter_3 == before_word:\n",
    "                        PlusOrNot = False\n",
    "                        break\n",
    "                    if letter_3 not in baby_word:\n",
    "                        PlusOrNot = False\n",
    "                        break\n",
    "                    else:\n",
    "                        before_word = letter_3\n",
    "                        word = word[3:]\n",
    "                elif word[0] == 'y' or word[0] == 'm':\n",
    "                    letter_2 = word[0:2]\n",
    "                    #print(2, letter_2)\n",
    "                    if letter_2 == before_word:\n",
    "                        PlusOrNot = False\n",
    "                        break\n",
    "                    if letter_2 not in baby_word:\n",
    "                        PlusOrNot = False\n",
    "                        break\n",
    "                    else:\n",
    "                        before_word = letter_2\n",
    "                        word = word[2:]\n",
    "            if PlusOrNot == True:\n",
    "                answer += 1\n",
    "            #print(\"+[While Done]+\", answer)\n",
    "    return answer"
   ]
  },
  {
   "cell_type": "markdown",
   "id": "dfa172de",
   "metadata": {
    "id": "dfa172de"
   },
   "source": [
    "#### 240310 옹알이(2) (2.5트 통과,  9분 컷)"
   ]
  },
  {
   "cell_type": "code",
   "execution_count": null,
   "id": "5d256d39",
   "metadata": {
    "id": "5d256d39"
   },
   "outputs": [],
   "source": [
    "\"\"\"\n",
    "힌트를 보고 참고해서 다시 풀어서 통과는 했는데 실행시간을 보니 내 예상처럼 효율적이지 못했음.(그래서 2.5트)\n",
    "아무래도 단어의 길이를 측정하는게 시간을 잡아먹었나봄.\n",
    "아예 어떤 길이든 상관없이 똑같은 시퀀스로 한글자씩 더해서 리스트 안에 있는지 검사 + 중복 단어 검사 하는게 훨씬 빨랐음.\n",
    "\"\"\"\n",
    "def solution(babbling):\n",
    "    answer = 0\n",
    "    baby_word = ['aya', 'ye', 'woo', 'ma']\n",
    "\n",
    "    for word in babbling:\n",
    "        comb = '' # 조합될 단어\n",
    "        comp = '' # 비교용 단어\n",
    "\n",
    "        for letter in word:\n",
    "            comb += letter\n",
    "            if comb == comp:\n",
    "                break\n",
    "            if comb in baby_word:\n",
    "                comp = comb\n",
    "                comb = ''\n",
    "        if comb == '':\n",
    "            answer += 1\n",
    "\n",
    "    return answer"
   ]
  },
  {
   "cell_type": "markdown",
   "id": "60a02b90",
   "metadata": {
    "id": "60a02b90"
   },
   "source": [
    "#### 240311 명예의 전당 (1트 통과, 5분컷)"
   ]
  },
  {
   "cell_type": "code",
   "execution_count": null,
   "id": "334ea22b",
   "metadata": {
    "id": "334ea22b"
   },
   "outputs": [],
   "source": [
    "\"\"\"\n",
    "'처음엔 heapq를 써야하나' 고민했는데 우선 리스트로 바로 풀었고 짧은 코드로 수월하게 풀었음.\n",
    "\"\"\"\n",
    "def solution(k, score):\n",
    "    answer = []\n",
    "    daily = []\n",
    "\n",
    "    for num in score:\n",
    "        daily.append(num)\n",
    "        daily.sort()\n",
    "        if len(daily) <= k:\n",
    "            answer.append(daily[0])\n",
    "        else:\n",
    "            del daily[0]\n",
    "            answer.append(daily[0])\n",
    "\n",
    "    return answer"
   ]
  },
  {
   "cell_type": "markdown",
   "id": "0167e6b4",
   "metadata": {
    "id": "0167e6b4"
   },
   "source": [
    "#### 240312 개인정보 수집 유효기간 (1트 최종 실패, 30분 소요)"
   ]
  },
  {
   "cell_type": "code",
   "execution_count": null,
   "id": "d693d8bb",
   "metadata": {
    "id": "d693d8bb"
   },
   "outputs": [],
   "source": [
    "\"\"\"\n",
    "시간이 조금 걸리긴 했으나 원리가 어려운것 같진 않아서 제출했는데 테스트 케이스에서 주루룩 미끄러짐;;\n",
    "\"\"\"\n",
    "def solution(today, terms, privacies):\n",
    "    answer = []\n",
    "\n",
    "    days = list(range(1,29))\n",
    "    month = list(range(1,13))\n",
    "    dict_terms = {}\n",
    "\n",
    "    for t in terms:\n",
    "        list_term = list(t.split(\" \"))\n",
    "        dict_terms[list_term[0]] = int(list_term[-1])\n",
    "\n",
    "    dummy = list(today.split(\".\"))\n",
    "    Y_today = int(dummy[0])\n",
    "    M_today = int(dummy[1])\n",
    "    D_today = int(dummy[2][:2])\n",
    "\n",
    "    for idx in range(len(privacies)):\n",
    "        dummy = list(privacies[idx].split(\".\"))\n",
    "        Y = int(dummy[0])\n",
    "        M = int(dummy[1])\n",
    "        D = int(dummy[2][:2])\n",
    "        deal_type = dummy[2][-1]\n",
    "\n",
    "        if D == 1:\n",
    "            D == 28\n",
    "            M -= 1\n",
    "        else:\n",
    "            D -= 1\n",
    "\n",
    "        year_plus = 0\n",
    "        M += dict_terms[deal_type]\n",
    "        if M > 12:\n",
    "            M = M % 12\n",
    "            year_plus = (M//12)+1\n",
    "            print('연도 넘어감', year_plus)\n",
    "        if year_plus > 0:\n",
    "            Y += year_plus\n",
    "\n",
    "        #print(idx, \"계약일:\", Y, M, D, \"오늘:\", Y_today, M_today, D_today)\n",
    "\n",
    "        if Y<Y_today:\n",
    "            answer.append(idx+1)\n",
    "        if Y==Y_today and M<M_today:\n",
    "            answer.append(idx+1)\n",
    "        if Y==Y_today and M==M_today and D<D_today:\n",
    "            answer.append(idx+1)\n",
    "\n",
    "    return answer"
   ]
  },
  {
   "cell_type": "markdown",
   "id": "875e8cfd",
   "metadata": {
    "id": "875e8cfd"
   },
   "source": [
    "#### 240312 개인정보 수집 유효기간 (2트 성공, 20분 소요)¶"
   ]
  },
  {
   "cell_type": "code",
   "execution_count": null,
   "id": "40fe1b24",
   "metadata": {
    "id": "40fe1b24"
   },
   "outputs": [],
   "source": [
    "\"\"\"\n",
    "풀이 보고 내식대로 다시 풀어봤는데 그래도 시간이 좀 걸렸음.\n",
    "나는 계약의 유효기간을 더해서 계약 종료될 날짜와 오늘 날짜 자체를 비교했는데\n",
    "이사람은 '오늘 날짜와 계약 당일 날짜의 차이가 유효기간을 일로 바꾼 수치보다 크면 어차피 계약은 종료 아닌가'\n",
    "라는 관점에서 접근해서 쉽게 풀었다. 진짜 발상의 전환이 중요하네...\n",
    "\"\"\"\n",
    "def solution(today, terms, privacies):\n",
    "    answer = []\n",
    "\n",
    "    month_to_day = 28\n",
    "    year_to_day = 28*12\n",
    "\n",
    "    dict_terms = {}\n",
    "    for t in terms:\n",
    "        t = list(t.split(\" \"))\n",
    "        dict_terms[t[0]] = int(t[1])*month_to_day\n",
    "\n",
    "    for idx in range(len(privacies)):\n",
    "        year = (int(today[0:4])-int(privacies[idx][0:4]))*year_to_day\n",
    "        month = (int(today[5:7])-int(privacies[idx][5:7]))*month_to_day\n",
    "        day = int(today[8:10])-int(privacies[idx][8:10])\n",
    "        sum_deal = year + month + day\n",
    "\n",
    "        if sum_deal>=dict_terms[privacies[idx][-1]]:\n",
    "            answer.append(idx+1)\n",
    "\n",
    "    return answer"
   ]
  },
  {
   "cell_type": "markdown",
   "id": "2126535c",
   "metadata": {
    "id": "2126535c"
   },
   "source": [
    "#### 240319 [1차] 비밀지도 (1차 실패, 30분 타임아웃)"
   ]
  },
  {
   "cell_type": "code",
   "execution_count": null,
   "id": "8b5daba9",
   "metadata": {
    "id": "8b5daba9"
   },
   "outputs": [],
   "source": [
    "'''\n",
    "일단 짚고 넘어갈 멍청 포인트.\n",
    "for문 인덱스를 거꾸로 돌리는데 시작지점을 리스트의 길이로 설정함. 원소가 4개 있으면 길이는 당연히 4고,\n",
    "인덱스는 0, 1, 2, 3까지 가는데 4부터 0까지 설정했으니 당연히 인덱스 초과 경고가 뜨는데 그걸 못 알아채고,\n",
    "머리 싸매고 끙끙 앓았음.... 정상적으로 하자면 범위는 (리스트 길이-1, -1, -1) 이렇게 해야 함.\n",
    "'''\n",
    "def solution(n, arr1, arr2):\n",
    "    answer = []\n",
    "\n",
    "    tMap = []\n",
    "    small_list = []\n",
    "    for m in range(n):\n",
    "        small_list.append(0)\n",
    "    for m in range(n):\n",
    "        tMap.append(small_list)\n",
    "\n",
    "    idx = 0\n",
    "    for e1, e2 in zip(arr1, arr2):\n",
    "        e1 = list(str(bin(e1))[2:])\n",
    "        e2 = list(str(bin(e2))[2:])\n",
    "        print(e1, e2)\n",
    "\n",
    "        for idx1 in range(len(e1)-1, -1, -1):\n",
    "            if e1[idx1] == '1':\n",
    "                tMap[idx][idx1] = '#'\n",
    "            else:\n",
    "                tMap[idx][idx1] = ' '\n",
    "\n",
    "        for idx2 in range(len(e2)-1, -1, -1):\n",
    "            if e2[idx2] == '1':\n",
    "                tMap[idx][idx2] = '#'\n",
    "            else:\n",
    "                tMap[idx][idx2] = ' '\n",
    "\n",
    "        idx += 1\n",
    "\n",
    "    print(tMap)\n",
    "    return answer"
   ]
  },
  {
   "cell_type": "markdown",
   "id": "8003efb7",
   "metadata": {
    "id": "8003efb7"
   },
   "source": [
    "#### 240319 [1차] 비밀지도 (2차 힌트 참고본, 성공)"
   ]
  },
  {
   "cell_type": "code",
   "execution_count": null,
   "id": "0840eb6d",
   "metadata": {
    "id": "0840eb6d"
   },
   "outputs": [],
   "source": [
    "\"\"\"\n",
    "1. zfill(n) 함수를 몰라서 구현하려고 첫풀이때 이래저래 해봤었는게 그게 너무 비효율적이었음.\n",
    "(len 시간 소요나 슬라이싱 등 때문)\n",
    "\n",
    "2. replace 연속 적용도 줄을 줄이고 빨리 푸는데 도움이 됐고,\n",
    "\n",
    "3. 무엇보다 bin 함수 내부에서 OR 연산을 이해하는데 조금 검색이 필요했음. 여태까지 and or 연산자로만 썼었는데\n",
    "비트 연산 단위로 쓰는걸 이번에 처음 해봤음..\n",
    "\"\"\"\n",
    "def solution(n, arr1, arr2):\n",
    "    answer = []\n",
    "\n",
    "    for n1, n2 in zip(arr1, arr2):\n",
    "        line = bin(n1 | n2)[2:].zfill(n).replace(\"1\", \"#\").replace(\"0\", \" \")\n",
    "        answer.append(line)\n",
    "\n",
    "    return answer"
   ]
  },
  {
   "cell_type": "markdown",
   "id": "fc84a516",
   "metadata": {
    "id": "fc84a516"
   },
   "source": [
    "#### 240321 [1차] 다트 게임 (1차 실패, 15분 알고리즘 못 짬)"
   ]
  },
  {
   "cell_type": "code",
   "execution_count": null,
   "id": "de673fc2",
   "metadata": {
    "id": "de673fc2"
   },
   "outputs": [],
   "source": [
    "\"\"\"\n",
    "점수를 2배 해주는 조건 발생시, 첫번째랑 두번째 부분에 둘다 적용하게 되는 조건이 있었는데,\n",
    "구현을 실패함. 그리고 인덱스를 과하게 넘겨볼려다 try, except까지 손대게 됐는데 결과적으론 구현 실패.\n",
    "\"\"\"\n",
    "def solution(dartResult):\n",
    "    answer = 0\n",
    "\n",
    "    idx = 0\n",
    "    while(idx < len(dartResult)-1):\n",
    "        try:\n",
    "            if dartResult[idx] != '*' and dartResult[idx] != '#':\n",
    "                point = int(dartResult[idx])\n",
    "                if dartResult[idx+1] == 'D':\n",
    "                    cal_point = point ** 2\n",
    "                elif dartResult[idx+1] == 'T':\n",
    "                    cal_point = point ** 3\n",
    "                else:\n",
    "                    cal_point = point\n",
    "                if dartResult[idx+2] == '*':\n",
    "                    cal_point *= 2\n",
    "                elif dartResult[idx+2] == '#':\n",
    "                    cal_point *= -1\n",
    "\n",
    "                answer += cal_point\n",
    "                idx += 2\n",
    "            else:\n",
    "                idx += 1\n",
    "        except:\n",
    "            pass\n",
    "\n",
    "    return answer"
   ]
  },
  {
   "cell_type": "markdown",
   "id": "90d06161",
   "metadata": {
    "id": "90d06161"
   },
   "source": [
    "#### 240321 [1차] 다트 게임 (2차 성공, 16분컷)"
   ]
  },
  {
   "cell_type": "code",
   "execution_count": null,
   "id": "5f2a9eb6",
   "metadata": {
    "id": "5f2a9eb6"
   },
   "outputs": [],
   "source": [
    "\"\"\"\n",
    "당연히 숫자(점수) - > 문자(다트 표적칸) -> ... 순으로 인덱스 하나씩 증가하면서 바뀔줄 알았는데\n",
    "10 이 나오는 바람에 중간에 수정 좀 했음. 1이 나오면 문자열로 합쳐놓은 후 0이 나오면 다시 더하고,\n",
    "나중에 알파벳이 나오면 그때 이 변수를 int로 바꿔서 수 계산을 하는게 핵심이었음.\n",
    "\"\"\"\n",
    "def solution(dartResult):\n",
    "    answer = 0\n",
    "    square = {'S':1,\n",
    "            'D':2,\n",
    "            'T':3}\n",
    "\n",
    "    num = ''\n",
    "    score = []\n",
    "    for char in dartResult:\n",
    "        if char.isdigit():\n",
    "            num = num + str(char)\n",
    "        elif char.isalpha():\n",
    "            num = int(num)\n",
    "            num = num ** square[char]\n",
    "            score.append(num)\n",
    "            num = ''\n",
    "        else:\n",
    "            if char == '*':\n",
    "                if len(score) > 1:\n",
    "                    score[-2] *= 2\n",
    "                score[-1] *= 2\n",
    "            else:\n",
    "                score[-1] *= -1\n",
    "        print(char, score)\n",
    "    return sum(score)"
   ]
  },
  {
   "cell_type": "markdown",
   "id": "ac325757",
   "metadata": {
    "id": "ac325757"
   },
   "source": [
    "#### 240323 공원 산책 (1트 실패, 35분)"
   ]
  },
  {
   "cell_type": "code",
   "execution_count": null,
   "id": "17b11209",
   "metadata": {
    "id": "17b11209",
    "outputId": "0a34893a-7a3f-439e-89b2-9dd39a004152"
   },
   "outputs": [
    {
     "name": "stdout",
     "output_type": "stream",
     "text": [
      "나감!\n",
      "정상이동\n",
      "정상이동\n"
     ]
    },
    {
     "data": {
      "text/plain": [
       "[3, 0]"
      ]
     },
     "execution_count": 25,
     "metadata": {},
     "output_type": "execute_result"
    }
   ],
   "source": [
    "\"\"\"\n",
    "어디에서 실패했느냐?\n",
    "공원 영역을 벗어나는 경우, 움직인 결과가 X로 못가는 지점인 경우 2개는 구현했는데\n",
    "움직이는 도중에 X 지점을 지나는걸 구현을 못했음.\n",
    "\"\"\"\n",
    "def solution(park, routes):\n",
    "    answer = []\n",
    "\n",
    "    point_current = [0,0]\n",
    "    point_temp = [0,0]\n",
    "    for idx_row in range(len(park)):\n",
    "        char = park[idx_row]\n",
    "        for idx_col in range(len(park[idx_row])):\n",
    "            if char[idx_col] == \"S\":\n",
    "                point_current = [idx_col, idx_row]\n",
    "                #print(point_current)\n",
    "\n",
    "    for move in routes:\n",
    "        if move[0] == \"E\":\n",
    "            point_temp[0] += int(move[-1])\n",
    "        elif move[0] == \"W\":\n",
    "            point_temp[0] -= int(move[-1])\n",
    "        elif move[0] == \"S\":\n",
    "            point_temp[1] += int(move[-1])\n",
    "        elif move[0] == \"N\":\n",
    "            point_temp[1] -= int(move[-1])\n",
    "        #print('temp', point_temp)\n",
    "\n",
    "        point_current[0] += point_temp[0]\n",
    "        point_current[1] += point_temp[1]\n",
    "\n",
    "        if park[point_current[1]-1][point_current[0]-1] == \"X\":\n",
    "            print(\"장애물!\")\n",
    "            point_current[0] -= point_temp[0]\n",
    "            point_current[1] -= point_temp[1]\n",
    "        elif point_current[0]>idx_col or point_current[1]>idx_row:\n",
    "            print(\"나감!\")\n",
    "            point_current[0] -= point_temp[0]\n",
    "            point_current[1] -= point_temp[1]\n",
    "        else:\n",
    "            print(\"정상이동\")\n",
    "        point_temp = [0,0]\n",
    "\n",
    "    answer.append(point_current[1])\n",
    "    answer.append(point_current[0])\n",
    "    return answer\n",
    "\n",
    "solution([\"OSO\",\"OOO\",\"OXO\",\"OOO\"], [\"E 2\",\"S 3\",\"W 1\"])\n",
    "# 정답 : [0, 0]"
   ]
  },
  {
   "cell_type": "markdown",
   "id": "d98b9fdd",
   "metadata": {
    "id": "d98b9fdd"
   },
   "source": [
    "#### 공원 산책 답안 참고용"
   ]
  },
  {
   "cell_type": "code",
   "execution_count": null,
   "id": "5127fe74",
   "metadata": {
    "id": "5127fe74"
   },
   "outputs": [],
   "source": [
    "def solution(park, routes):\n",
    "    answer = []\n",
    "    n=len(routes)\n",
    "\n",
    "    dic={'W':0,'S':1,'E':2,'N':3}\n",
    "    dx=[-1,0,1,0]\n",
    "    dy=[0,1,0,-1]\n",
    "\n",
    "    for i in range(len(park)):\n",
    "        for j in range(len(park[0])):\n",
    "            if park[i][j]=='S':\n",
    "                a,b=i,j #a=y , b=x\n",
    "\n",
    "    for i in routes:\n",
    "        di = i[0]\n",
    "        le = int(i[2])\n",
    "        ty,tx = a,b\n",
    "        for j in range(le):\n",
    "            t1=a+dy[dic[di]]\n",
    "            t2=b+dx[dic[di]]\n",
    "            if t1>=0 and t2>=0 and t1<len(park) and t2<len(park[0]) and park[t1][t2]!='X':\n",
    "                a,b=t1,t2\n",
    "            else:\n",
    "                a,b = ty,tx\n",
    "                break\n",
    "    answer=[a,b]\n",
    "\n",
    "\n",
    "    return answer"
   ]
  },
  {
   "cell_type": "markdown",
   "id": "05285e1b",
   "metadata": {
    "id": "05285e1b"
   },
   "source": [
    "#### 240324 공원 산책 (2트 성공, 28분컷)"
   ]
  },
  {
   "cell_type": "code",
   "execution_count": null,
   "id": "d0372da1",
   "metadata": {
    "id": "d0372da1",
    "outputId": "13c7a172-f655-4a2d-ea0d-d1fa0472c7cb"
   },
   "outputs": [
    {
     "data": {
      "text/plain": [
       "[0, 0]"
      ]
     },
     "execution_count": 12,
     "metadata": {},
     "output_type": "execute_result"
    }
   ],
   "source": [
    "def solution(park, routes):\n",
    "    direcToIdx = {\"E\":0, \"W\":1, \"S\":2, \"N\":3}    # 동-서-남-북 순\n",
    "    coord_y = [0, 0, 1, -1]\n",
    "    coord_x = [1, -1, 0, 0]\n",
    "\n",
    "    y_s, x_s = 0,0\n",
    "    y_park = len(park)\n",
    "    x_park = len(park[0]) # 직사각형 모양이므로 이렇게 길이 지정 가능\n",
    "    #print(y_park, x_park)\n",
    "\n",
    "    for idx_y in range(y_park):\n",
    "        for idx_x in range(x_park):\n",
    "            if park[idx_y][idx_x] == \"S\":\n",
    "                y_s, x_s  = idx_y, idx_x\n",
    "    #print(\"시작 좌표 : \", y_s, x_s, \"\\n\")\n",
    "\n",
    "    y_temp, x_temp = y_s, x_s\n",
    "    for move in routes:\n",
    "        y_moved, x_moved = y_temp, x_temp\n",
    "        direc = move[0]\n",
    "        dist = int(move[-1])\n",
    "        #print(direc, dist)\n",
    "\n",
    "        for idx in range(1, dist+1):\n",
    "            y_temp2 = y_temp + coord_y[direcToIdx[direc]]\n",
    "            x_temp2 = x_temp + coord_x[direcToIdx[direc]]\n",
    "            if y_temp2>=0 and y_temp2<y_park and x_temp2>=0 and x_temp2<x_park and park[y_temp2][x_temp2]!=\"X\":\n",
    "                y_temp, x_temp = y_temp2, x_temp2\n",
    "                #print(direc, idx, \"이상없음.\")\n",
    "            else:\n",
    "                y_temp, x_temp = y_moved, x_moved\n",
    "                #print(direc, idx, \"이동불가!\")\n",
    "                break\n",
    "\n",
    "    return [y_temp, x_temp]\n",
    "\n",
    "solution([\"OSO\",\"OOO\",\"OXO\",\"OOO\"], [\"E 2\",\"S 3\",\"W 1\"])\n",
    "# 정답 : [0, 0]"
   ]
  },
  {
   "cell_type": "markdown",
   "id": "4c006a1d",
   "metadata": {
    "id": "6a20459f"
   },
   "source": [
    "#### 240714 카드뭉치 (1트, 17분 제출 실패)"
   ]
  },
  {
   "cell_type": "code",
   "execution_count": null,
   "id": "b19b78e5",
   "metadata": {
    "id": "b19b78e5"
   },
   "outputs": [],
   "source": [
    "\"\"\"\n",
    "테스트 케이스도 다 통과했고, 내 생각엔 문제가 없어보이는데 최종제출에서 4개 정도 틀림.\n",
    "\"\"\"\n",
    "def solution(cards1, cards2, goal):\n",
    "    answer = 'Yes'\n",
    "    \n",
    "    for word in goal:\n",
    "        try:\n",
    "            if word == cards1[0]:\n",
    "                del cards1[0]\n",
    "            elif word == cards2[0]:\n",
    "                del cards2[0]\n",
    "            else:\n",
    "                #print(\"List Empty!\")\n",
    "                answer = 'No'\n",
    "                break\n",
    "        except:\n",
    "            if not len(cards1)==0 and len(cards2)==0:\n",
    "                #print(\"Fail!\")\n",
    "                answer = 'No'\n",
    "            break\n",
    "            \n",
    "        #print(word, cards1, cards2)\n",
    "        \n",
    "    return answer"
   ]
  },
  {
   "cell_type": "markdown",
   "id": "46cf3ad5",
   "metadata": {},
   "source": [
    "#### 카드뭉치 정답본"
   ]
  },
  {
   "cell_type": "code",
   "execution_count": null,
   "id": "b5bb1b97",
   "metadata": {},
   "outputs": [],
   "source": [
    "def solution(cards1, cards2, goal):\n",
    "    answer = \"\"\n",
    "    index1 = 0\n",
    "    index2 = 0\n",
    "    A = []\n",
    "\n",
    "    for i in goal:\n",
    "        if i == cards1[index1]:\n",
    "            A.append(cards1[index1])\n",
    "            if index1 < (len(cards1) - 1):\n",
    "                index1 += 1\n",
    "\n",
    "        elif i == cards2[index2]:\n",
    "            A.append(cards2[index2])\n",
    "            if index2 < (len(cards2) - 1):\n",
    "                index2 += 1\n",
    "        else:\n",
    "            break\n",
    "\n",
    "    if A == goal:\n",
    "        answer += \"Yes\"\n",
    "    else:\n",
    "        answer += \"No\"\n",
    "    return answer"
   ]
  },
  {
   "cell_type": "markdown",
   "id": "5039a4d3",
   "metadata": {},
   "source": [
    "#### 카드뭉치 재풀이 시도"
   ]
  },
  {
   "cell_type": "code",
   "execution_count": null,
   "id": "456187d2",
   "metadata": {},
   "outputs": [],
   "source": [
    "\"\"\"\n",
    "'투 포인터'를 사용해서 풀어야 하는 문제.\n",
    "나는 goal 리스트의 단어만 기준으로 for문을 돌렸는데 그러면 카드뭉치 2개가 하나의 인덱스를 기준으로 탐색하게 됨.\n",
    "(물론 난 0번 인덱스만 찾긴 했지만)\n",
    "투 포인터를 사용하면 카드뭉치1,2 에서 일치 조건 인덱스를 찾으면 각각 인덱스를 증가시킴\n",
    "-> 다음 단어 차례가 왔을 때 설정된 인덱스에 맞는 원소가 없으면 \n",
    "-> 브레이크\n",
    "\"\"\"\n",
    "def solution(cards1, cards2, goal):\n",
    "    answer = \"\"\n",
    "    \n",
    "    idx1 = 0\n",
    "    idx2 = 0\n",
    "    \n",
    "    combine = []\n",
    "    \n",
    "    for word in goal:\n",
    "        if word == cards1[idx1]:\n",
    "            combine.append(cards1[idx1])\n",
    "            if idx1 < (len(cards1) - 1):\n",
    "                idx1 += 1\n",
    "\n",
    "        elif word == cards2[idx2]:\n",
    "            combine.append(cards2[idx2])\n",
    "            if idx2 < (len(cards2) - 1):\n",
    "                idx2 += 1\n",
    "        else:\n",
    "            break\n",
    "\n",
    "    if combine == goal:\n",
    "        answer = \"Yes\"\n",
    "    else:\n",
    "        answer = \"No\"\n",
    "        \n",
    "    return answer"
   ]
  },
  {
   "cell_type": "markdown",
   "id": "32aeb2d0",
   "metadata": {},
   "source": [
    "####  240715 [PCCE 기출 문제] 10번/ 데이터 분석 (1트 만족 통과, 9분컷)"
   ]
  },
  {
   "cell_type": "code",
   "execution_count": null,
   "id": "4474add4",
   "metadata": {},
   "outputs": [],
   "source": [
    "\"\"\"\n",
    "라벨 인덱스 변환을 여러번 해봐서 좀 도움이 됐음.\n",
    "딕셔너리 변환, 2중 리스트 인덱스 이용, 람다 키 정렬까지 복합적으로 사용하는 깔끔한 문제였음.\n",
    "생각보다 쉽게 풀었음.\n",
    "\"\"\"\n",
    "def solution(data, ext, val_ext, sort_by):\n",
    "    answer = []\n",
    "    \n",
    "    word2idx = {'code':0, 'date':1, 'maximum':2, 'remain':3}\n",
    "    ext_idx = word2idx[ext]\n",
    "    sort_by_idx = word2idx[sort_by]\n",
    "    #print(ext_idx, sort_by_idx)\n",
    "    \n",
    "    for small_list in data:\n",
    "        if small_list[ext_idx] < val_ext:\n",
    "            #print(small_list[ext_idx])\n",
    "            answer.append(small_list)\n",
    "\n",
    "    answer = sorted(answer, key=lambda x:x[sort_by_idx])\n",
    "    \n",
    "    return answer"
   ]
  },
  {
   "cell_type": "markdown",
   "id": "d4ed39d6",
   "metadata": {},
   "source": [
    "#### 240716 PCCE 기출문제] 9번 / 이웃한 칸 (1트 통과, 16분컷)"
   ]
  },
  {
   "cell_type": "code",
   "execution_count": null,
   "id": "13ad6577",
   "metadata": {},
   "outputs": [],
   "source": [
    "\"\"\"\n",
    "격자칸에서 색을 비교하는건데 \n",
    "'인접칸만 비교하면 된다.', '색 일치 여부만 확인한다.' 2가지만 기준 삼고 풀었더니 금방 풀었음.\n",
    "코드 줄수가 좀 많긴 한데 이쁘게 줄수를 줄이는것보단 시각적 직관성에 포커스를 뒀음.\n",
    "\"\"\"\n",
    "def solution(board, h, w):\n",
    "    answer = -2 # 가로, 세로로 찾는 범위 안에 기준이 되는 칸도 있기 때문에 -1 두번 해줌.\n",
    "    color = board[h][w] \n",
    "    \n",
    "    find_h_range = []\n",
    "    find_w_range = []\n",
    "    \n",
    "    if h>0:\n",
    "        find_h_range.append(h-1)\n",
    "    else:\n",
    "        find_h_range.append(h)\n",
    "    if h<len(board):\n",
    "        find_h_range.append(h+2)\n",
    "    elif h==6:\n",
    "        find_h_range.append(h+1)\n",
    "    else:\n",
    "        find_h_range.append(h)\n",
    "    #print(find_h_range)\n",
    "    \n",
    "    for line_h in board[find_h_range[0]:find_h_range[1]]:\n",
    "        if line_h[w]==color:\n",
    "            answer+=1\n",
    "    \n",
    "    if w>0:\n",
    "        find_w_range.append(w-1)\n",
    "    else:\n",
    "        find_w_range.append(w)\n",
    "    if w<len(board[0]):\n",
    "        find_w_range.append(w+2)\n",
    "    elif w==6:\n",
    "        find_w_range.append(w+1)\n",
    "    else:\n",
    "        find_w_range.append(w)\n",
    "    #print(find_w_range)\n",
    "    \n",
    "    for e in board[h][find_w_range[0]:find_w_range[1]]:\n",
    "        if e==color:\n",
    "            answer+=1\n",
    "        \n",
    "    return answer"
   ]
  },
  {
   "cell_type": "markdown",
   "id": "65ad1667",
   "metadata": {},
   "source": [
    "#### 240719 최솟값 만들기 (1트 통과,  5분컷)"
   ]
  },
  {
   "cell_type": "code",
   "execution_count": null,
   "id": "94d421da",
   "metadata": {},
   "outputs": [],
   "source": [
    "\"\"\"\n",
    "'길이가 같은' 두 개의 리스트의 각 원소를 곱해서 최소의 합으로 결과 리턴하는 문제\n",
    "두 리스트를 정렬하는 기준을 반대로 하면 쉽게 풀렸던 구현 난이도는 낮았던 문제.\n",
    "\"\"\"\n",
    "def solution(A,B):\n",
    "    answer=0\n",
    "    \n",
    "    A.sort()\n",
    "    B.sort(reverse=True)\n",
    "    \n",
    "    for idx in range(len(A)):\n",
    "        answer += A[idx]*B[idx]\n",
    "        \n",
    "    return answer"
   ]
  },
  {
   "cell_type": "markdown",
   "id": "4f37b288",
   "metadata": {},
   "source": [
    "#### 240718 가장 많이 받은 선물 (1트 포기, 17분 소요)"
   ]
  },
  {
   "cell_type": "code",
   "execution_count": null,
   "id": "f10d8c54",
   "metadata": {},
   "outputs": [],
   "source": [
    "\"\"\"\n",
    "선물을 준 기록을 담은 딕셔너리는 만들었는데 \n",
    "서로 선물을 줬을때 상쇄를 하고, 그 다음 선물을 많이 받을 사람 찾는 알고리즘을 못 생각해냄.\n",
    "\"\"\"\n",
    "def solution(friends, gifts):\n",
    "    answer = 0\n",
    "    gift_give = {}\n",
    "    \n",
    "    for f in friends:\n",
    "        gift_give[f] = []\n",
    "    \n",
    "    for names in gifts:\n",
    "        give = ''\n",
    "        take = ''\n",
    "        for idx in range(len(names)):\n",
    "            if names[idx]==' ':\n",
    "                give = names[:idx]\n",
    "                take = names[idx+1:]\n",
    "                break\n",
    "        #print(give, take)\n",
    "        gift_give[give].append(take)\n",
    "\n",
    "    print(gift_give)\n",
    "    \n",
    "    return answer"
   ]
  },
  {
   "cell_type": "markdown",
   "id": "c3d6a19e",
   "metadata": {},
   "source": [
    "#### 240720 문자열 나누기 (1트 실패, 17분)"
   ]
  },
  {
   "cell_type": "code",
   "execution_count": null,
   "id": "761e7783",
   "metadata": {},
   "outputs": [],
   "source": [
    "\"\"\"\n",
    "테스트 케이스에서 실패가 남.\n",
    "아마 맨 마지막 문자에서 카운트 실패하는 것 같은데 수를 써봐도 해결이 안됨.\n",
    "\"\"\"\n",
    "def solution(s):\n",
    "    answer = 0\n",
    "    \n",
    "    letter_y_cnt = letter_n_cnt = 0\n",
    "    letter_y = ''\n",
    "    \n",
    "    for idx in range(len(s)):\n",
    "        #print(idx, s[idx], letter_y_cnt, letter_n_cnt)\n",
    "        if letter_y_cnt==0:\n",
    "            letter_y_cnt=1\n",
    "            letter_y=s[idx]\n",
    "        else:\n",
    "            if s[idx]==letter_y:\n",
    "                letter_y_cnt+=1\n",
    "            else:\n",
    "                letter_n_cnt+=1\n",
    "                if letter_y_cnt==letter_n_cnt:\n",
    "                    answer+=1\n",
    "                    letter_y_cnt=letter_n_cnt=0\n",
    "    return answer"
   ]
  },
  {
   "cell_type": "markdown",
   "id": "773dfa99",
   "metadata": {},
   "source": [
    "#### 240720 문자열 나누기 (2트 수정 성공, 3분)"
   ]
  },
  {
   "cell_type": "code",
   "execution_count": null,
   "id": "3d934bb2",
   "metadata": {},
   "outputs": [],
   "source": [
    "\"\"\"\n",
    "문자열을 나누고 해당 인덱스와 다음 인덱스 글자를 비교할때 기준이 되는 글자는 letter_y인데\n",
    "일치했을 때 카운트만 더해주고, 해당 변수는 초기화를 안 했었음.(왜냐하면 다음 문자로 지정될거니까)\n",
    "\n",
    "그런데 초기화를 해줘야 전체 루프를 다 돌았을 때 이 기준 문자가 있냐 없냐로 마지막 카운트 1을 더해줄지 말지를 결정\n",
    "\n",
    "그래서 for문 다 돌고 마지막에 확인해주고 1 더해준거\n",
    "\"\"\"\n",
    "def solution(s):\n",
    "    answer = 0\n",
    "    \n",
    "    letter_y_cnt = letter_n_cnt = 0\n",
    "    letter_y = ''\n",
    "    \n",
    "    for idx in range(len(s)):\n",
    "        #print(idx, s[idx], letter_y, letter_y_cnt, letter_n_cnt)\n",
    "        if letter_y_cnt==0:\n",
    "            letter_y_cnt=1\n",
    "            letter_y=s[idx]\n",
    "        else:\n",
    "            if s[idx]==letter_y:\n",
    "                letter_y_cnt+=1\n",
    "            else:\n",
    "                letter_n_cnt+=1\n",
    "                if letter_y_cnt==letter_n_cnt:\n",
    "                    answer+=1\n",
    "                    letter_y_cnt=letter_n_cnt=0\n",
    "                    letter_y=''\n",
    "    if letter_y!='':\n",
    "        answer+=1\n",
    "        \n",
    "    return answer"
   ]
  },
  {
   "cell_type": "markdown",
   "id": "7f8e3b3b",
   "metadata": {},
   "source": [
    "#### 240723 신고 결과 받기 (1트 타임아웃, 20분 소요)"
   ]
  },
  {
   "cell_type": "code",
   "execution_count": null,
   "id": "621ef213",
   "metadata": {},
   "outputs": [],
   "source": [
    "\"\"\"\n",
    "문제 지문 설명이 개떡같이 해놔서 잘못된 방향으로 잘못 풀고 있었음. \n",
    "맘에 안들어서 걍 다시 풀기로 함\n",
    "\"\"\"\n",
    "def solution(id_list, report, k):\n",
    "    id_dict = dict.fromkeys(id_list, [])\n",
    "    print(id_dict)\n",
    "    \n",
    "    report = list(set(report))\n",
    "    \n",
    "    for e in report:\n",
    "        e = e.split(\" \")\n",
    "        name1 = e[0] # 신고하는 사람\n",
    "        name2 = e[1] # 신고 당하는 사람\n",
    "        \n",
    "        id_dict[name2].append(name1)\n",
    "        \n",
    "    return list(id_dict.values())"
   ]
  },
  {
   "cell_type": "markdown",
   "id": "9fe6141f",
   "metadata": {},
   "source": [
    "#### 240723 신고 결과 받기(2트 답안 참조)"
   ]
  },
  {
   "cell_type": "code",
   "execution_count": null,
   "id": "861e0de6",
   "metadata": {},
   "outputs": [],
   "source": [
    "\"\"\"\n",
    "아니 똑같이 딕셔너리 만드는데 dict.fromkeys(id_list, []) 로 만든건 추가할때 비정상 작동하고\n",
    "{id: [] for id in id_list}  이건 왜 내가 의도한대로 되는데? \n",
    "이거 땜에 열받아서 다시 시도했음.\n",
    "\n",
    "answer[id_list.index(name1)] += 1 이걸로 완성되는 코드\n",
    "사실 id_list가 이미 정렬이 되어있어서 가능한거지 아니었으면 정렬하고 순서 맞추느라 오류 날 가능성이 좀 있음.\n",
    "\"\"\"\n",
    "def solution(id_list, report, k):\n",
    "    answer = [0] * len(id_list)\n",
    "    reported = {id:0 for id in id_list}\n",
    "\n",
    "    report = list(set(report))\n",
    "    \n",
    "    for e in report:\n",
    "        name1, name2 = e.split()\n",
    "        reported[name2] += 1\n",
    "    #print(reported)\n",
    "    \n",
    "    for e in report:\n",
    "        name1, name2 = e.split()\n",
    "        if reported[name2] >= k:\n",
    "            answer[id_list.index(name1)] += 1\n",
    "    \n",
    "    return answer"
   ]
  },
  {
   "cell_type": "markdown",
   "id": "8160accb",
   "metadata": {},
   "source": [
    "#### 240725 [PCCP 기출문제] 1번 / 붕대 감기 (1트 성공, 11분컷)"
   ]
  },
  {
   "cell_type": "code",
   "execution_count": null,
   "id": "507a0e5d",
   "metadata": {},
   "outputs": [],
   "source": [
    "\"\"\"\n",
    "문제 지문이 좀 길어서 첨에는 긴장했는데 차근히 읽고 바로 풀었음.\n",
    "\"\"\"\n",
    "def solution(bandage, health, attacks):    \n",
    "    max_health = health\n",
    "    atk_idx = 0\n",
    "    band_cnt = 0\n",
    "    max_band = bandage[0]\n",
    "    bonus = bandage[2]\n",
    "    \n",
    "    for idx in range(1, attacks[-1][0]+1):\n",
    "        if idx == attacks[atk_idx][0]:\n",
    "            health -= attacks[atk_idx][1]\n",
    "            atk_idx += 1\n",
    "            band_cnt = 0\n",
    "            if health <= 0:\n",
    "                return -1\n",
    "        else:\n",
    "            health += bandage[1]\n",
    "            band_cnt += 1\n",
    "            if band_cnt == max_band:\n",
    "                health += bonus\n",
    "                band_cnt = 0\n",
    "            if health > max_health:\n",
    "                health = max_health\n",
    "        \n",
    "    return health"
   ]
  },
  {
   "cell_type": "markdown",
   "id": "04d8fec7",
   "metadata": {},
   "source": [
    "#### 240726 대충 만든 자판 (1트 포기, 15분 소요)"
   ]
  },
  {
   "cell_type": "code",
   "execution_count": null,
   "id": "10338c65",
   "metadata": {},
   "outputs": [],
   "source": [
    "\"\"\"\n",
    "반복문 중첩이 심해서 시간복잡도가 너무 커지고 코드 완성도 힘듬.\n",
    "\"\"\"\n",
    "def solution(keymap, targets):\n",
    "    result = []\n",
    "    \n",
    "    keymap = sorted(keymap)\n",
    "    keymap_max_len = len(keymap[-1])\n",
    "    type_cnt = 0\n",
    "    \n",
    "    for target in targets:\n",
    "        for idx in range(len(target)):\n",
    "            keymap_cnt = 0\n",
    "            keymap_idx = 0\n",
    "            while (keymap_cnt<=keymap_max_len):\n",
    "                try:\n",
    "                    if keymap[keymap_idx][keymap_cnt] == target[idx]:\n",
    "                        type_cnt += keymap_cnt\n",
    "                        keymap_cnt = 0\n",
    "                        keymap_idx = 0\n",
    "                        print('break', keymap[keymap_idx][keymap_cnt], target[idx])\n",
    "                        break\n",
    "                    else:\n",
    "                        print('else')\n",
    "                        keymap_cnt+=1\n",
    "                        keymap_idx+=1\n",
    "                except:\n",
    "                    pass\n",
    "                keymap_cnt+=1\n",
    "                print(type_cnt)\n",
    "    return result"
   ]
  },
  {
   "cell_type": "markdown",
   "id": "01f1f73b",
   "metadata": {},
   "source": [
    "#### 대충 만든 자판 (정답본)"
   ]
  },
  {
   "cell_type": "code",
   "execution_count": null,
   "id": "0bb3c695",
   "metadata": {},
   "outputs": [],
   "source": [
    "def solution(keymap, targets):\n",
    "    result = [] # 결과를 저장할 리스트\n",
    "    alp_key = dict() # 각 문자에 대한 키 정보를 저장할 딕셔너리\n",
    "    \n",
    "    # keymap을 순회하면서 각 문자가 어떤 키에서 어떤 순서로 나오는지 기록\n",
    "    for row in keymap:\n",
    "        for idx, alp in enumerate(row):\n",
    "            idx += 1 # 알파벳의 순서 idx는 0부터, 실제 누르는 횟수는 1부터이기 때문에 1 더해줌\n",
    "            # 이미 해당 문자가 기록되어 있고, 현재 키보다 나중에 나오는 경우 스킵\n",
    "            if (alp in alp_key) and alp_key[alp] < idx:\n",
    "                continue\n",
    "                \n",
    "            # 문자와 해당 키의 순서를 딕셔너리에 저장\n",
    "            alp_key[alp] = idx\n",
    "            \n",
    "    print(alp_key)\n",
    "    \n",
    "    # targets를 순회하면서 각 문자열을 만들기 위해 필요한 키 누름 횟수 계산\n",
    "    for row in targets:\n",
    "        total_index = 0 # 문자열을 만들기 위한 총 키 누름 횟수\n",
    "        for alp in row:\n",
    "            # 문자가 딕셔너리에 있으면 해당 키의 순서를 더함\n",
    "            if alp in alp_key:\n",
    "                total_index += alp_key[alp]\n",
    "            # 문자가 딕셔너리에 없으면 해당 문자열을 만들 수 없으므로 -1로 설정하고 루프 종료\n",
    "            else:\n",
    "                total_index = -1\n",
    "                break\n",
    "        # 결과 리스트에 각 문자열을 만들기 위한 키 누름 횟수 추가\n",
    "        result.append(total_index)\n",
    "        \n",
    "    return result"
   ]
  },
  {
   "cell_type": "markdown",
   "id": "e6fd4efa",
   "metadata": {},
   "source": [
    "#### 대충 만든 자판 (2트 성공, 15분 소요)"
   ]
  },
  {
   "cell_type": "code",
   "execution_count": null,
   "id": "b956bd96",
   "metadata": {},
   "outputs": [],
   "source": [
    "def solution(keymap, targets):\n",
    "    result = []\n",
    "    key_dict = dict()\n",
    "\n",
    "    for key in keymap:\n",
    "        for idx, letter in enumerate(key):\n",
    "            idx += 1\n",
    "            \n",
    "            if (letter in key_dict) and (key_dict[letter]<idx):\n",
    "                continue\n",
    "            else:\n",
    "                key_dict[letter] = idx\n",
    "\n",
    "    #print(key_dict)\n",
    "    \n",
    "    for target in targets:\n",
    "        key_cnt = 0\n",
    "        \n",
    "        for letter in target:\n",
    "            if letter in key_dict:\n",
    "                key_cnt+=key_dict[letter]\n",
    "            else:\n",
    "                key_cnt = -1\n",
    "                break\n",
    "        result.append(key_cnt)\n",
    "    \n",
    "    return result"
   ]
  },
  {
   "cell_type": "markdown",
   "id": "b0309b39",
   "metadata": {},
   "source": [
    "#### 240808 소수 만들기 (1트 통과, 9분컷)"
   ]
  },
  {
   "cell_type": "code",
   "execution_count": null,
   "id": "75eba220",
   "metadata": {},
   "outputs": [],
   "source": [
    "\"\"\"\n",
    "3개 수를 뽑은 합이 소수인지 검사하면 되는 문제\n",
    "처음에는 합의 제곱근까지만 검사를 했는데 그렇게 하면 소수인지 확실하게 검사를 할 수가 없음.\n",
    "\n",
    "제곱근까지 소수 검사하는건 \n",
    ">> 해당수의 제곱근 범위에서 약수를 검사했을때 소수가 아니면 해당 수는 소수가 아니라는 검사 방식\n",
    "\"\"\"\n",
    "from itertools import combinations\n",
    "from math import trunc\n",
    "\n",
    "def solution(nums):\n",
    "    answer = 0\n",
    "    \n",
    "    for comb in combinations(nums, 3):\n",
    "        plus = sum(comb)\n",
    "        devine = 0\n",
    "        for num in range(1, plus+1):\n",
    "            if plus % num==0:\n",
    "                devine+=1\n",
    "        if devine==2:\n",
    "            answer+=1\n",
    "            \n",
    "    return answer"
   ]
  },
  {
   "cell_type": "markdown",
   "id": "3645c9a1",
   "metadata": {},
   "source": [
    "#### 240809 소수 찾기 (1트 실패, 16분 소요)"
   ]
  },
  {
   "cell_type": "code",
   "execution_count": null,
   "id": "12a41b56",
   "metadata": {},
   "outputs": [],
   "source": [
    "\"\"\"\n",
    "일부 테스트 케이스에서 타임아웃 남.\n",
    "시간을 줄여보려고 미리 큰 제곱수로 나눠지는지 테스트도 해봤는데 결과는 거의 차이 없었음.\n",
    "\"\"\"\n",
    "def solution(n):\n",
    "    answer = 0\n",
    "    devide = n\n",
    "    \n",
    "    for num in range(2, n+1):\n",
    "        cnt = 0\n",
    "        for num2 in range(2, num+1):\n",
    "            if num % num2 == 0:\n",
    "                cnt += 1\n",
    "            if cnt>1:\n",
    "                break\n",
    "        if cnt==1:\n",
    "            answer+=1\n",
    "            \n",
    "    return answer"
   ]
  },
  {
   "cell_type": "markdown",
   "id": "c8f17def",
   "metadata": {},
   "source": [
    "#### 240809 소수 찾기 (2트 바로 성공, 3분)"
   ]
  },
  {
   "cell_type": "code",
   "execution_count": null,
   "id": "27c905db",
   "metadata": {},
   "outputs": [],
   "source": [
    "\"\"\"\n",
    "알고는 있었는데 첫트에 뭔가 원리가 안 맞는것 같아서 적용을 못 했는데 시도하고 바로 통과함.\n",
    "해당수의 제곱근까지만 검사하면 되는건 맞는데\n",
    "아래 코드에선 어차피 1은 모든 수의 약수고, \n",
    "그 수 자체도 약수이니 만약 loop를 돌면서 약수가 추가되서 cnt가 1을 초과하는 순간 break \n",
    "\"\"\"\n",
    "from math import trunc\n",
    "\n",
    "def solution(n):\n",
    "    answer = 0\n",
    "    devide = n\n",
    "    \n",
    "    for num in range(2, n+1):\n",
    "        cnt = 0\n",
    "        for num2 in range(1, trunc(num**0.5)+1):\n",
    "            if num % num2 == 0:\n",
    "                cnt += 1\n",
    "            if cnt>1:\n",
    "                break\n",
    "        if cnt==1:\n",
    "            answer+=1\n",
    "            \n",
    "    return answer"
   ]
  },
  {
   "cell_type": "markdown",
   "id": "b8335906",
   "metadata": {},
   "source": [
    "#### 240810 신규 아이디 추천 (1트 실패, 40분 소요)"
   ]
  },
  {
   "cell_type": "code",
   "execution_count": null,
   "id": "33d756a5",
   "metadata": {},
   "outputs": [],
   "source": [
    "\"\"\"\n",
    "7단계의 처리 과정을 날것으로 구현하기는 했는데, 해당 단계에서 1차로 처리를 했는데 그 다음이나 나중에\n",
    "이전 단계의 문제가 다시 발생했을때에 대한 처리가 되지 못함.\n",
    "\"\"\"\n",
    "def solution(new_id):\n",
    "    #1\n",
    "    id1 = new_id.lower()\n",
    "    print('#1', id1)\n",
    "    \n",
    "    #2\n",
    "    id2 = ''\n",
    "    for idx in range(len(id1)):\n",
    "        if id1[idx]!='_' and id1[idx]!='-' and id1[idx]!='.' and id1[idx].isnumeric()==False and id1[idx].isalpha()==False:\n",
    "            continue\n",
    "        else:\n",
    "            id2+=id1[idx]\n",
    "    print('#2', id2)\n",
    "    \n",
    "    #3 \n",
    "    id3 = ''\n",
    "    dot_cnt = 0\n",
    "    for idx in range(len(id2)):\n",
    "        if id2[idx]=='.'and dot_cnt==0:\n",
    "            id3+='.'\n",
    "            dot_cnt+=1\n",
    "        elif id2[idx]!='.':\n",
    "            dot_cnt=0\n",
    "            id3+=id2[idx]        \n",
    "    print('#3', id3)\n",
    "    \n",
    "    \n",
    "    #4\n",
    "    id4 = id3\n",
    "    if len(id4)!=0:\n",
    "        if id4[0]=='.':\n",
    "            id4 = id4[1:]\n",
    "    if len(id4)!=0:\n",
    "        if id4[-1]=='.':\n",
    "            id4 = id4[:-1]\n",
    "    print('#4', id4)\n",
    "    \n",
    "    #5\n",
    "    if len(id4)==0:\n",
    "        id5 = 'a'\n",
    "    else:\n",
    "        id5 = id4\n",
    "    print('#5', id5)\n",
    "    \n",
    "    #6 \n",
    "    id6 = ''\n",
    "    if len(id5)>15:\n",
    "        id6 = id5[0:15]\n",
    "    else:\n",
    "        id6 = id5\n",
    "    print('#6', id6)\n",
    "    \n",
    "    #7 \n",
    "    id7=id6\n",
    "    while(len(id7)<3):\n",
    "        id7+='a'\n",
    "    print('#7', id7)\n",
    "    \n",
    "    return id7"
   ]
  },
  {
   "cell_type": "markdown",
   "id": "7cf1abdb",
   "metadata": {},
   "source": [
    "#### 240810 신규 아이디 추천 (2트 수정 바로 성공)¶"
   ]
  },
  {
   "cell_type": "code",
   "execution_count": null,
   "id": "8e90f7ac",
   "metadata": {},
   "outputs": [],
   "source": [
    "\"\"\"\n",
    "3,4,6 수정함\n",
    "6에선 자른 뒤에 다시 맨 마지막 문자가 '.'인지 검사하는게 키포인트였음.\n",
    "\"\"\"\n",
    "def solution(new_id):\n",
    "    #1\n",
    "    id1 = new_id.lower()\n",
    "    #print('#1', id1)\n",
    "    \n",
    "    #2\n",
    "    id2 = ''\n",
    "    for idx in range(len(id1)):\n",
    "        if id1[idx]!='_' and id1[idx]!='-' and id1[idx]!='.' and id1[idx].isnumeric()==False and id1[idx].isalpha()==False:\n",
    "            continue\n",
    "        else:\n",
    "            id2+=id1[idx]\n",
    "    #print('#2', id2)\n",
    "    \n",
    "    #3 \n",
    "    id3 = id2\n",
    "    while \"..\" in id3:\n",
    "        id3 = id3.replace(\"..\", \".\")\n",
    "    #print('#3', id3)\n",
    "    \n",
    "    #4\n",
    "    id4 = id3\n",
    "    while id4.startswith(\".\") or id4.endswith(\".\"):\n",
    "        if id4.startswith(\".\"):\n",
    "            id4 = id4[1:]\n",
    "        if id4.endswith(\".\"):\n",
    "            id4 = id4[:-1]\n",
    "    #print('#4', id4)\n",
    "    \n",
    "    #5\n",
    "    if id4=='':\n",
    "        id5 = 'a'\n",
    "    else:\n",
    "        id5 = id4\n",
    "    #print('#5', id5)\n",
    "    \n",
    "    #6 \n",
    "    id6 = ''\n",
    "    if len(id5)>15:\n",
    "        id6 = id5[0:15]\n",
    "        if id6.endswith(\".\"):\n",
    "            id6 = id6[:-1]\n",
    "    else:\n",
    "        id6 = id5\n",
    "    #print('#6', id6)\n",
    "    \n",
    "    #7 \n",
    "    id7=id6\n",
    "    while(len(id7)<3):\n",
    "        id7+=id7[-1]\n",
    "    #print('#7', id7)\n",
    "    \n",
    "    return id7"
   ]
  },
  {
   "cell_type": "markdown",
   "id": "f7b49c05",
   "metadata": {},
   "source": [
    "#### 240926 [PCCP 기출문제] 1번 / 동영상 재생기 (1트 통과, 16분 소요)"
   ]
  },
  {
   "cell_type": "code",
   "execution_count": null,
   "id": "8f2ab357",
   "metadata": {},
   "outputs": [],
   "source": [
    "\"\"\"\n",
    "시간 문제가 나왔을 때는 그냥 분 단위로 통일해서 푸는게 편하다는걸 알고만 있으면 어렵지 않은 문제.\n",
    "문제가 시간 미만, 이하 등의 범위에서 애매하게 설정하긴 했지만 동작에는 무리가 없어서 통과함.\n",
    "\"\"\"\n",
    "def solution(video_len, pos, op_start, op_end, commands):\n",
    "    answer = ''\n",
    "    pos_m = int(pos[:2])*60 + int(pos[3:])\n",
    "    op_start_m = int(op_start[:2])*60 + int(op_start[3:])\n",
    "    op_end_m = int(op_end[:2])*60 + int(op_end[3:])\n",
    "    vid_len_m = int(video_len[:2])*60 + int(video_len[3:])\n",
    "    \n",
    "    for command in commands:\n",
    "        if pos_m >= op_start_m and pos_m <= op_end_m:\n",
    "            pos_m = op_end_m\n",
    "            \n",
    "        if command == \"prev\":\n",
    "            if pos_m<10:\n",
    "                pos_m = 0\n",
    "            elif pos_m>=10:\n",
    "                pos_m-=10\n",
    "                \n",
    "        elif command == \"next\":\n",
    "            if vid_len_m-pos_m<10:\n",
    "                pos_m = vid_len_m\n",
    "            elif vid_len_m-pos_m>=10:\n",
    "                pos_m+=10\n",
    "                \n",
    "        #print(pos_m, pos_m//60, pos_m%60)  \n",
    "        \n",
    "    # 명령이 끝났을 때 오프닝 생략 체크\n",
    "    if pos_m >= op_start_m and pos_m <= op_end_m:\n",
    "        pos_m = op_end_m\n",
    "        #print(pos_m, pos_m//60, pos_m%60)  \n",
    "        \n",
    "    # return 결과를 문자열로 조합\n",
    "    hh = str(pos_m//60)\n",
    "    if hh == \"0\":\n",
    "        hh = \"00\"\n",
    "    if len(hh)==1:\n",
    "        hh = \"0\"+hh\n",
    "    mm = str(pos_m%60)\n",
    "    if mm == \"0\":\n",
    "        mm = \"00\"\n",
    "    if len(mm)==1:\n",
    "        mm = \"0\"+mm\n",
    "        \n",
    "    answer = hh+\":\"+mm\n",
    "    \n",
    "    return answer"
   ]
  }
 ],
 "metadata": {
  "colab": {
   "provenance": [],
   "toc_visible": true
  },
  "kernelspec": {
   "display_name": "Python 3 (ipykernel)",
   "language": "python",
   "name": "python3"
  },
  "language_info": {
   "codemirror_mode": {
    "name": "ipython",
    "version": 3
   },
   "file_extension": ".py",
   "mimetype": "text/x-python",
   "name": "python",
   "nbconvert_exporter": "python",
   "pygments_lexer": "ipython3",
   "version": "3.9.12"
  }
 },
 "nbformat": 4,
 "nbformat_minor": 5
}
