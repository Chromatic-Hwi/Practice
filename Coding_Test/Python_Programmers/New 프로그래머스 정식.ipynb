{
 "cells": [
  {
   "cell_type": "markdown",
   "id": "ef8987bb",
   "metadata": {},
   "source": [
    "## 1단계"
   ]
  },
  {
   "cell_type": "markdown",
   "id": "c44410b8",
   "metadata": {},
   "source": [
    "### 221225 크기가 작은 부분 문자열 (4분 1트 통과)"
   ]
  },
  {
   "cell_type": "code",
   "execution_count": null,
   "id": "68e850b1",
   "metadata": {},
   "outputs": [],
   "source": [
    "'''\n",
    "부분 집합과 기초적인 처리들. 반복 처리와 자료형을 능숙하게 다루는지에 대한 문제.\n",
    "'''\n",
    "def solution(t, p):\n",
    "    answer = 0\n",
    "    splitSize = len(p)\n",
    "    \n",
    "    smallList = []\n",
    "    start = 0\n",
    "    for w in t:\n",
    "        small = t[start:splitSize+start]\n",
    "        start += 1\n",
    "        #print(small)\n",
    "        if len(small) == splitSize and small <= p:\n",
    "            smallList.append(small)\n",
    "        else:\n",
    "            pass\n",
    "    #print(smallList)\n",
    "    return len(smallList)"
   ]
  }
 ],
 "metadata": {
  "kernelspec": {
   "display_name": "Python 3 (ipykernel)",
   "language": "python",
   "name": "python3"
  },
  "language_info": {
   "codemirror_mode": {
    "name": "ipython",
    "version": 3
   },
   "file_extension": ".py",
   "mimetype": "text/x-python",
   "name": "python",
   "nbconvert_exporter": "python",
   "pygments_lexer": "ipython3",
   "version": "3.9.12"
  }
 },
 "nbformat": 4,
 "nbformat_minor": 5
}
