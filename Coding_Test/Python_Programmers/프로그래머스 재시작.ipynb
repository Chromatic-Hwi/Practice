{
 "cells": [
  {
   "cell_type": "markdown",
   "id": "3be78130",
   "metadata": {},
   "source": [
    "# 코테 재시작"
   ]
  },
  {
   "cell_type": "markdown",
   "id": "c0b41d13",
   "metadata": {},
   "source": [
    "# -------------------- <1단계> --------------------"
   ]
  },
  {
   "cell_type": "markdown",
   "id": "26412841",
   "metadata": {},
   "source": [
    "#### 240213 달리기 경주 (다시 코테 시작, 20분 타임아웃)"
   ]
  },
  {
   "cell_type": "code",
   "execution_count": null,
   "id": "d5e7fda6",
   "metadata": {},
   "outputs": [],
   "source": [
    "\"\"\"\n",
    "리스트 쓰는 법부터 다 까먹었음. 머리로 구상은 다 됐는데 구현이 안 되는 상황.\n",
    "※ list.pop() 함수를 사용하면 맨 끝 인덱스 원소를 삭제한다.\n",
    "\"\"\"\n",
    "def solution(players, callings):\n",
    "    for called_name in callings:\n",
    "        now_index = players.index(called_name)\n",
    "\n",
    "        # 추월을 하게 되면 항상 인덱스가 큰 숫자에서 작은 숫자 방향으로 가기 때문에 빼기 연산이 문제가 없음.\n",
    "        del players[now_index] # 추월 예정인 원소 삭제\n",
    "        \n",
    "        overtake_index = now_index-1\n",
    "        players.insert(overtake_index, called_name) # 추월 대상 원소의 위치에 삽입하면 자동으로 해당 원소는 뒤로 밀림.\n",
    "        \n",
    "    answer = players\n",
    "    return answer"
   ]
  },
  {
   "cell_type": "markdown",
   "id": "f0a415ed",
   "metadata": {},
   "source": [
    "#### 240213 달리기 경주 (힌트 보고 2트)"
   ]
  },
  {
   "cell_type": "code",
   "execution_count": 15,
   "id": "562acdbe",
   "metadata": {},
   "outputs": [
    {
     "data": {
      "text/plain": [
       "['mumu', 'kai', 'mine', 'soe', 'poe']"
      ]
     },
     "execution_count": 15,
     "metadata": {},
     "output_type": "execute_result"
    }
   ],
   "source": [
    "\"\"\"\n",
    "list index는 그 탐색 자체만으로 이미 루프임. 따라서 dictionary 주소로 찾는게 빠르다고 함.\n",
    "그러면 dict 사용법을 다시 살펴볼까..\n",
    "\n",
    "※ range 함수는 자체로 list를 생성한다.\n",
    "\n",
    "※ 파이썬의 swap 함수를 사용하면 간단히 두 변수의 값을 스왑할 수 있다.\n",
    "\"\"\"\n",
    "\n",
    "def solution(players, callings):\n",
    "    dict_players = dict(zip(players, range(len(players))))\n",
    "    # 값 : 키 순으로 배치, 이름의 순번을 바꿔야하기 때문에 편의성 고려\n",
    "\n",
    "    \"\"\"\n",
    "    callings의 값(=이름)으로 딕셔너리에서 검색\n",
    "    -> 해당 이름의 인덱스(=키) 추출, 저장\n",
    "    -> 해당 이름의 인덱스 -1을 키로 가지는 원소의 인덱스 +1 연산\n",
    "    -> 이름값은 변하지 않으니 해당 이름의 원소 인덱스 -1 연산 실행\n",
    "    -> 딕셔너리 내부에서 키와 밸류 정리 완료.\n",
    "    -> 원본 리스트에서 딕셔너리의 키를 사용해 자리 swap\n",
    "    \"\"\"\n",
    "    \n",
    "    for call in callings:\n",
    "        called_idx = dict_players[call]\n",
    "        dict_players[players[called_idx-1]] += 1\n",
    "        dict_players[call] -= 1\n",
    "        \n",
    "        players[called_idx-1], players[called_idx] = players[called_idx], players[called_idx-1]\n",
    "        \n",
    "    answer = players\n",
    "    return answer\n",
    "\n",
    "solution([\"mumu\", \"soe\", \"poe\", \"kai\", \"mine\"], [\"kai\", \"kai\", \"mine\", \"mine\"])"
   ]
  },
  {
   "cell_type": "markdown",
   "id": "f667d8b9",
   "metadata": {},
   "source": [
    "#### 240214 가장 가까운 같은 글자 (1트, 30분 타임아웃)"
   ]
  },
  {
   "cell_type": "code",
   "execution_count": 65,
   "id": "f8b78d28",
   "metadata": {},
   "outputs": [],
   "source": [
    "def solution(s):\n",
    "    #letter_list = list(s)\n",
    "    \n",
    "    answer = []\n",
    "    \n",
    "    for idx in range(len(s)):\n",
    "        if idx == 0:\n",
    "            print(\"첫 글자\\n\")\n",
    "            first_letter = s[0]\n",
    "            answer.append(-1)\n",
    "        else:\n",
    "            print(f\"this is {idx} letter\")\n",
    "            for idx2 in range(idx, 0, -1):\n",
    "                if s[idx2] not in s[0:idx-1]:\n",
    "                    print(\"앞에 중복 없음\\n\")\n",
    "                    answer.append(-1)\n",
    "                    break\n",
    "                else:\n",
    "                    if s[idx] == s[idx2] and idx != idx2:\n",
    "                        print(f\"찾음. {idx}, {idx2}\")\n",
    "                        answer.append(idx-idx2)\n",
    "                        break\n",
    "                    else:\n",
    "                        print(\"얘 아님\")\n",
    "                        pass\n",
    "    return answer"
   ]
  },
  {
   "cell_type": "markdown",
   "id": "c40a64f3",
   "metadata": {},
   "source": [
    "#### 가장 가까운 같은 글자(힌트본, dict 이용)"
   ]
  },
  {
   "cell_type": "code",
   "execution_count": 89,
   "id": "0f3763f9",
   "metadata": {},
   "outputs": [],
   "source": [
    "def solution(s):\n",
    "    answer = []\n",
    "    s_dict = dict()\n",
    "    \n",
    "    for i in range(len(s)):\n",
    "        if s[i] not in s_dict:\n",
    "            answer.append(-1)\n",
    "        else:\n",
    "            print(\"중복 찾기\")\n",
    "            answer.append(i-s_dict[s[i]]) # 현재 idx에서 딕셔너리 내부 동일글자(s[i]) 인덱스에 해당하는 숫자 차연산\n",
    "        print(i, s_dict)\n",
    "        s_dict[s[i]] = i\n",
    "        print(i, s_dict, \"\\n\")\n",
    "        \n",
    "    return answer"
   ]
  },
  {
   "cell_type": "markdown",
   "id": "3a3f2dbf",
   "metadata": {},
   "source": [
    "#### 240215 햄버거 만들기 (1차, 20분 타임아웃, 다른 방향으로 만들어야 한다고 깨달음)"
   ]
  },
  {
   "cell_type": "code",
   "execution_count": 25,
   "id": "ad7ce579",
   "metadata": {},
   "outputs": [],
   "source": [
    "def solution(ingredient):\n",
    "    answer = 0\n",
    "    burger_step = 1\n",
    "    burger_maked = []\n",
    "    \n",
    "    for pick in ingredient:\n",
    "        print(pick)\n",
    "        if pick == 1:\n",
    "            if len(burger_maked) == 0:\n",
    "                burger_maked.append(pick)\n",
    "            elif burger_maked[-1] == 3:\n",
    "                burger_maked.append(pick)\n",
    "                print(burger_maked)\n",
    "                answer += 1\n",
    "                burger_maked.clear()\n",
    "            else:\n",
    "                pass\n",
    "        elif pick == 2:\n",
    "            if len(burger_maked) == 0:\n",
    "                pass\n",
    "            else:\n",
    "                burger_maked.append(pick)\n",
    "        elif pick == 3:\n",
    "            if len(burger_maked) == 0:\n",
    "                pass\n",
    "            else:\n",
    "                burger_maked.append(pick)\n",
    "        else:\n",
    "            pass\n",
    "    \n",
    "    return answer"
   ]
  },
  {
   "cell_type": "markdown",
   "id": "6ba1cb0b",
   "metadata": {},
   "source": [
    "#### 240215 햄버거 만들기 (2차, 5분 실패, 문제 이해를 잘 못함)"
   ]
  },
  {
   "cell_type": "code",
   "execution_count": 33,
   "id": "b8bee741",
   "metadata": {},
   "outputs": [],
   "source": [
    "\"\"\"\n",
    "문제에서 제시한건 연속된 1-2-3-1 순서로만 버거를 만들 수 있단 뜻.\n",
    "처음 만들었던 코드와 이 버전을 합치면 될듯 함.\n",
    "\"\"\"\n",
    "def solution(ingredient):\n",
    "    answer = 0\n",
    "    next_ingredient = 1\n",
    "    \n",
    "    for pick in ingredient:\n",
    "        if pick == 1 and next_ingredient == 1:\n",
    "            next_ingredient = 2\n",
    "        elif pick == 2 and next_ingredient == 2:\n",
    "            next_ingredient = 3\n",
    "        elif pick == 3 and next_ingredient == 3:\n",
    "            next_ingredient = 4\n",
    "        elif pick == 1 and next_ingredient == 4:\n",
    "            next_ingredient = 1\n",
    "            answer += 1\n",
    "        else:\n",
    "            pass\n",
    "        \n",
    "    return answer"
   ]
  },
  {
   "cell_type": "markdown",
   "id": "11036d39",
   "metadata": {},
   "source": [
    "#### 240215 햄버거 만들기 (3차, 실패)"
   ]
  },
  {
   "cell_type": "code",
   "execution_count": 40,
   "id": "d38f2991",
   "metadata": {},
   "outputs": [],
   "source": [
    "\"\"\"\n",
    "루프 돌면서 1-2-3-1 만 찾도록 해봤는데 처음 만들때부터 시간 초과될게 걱정이기도 했지만,\n",
    "결과적으로 코드 정상 동작 실패\n",
    "\"\"\"\n",
    "def solution(ingredient):\n",
    "    answer = 0\n",
    "    next_ingredient = 1\n",
    "    burger = []\n",
    "    \n",
    "    for idx in range(len(ingredient)):\n",
    "        print(ingredient[idx])\n",
    "        if ingredient[idx] == 1 and next_ingredient == 1:\n",
    "            next_ingredient == 2\n",
    "            if ingredient[idx+1] == 2 and next_ingredient == 2:\n",
    "                next_ingredient == 3\n",
    "                if ingredient[idx+2] == 3 and next_ingredient == 3:\n",
    "                    next_ingredient == 4\n",
    "                    if ingredient[idx+3] == 1 and next_ingredient == 4:\n",
    "                        next_ingredient ==1\n",
    "                        del ingredient[idx:idx+4]\n",
    "        else:\n",
    "            pass\n",
    "    return answer"
   ]
  },
  {
   "cell_type": "markdown",
   "id": "781a118f",
   "metadata": {},
   "source": [
    "#### 240215 햄버거 만들기 (힌트본)"
   ]
  },
  {
   "cell_type": "code",
   "execution_count": 46,
   "id": "e9c72626",
   "metadata": {},
   "outputs": [],
   "source": [
    "\"\"\"\n",
    "리스트내 원소를 하나씩만 비교할게 아니라 버거가 조합되는\n",
    "1-2-3-1 을 하나의 별도 리스트로 생각하고, 우측(리스트끝)부터 카운트한 4개가 버거 조합으로 완성되면\n",
    "별도 리스트 내부에서 4개를 삭제하는 식. \n",
    "s[-4:] == [1, 2, 3, 1] 이걸 생각을 못했네\n",
    "\"\"\"\n",
    "def solution(ingredient):\n",
    "    s = []\n",
    "    answer = 0\n",
    "    \n",
    "    for i in ingredient:\n",
    "        s.append(i)\n",
    "        if s[-4:] == [1, 2, 3, 1]:\n",
    "            answer += 1\n",
    "            del s[-4:]\n",
    "            \n",
    "    return answer"
   ]
  },
  {
   "cell_type": "markdown",
   "id": "2045325f",
   "metadata": {},
   "source": [
    "#### 240216 콜라문제 (1트, 30분 검증에서 실패)"
   ]
  },
  {
   "cell_type": "code",
   "execution_count": 48,
   "id": "04e737b6",
   "metadata": {},
   "outputs": [],
   "source": [
    "\"\"\"\n",
    "a는 고려를 했는데 b를 고려를 안 하고 1일거라고만 생각함.\n",
    "문제를 제대로 이해하지 못한게 패착\n",
    "\"\"\"\n",
    "def solution(a, b, empty_bottle):\n",
    "    new_cola = 0\n",
    "    \n",
    "    while (empty_bottle>0):\n",
    "        print(empty_bottle)\n",
    "        new_cola_get = 0\n",
    "        if empty_bottle<2:# 빈병이 2병 미만이면 1병이던가 0병인데 어차피 새콜라 수령수에는 미포함이니 바로 브레이크\n",
    "            break\n",
    "        elif empty_bottle == 2:\n",
    "            new_cola += 1\n",
    "            break\n",
    "        else:\n",
    "            if empty_bottle % a == 0:\n",
    "                new_cola += empty_bottle//a\n",
    "                new_cola_get += empty_bottle//a\n",
    "                empty_bottle -= empty_bottle\n",
    "            else:\n",
    "                new_cola += (empty_bottle-(empty_bottle%a))//a\n",
    "                new_cola_get += (empty_bottle-1)//a\n",
    "                empty_bottle -= empty_bottle-1\n",
    "                \n",
    "            empty_bottle += new_cola_get\n",
    "        print(empty_bottle, \"\\n\")\n",
    "    return new_cola"
   ]
  },
  {
   "cell_type": "markdown",
   "id": "554cfc32",
   "metadata": {},
   "source": [
    "#### 240216 콜라문제 (2트, 1트 재활용 10분컷, 통과)"
   ]
  },
  {
   "cell_type": "code",
   "execution_count": 57,
   "id": "deb4e057",
   "metadata": {},
   "outputs": [],
   "source": [
    "def solution(a, b, empty_bottle):\n",
    "    new_cola = 0\n",
    "    \n",
    "    while (empty_bottle>0):\n",
    "        print(empty_bottle)\n",
    "        new_cola_get = 0\n",
    "        if empty_bottle<a:# 빈병이 2병 미만이면 1병이던가 0병인데 어차피 새콜라 수령수에는 미포함이니 바로 브레이크\n",
    "            break\n",
    "        elif empty_bottle == a:\n",
    "            new_cola += b\n",
    "            break\n",
    "        else:\n",
    "            if empty_bottle % a == 0:\n",
    "                cal = empty_bottle//a*b\n",
    "                new_cola += cal\n",
    "                new_cola_get += cal\n",
    "                empty_bottle -= empty_bottle\n",
    "            else:\n",
    "                cal = (empty_bottle-(empty_bottle%a))//a*b\n",
    "                new_cola += cal\n",
    "                new_cola_get += cal\n",
    "                empty_bottle -= (empty_bottle-(empty_bottle%a))\n",
    "            empty_bottle += new_cola_get\n",
    "        print(empty_bottle, \"\\n\")\n",
    "    return new_cola"
   ]
  },
  {
   "cell_type": "markdown",
   "id": "6f333df6",
   "metadata": {},
   "source": [
    "#### 240217 추억 점수 (1트, 10분컷 통과)"
   ]
  },
  {
   "cell_type": "code",
   "execution_count": 3,
   "id": "c2b3bc07",
   "metadata": {},
   "outputs": [],
   "source": [
    "\"\"\"\n",
    "이름에 해당하는 점수를 각 리스트별로 합산하는걸 보자마자 딕셔너리를 써야겠다고 직감함.\n",
    "테스트 케이스에서 이름에 대한 점수가 없는 경우가 있어서 error가 한번 났었지만 딕셔너리 안에서 이름 유무를 검사하는 코드를 추가해서 해결\n",
    "\"\"\"\n",
    "def solution(name, yearning, photo):\n",
    "    answer = []\n",
    "    memory_dict = dict(zip(name, yearning))\n",
    "    for idx in range(len(photo)):\n",
    "        memory_value = 0\n",
    "        for n in photo[idx]:\n",
    "            if n in memory_dict:\n",
    "                memory_value += memory_dict[n]\n",
    "            else:\n",
    "                pass\n",
    "        answer.append(memory_value)\n",
    "    return answer"
   ]
  },
  {
   "cell_type": "markdown",
   "id": "cf52cbd7",
   "metadata": {},
   "source": [
    "#### 240217 삼총사 (1트, 15분컷 통과)"
   ]
  },
  {
   "cell_type": "code",
   "execution_count": null,
   "id": "d54a31d2",
   "metadata": {},
   "outputs": [],
   "source": [
    "\"\"\"\n",
    "순열로 뽑아서 정렬을 해버리면 같은 값 원소는 없어져버림.\n",
    "조합을 써야 정상 작동함. (순서를 고려한다는 것은 같은 값이라도 인덱스가 다르면 다르게 취급하는거니까)\n",
    "\"\"\"\n",
    "from itertools import combinations\n",
    "\n",
    "def solution(number):\n",
    "    answer = 0\n",
    "    total_comb = []\n",
    "    \n",
    "    for comb in combinations(number, 3):\n",
    "        comb_list=list(comb)\n",
    "        #perm_list.sort()\n",
    "        #if perm_list not in total_comb:\n",
    "        if sum(comb_list) == 0:\n",
    "            answer += 1\n",
    "        else:\n",
    "            pass\n",
    "        #total_comb.append(comb_list)\n",
    "    return answer"
   ]
  },
  {
   "cell_type": "markdown",
   "id": "9914d95e",
   "metadata": {},
   "source": [
    "#### 240218 햄버거 만들기 재도전 (8분, 통과)"
   ]
  },
  {
   "cell_type": "code",
   "execution_count": null,
   "id": "bd40639d",
   "metadata": {},
   "outputs": [],
   "source": [
    "def solution(ingredient):\n",
    "    answer = 0\n",
    "    total = []\n",
    "    burger = [1,2,3,1]\n",
    "    \n",
    "    for sub in ingredient:\n",
    "        if total[-4:] == burger:\n",
    "            answer += 1\n",
    "            del total[-4:]\n",
    "        else:\n",
    "            total.append(sub)\n",
    "        print(sub, total)\n",
    "    return answer"
   ]
  },
  {
   "cell_type": "markdown",
   "id": "fa8a1ee7",
   "metadata": {},
   "source": [
    "#### 240218 가장 가까운 글자 재도전 (10분, 통과)"
   ]
  },
  {
   "cell_type": "code",
   "execution_count": null,
   "id": "4c72c2a0",
   "metadata": {},
   "outputs": [],
   "source": [
    "def solution(s):\n",
    "    answer = []\n",
    "    s_dict = dict()\n",
    "    \n",
    "    for i in range(len(s)):\n",
    "        if s[i] not in s_dict: # 첫인덱스도 어차피 해당 안되니 바로 -1 추가하면 됨.\n",
    "            answer.append(-1)\n",
    "        else:\n",
    "            answer.append(i-s_dict[s[i]])\n",
    "        s_dict[s[i]] = i\n",
    "        #print(i, s[i], s_dict)\n",
    "        \n",
    "    return answer"
   ]
  },
  {
   "cell_type": "markdown",
   "id": "a92c5e71",
   "metadata": {},
   "source": [
    "# -------------------- <2단계> --------------------"
   ]
  },
  {
   "cell_type": "code",
   "execution_count": null,
   "id": "b99b8054",
   "metadata": {},
   "outputs": [],
   "source": []
  },
  {
   "cell_type": "markdown",
   "id": "0fe6cc1d",
   "metadata": {},
   "source": [
    "# -------------------- <3단계> --------------------"
   ]
  }
 ],
 "metadata": {
  "kernelspec": {
   "display_name": "Python 3 (ipykernel)",
   "language": "python",
   "name": "python3"
  },
  "language_info": {
   "codemirror_mode": {
    "name": "ipython",
    "version": 3
   },
   "file_extension": ".py",
   "mimetype": "text/x-python",
   "name": "python",
   "nbconvert_exporter": "python",
   "pygments_lexer": "ipython3",
   "version": "3.9.12"
  }
 },
 "nbformat": 4,
 "nbformat_minor": 5
}
