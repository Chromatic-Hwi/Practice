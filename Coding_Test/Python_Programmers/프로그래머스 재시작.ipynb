{
 "cells": [
  {
   "cell_type": "markdown",
   "id": "3be78130",
   "metadata": {},
   "source": [
    "# 코테 재시작"
   ]
  },
  {
   "cell_type": "markdown",
   "id": "c0b41d13",
   "metadata": {},
   "source": [
    "# -------------------- <1단계> --------------------"
   ]
  },
  {
   "cell_type": "markdown",
   "id": "26412841",
   "metadata": {},
   "source": [
    "#### 240213 달리기 경주 (다시 코테 시작, 20분 타임아웃)"
   ]
  },
  {
   "cell_type": "code",
   "execution_count": null,
   "id": "d5e7fda6",
   "metadata": {},
   "outputs": [],
   "source": [
    "\"\"\"\n",
    "리스트 쓰는 법부터 다 까먹었음. 머리로 구상은 다 됐는데 구현이 안 되는 상황.\n",
    "※ list.pop() 함수를 사용하면 맨 끝 인덱스 원소를 삭제한다.\n",
    "\"\"\"\n",
    "def solution(players, callings):\n",
    "    for called_name in callings:\n",
    "        now_index = players.index(called_name)\n",
    "\n",
    "        # 추월을 하게 되면 항상 인덱스가 큰 숫자에서 작은 숫자 방향으로 가기 때문에 빼기 연산이 문제가 없음.\n",
    "        del players[now_index] # 추월 예정인 원소 삭제\n",
    "        \n",
    "        overtake_index = now_index-1\n",
    "        players.insert(overtake_index, called_name) # 추월 대상 원소의 위치에 삽입하면 자동으로 해당 원소는 뒤로 밀림.\n",
    "        \n",
    "    answer = players\n",
    "    return answer"
   ]
  },
  {
   "cell_type": "markdown",
   "id": "f0a415ed",
   "metadata": {},
   "source": [
    "#### 240213 달리기 경주 (힌트 보고 2트)"
   ]
  },
  {
   "cell_type": "code",
   "execution_count": 15,
   "id": "562acdbe",
   "metadata": {},
   "outputs": [
    {
     "data": {
      "text/plain": [
       "['mumu', 'kai', 'mine', 'soe', 'poe']"
      ]
     },
     "execution_count": 15,
     "metadata": {},
     "output_type": "execute_result"
    }
   ],
   "source": [
    "\"\"\"\n",
    "list index는 그 탐색 자체만으로 이미 루프임. 따라서 dictionary 주소로 찾는게 빠르다고 함.\n",
    "그러면 dict 사용법을 다시 살펴볼까..\n",
    "\n",
    "※ range 함수는 자체로 list를 생성한다.\n",
    "\n",
    "※ 파이썬의 swap 함수를 사용하면 간단히 두 변수의 값을 스왑할 수 있다.\n",
    "\"\"\"\n",
    "\n",
    "def solution(players, callings):\n",
    "    dict_players = dict(zip(players, range(len(players))))\n",
    "    # 값 : 키 순으로 배치, 이름의 순번을 바꿔야하기 때문에 편의성 고려\n",
    "\n",
    "    \"\"\"\n",
    "    callings의 값(=이름)으로 딕셔너리에서 검색\n",
    "    -> 해당 이름의 인덱스(=키) 추출, 저장\n",
    "    -> 해당 이름의 인덱스 -1을 키로 가지는 원소의 인덱스 +1 연산\n",
    "    -> 이름값은 변하지 않으니 해당 이름의 원소 인덱스 -1 연산 실행\n",
    "    -> 딕셔너리 내부에서 키와 밸류 정리 완료.\n",
    "    -> 원본 리스트에서 딕셔너리의 키를 사용해 자리 swap\n",
    "    \"\"\"\n",
    "    \n",
    "    for call in callings:\n",
    "        called_idx = dict_players[call]\n",
    "        dict_players[players[called_idx-1]] += 1\n",
    "        dict_players[call] -= 1\n",
    "        \n",
    "        players[called_idx-1], players[called_idx] = players[called_idx], players[called_idx-1]\n",
    "        \n",
    "    answer = players\n",
    "    return answer\n",
    "\n",
    "solution([\"mumu\", \"soe\", \"poe\", \"kai\", \"mine\"], [\"kai\", \"kai\", \"mine\", \"mine\"])"
   ]
  },
  {
   "cell_type": "markdown",
   "id": "f667d8b9",
   "metadata": {},
   "source": [
    "#### 240214 가장 가까운 같은 글자 (1트, 30분 타임아웃)"
   ]
  },
  {
   "cell_type": "code",
   "execution_count": 65,
   "id": "f8b78d28",
   "metadata": {},
   "outputs": [],
   "source": [
    "def solution(s):\n",
    "    #letter_list = list(s)\n",
    "    \n",
    "    answer = []\n",
    "    \n",
    "    for idx in range(len(s)):\n",
    "        if idx == 0:\n",
    "            print(\"첫 글자\\n\")\n",
    "            first_letter = s[0]\n",
    "            answer.append(-1)\n",
    "        else:\n",
    "            print(f\"this is {idx} letter\")\n",
    "            for idx2 in range(idx, 0, -1):\n",
    "                if s[idx2] not in s[0:idx-1]:\n",
    "                    print(\"앞에 중복 없음\\n\")\n",
    "                    answer.append(-1)\n",
    "                    break\n",
    "                else:\n",
    "                    if s[idx] == s[idx2] and idx != idx2:\n",
    "                        print(f\"찾음. {idx}, {idx2}\")\n",
    "                        answer.append(idx-idx2)\n",
    "                        break\n",
    "                    else:\n",
    "                        print(\"얘 아님\")\n",
    "                        pass\n",
    "    return answer"
   ]
  },
  {
   "cell_type": "markdown",
   "id": "c40a64f3",
   "metadata": {},
   "source": [
    "#### 가장 가까운 같은 글자(힌트본, dict 이용)"
   ]
  },
  {
   "cell_type": "code",
   "execution_count": 89,
   "id": "0f3763f9",
   "metadata": {},
   "outputs": [],
   "source": [
    "def solution(s):\n",
    "    answer = []\n",
    "    s_dict = dict()\n",
    "    \n",
    "    for i in range(len(s)):\n",
    "        if s[i] not in s_dict:\n",
    "            answer.append(-1)\n",
    "        else:\n",
    "            print(\"중복 찾기\")\n",
    "            answer.append(i-s_dict[s[i]]) # 현재 idx에서 딕셔너리 내부 동일글자(s[i]) 인덱스에 해당하는 숫자 차연산\n",
    "        print(i, s_dict)\n",
    "        s_dict[s[i]] = i\n",
    "        print(i, s_dict, \"\\n\")\n",
    "        \n",
    "    return answer"
   ]
  },
  {
   "cell_type": "code",
   "execution_count": 90,
   "id": "57d38b57",
   "metadata": {},
   "outputs": [
    {
     "name": "stdout",
     "output_type": "stream",
     "text": [
      "0 {}\n",
      "0 {'f': 0} \n",
      "\n",
      "1 {'f': 0}\n",
      "1 {'f': 0, 'o': 1} \n",
      "\n",
      "중복 찾기\n",
      "2 {'f': 0, 'o': 1}\n",
      "2 {'f': 0, 'o': 2} \n",
      "\n",
      "3 {'f': 0, 'o': 2}\n",
      "3 {'f': 0, 'o': 2, 'b': 3} \n",
      "\n",
      "4 {'f': 0, 'o': 2, 'b': 3}\n",
      "4 {'f': 0, 'o': 2, 'b': 3, 'a': 4} \n",
      "\n",
      "5 {'f': 0, 'o': 2, 'b': 3, 'a': 4}\n",
      "5 {'f': 0, 'o': 2, 'b': 3, 'a': 4, 'r': 5} \n",
      "\n",
      "중복 찾기\n",
      "6 {'f': 0, 'o': 2, 'b': 3, 'a': 4, 'r': 5}\n",
      "6 {'f': 0, 'o': 6, 'b': 3, 'a': 4, 'r': 5} \n",
      "\n"
     ]
    },
    {
     "data": {
      "text/plain": [
       "[-1, -1, 1, -1, -1, -1, 4]"
      ]
     },
     "execution_count": 90,
     "metadata": {},
     "output_type": "execute_result"
    }
   ],
   "source": [
    "solution(\"foobaro\")"
   ]
  },
  {
   "cell_type": "markdown",
   "id": "a92c5e71",
   "metadata": {},
   "source": [
    "# -------------------- <2단계> --------------------"
   ]
  },
  {
   "cell_type": "code",
   "execution_count": null,
   "id": "b99b8054",
   "metadata": {},
   "outputs": [],
   "source": []
  },
  {
   "cell_type": "markdown",
   "id": "0fe6cc1d",
   "metadata": {},
   "source": [
    "# -------------------- <3단계> --------------------"
   ]
  }
 ],
 "metadata": {
  "kernelspec": {
   "display_name": "Python 3 (ipykernel)",
   "language": "python",
   "name": "python3"
  },
  "language_info": {
   "codemirror_mode": {
    "name": "ipython",
    "version": 3
   },
   "file_extension": ".py",
   "mimetype": "text/x-python",
   "name": "python",
   "nbconvert_exporter": "python",
   "pygments_lexer": "ipython3",
   "version": "3.9.12"
  }
 },
 "nbformat": 4,
 "nbformat_minor": 5
}
