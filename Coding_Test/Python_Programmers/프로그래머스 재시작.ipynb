{
 "cells": [
  {
   "cell_type": "markdown",
   "id": "3be78130",
   "metadata": {},
   "source": [
    "# 코테 재시작"
   ]
  },
  {
   "cell_type": "markdown",
   "id": "c0b41d13",
   "metadata": {},
   "source": [
    "# -------------------- <1단계> --------------------"
   ]
  },
  {
   "cell_type": "markdown",
   "id": "26412841",
   "metadata": {},
   "source": [
    "#### 240213 달리기 경주 (다시 코테 시작, 20분 타임아웃)"
   ]
  },
  {
   "cell_type": "code",
   "execution_count": null,
   "id": "d5e7fda6",
   "metadata": {},
   "outputs": [],
   "source": [
    "\"\"\"\n",
    "리스트 쓰는 법부터 다 까먹었음. 머리로 구상은 다 됐는데 구현이 안 되는 상황.\n",
    "※ list.pop() 함수를 사용하면 맨 끝 인덱스 원소를 삭제한다.\n",
    "\"\"\"\n",
    "def solution(players, callings):\n",
    "    for called_name in callings:\n",
    "        now_index = players.index(called_name)\n",
    "\n",
    "        # 추월을 하게 되면 항상 인덱스가 큰 숫자에서 작은 숫자 방향으로 가기 때문에 빼기 연산이 문제가 없음.\n",
    "        del players[now_index] # 추월 예정인 원소 삭제\n",
    "        \n",
    "        overtake_index = now_index-1\n",
    "        players.insert(overtake_index, called_name) # 추월 대상 원소의 위치에 삽입하면 자동으로 해당 원소는 뒤로 밀림.\n",
    "        \n",
    "    answer = players\n",
    "    return answer"
   ]
  },
  {
   "cell_type": "markdown",
   "id": "f0a415ed",
   "metadata": {},
   "source": [
    "#### 240213 달리기 경주 (힌트 보고 2트)"
   ]
  },
  {
   "cell_type": "code",
   "execution_count": 15,
   "id": "562acdbe",
   "metadata": {},
   "outputs": [
    {
     "data": {
      "text/plain": [
       "['mumu', 'kai', 'mine', 'soe', 'poe']"
      ]
     },
     "execution_count": 15,
     "metadata": {},
     "output_type": "execute_result"
    }
   ],
   "source": [
    "\"\"\"\n",
    "list index는 그 탐색 자체만으로 이미 루프임. 따라서 dictionary 주소로 찾는게 빠르다고 함.\n",
    "그러면 dict 사용법을 다시 살펴볼까..\n",
    "\n",
    "※ range 함수는 자체로 list를 생성한다.\n",
    "\n",
    "※ 파이썬의 swap 함수를 사용하면 간단히 두 변수의 값을 스왑할 수 있다.\n",
    "\"\"\"\n",
    "\n",
    "def solution(players, callings):\n",
    "    dict_players = dict(zip(players, range(len(players))))\n",
    "    # 값 : 키 순으로 배치, 이름의 순번을 바꿔야하기 때문에 편의성 고려\n",
    "\n",
    "    \"\"\"\n",
    "    callings의 값(=이름)으로 딕셔너리에서 검색\n",
    "    -> 해당 이름의 인덱스(=키) 추출, 저장\n",
    "    -> 해당 이름의 인덱스 -1을 키로 가지는 원소의 인덱스 +1 연산\n",
    "    -> 이름값은 변하지 않으니 해당 이름의 원소 인덱스 -1 연산 실행\n",
    "    -> 딕셔너리 내부에서 키와 밸류 정리 완료.\n",
    "    -> 원본 리스트에서 딕셔너리의 키를 사용해 자리 swap\n",
    "    \"\"\"\n",
    "    \n",
    "    for call in callings:\n",
    "        called_idx = dict_players[call]\n",
    "        dict_players[players[called_idx-1]] += 1\n",
    "        dict_players[call] -= 1\n",
    "        \n",
    "        players[called_idx-1], players[called_idx] = players[called_idx], players[called_idx-1]\n",
    "        \n",
    "    answer = players\n",
    "    return answer\n",
    "\n",
    "solution([\"mumu\", \"soe\", \"poe\", \"kai\", \"mine\"], [\"kai\", \"kai\", \"mine\", \"mine\"])"
   ]
  },
  {
   "cell_type": "markdown",
   "id": "f667d8b9",
   "metadata": {},
   "source": [
    "#### 240214 가장 가까운 같은 글자 (1트, 30분 타임아웃)"
   ]
  },
  {
   "cell_type": "code",
   "execution_count": 65,
   "id": "f8b78d28",
   "metadata": {},
   "outputs": [],
   "source": [
    "def solution(s):\n",
    "    #letter_list = list(s)\n",
    "    \n",
    "    answer = []\n",
    "    \n",
    "    for idx in range(len(s)):\n",
    "        if idx == 0:\n",
    "            print(\"첫 글자\\n\")\n",
    "            first_letter = s[0]\n",
    "            answer.append(-1)\n",
    "        else:\n",
    "            print(f\"this is {idx} letter\")\n",
    "            for idx2 in range(idx, 0, -1):\n",
    "                if s[idx2] not in s[0:idx-1]:\n",
    "                    print(\"앞에 중복 없음\\n\")\n",
    "                    answer.append(-1)\n",
    "                    break\n",
    "                else:\n",
    "                    if s[idx] == s[idx2] and idx != idx2:\n",
    "                        print(f\"찾음. {idx}, {idx2}\")\n",
    "                        answer.append(idx-idx2)\n",
    "                        break\n",
    "                    else:\n",
    "                        print(\"얘 아님\")\n",
    "                        pass\n",
    "    return answer"
   ]
  },
  {
   "cell_type": "markdown",
   "id": "c40a64f3",
   "metadata": {},
   "source": [
    "#### 가장 가까운 같은 글자(힌트본, dict 이용)"
   ]
  },
  {
   "cell_type": "code",
   "execution_count": 89,
   "id": "0f3763f9",
   "metadata": {},
   "outputs": [],
   "source": [
    "def solution(s):\n",
    "    answer = []\n",
    "    s_dict = dict()\n",
    "    \n",
    "    for i in range(len(s)):\n",
    "        if s[i] not in s_dict:\n",
    "            answer.append(-1)\n",
    "        else:\n",
    "            print(\"중복 찾기\")\n",
    "            answer.append(i-s_dict[s[i]]) # 현재 idx에서 딕셔너리 내부 동일글자(s[i]) 인덱스에 해당하는 숫자 차연산\n",
    "        print(i, s_dict)\n",
    "        s_dict[s[i]] = i\n",
    "        print(i, s_dict, \"\\n\")\n",
    "        \n",
    "    return answer"
   ]
  },
  {
   "cell_type": "markdown",
   "id": "3a3f2dbf",
   "metadata": {},
   "source": [
    "#### 240215 햄버거 만들기 (1차, 20분 타임아웃, 다른 방향으로 만들어야 한다고 깨달음)"
   ]
  },
  {
   "cell_type": "code",
   "execution_count": 25,
   "id": "ad7ce579",
   "metadata": {},
   "outputs": [],
   "source": [
    "def solution(ingredient):\n",
    "    answer = 0\n",
    "    burger_step = 1\n",
    "    burger_maked = []\n",
    "    \n",
    "    for pick in ingredient:\n",
    "        print(pick)\n",
    "        if pick == 1:\n",
    "            if len(burger_maked) == 0:\n",
    "                burger_maked.append(pick)\n",
    "            elif burger_maked[-1] == 3:\n",
    "                burger_maked.append(pick)\n",
    "                print(burger_maked)\n",
    "                answer += 1\n",
    "                burger_maked.clear()\n",
    "            else:\n",
    "                pass\n",
    "        elif pick == 2:\n",
    "            if len(burger_maked) == 0:\n",
    "                pass\n",
    "            else:\n",
    "                burger_maked.append(pick)\n",
    "        elif pick == 3:\n",
    "            if len(burger_maked) == 0:\n",
    "                pass\n",
    "            else:\n",
    "                burger_maked.append(pick)\n",
    "        else:\n",
    "            pass\n",
    "    \n",
    "    return answer"
   ]
  },
  {
   "cell_type": "markdown",
   "id": "6ba1cb0b",
   "metadata": {},
   "source": [
    "#### 240215 햄버거 만들기 (2차, 5분 실패, 문제 이해를 잘 못함)"
   ]
  },
  {
   "cell_type": "code",
   "execution_count": 33,
   "id": "b8bee741",
   "metadata": {},
   "outputs": [],
   "source": [
    "\"\"\"\n",
    "문제에서 제시한건 연속된 1-2-3-1 순서로만 버거를 만들 수 있단 뜻.\n",
    "처음 만들었던 코드와 이 버전을 합치면 될듯 함.\n",
    "\"\"\"\n",
    "def solution(ingredient):\n",
    "    answer = 0\n",
    "    next_ingredient = 1\n",
    "    \n",
    "    for pick in ingredient:\n",
    "        if pick == 1 and next_ingredient == 1:\n",
    "            next_ingredient = 2\n",
    "        elif pick == 2 and next_ingredient == 2:\n",
    "            next_ingredient = 3\n",
    "        elif pick == 3 and next_ingredient == 3:\n",
    "            next_ingredient = 4\n",
    "        elif pick == 1 and next_ingredient == 4:\n",
    "            next_ingredient = 1\n",
    "            answer += 1\n",
    "        else:\n",
    "            pass\n",
    "        \n",
    "    return answer"
   ]
  },
  {
   "cell_type": "markdown",
   "id": "11036d39",
   "metadata": {},
   "source": [
    "#### 240215 햄버거 만들기 (3차, 실패)"
   ]
  },
  {
   "cell_type": "code",
   "execution_count": 40,
   "id": "d38f2991",
   "metadata": {},
   "outputs": [],
   "source": [
    "\"\"\"\n",
    "루프 돌면서 1-2-3-1 만 찾도록 해봤는데 처음 만들때부터 시간 초과될게 걱정이기도 했지만,\n",
    "결과적으로 코드 정상 동작 실패\n",
    "\"\"\"\n",
    "def solution(ingredient):\n",
    "    answer = 0\n",
    "    next_ingredient = 1\n",
    "    burger = []\n",
    "    \n",
    "    for idx in range(len(ingredient)):\n",
    "        print(ingredient[idx])\n",
    "        if ingredient[idx] == 1 and next_ingredient == 1:\n",
    "            next_ingredient == 2\n",
    "            if ingredient[idx+1] == 2 and next_ingredient == 2:\n",
    "                next_ingredient == 3\n",
    "                if ingredient[idx+2] == 3 and next_ingredient == 3:\n",
    "                    next_ingredient == 4\n",
    "                    if ingredient[idx+3] == 1 and next_ingredient == 4:\n",
    "                        next_ingredient ==1\n",
    "                        del ingredient[idx:idx+4]\n",
    "        else:\n",
    "            pass\n",
    "    return answer"
   ]
  },
  {
   "cell_type": "markdown",
   "id": "781a118f",
   "metadata": {},
   "source": [
    "#### 240215 햄버거 만들기 (힌트본)"
   ]
  },
  {
   "cell_type": "code",
   "execution_count": 46,
   "id": "e9c72626",
   "metadata": {},
   "outputs": [],
   "source": [
    "\"\"\"\n",
    "리스트내 원소를 하나씩만 비교할게 아니라 버거가 조합되는\n",
    "1-2-3-1 을 하나의 별도 리스트로 생각하고, 우측(리스트끝)부터 카운트한 4개가 버거 조합으로 완성되면\n",
    "별도 리스트 내부에서 4개를 삭제하는 식. \n",
    "s[-4:] == [1, 2, 3, 1] 이걸 생각을 못했네\n",
    "\"\"\"\n",
    "def solution(ingredient):\n",
    "    s = []\n",
    "    answer = 0\n",
    "    \n",
    "    for i in ingredient:\n",
    "        s.append(i)\n",
    "        if s[-4:] == [1, 2, 3, 1]:\n",
    "            answer += 1\n",
    "            del s[-4:]\n",
    "            \n",
    "    return answer"
   ]
  },
  {
   "cell_type": "markdown",
   "id": "a92c5e71",
   "metadata": {},
   "source": [
    "# -------------------- <2단계> --------------------"
   ]
  },
  {
   "cell_type": "code",
   "execution_count": null,
   "id": "b99b8054",
   "metadata": {},
   "outputs": [],
   "source": []
  },
  {
   "cell_type": "markdown",
   "id": "0fe6cc1d",
   "metadata": {},
   "source": [
    "# -------------------- <3단계> --------------------"
   ]
  }
 ],
 "metadata": {
  "kernelspec": {
   "display_name": "Python 3 (ipykernel)",
   "language": "python",
   "name": "python3"
  },
  "language_info": {
   "codemirror_mode": {
    "name": "ipython",
    "version": 3
   },
   "file_extension": ".py",
   "mimetype": "text/x-python",
   "name": "python",
   "nbconvert_exporter": "python",
   "pygments_lexer": "ipython3",
   "version": "3.9.12"
  }
 },
 "nbformat": 4,
 "nbformat_minor": 5
}
