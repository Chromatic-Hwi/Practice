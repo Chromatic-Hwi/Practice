{
  "cells": [
    {
      "cell_type": "markdown",
      "id": "3be78130",
      "metadata": {
        "id": "3be78130"
      },
      "source": [
        "# 코테 재시작"
      ]
    },
    {
      "cell_type": "markdown",
      "id": "c0b41d13",
      "metadata": {
        "id": "c0b41d13"
      },
      "source": [
        "# -------------------- <1단계> --------------------"
      ]
    },
    {
      "cell_type": "markdown",
      "id": "26412841",
      "metadata": {
        "id": "26412841"
      },
      "source": [
        "#### 240213 달리기 경주 (다시 코테 시작, 20분 타임아웃)"
      ]
    },
    {
      "cell_type": "code",
      "execution_count": null,
      "id": "d5e7fda6",
      "metadata": {
        "id": "d5e7fda6"
      },
      "outputs": [],
      "source": [
        "\"\"\"\n",
        "리스트 쓰는 법부터 다 까먹었음. 머리로 구상은 다 됐는데 구현이 안 되는 상황.\n",
        "※ list.pop() 함수를 사용하면 맨 끝 인덱스 원소를 삭제한다.\n",
        "\"\"\"\n",
        "def solution(players, callings):\n",
        "    for called_name in callings:\n",
        "        now_index = players.index(called_name)\n",
        "\n",
        "        # 추월을 하게 되면 항상 인덱스가 큰 숫자에서 작은 숫자 방향으로 가기 때문에 빼기 연산이 문제가 없음.\n",
        "        del players[now_index] # 추월 예정인 원소 삭제\n",
        "\n",
        "        overtake_index = now_index-1\n",
        "        players.insert(overtake_index, called_name) # 추월 대상 원소의 위치에 삽입하면 자동으로 해당 원소는 뒤로 밀림.\n",
        "\n",
        "    answer = players\n",
        "    return answer"
      ]
    },
    {
      "cell_type": "markdown",
      "id": "f0a415ed",
      "metadata": {
        "id": "f0a415ed"
      },
      "source": [
        "#### 240213 달리기 경주 (힌트 보고 2트)"
      ]
    },
    {
      "cell_type": "code",
      "execution_count": null,
      "id": "562acdbe",
      "metadata": {
        "id": "562acdbe",
        "outputId": "7d804e9c-74a3-4b4c-d85c-60b832d104c7"
      },
      "outputs": [
        {
          "data": {
            "text/plain": [
              "['mumu', 'kai', 'mine', 'soe', 'poe']"
            ]
          },
          "execution_count": 15,
          "metadata": {},
          "output_type": "execute_result"
        }
      ],
      "source": [
        "\"\"\"\n",
        "list index는 그 탐색 자체만으로 이미 루프임. 따라서 dictionary 주소로 찾는게 빠르다고 함.\n",
        "그러면 dict 사용법을 다시 살펴볼까..\n",
        "\n",
        "※ range 함수는 자체로 list를 생성한다.\n",
        "\n",
        "※ 파이썬의 swap 함수를 사용하면 간단히 두 변수의 값을 스왑할 수 있다.\n",
        "\"\"\"\n",
        "\n",
        "def solution(players, callings):\n",
        "    dict_players = dict(zip(players, range(len(players))))\n",
        "    # 값 : 키 순으로 배치, 이름의 순번을 바꿔야하기 때문에 편의성 고려\n",
        "\n",
        "    \"\"\"\n",
        "    callings의 값(=이름)으로 딕셔너리에서 검색\n",
        "    -> 해당 이름의 인덱스(=키) 추출, 저장\n",
        "    -> 해당 이름의 인덱스 -1을 키로 가지는 원소의 인덱스 +1 연산\n",
        "    -> 이름값은 변하지 않으니 해당 이름의 원소 인덱스 -1 연산 실행\n",
        "    -> 딕셔너리 내부에서 키와 밸류 정리 완료.\n",
        "    -> 원본 리스트에서 딕셔너리의 키를 사용해 자리 swap\n",
        "    \"\"\"\n",
        "\n",
        "    for call in callings:\n",
        "        called_idx = dict_players[call]\n",
        "        dict_players[players[called_idx-1]] += 1\n",
        "        dict_players[call] -= 1\n",
        "\n",
        "        players[called_idx-1], players[called_idx] = players[called_idx], players[called_idx-1]\n",
        "\n",
        "    answer = players\n",
        "    return answer\n",
        "\n",
        "solution([\"mumu\", \"soe\", \"poe\", \"kai\", \"mine\"], [\"kai\", \"kai\", \"mine\", \"mine\"])"
      ]
    },
    {
      "cell_type": "markdown",
      "id": "f667d8b9",
      "metadata": {
        "id": "f667d8b9"
      },
      "source": [
        "#### 240214 가장 가까운 같은 글자 (1트, 30분 타임아웃)"
      ]
    },
    {
      "cell_type": "code",
      "execution_count": null,
      "id": "f8b78d28",
      "metadata": {
        "id": "f8b78d28"
      },
      "outputs": [],
      "source": [
        "def solution(s):\n",
        "    #letter_list = list(s)\n",
        "\n",
        "    answer = []\n",
        "\n",
        "    for idx in range(len(s)):\n",
        "        if idx == 0:\n",
        "            print(\"첫 글자\\n\")\n",
        "            first_letter = s[0]\n",
        "            answer.append(-1)\n",
        "        else:\n",
        "            print(f\"this is {idx} letter\")\n",
        "            for idx2 in range(idx, 0, -1):\n",
        "                if s[idx2] not in s[0:idx-1]:\n",
        "                    print(\"앞에 중복 없음\\n\")\n",
        "                    answer.append(-1)\n",
        "                    break\n",
        "                else:\n",
        "                    if s[idx] == s[idx2] and idx != idx2:\n",
        "                        print(f\"찾음. {idx}, {idx2}\")\n",
        "                        answer.append(idx-idx2)\n",
        "                        break\n",
        "                    else:\n",
        "                        print(\"얘 아님\")\n",
        "                        pass\n",
        "    return answer"
      ]
    },
    {
      "cell_type": "markdown",
      "id": "c40a64f3",
      "metadata": {
        "id": "c40a64f3"
      },
      "source": [
        "#### 가장 가까운 같은 글자(힌트본, dict 이용)"
      ]
    },
    {
      "cell_type": "code",
      "execution_count": null,
      "id": "0f3763f9",
      "metadata": {
        "id": "0f3763f9"
      },
      "outputs": [],
      "source": [
        "def solution(s):\n",
        "    answer = []\n",
        "    s_dict = dict()\n",
        "\n",
        "    for i in range(len(s)):\n",
        "        if s[i] not in s_dict:\n",
        "            answer.append(-1)\n",
        "        else:\n",
        "            print(\"중복 찾기\")\n",
        "            answer.append(i-s_dict[s[i]]) # 현재 idx에서 딕셔너리 내부 동일글자(s[i]) 인덱스에 해당하는 숫자 차연산\n",
        "        print(i, s_dict)\n",
        "        s_dict[s[i]] = i\n",
        "        print(i, s_dict, \"\\n\")\n",
        "\n",
        "    return answer"
      ]
    },
    {
      "cell_type": "markdown",
      "id": "3a3f2dbf",
      "metadata": {
        "id": "3a3f2dbf"
      },
      "source": [
        "#### 240215 햄버거 만들기 (1차, 20분 타임아웃, 다른 방향으로 만들어야 한다고 깨달음)"
      ]
    },
    {
      "cell_type": "code",
      "execution_count": null,
      "id": "ad7ce579",
      "metadata": {
        "id": "ad7ce579"
      },
      "outputs": [],
      "source": [
        "def solution(ingredient):\n",
        "    answer = 0\n",
        "    burger_step = 1\n",
        "    burger_maked = []\n",
        "\n",
        "    for pick in ingredient:\n",
        "        print(pick)\n",
        "        if pick == 1:\n",
        "            if len(burger_maked) == 0:\n",
        "                burger_maked.append(pick)\n",
        "            elif burger_maked[-1] == 3:\n",
        "                burger_maked.append(pick)\n",
        "                print(burger_maked)\n",
        "                answer += 1\n",
        "                burger_maked.clear()\n",
        "            else:\n",
        "                pass\n",
        "        elif pick == 2:\n",
        "            if len(burger_maked) == 0:\n",
        "                pass\n",
        "            else:\n",
        "                burger_maked.append(pick)\n",
        "        elif pick == 3:\n",
        "            if len(burger_maked) == 0:\n",
        "                pass\n",
        "            else:\n",
        "                burger_maked.append(pick)\n",
        "        else:\n",
        "            pass\n",
        "\n",
        "    return answer"
      ]
    },
    {
      "cell_type": "markdown",
      "id": "6ba1cb0b",
      "metadata": {
        "id": "6ba1cb0b"
      },
      "source": [
        "#### 240215 햄버거 만들기 (2차, 5분 실패, 문제 이해를 잘 못함)"
      ]
    },
    {
      "cell_type": "code",
      "execution_count": null,
      "id": "b8bee741",
      "metadata": {
        "id": "b8bee741"
      },
      "outputs": [],
      "source": [
        "\"\"\"\n",
        "문제에서 제시한건 연속된 1-2-3-1 순서로만 버거를 만들 수 있단 뜻.\n",
        "처음 만들었던 코드와 이 버전을 합치면 될듯 함.\n",
        "\"\"\"\n",
        "def solution(ingredient):\n",
        "    answer = 0\n",
        "    next_ingredient = 1\n",
        "\n",
        "    for pick in ingredient:\n",
        "        if pick == 1 and next_ingredient == 1:\n",
        "            next_ingredient = 2\n",
        "        elif pick == 2 and next_ingredient == 2:\n",
        "            next_ingredient = 3\n",
        "        elif pick == 3 and next_ingredient == 3:\n",
        "            next_ingredient = 4\n",
        "        elif pick == 1 and next_ingredient == 4:\n",
        "            next_ingredient = 1\n",
        "            answer += 1\n",
        "        else:\n",
        "            pass\n",
        "\n",
        "    return answer"
      ]
    },
    {
      "cell_type": "markdown",
      "id": "11036d39",
      "metadata": {
        "id": "11036d39"
      },
      "source": [
        "#### 240215 햄버거 만들기 (3차, 실패)"
      ]
    },
    {
      "cell_type": "code",
      "execution_count": null,
      "id": "d38f2991",
      "metadata": {
        "id": "d38f2991"
      },
      "outputs": [],
      "source": [
        "\"\"\"\n",
        "루프 돌면서 1-2-3-1 만 찾도록 해봤는데 처음 만들때부터 시간 초과될게 걱정이기도 했지만,\n",
        "결과적으로 코드 정상 동작 실패\n",
        "\"\"\"\n",
        "def solution(ingredient):\n",
        "    answer = 0\n",
        "    next_ingredient = 1\n",
        "    burger = []\n",
        "\n",
        "    for idx in range(len(ingredient)):\n",
        "        print(ingredient[idx])\n",
        "        if ingredient[idx] == 1 and next_ingredient == 1:\n",
        "            next_ingredient == 2\n",
        "            if ingredient[idx+1] == 2 and next_ingredient == 2:\n",
        "                next_ingredient == 3\n",
        "                if ingredient[idx+2] == 3 and next_ingredient == 3:\n",
        "                    next_ingredient == 4\n",
        "                    if ingredient[idx+3] == 1 and next_ingredient == 4:\n",
        "                        next_ingredient ==1\n",
        "                        del ingredient[idx:idx+4]\n",
        "        else:\n",
        "            pass\n",
        "    return answer"
      ]
    },
    {
      "cell_type": "markdown",
      "id": "781a118f",
      "metadata": {
        "id": "781a118f"
      },
      "source": [
        "#### 240215 햄버거 만들기 (힌트본)"
      ]
    },
    {
      "cell_type": "code",
      "execution_count": null,
      "id": "e9c72626",
      "metadata": {
        "id": "e9c72626"
      },
      "outputs": [],
      "source": [
        "\"\"\"\n",
        "리스트내 원소를 하나씩만 비교할게 아니라 버거가 조합되는\n",
        "1-2-3-1 을 하나의 별도 리스트로 생각하고, 우측(리스트끝)부터 카운트한 4개가 버거 조합으로 완성되면\n",
        "별도 리스트 내부에서 4개를 삭제하는 식.\n",
        "s[-4:] == [1, 2, 3, 1] 이걸 생각을 못했네\n",
        "\"\"\"\n",
        "def solution(ingredient):\n",
        "    s = []\n",
        "    answer = 0\n",
        "\n",
        "    for i in ingredient:\n",
        "        s.append(i)\n",
        "        if s[-4:] == [1, 2, 3, 1]:\n",
        "            answer += 1\n",
        "            del s[-4:]\n",
        "\n",
        "    return answer"
      ]
    },
    {
      "cell_type": "markdown",
      "id": "2045325f",
      "metadata": {
        "id": "2045325f"
      },
      "source": [
        "#### 240216 콜라문제 (1트, 30분 검증에서 실패)"
      ]
    },
    {
      "cell_type": "code",
      "execution_count": null,
      "id": "04e737b6",
      "metadata": {
        "id": "04e737b6"
      },
      "outputs": [],
      "source": [
        "\"\"\"\n",
        "a는 고려를 했는데 b를 고려를 안 하고 1일거라고만 생각함.\n",
        "문제를 제대로 이해하지 못한게 패착\n",
        "\"\"\"\n",
        "def solution(a, b, empty_bottle):\n",
        "    new_cola = 0\n",
        "\n",
        "    while (empty_bottle>0):\n",
        "        print(empty_bottle)\n",
        "        new_cola_get = 0\n",
        "        if empty_bottle<2:# 빈병이 2병 미만이면 1병이던가 0병인데 어차피 새콜라 수령수에는 미포함이니 바로 브레이크\n",
        "            break\n",
        "        elif empty_bottle == 2:\n",
        "            new_cola += 1\n",
        "            break\n",
        "        else:\n",
        "            if empty_bottle % a == 0:\n",
        "                new_cola += empty_bottle//a\n",
        "                new_cola_get += empty_bottle//a\n",
        "                empty_bottle -= empty_bottle\n",
        "            else:\n",
        "                new_cola += (empty_bottle-(empty_bottle%a))//a\n",
        "                new_cola_get += (empty_bottle-1)//a\n",
        "                empty_bottle -= empty_bottle-1\n",
        "\n",
        "            empty_bottle += new_cola_get\n",
        "        print(empty_bottle, \"\\n\")\n",
        "    return new_cola"
      ]
    },
    {
      "cell_type": "markdown",
      "id": "554cfc32",
      "metadata": {
        "id": "554cfc32"
      },
      "source": [
        "#### 240216 콜라문제 (2트, 1트 재활용 10분컷, 통과)"
      ]
    },
    {
      "cell_type": "code",
      "execution_count": null,
      "id": "deb4e057",
      "metadata": {
        "id": "deb4e057"
      },
      "outputs": [],
      "source": [
        "def solution(a, b, empty_bottle):\n",
        "    new_cola = 0\n",
        "\n",
        "    while (empty_bottle>0):\n",
        "        print(empty_bottle)\n",
        "        new_cola_get = 0\n",
        "        if empty_bottle<a:# 빈병이 2병 미만이면 1병이던가 0병인데 어차피 새콜라 수령수에는 미포함이니 바로 브레이크\n",
        "            break\n",
        "        elif empty_bottle == a:\n",
        "            new_cola += b\n",
        "            break\n",
        "        else:\n",
        "            if empty_bottle % a == 0:\n",
        "                cal = empty_bottle//a*b\n",
        "                new_cola += cal\n",
        "                new_cola_get += cal\n",
        "                empty_bottle -= empty_bottle\n",
        "            else:\n",
        "                cal = (empty_bottle-(empty_bottle%a))//a*b\n",
        "                new_cola += cal\n",
        "                new_cola_get += cal\n",
        "                empty_bottle -= (empty_bottle-(empty_bottle%a))\n",
        "            empty_bottle += new_cola_get\n",
        "        print(empty_bottle, \"\\n\")\n",
        "    return new_cola"
      ]
    },
    {
      "cell_type": "markdown",
      "id": "6f333df6",
      "metadata": {
        "id": "6f333df6"
      },
      "source": [
        "#### 240217 추억 점수 (1트, 10분컷 통과)"
      ]
    },
    {
      "cell_type": "code",
      "execution_count": null,
      "id": "c2b3bc07",
      "metadata": {
        "id": "c2b3bc07"
      },
      "outputs": [],
      "source": [
        "\"\"\"\n",
        "이름에 해당하는 점수를 각 리스트별로 합산하는걸 보자마자 딕셔너리를 써야겠다고 직감함.\n",
        "테스트 케이스에서 이름에 대한 점수가 없는 경우가 있어서 error가 한번 났었지만 딕셔너리 안에서 이름 유무를 검사하는 코드를 추가해서 해결\n",
        "\"\"\"\n",
        "def solution(name, yearning, photo):\n",
        "    answer = []\n",
        "    memory_dict = dict(zip(name, yearning))\n",
        "    for idx in range(len(photo)):\n",
        "        memory_value = 0\n",
        "        for n in photo[idx]:\n",
        "            if n in memory_dict:\n",
        "                memory_value += memory_dict[n]\n",
        "            else:\n",
        "                pass\n",
        "        answer.append(memory_value)\n",
        "    return answer"
      ]
    },
    {
      "cell_type": "markdown",
      "id": "cf52cbd7",
      "metadata": {
        "id": "cf52cbd7"
      },
      "source": [
        "#### 240217 삼총사 (1트, 15분컷 통과)"
      ]
    },
    {
      "cell_type": "code",
      "execution_count": null,
      "id": "d54a31d2",
      "metadata": {
        "id": "d54a31d2"
      },
      "outputs": [],
      "source": [
        "\"\"\"\n",
        "순열로 뽑아서 정렬을 해버리면 같은 값 원소는 없어져버림.\n",
        "조합을 써야 정상 작동함. (순서를 고려한다는 것은 같은 값이라도 인덱스가 다르면 다르게 취급하는거니까)\n",
        "\"\"\"\n",
        "from itertools import combinations\n",
        "\n",
        "def solution(number):\n",
        "    answer = 0\n",
        "    total_comb = []\n",
        "\n",
        "    for comb in combinations(number, 3):\n",
        "        comb_list=list(comb)\n",
        "        #perm_list.sort()\n",
        "        #if perm_list not in total_comb:\n",
        "        if sum(comb_list) == 0:\n",
        "            answer += 1\n",
        "        else:\n",
        "            pass\n",
        "        #total_comb.append(comb_list)\n",
        "    return answer"
      ]
    },
    {
      "cell_type": "markdown",
      "id": "9914d95e",
      "metadata": {
        "id": "9914d95e"
      },
      "source": [
        "#### 240218 햄버거 만들기 재도전 (8분, 통과)"
      ]
    },
    {
      "cell_type": "code",
      "execution_count": null,
      "id": "bd40639d",
      "metadata": {
        "id": "bd40639d"
      },
      "outputs": [],
      "source": [
        "def solution(ingredient):\n",
        "    answer = 0\n",
        "    total = []\n",
        "    burger = [1,2,3,1]\n",
        "\n",
        "    for sub in ingredient:\n",
        "        if total[-4:] == burger:\n",
        "            answer += 1\n",
        "            del total[-4:]\n",
        "        else:\n",
        "            total.append(sub)\n",
        "        print(sub, total)\n",
        "    return answer"
      ]
    },
    {
      "cell_type": "markdown",
      "id": "fa8a1ee7",
      "metadata": {
        "id": "fa8a1ee7"
      },
      "source": [
        "#### 240218 가장 가까운 글자 재도전 (10분, 통과)"
      ]
    },
    {
      "cell_type": "code",
      "execution_count": null,
      "id": "4c72c2a0",
      "metadata": {
        "id": "4c72c2a0"
      },
      "outputs": [],
      "source": [
        "def solution(s):\n",
        "    answer = []\n",
        "    s_dict = dict()\n",
        "\n",
        "    for i in range(len(s)):\n",
        "        if s[i] not in s_dict: # 첫인덱스도 어차피 해당 안되니 바로 -1 추가하면 됨.\n",
        "            answer.append(-1)\n",
        "        else:\n",
        "            answer.append(i-s_dict[s[i]])\n",
        "        s_dict[s[i]] = i\n",
        "        #print(i, s[i], s_dict)\n",
        "\n",
        "    return answer"
      ]
    },
    {
      "cell_type": "markdown",
      "id": "98d398bc",
      "metadata": {
        "id": "98d398bc"
      },
      "source": [
        "#### 240220 과일 장수 (1트, 22분 타임아웃)"
      ]
    },
    {
      "cell_type": "code",
      "execution_count": null,
      "id": "5ec9bd0e",
      "metadata": {
        "id": "5ec9bd0e"
      },
      "outputs": [],
      "source": [
        "\"\"\"\n",
        "조합을 이용하는 것까진 캐치, 조합으로 만드는 전체 가지수를 모아야 하는데 그걸 못했음.\n",
        "힌트 봤더니... 조합 쓰는게 아니라 전체 리스트 정렬한 다음에 주어진 길이로 그냥 슬라이싱해서 잘린 리스트가\n",
        "조건 리스트 원소수랑 일치하면 리턴값에 더해주는 식이더라.. 너무 어렵게 접근했나\n",
        "그런데 리스트 슬라이싱할때 길이 초과되면 자동으로 마지막 원소까지만 잘리는건가 보네\n",
        "\"\"\"\n",
        "from itertools import combinations\n",
        "\n",
        "def solution(max_point, max_apple, apple_list):\n",
        "    answer = [0]\n",
        "    if max_apple > len(apple_list):\n",
        "        return\n",
        "\n",
        "    apple_box_price = 0\n",
        "    for comb in combinations(apple_list, max_apple):\n",
        "        comb_list=list(comb)\n",
        "        comb_list.sort()\n",
        "        apple_box_price = comb_list[0]*max_apple\n",
        "\n",
        "        if apple_box_price > answer[-1]:\n",
        "            answer.append(apple_box_price)\n",
        "            #print(answer)\n",
        "\n",
        "    final_sum_range = -(len(apple_list)//max_apple)\n",
        "    #print(answer[final_sum_range:])\n",
        "\n",
        "    return sum(answer[final_sum_range:])"
      ]
    },
    {
      "cell_type": "code",
      "execution_count": null,
      "id": "54daeb38",
      "metadata": {
        "id": "54daeb38",
        "outputId": "07a27222-028d-4020-e33b-b989907a00af"
      },
      "outputs": [
        {
          "name": "stdout",
          "output_type": "stream",
          "text": [
            "[0, 1, 2]\n",
            "[3, 4, 5]\n",
            "[6, 7, 8]\n",
            "[9]\n"
          ]
        }
      ],
      "source": [
        "# 테스트용\n",
        "test = list(range(10))\n",
        "for idx in range(0, len(test), 3):\n",
        "    print(test[idx:idx+3])"
      ]
    },
    {
      "cell_type": "markdown",
      "id": "d5001ae9",
      "metadata": {
        "id": "d5001ae9"
      },
      "source": [
        "#### 과일 장수 (2트, 5분컷 통과)"
      ]
    },
    {
      "cell_type": "code",
      "execution_count": null,
      "id": "1b4fdb20",
      "metadata": {
        "id": "1b4fdb20"
      },
      "outputs": [],
      "source": [
        "def solution(max_point, max_apple, apple_list):\n",
        "    answer = 0\n",
        "    apple_list.sort(reverse=True)\n",
        "    #print(apple_list)\n",
        "\n",
        "    for idx in range(0, len(apple_list), max_apple):\n",
        "        pick_list = apple_list[idx:idx+max_apple]\n",
        "        if len(pick_list) == max_apple:\n",
        "            #print(pick_list)\n",
        "            answer += pick_list[-1]*max_apple\n",
        "\n",
        "    return answer"
      ]
    },
    {
      "cell_type": "markdown",
      "id": "a45a93ea",
      "metadata": {
        "id": "a45a93ea"
      },
      "source": [
        "#### 240221 문자열 내 마음대로 정렬하기 (1트, 25분 실패)"
      ]
    },
    {
      "cell_type": "code",
      "execution_count": null,
      "id": "6c826501",
      "metadata": {
        "id": "6c826501"
      },
      "outputs": [],
      "source": [
        "def solution(strings, n):\n",
        "    answer = []\n",
        "    \"\"\"\n",
        "    strings 안의 단어들의 n번째 글자를 모아 dictionary로 만듬.\n",
        "    딕셔너리에 해당하는 인덱스 순번은 글자의 순번과도 일치하므로 딕셔너리를 정렬한 뒤\n",
        "    그 순서대로 strings 내부 단어들 순서 재정렬\n",
        "\n",
        "    키로 정렬하고 프린트된걸 보니 굳이 인덱스로 한걸 다시 찾을 필요없이\n",
        "    인덱스가 아닌 그냥 단어로 하면 되는거 아님?\n",
        "\n",
        "    아니다 일단 키:벨류 구조에서 키는 중복이 될 수 없으니까 키를 단어로 하고, 벨류를 정렬 글자로 해야됨.\n",
        "\n",
        "    실패 원인 :\n",
        "    벨류가 중복일 경우 키의 단어를 비교해서 정렬해야 하는데 그걸 못함.\n",
        "    \"\"\"\n",
        "    letter_dict = dict()\n",
        "\n",
        "    for idx in range(len(strings)):\n",
        "        letter_dict[strings[idx]] = strings[idx][n]\n",
        "\n",
        "    dict(sorted(letter_dict.items()))\n",
        "    sorted_dict = dict(sorted(letter_dict.items(), key=lambda x: x[1]))\n",
        "    print(sorted_dict)\n",
        "\n",
        "    return list(sorted_dict.keys())"
      ]
    },
    {
      "cell_type": "markdown",
      "id": "5fa1bc4d",
      "metadata": {
        "id": "5fa1bc4d"
      },
      "source": [
        "#### 240221 문자열 내 마음대로 정렬하기 (힌트본, 공부 필요)"
      ]
    },
    {
      "cell_type": "code",
      "execution_count": null,
      "id": "6af744b3",
      "metadata": {
        "id": "6af744b3"
      },
      "outputs": [],
      "source": [
        "\"\"\"\n",
        "람다!\n",
        "튜플!\n",
        "더 간단하게 sorted의 기준을 튜플로 넣는 코드도 있는데 아래 코드가 좀 더 직관적이라 생각되어 채택\n",
        "\"\"\"\n",
        "def solution(strings, n):\n",
        "    strings.sort()\n",
        "    return sorted(strings, key=lambda x:x[n])"
      ]
    },
    {
      "cell_type": "code",
      "execution_count": null,
      "id": "9b13e000",
      "metadata": {
        "id": "9b13e000"
      },
      "outputs": [],
      "source": [
        "\"\"\"\n",
        "람다에 튜플 형식을 표현식으로 넣으면 우선순위가 인덱스별로 입력됨.\n",
        "\"\"\"\n",
        "def solution(strings, n):\n",
        "    return sorted(strings, key=lambda x:(x[n],x))"
      ]
    },
    {
      "cell_type": "markdown",
      "id": "25fb5ae1",
      "metadata": {
        "id": "25fb5ae1"
      },
      "source": [
        "#### 240222 람다식 연습"
      ]
    },
    {
      "cell_type": "code",
      "execution_count": null,
      "id": "01f2e5af",
      "metadata": {
        "id": "01f2e5af",
        "outputId": "11148e6f-e2b2-4c1e-e2df-00a25831118e"
      },
      "outputs": [
        {
          "name": "stdout",
          "output_type": "stream",
          "text": [
            "[1, 16, 49, 100]\n",
            "[[3, 4, 5], [9, 10, 11]]\n"
          ]
        }
      ],
      "source": [
        "# lambda 매개변수 : 표현식\n",
        "(lambda x,y : x + y)(10, 20)\n",
        "\n",
        "#map(함수, 리스트)\n",
        "test_list = [[0,1,2], [3,4,5], [6,7,8], [9,10,11]]\n",
        "new_list = list(map(lambda x:x[1]**2, test_list))\n",
        "print(new_list)\n",
        "\n",
        "filtered_list = list(filter(lambda x:x[2]%2, test_list))\n",
        "print(filtered_list)"
      ]
    },
    {
      "cell_type": "markdown",
      "id": "7a355a02",
      "metadata": {
        "id": "7a355a02"
      },
      "source": [
        "#### 240222 문자열 내 마음대로 정렬하기 (2트, 5분 통과)"
      ]
    },
    {
      "cell_type": "code",
      "execution_count": null,
      "id": "b9bbfdb0",
      "metadata": {
        "id": "b9bbfdb0"
      },
      "outputs": [],
      "source": [
        "def solution(strings, n):\n",
        "    return sorted(strings, key=lambda x:(x[n],x))"
      ]
    },
    {
      "cell_type": "markdown",
      "id": "415b73c9",
      "metadata": {
        "id": "415b73c9"
      },
      "source": [
        "#### 240222 제일 작은 수 제거하기 (1트, 20분 잘못 풀어서 바로 재시도)"
      ]
    },
    {
      "cell_type": "code",
      "execution_count": null,
      "id": "377512ed",
      "metadata": {
        "id": "377512ed"
      },
      "outputs": [],
      "source": [
        "def solution(arr):\n",
        "    if len(arr) == 0 or len(arr) == 1:\n",
        "        return [-1]\n",
        "    else:\n",
        "        # 아 sort 정렬하고 pop 해버리니까 중복 숫자를 삭제해버리네;;\n",
        "        arr_dict=dict()\n",
        "        for idx in range(len(arr)):\n",
        "            arr_dict[idx] = arr[idx]\n",
        "        sort_dict = dict(sorted(arr_dict.items(), key=lambda x:x[1], reverse=True))\n",
        "        sort_list = list(list(sort_dict.values()))\n",
        "        sort_list.pop()\n",
        "    return sort_list"
      ]
    },
    {
      "cell_type": "markdown",
      "id": "9a999c66",
      "metadata": {
        "id": "9a999c66"
      },
      "source": [
        "#### 240222 제일 작은 수 제거하기 (2트, 3분 실패, 뭔가 이상해서 참고본 봄)"
      ]
    },
    {
      "cell_type": "code",
      "execution_count": null,
      "id": "1d7ef8c5",
      "metadata": {
        "id": "1d7ef8c5"
      },
      "outputs": [],
      "source": [
        "def solution(arr):\n",
        "    if len(arr) == 0 or len(arr) == 1:\n",
        "        return [-1]\n",
        "    else:\n",
        "        new_arr = list(set(arr))\n",
        "        new_arr.sort(reverse=True)\n",
        "        new_arr.pop()\n",
        "    return new_arr"
      ]
    },
    {
      "cell_type": "markdown",
      "id": "b9ddcc6f",
      "metadata": {
        "id": "b9ddcc6f"
      },
      "source": [
        "#### 240222 제일 작은 수 제거하기 (3트,  람다 적극 활용, 10분컷 실패)"
      ]
    },
    {
      "cell_type": "code",
      "execution_count": null,
      "id": "06e4ff98",
      "metadata": {
        "id": "06e4ff98"
      },
      "outputs": [],
      "source": [
        "\"\"\"\n",
        "아니;;; 프로그래머스 실행시간 초과면 기준을 설명을 해놔주던가 어이가 없네.\n",
        "완전 열받네 모범 답안도 틀리게 해놓고, 조건도 엉망이고 어쩌라는거;;\n",
        "진짜 내가 heapq까지도 써봤다 휴..\n",
        "\"\"\"\n",
        "def solution(arr):\n",
        "    if len(arr)<2:\n",
        "        return [-1]\n",
        "    else:\n",
        "        arr_copy = arr\n",
        "        arr_copy.sort(reverse=True)\n",
        "        min_num = arr_copy.pop()\n",
        "        answer = list(filter(lambda x:x!=min_num, arr))\n",
        "    return answer"
      ]
    },
    {
      "cell_type": "markdown",
      "id": "1b5af3da",
      "metadata": {
        "id": "1b5af3da"
      },
      "source": [
        "#### 240223 숫자 짝꿍 (1트,  30분 통과)"
      ]
    },
    {
      "cell_type": "code",
      "execution_count": null,
      "id": "0306ec3a",
      "metadata": {
        "id": "0306ec3a"
      },
      "outputs": [],
      "source": [
        "def solution(X, Y):\n",
        "    answer = '-1'\n",
        "    answer_list = []\n",
        "\n",
        "    list_x = list(X)\n",
        "    list_y = list(Y)\n",
        "\n",
        "    dict_x = dict()\n",
        "    dict_y = dict()\n",
        "\n",
        "    for x in list_x:\n",
        "        if x in dict_x:\n",
        "            dict_x[x] += 1\n",
        "        else:\n",
        "            dict_x[x] = 1\n",
        "\n",
        "    for y in list_y:\n",
        "        if y in dict_y:\n",
        "            dict_y[y] += 1\n",
        "        else:\n",
        "            dict_y[y] = 1\n",
        "\n",
        "    #print(dict_x, '\\n', dict_y)\n",
        "\n",
        "    for key in dict_x.keys():\n",
        "        if key in dict_y:\n",
        "            #print(key, dict_x[key], dict_y[key])\n",
        "            if dict_x[key] >= dict_y[key]:\n",
        "                for _ in range(dict_y[key]):\n",
        "                    answer_list.append(key)\n",
        "            elif dict_x[key] < dict_y[key]:\n",
        "                for _ in range(dict_x[key]):\n",
        "                    answer_list.append(key)\n",
        "        else:\n",
        "            pass\n",
        "\n",
        "    answer_list.sort(reverse=True)\n",
        "    #print(answer_list)\n",
        "    if len(answer_list) != 0:\n",
        "        if len(set(answer_list)) == 1 and answer_list[-1] == '0':\n",
        "                return '0'\n",
        "        else:\n",
        "            answer = ''.join(map(str, answer_list))\n",
        "    return answer"
      ]
    },
    {
      "cell_type": "markdown",
      "source": [
        "#### 240225 둘만의 암호 (1트 실패, 30분 초과 타임아웃)"
      ],
      "metadata": {
        "id": "rBUcd6wodjh8"
      },
      "id": "rBUcd6wodjh8"
    },
    {
      "cell_type": "code",
      "source": [
        "def solution(s, skip, index):\n",
        "    \"\"\"\n",
        "    생각을 너무 많이 하다가 실패했음.\n",
        "    굳이 for문에 대한 걱정을 하지 말고 그냥 쓸걸 그랬음.\n",
        "    for문 동작 시간이나 순환형 리스트 구현을 위한 while 문과 불필요한 변수 증가, 딕셔너리 구현 등에 시간을 너무 많이 썼음.\n",
        "    문제가 요구하는 바는 바로 이해했으나, 구현을 너무 복잡하게 하려한 것이 패착.\n",
        "    \"\"\"\n",
        "    answer = ''\n",
        "\n",
        "    # 초기 전체 알파벳\n",
        "    alphabet = 'abcdefghijklmnopqrstruvwxyz'\n",
        "    alphabet = list(alphabet)\n",
        "\n",
        "    # skip의 길이는 10을 안 넘으므로 for문으로 리스트에서 삭제\n",
        "    for letter in skip:\n",
        "        alphabet.remove(letter)\n",
        "    #print(alphabet)\n",
        "\n",
        "    dict_alphabet = dict()\n",
        "\n",
        "    # skip 글자를 제외한 딕셔너리 완성, 알파벳:인덱스\n",
        "    for idx in range(len(alphabet)):\n",
        "        dict_alphabet[alphabet[idx]] = idx\n",
        "    #print(dict_alphabet)\n",
        "\n",
        "    num = len(s)\n",
        "    idx_while = 0\n",
        "\n",
        "    while (num):\n",
        "        letter_idx = dict_alphabet[s[idx_while]]\n",
        "        letter_idx += index\n",
        "\n",
        "        if letter_idx > len(alphabet):\n",
        "            letter_idx -= len(alphabet)\n",
        "\n",
        "        print(dict_alphabet[dict_alphabet[letter_idx]])\n",
        "        idx_while += 1\n",
        "        num -= 1\n",
        "\n",
        "    return answer"
      ],
      "metadata": {
        "id": "vWFJS8Q_dU6T"
      },
      "id": "vWFJS8Q_dU6T",
      "execution_count": null,
      "outputs": []
    },
    {
      "cell_type": "markdown",
      "source": [
        "#### 240225 둘만의 암호 (2트 통과, 7분컷 )"
      ],
      "metadata": {
        "id": "y5kY7V4pmBIG"
      },
      "id": "y5kY7V4pmBIG"
    },
    {
      "cell_type": "code",
      "source": [
        "\"\"\"\n",
        "알파벳 리스트에 오타 들어간줄도 모르고 구조 의심하다가 한 3분 까먹음;;;\n",
        "\"\"\"\n",
        "def solution(s, skip, index):\n",
        "    answer = ''\n",
        "\n",
        "    # 초기 전체 알파벳\n",
        "    alphabet = 'abcdefghijklmnopqrstuvwxyz'\n",
        "    alphabet = list(alphabet)\n",
        "\n",
        "    # skip의 길이는 10을 안 넘으므로 for문으로 리스트에서 삭제\n",
        "    for letter in skip:\n",
        "        alphabet.remove(letter)\n",
        "    #print(alphabet)\n",
        "\n",
        "    # 순환 인덱스는 전체 길이로 나눈 나머지를 더하는 것으로 구현\n",
        "    for letter in s:\n",
        "        result_idx = (alphabet.index(letter)+index)%len(alphabet)\n",
        "        answer += alphabet[result_idx]\n",
        "\n",
        "    return answer"
      ],
      "metadata": {
        "id": "NQ0tWF4il_sW"
      },
      "id": "NQ0tWF4il_sW",
      "execution_count": null,
      "outputs": []
    },
    {
      "cell_type": "markdown",
      "id": "a92c5e71",
      "metadata": {
        "id": "a92c5e71"
      },
      "source": [
        "# -------------------- <2단계> --------------------"
      ]
    },
    {
      "cell_type": "markdown",
      "source": [
        "#### 240226 광물 캐기 (1트, 45분 시도 포기)"
      ],
      "metadata": {
        "id": "H-A1jAaOHSEx"
      },
      "id": "H-A1jAaOHSEx"
    },
    {
      "cell_type": "code",
      "execution_count": null,
      "id": "b99b8054",
      "metadata": {
        "id": "b99b8054"
      },
      "outputs": [],
      "source": [
        "\"\"\"\n",
        "수치화 하는 것 까진 좋았으나 힌트를 보고 오니 순열, 조합을 쓰는건 아니고\n",
        "5개씩 미네랄 묶음을 나눠서 캐는데 오래 걸리는 순으로 정렬을 하는 거였음.\n",
        "난 무조건 \"미네랄은 순서대로 캐야 합니다.\"에 목을 매서 어려운 길로 갔던 것 같음.\n",
        "\"\"\"\n",
        "from itertools import combinations\n",
        "\n",
        "def solution(picks, minerals):\n",
        "    \"\"\"\n",
        "    dia, iron, stone 순\n",
        "    minerals의 원소가 5개 사라지면 곡괭이는 더 이상 사용 불가\n",
        "    \"\"\"\n",
        "\n",
        "    answer = 0\n",
        "    # 각 곡괭이의 파워로 내구도를 나눴을 때 몫이 피로도가 됨. 1미만도 1로 취급.\n",
        "    durability = {'diamond':25, 'iron':5, 'stone':1}\n",
        "    pick_power = {'D':25, 'I':5, 'S':1}\n",
        "\n",
        "    # 곡괭이를 사용하는 조합을 만들기 위해 동일 문자를 포함한 순서를 지키는 곡괭이 리스트 만듬.\n",
        "    pick_list = []\n",
        "    for idx in range(len(picks)):\n",
        "        if idx == 0:\n",
        "            for _ in range(picks[0]):\n",
        "                pick_list.append('D')\n",
        "        elif idx == 1:\n",
        "            for _ in range(picks[1]):\n",
        "                pick_list.append('I')\n",
        "        elif idx == 2:\n",
        "            for _ in range(picks[2]):\n",
        "                pick_list.append('S')\n",
        "    #print(pick_list)\n",
        "\n",
        "    pick_n_start = len(minerals)//5\n",
        "    pick_comb_list = []\n",
        "    for pick_n in range(pick_n_start, sum(picks)+1):\n",
        "        for comb in combinations(pick_list, pick_n):\n",
        "            pick_comb_list.append(comb)\n",
        "\n",
        "    pick_comb_list = list(set(pick_comb_list))\n",
        "    print(pick_comb_list)\n",
        "\n",
        "\n",
        "    return answer"
      ]
    },
    {
      "cell_type": "markdown",
      "id": "0fe6cc1d",
      "metadata": {
        "id": "0fe6cc1d"
      },
      "source": [
        "# -------------------- <3단계> --------------------"
      ]
    }
  ],
  "metadata": {
    "kernelspec": {
      "display_name": "Python 3 (ipykernel)",
      "language": "python",
      "name": "python3"
    },
    "language_info": {
      "codemirror_mode": {
        "name": "ipython",
        "version": 3
      },
      "file_extension": ".py",
      "mimetype": "text/x-python",
      "name": "python",
      "nbconvert_exporter": "python",
      "pygments_lexer": "ipython3",
      "version": "3.9.12"
    },
    "colab": {
      "provenance": []
    }
  },
  "nbformat": 4,
  "nbformat_minor": 5
}